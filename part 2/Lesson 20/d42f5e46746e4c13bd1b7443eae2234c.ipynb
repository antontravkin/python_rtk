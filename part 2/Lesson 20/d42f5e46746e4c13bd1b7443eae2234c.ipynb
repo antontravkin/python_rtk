{
  "cells": [
    {
      "cell_type": "code",
      "execution_count": 1,
      "metadata": {
        "colab": {
          "base_uri": "https://localhost:8080/"
        },
        "id": "zCZFEPmJMUye",
        "outputId": "4b102799-e557-43e7-f484-ed440ba70c4b"
      },
      "outputs": [
        {
          "name": "stdout",
          "output_type": "stream",
          "text": [
            "Requirement already satisfied: category_encoders in /Users/antontravkin/Sites/python_rtk/.venv/lib/python3.12/site-packages (2.8.1)\n",
            "Requirement already satisfied: numpy>=1.14.0 in /Users/antontravkin/Sites/python_rtk/.venv/lib/python3.12/site-packages (from category_encoders) (1.26.4)\n",
            "Requirement already satisfied: pandas>=1.0.5 in /Users/antontravkin/Sites/python_rtk/.venv/lib/python3.12/site-packages (from category_encoders) (2.2.3)\n",
            "Requirement already satisfied: patsy>=0.5.1 in /Users/antontravkin/Sites/python_rtk/.venv/lib/python3.12/site-packages (from category_encoders) (1.0.1)\n",
            "Requirement already satisfied: scikit-learn>=1.6.0 in /Users/antontravkin/Sites/python_rtk/.venv/lib/python3.12/site-packages (from category_encoders) (1.6.1)\n",
            "Requirement already satisfied: scipy>=1.0.0 in /Users/antontravkin/Sites/python_rtk/.venv/lib/python3.12/site-packages (from category_encoders) (1.13.1)\n",
            "Requirement already satisfied: statsmodels>=0.9.0 in /Users/antontravkin/Sites/python_rtk/.venv/lib/python3.12/site-packages (from category_encoders) (0.14.4)\n",
            "Requirement already satisfied: python-dateutil>=2.8.2 in /Users/antontravkin/Sites/python_rtk/.venv/lib/python3.12/site-packages (from pandas>=1.0.5->category_encoders) (2.9.0.post0)\n",
            "Requirement already satisfied: pytz>=2020.1 in /Users/antontravkin/Sites/python_rtk/.venv/lib/python3.12/site-packages (from pandas>=1.0.5->category_encoders) (2025.2)\n",
            "Requirement already satisfied: tzdata>=2022.7 in /Users/antontravkin/Sites/python_rtk/.venv/lib/python3.12/site-packages (from pandas>=1.0.5->category_encoders) (2025.2)\n",
            "Requirement already satisfied: six>=1.5 in /Users/antontravkin/Sites/python_rtk/.venv/lib/python3.12/site-packages (from python-dateutil>=2.8.2->pandas>=1.0.5->category_encoders) (1.17.0)\n",
            "Requirement already satisfied: joblib>=1.2.0 in /Users/antontravkin/Sites/python_rtk/.venv/lib/python3.12/site-packages (from scikit-learn>=1.6.0->category_encoders) (1.5.0)\n",
            "Requirement already satisfied: threadpoolctl>=3.1.0 in /Users/antontravkin/Sites/python_rtk/.venv/lib/python3.12/site-packages (from scikit-learn>=1.6.0->category_encoders) (3.6.0)\n",
            "Requirement already satisfied: packaging>=21.3 in /Users/antontravkin/Sites/python_rtk/.venv/lib/python3.12/site-packages (from statsmodels>=0.9.0->category_encoders) (24.2)\n"
          ]
        }
      ],
      "source": [
        "!pip install category_encoders"
      ]
    },
    {
      "cell_type": "code",
      "execution_count": 2,
      "metadata": {
        "id": "c7alaKLrjm0d"
      },
      "outputs": [],
      "source": [
        "# Визуализация и работа с данными\n",
        "import pandas as pd                     # Для работы с табличными данными (DataFrame)\n",
        "import numpy as np                      # Для математических операций и работы с массивами\n",
        "\n",
        "# Подготовка данных\n",
        "from sklearn.model_selection import train_test_split     # Разделение данных на обучающую и тестовую выборки\n",
        "from sklearn.impute import SimpleImputer                 # Простое заполнение пропущенных значений (среднее, медиана и т.д.)\n",
        "from sklearn.preprocessing import OneHotEncoder, StandardScaler\n",
        "# OneHotEncoder — кодирование категориальных переменных в бинарные признаки\n",
        "# StandardScaler — стандартизация числовых признаков (приведение к одному масштабу)\n",
        "\n",
        "from sklearn.experimental import enable_iterative_imputer  # Необходим для активации IterativeImputer\n",
        "from sklearn.impute import IterativeImputer                # Продвинутая итеративная иммутация пропущенных значений (на основе регрессий)\n",
        "\n",
        "import category_encoders as ce          # Дополнительные методы кодирования категориальных признаков (Target Encoding, Ordinal и др.)\n",
        "\n",
        "# Обучение моделей\n",
        "from sklearn.linear_model import LinearRegression          # Линейная регрессия (регрессионная модель)\n",
        "from sklearn.linear_model import LogisticRegression        # Логистическая регрессия (модель классификации)\n",
        "\n",
        "# Оценка моделей\n",
        "from sklearn.metrics import roc_curve, roc_auc_score       # Метрики для оценки бинарной классификации: ROC-кривая и AUC\n",
        "\n",
        "# Визуализация результатов\n",
        "import matplotlib.pyplot as plt        # Основной инструмент для построения графиков и визуализации данных\n",
        "import seaborn as sns                  # Повторный импорт (можно удалить, если уже импортировано выше)\n"
      ]
    },
    {
      "cell_type": "markdown",
      "metadata": {
        "id": "YpKHwWWpSQJ2"
      },
      "source": [
        "# 1. Загрузка и базовая очистка данных"
      ]
    },
    {
      "cell_type": "code",
      "execution_count": 3,
      "metadata": {
        "colab": {
          "base_uri": "https://localhost:8080/"
        },
        "id": "MvGCbRhQMaDg",
        "outputId": "afc27d06-5c5f-4318-aeac-5bbbc43a31c7"
      },
      "outputs": [
        {
          "name": "stdout",
          "output_type": "stream",
          "text": [
            "Downloading...\n",
            "From: https://drive.google.com/uc?id=1kHhsDnBzjOjdk7PLECLfFAPGJeAfip7V\n",
            "To: /Users/antontravkin/Sites/python_rtk/part 2/Lesson 20/titanic.csv\n",
            "100%|███████████████████████████████████████| 33.6k/33.6k [00:00<00:00, 183kB/s]\n"
          ]
        }
      ],
      "source": [
        "# 1. Загрузка и базовая очистка данных\n",
        "!gdown 1kHhsDnBzjOjdk7PLECLfFAPGJeAfip7V\n",
        "try:\n",
        "  df = pd.read_csv('/content/titanic.csv').drop(columns='Unnamed: 0')\n",
        "except:\n",
        "  df = pd.read_csv('titanic.csv')\n"
      ]
    },
    {
      "cell_type": "code",
      "execution_count": 4,
      "metadata": {
        "colab": {
          "base_uri": "https://localhost:8080/",
          "height": 206
        },
        "id": "DX5UdKaS1iYf",
        "outputId": "636cd7b9-f903-4cc6-d853-6c6643c214a3"
      },
      "outputs": [
        {
          "data": {
            "text/html": [
              "<div>\n",
              "<style scoped>\n",
              "    .dataframe tbody tr th:only-of-type {\n",
              "        vertical-align: middle;\n",
              "    }\n",
              "\n",
              "    .dataframe tbody tr th {\n",
              "        vertical-align: top;\n",
              "    }\n",
              "\n",
              "    .dataframe thead th {\n",
              "        text-align: right;\n",
              "    }\n",
              "</style>\n",
              "<table border=\"1\" class=\"dataframe\">\n",
              "  <thead>\n",
              "    <tr style=\"text-align: right;\">\n",
              "      <th></th>\n",
              "      <th>survived</th>\n",
              "      <th>sex</th>\n",
              "      <th>age</th>\n",
              "      <th>sibsp</th>\n",
              "      <th>fare</th>\n",
              "      <th>class</th>\n",
              "      <th>embark_town</th>\n",
              "    </tr>\n",
              "  </thead>\n",
              "  <tbody>\n",
              "    <tr>\n",
              "      <th>0</th>\n",
              "      <td>0</td>\n",
              "      <td>male</td>\n",
              "      <td>22.0</td>\n",
              "      <td>1</td>\n",
              "      <td>7.2500</td>\n",
              "      <td>Third</td>\n",
              "      <td>Southampton</td>\n",
              "    </tr>\n",
              "    <tr>\n",
              "      <th>1</th>\n",
              "      <td>1</td>\n",
              "      <td>female</td>\n",
              "      <td>38.0</td>\n",
              "      <td>1</td>\n",
              "      <td>71.2833</td>\n",
              "      <td>First</td>\n",
              "      <td>Cherbourg</td>\n",
              "    </tr>\n",
              "    <tr>\n",
              "      <th>2</th>\n",
              "      <td>1</td>\n",
              "      <td>female</td>\n",
              "      <td>26.0</td>\n",
              "      <td>0</td>\n",
              "      <td>7.9250</td>\n",
              "      <td>Third</td>\n",
              "      <td>Southampton</td>\n",
              "    </tr>\n",
              "    <tr>\n",
              "      <th>3</th>\n",
              "      <td>1</td>\n",
              "      <td>female</td>\n",
              "      <td>35.0</td>\n",
              "      <td>1</td>\n",
              "      <td>53.1000</td>\n",
              "      <td>First</td>\n",
              "      <td>Southampton</td>\n",
              "    </tr>\n",
              "    <tr>\n",
              "      <th>4</th>\n",
              "      <td>0</td>\n",
              "      <td>male</td>\n",
              "      <td>35.0</td>\n",
              "      <td>0</td>\n",
              "      <td>8.0500</td>\n",
              "      <td>Third</td>\n",
              "      <td>Southampton</td>\n",
              "    </tr>\n",
              "  </tbody>\n",
              "</table>\n",
              "</div>"
            ],
            "text/plain": [
              "   survived     sex   age  sibsp     fare  class  embark_town\n",
              "0         0    male  22.0      1   7.2500  Third  Southampton\n",
              "1         1  female  38.0      1  71.2833  First    Cherbourg\n",
              "2         1  female  26.0      0   7.9250  Third  Southampton\n",
              "3         1  female  35.0      1  53.1000  First  Southampton\n",
              "4         0    male  35.0      0   8.0500  Third  Southampton"
            ]
          },
          "execution_count": 4,
          "metadata": {},
          "output_type": "execute_result"
        }
      ],
      "source": [
        "df.head()"
      ]
    },
    {
      "cell_type": "markdown",
      "metadata": {
        "id": "2lo9ORwoSVAw"
      },
      "source": [
        "# 2. Деление на train и test"
      ]
    },
    {
      "cell_type": "code",
      "execution_count": 5,
      "metadata": {
        "id": "TMxeNuIGOT8q"
      },
      "outputs": [],
      "source": [
        "# 2. Деление на train и test\n",
        "X = df.drop(columns=['survived'])\n",
        "y = df['survived']\n",
        "X_train, X_test, y_train, y_test = train_test_split(X, y, test_size=0.2, stratify=y, random_state=42)\n"
      ]
    },
    {
      "cell_type": "code",
      "execution_count": 6,
      "metadata": {
        "colab": {
          "base_uri": "https://localhost:8080/"
        },
        "id": "RicNMyUqO2Hz",
        "outputId": "e7551dfd-40d6-4788-a59e-9e4e457011c8"
      },
      "outputs": [
        {
          "data": {
            "text/plain": [
              "(['age', 'sibsp', 'fare'], ['sex', 'class', 'embark_town'])"
            ]
          },
          "execution_count": 6,
          "metadata": {},
          "output_type": "execute_result"
        }
      ],
      "source": [
        "# роли переменных\n",
        "num_cols = list(X_train.select_dtypes(include=['float', 'int']).columns)\n",
        "cat_cols = list(X_train.select_dtypes(exclude=['float', 'int']).columns)\n",
        "num_cols, cat_cols"
      ]
    },
    {
      "cell_type": "markdown",
      "metadata": {
        "id": "8OCRsSlESW3J"
      },
      "source": [
        "# 3. Поиск и анализ выбросов"
      ]
    },
    {
      "cell_type": "code",
      "execution_count": 7,
      "metadata": {
        "colab": {
          "base_uri": "https://localhost:8080/",
          "height": 196
        },
        "id": "NbsPJSa3OYiV",
        "outputId": "e683fa87-590e-4589-8b65-2443ad205bbd"
      },
      "outputs": [
        {
          "name": "stdout",
          "output_type": "stream",
          "text": [
            "Процент выбросов по признакам:\n"
          ]
        },
        {
          "data": {
            "text/plain": [
              "fare     0.127809\n",
              "sibsp    0.046348\n",
              "age      0.008427\n",
              "dtype: float64"
            ]
          },
          "execution_count": 7,
          "metadata": {},
          "output_type": "execute_result"
        }
      ],
      "source": [
        "# 3. Поиск выбросов с помощью IQR (не удаляем, только помечаем)\n",
        "\n",
        "Q1 = X_train[num_cols].quantile(0.25)\n",
        "Q3 = X_train[num_cols].quantile(0.75)\n",
        "IQR = Q3 - Q1\n",
        "\n",
        "# Создаём DataFrame с флагами выбросов (True/False)\n",
        "outlier_flags_train = ((X_train[num_cols] < (Q1 - 1.5 * IQR)) |\n",
        "                       (X_train[num_cols] > (Q3 + 1.5 * IQR)))\n",
        "\n",
        "# Пример: вывести % выбросов по колонкам\n",
        "outlier_percent = outlier_flags_train.mean().sort_values(ascending=False)\n",
        "print(\"Процент выбросов по признакам:\")\n",
        "outlier_percent"
      ]
    },
    {
      "cell_type": "code",
      "execution_count": 8,
      "metadata": {
        "colab": {
          "base_uri": "https://localhost:8080/",
          "height": 143
        },
        "id": "dbWZMyu0Qnhm",
        "outputId": "131ca54c-ac8a-4718-9dd7-49244a7ed64f"
      },
      "outputs": [
        {
          "data": {
            "text/html": [
              "<div>\n",
              "<style scoped>\n",
              "    .dataframe tbody tr th:only-of-type {\n",
              "        vertical-align: middle;\n",
              "    }\n",
              "\n",
              "    .dataframe tbody tr th {\n",
              "        vertical-align: top;\n",
              "    }\n",
              "\n",
              "    .dataframe thead th {\n",
              "        text-align: right;\n",
              "    }\n",
              "</style>\n",
              "<table border=\"1\" class=\"dataframe\">\n",
              "  <thead>\n",
              "    <tr style=\"text-align: right;\">\n",
              "      <th></th>\n",
              "      <th>count</th>\n",
              "      <th>mean</th>\n",
              "      <th>std</th>\n",
              "      <th>min</th>\n",
              "      <th>25%</th>\n",
              "      <th>50%</th>\n",
              "      <th>75%</th>\n",
              "      <th>max</th>\n",
              "    </tr>\n",
              "  </thead>\n",
              "  <tbody>\n",
              "    <tr>\n",
              "      <th>age</th>\n",
              "      <td>575.0</td>\n",
              "      <td>29.807687</td>\n",
              "      <td>14.485211</td>\n",
              "      <td>0.42</td>\n",
              "      <td>21.0000</td>\n",
              "      <td>28.5000</td>\n",
              "      <td>39.0</td>\n",
              "      <td>80.0000</td>\n",
              "    </tr>\n",
              "    <tr>\n",
              "      <th>sibsp</th>\n",
              "      <td>712.0</td>\n",
              "      <td>0.492978</td>\n",
              "      <td>1.060720</td>\n",
              "      <td>0.00</td>\n",
              "      <td>0.0000</td>\n",
              "      <td>0.0000</td>\n",
              "      <td>1.0</td>\n",
              "      <td>8.0000</td>\n",
              "    </tr>\n",
              "    <tr>\n",
              "      <th>fare</th>\n",
              "      <td>712.0</td>\n",
              "      <td>31.819826</td>\n",
              "      <td>48.059104</td>\n",
              "      <td>0.00</td>\n",
              "      <td>7.8958</td>\n",
              "      <td>14.4542</td>\n",
              "      <td>31.0</td>\n",
              "      <td>512.3292</td>\n",
              "    </tr>\n",
              "  </tbody>\n",
              "</table>\n",
              "</div>"
            ],
            "text/plain": [
              "       count       mean        std   min      25%      50%   75%       max\n",
              "age    575.0  29.807687  14.485211  0.42  21.0000  28.5000  39.0   80.0000\n",
              "sibsp  712.0   0.492978   1.060720  0.00   0.0000   0.0000   1.0    8.0000\n",
              "fare   712.0  31.819826  48.059104  0.00   7.8958  14.4542  31.0  512.3292"
            ]
          },
          "execution_count": 8,
          "metadata": {},
          "output_type": "execute_result"
        }
      ],
      "source": [
        "X_train[num_cols].describe().T\n"
      ]
    },
    {
      "cell_type": "markdown",
      "metadata": {
        "id": "2ZiwKfoTQ0Yl"
      },
      "source": [
        ">почему fare равен 0? может дети были бесплатно? Проверим зависимость fare от age"
      ]
    },
    {
      "cell_type": "code",
      "execution_count": 9,
      "metadata": {
        "colab": {
          "base_uri": "https://localhost:8080/"
        },
        "id": "xxgwOP3QRCKZ",
        "outputId": "3d765f7e-9278-4df5-aa10-a33c1be47a05"
      },
      "outputs": [
        {
          "data": {
            "text/plain": [
              "(19.0, 49.0)"
            ]
          },
          "execution_count": 9,
          "metadata": {},
          "output_type": "execute_result"
        }
      ],
      "source": [
        "X_train[X_train['fare'] == 0]['age'].min(), X_train[X_train['fare'] == 0]['age'].max()"
      ]
    },
    {
      "cell_type": "markdown",
      "metadata": {
        "id": "mYs0UoN6RQep"
      },
      "source": [
        "> то есть нет зависимости нулевой стоимости билета от возраста. Возможно это безбилетники, а возможно до нас просто не дошли данные, сейчас уже исправить можно только одним способом: заменяем fare=0 на np.nan"
      ]
    },
    {
      "cell_type": "code",
      "execution_count": 10,
      "metadata": {
        "id": "u-0RpH6fRsw8"
      },
      "outputs": [],
      "source": [
        "# обработка выбросов\n",
        "X_train.loc[X_train['fare'] == 0, 'fare'] = np.nan\n",
        "\n",
        "# на тест просто перенесем логику, которую разработали на трейне\n",
        "X_test.loc[X_test['fare'] == 0, 'fare'] = np.nan"
      ]
    },
    {
      "cell_type": "markdown",
      "metadata": {
        "id": "iFGm7c2LSA-3"
      },
      "source": [
        "> по переменной sibsp и age значения стандартные, ничего с ними не будем делать"
      ]
    },
    {
      "cell_type": "markdown",
      "metadata": {
        "id": "CleSVfFsSkYw"
      },
      "source": [
        "# 4. Анализ и обработка пропусков"
      ]
    },
    {
      "cell_type": "code",
      "execution_count": 11,
      "metadata": {
        "colab": {
          "base_uri": "https://localhost:8080/",
          "height": 272
        },
        "id": "iZHiD9JsR_Vk",
        "outputId": "b6d6b66c-a974-40ce-aae4-8d0ec8021ef2"
      },
      "outputs": [
        {
          "data": {
            "text/plain": [
              "sex            0.000000\n",
              "sibsp          0.000000\n",
              "class          0.000000\n",
              "embark_town    0.002809\n",
              "fare           0.019663\n",
              "age            0.192416\n",
              "dtype: float64"
            ]
          },
          "execution_count": 11,
          "metadata": {},
          "output_type": "execute_result"
        }
      ],
      "source": [
        "X_train.isna().mean().sort_values()"
      ]
    },
    {
      "cell_type": "markdown",
      "metadata": {
        "id": "kl5zV-LCStMo"
      },
      "source": [
        "> - непрерывные переменные age и fare имеют пропуски. fare заполним медианой  в зависимости от embark_town. age имеет 19% пропусков, что много, попробуем восстановить с помощью модели на основании признаков: sibsp, fare\n",
        "> - порт посадки embark_town также имеет пропуски, всего 2 значения. Заполним модой"
      ]
    },
    {
      "cell_type": "code",
      "execution_count": 12,
      "metadata": {
        "colab": {
          "base_uri": "https://localhost:8080/",
          "height": 210
        },
        "id": "DJbqa1lYR9GQ",
        "outputId": "a8d382c3-e2ec-4328-a25e-031deba350ad"
      },
      "outputs": [
        {
          "data": {
            "text/plain": [
              "embark_town\n",
              "Cherbourg      30.00\n",
              "Queenstown      7.75\n",
              "Southampton    13.00\n",
              "Name: fare, dtype: float64"
            ]
          },
          "execution_count": 12,
          "metadata": {},
          "output_type": "execute_result"
        }
      ],
      "source": [
        "value_embark_town = X_train.groupby('embark_town')['fare'].median()\n",
        "value_embark_town"
      ]
    },
    {
      "cell_type": "code",
      "execution_count": 13,
      "metadata": {
        "id": "R78rzVYJULYP"
      },
      "outputs": [],
      "source": [
        "# Заполняем пропуски в fare, подтягивая значение по embark_town\n",
        "X_train['fare_no_nan'] = (\n",
        "    X_train['fare']\n",
        "    .fillna( X_train['embark_town'].map(value_embark_town) )\n",
        ")"
      ]
    },
    {
      "cell_type": "code",
      "execution_count": 14,
      "metadata": {
        "colab": {
          "base_uri": "https://localhost:8080/",
          "height": 488
        },
        "id": "uclbTeLiULcO",
        "outputId": "643382c6-e2bf-4849-a919-d5af454668f4"
      },
      "outputs": [
        {
          "data": {
            "text/html": [
              "<div>\n",
              "<style scoped>\n",
              "    .dataframe tbody tr th:only-of-type {\n",
              "        vertical-align: middle;\n",
              "    }\n",
              "\n",
              "    .dataframe tbody tr th {\n",
              "        vertical-align: top;\n",
              "    }\n",
              "\n",
              "    .dataframe thead th {\n",
              "        text-align: right;\n",
              "    }\n",
              "</style>\n",
              "<table border=\"1\" class=\"dataframe\">\n",
              "  <thead>\n",
              "    <tr style=\"text-align: right;\">\n",
              "      <th></th>\n",
              "      <th>fare_no_nan</th>\n",
              "      <th>fare</th>\n",
              "    </tr>\n",
              "  </thead>\n",
              "  <tbody>\n",
              "    <tr>\n",
              "      <th>481</th>\n",
              "      <td>13.0</td>\n",
              "      <td>NaN</td>\n",
              "    </tr>\n",
              "    <tr>\n",
              "      <th>302</th>\n",
              "      <td>13.0</td>\n",
              "      <td>NaN</td>\n",
              "    </tr>\n",
              "    <tr>\n",
              "      <th>732</th>\n",
              "      <td>13.0</td>\n",
              "      <td>NaN</td>\n",
              "    </tr>\n",
              "    <tr>\n",
              "      <th>179</th>\n",
              "      <td>13.0</td>\n",
              "      <td>NaN</td>\n",
              "    </tr>\n",
              "    <tr>\n",
              "      <th>633</th>\n",
              "      <td>13.0</td>\n",
              "      <td>NaN</td>\n",
              "    </tr>\n",
              "    <tr>\n",
              "      <th>466</th>\n",
              "      <td>13.0</td>\n",
              "      <td>NaN</td>\n",
              "    </tr>\n",
              "    <tr>\n",
              "      <th>674</th>\n",
              "      <td>13.0</td>\n",
              "      <td>NaN</td>\n",
              "    </tr>\n",
              "    <tr>\n",
              "      <th>597</th>\n",
              "      <td>13.0</td>\n",
              "      <td>NaN</td>\n",
              "    </tr>\n",
              "    <tr>\n",
              "      <th>815</th>\n",
              "      <td>13.0</td>\n",
              "      <td>NaN</td>\n",
              "    </tr>\n",
              "    <tr>\n",
              "      <th>413</th>\n",
              "      <td>13.0</td>\n",
              "      <td>NaN</td>\n",
              "    </tr>\n",
              "    <tr>\n",
              "      <th>263</th>\n",
              "      <td>13.0</td>\n",
              "      <td>NaN</td>\n",
              "    </tr>\n",
              "    <tr>\n",
              "      <th>822</th>\n",
              "      <td>13.0</td>\n",
              "      <td>NaN</td>\n",
              "    </tr>\n",
              "    <tr>\n",
              "      <th>806</th>\n",
              "      <td>13.0</td>\n",
              "      <td>NaN</td>\n",
              "    </tr>\n",
              "    <tr>\n",
              "      <th>277</th>\n",
              "      <td>13.0</td>\n",
              "      <td>NaN</td>\n",
              "    </tr>\n",
              "  </tbody>\n",
              "</table>\n",
              "</div>"
            ],
            "text/plain": [
              "     fare_no_nan  fare\n",
              "481         13.0   NaN\n",
              "302         13.0   NaN\n",
              "732         13.0   NaN\n",
              "179         13.0   NaN\n",
              "633         13.0   NaN\n",
              "466         13.0   NaN\n",
              "674         13.0   NaN\n",
              "597         13.0   NaN\n",
              "815         13.0   NaN\n",
              "413         13.0   NaN\n",
              "263         13.0   NaN\n",
              "822         13.0   NaN\n",
              "806         13.0   NaN\n",
              "277         13.0   NaN"
            ]
          },
          "execution_count": 14,
          "metadata": {},
          "output_type": "execute_result"
        }
      ],
      "source": [
        "X_train[X_train['fare'].isna()][['fare_no_nan', 'fare']]"
      ]
    },
    {
      "cell_type": "markdown",
      "metadata": {
        "id": "QRH_gHOhVKO5"
      },
      "source": [
        "> замена прошла,  пропуски только для строк, где embark_town = Southampton"
      ]
    },
    {
      "cell_type": "code",
      "execution_count": 15,
      "metadata": {
        "id": "dbMWJSkWVJhI"
      },
      "outputs": [],
      "source": [
        "# Заполняем пропуски в fare в тестовой выборке, подтягивая значение по embark_town,\n",
        "# которые были расчитаны на тренировочной выборке (value_embark_town)\n",
        "X_test['fare_no_nan'] = (\n",
        "    X_test['fare']\n",
        "    .fillna( X_test['embark_town'].map(value_embark_town) )\n",
        ")"
      ]
    },
    {
      "cell_type": "code",
      "execution_count": 16,
      "metadata": {
        "id": "O9ITJCZBULfN"
      },
      "outputs": [],
      "source": [
        "# Создаём и обучаем импуктер\n",
        "imp = IterativeImputer(estimator=LinearRegression(), random_state=42)\n",
        "df_age_imputed_train = imp.fit_transform(X_train[['age', 'sibsp', 'fare_no_nan']])"
      ]
    },
    {
      "cell_type": "code",
      "execution_count": 17,
      "metadata": {
        "id": "i8s_sZKeULjY"
      },
      "outputs": [],
      "source": [
        "# Возвращаем age обратно в X_train\n",
        "X_train['age_no_nan'] = df_age_imputed_train[:, 0]"
      ]
    },
    {
      "cell_type": "code",
      "execution_count": 18,
      "metadata": {
        "id": "WVr_316TXMXz"
      },
      "outputs": [],
      "source": [
        "df_age_imputed_test = imp.transform(X_test[['age', 'sibsp', 'fare_no_nan']])\n",
        "# Возвращаем age обратно в X_test\n",
        "X_test['age_no_nan'] = df_age_imputed_test[:, 0]"
      ]
    },
    {
      "cell_type": "code",
      "execution_count": 19,
      "metadata": {
        "colab": {
          "base_uri": "https://localhost:8080/",
          "height": 424
        },
        "id": "UYYvmtd4Wubr",
        "outputId": "b6fd6852-a70c-47ee-f92b-cbce7bad2501"
      },
      "outputs": [
        {
          "data": {
            "text/html": [
              "<div>\n",
              "<style scoped>\n",
              "    .dataframe tbody tr th:only-of-type {\n",
              "        vertical-align: middle;\n",
              "    }\n",
              "\n",
              "    .dataframe tbody tr th {\n",
              "        vertical-align: top;\n",
              "    }\n",
              "\n",
              "    .dataframe thead th {\n",
              "        text-align: right;\n",
              "    }\n",
              "</style>\n",
              "<table border=\"1\" class=\"dataframe\">\n",
              "  <thead>\n",
              "    <tr style=\"text-align: right;\">\n",
              "      <th></th>\n",
              "      <th>age_no_nan</th>\n",
              "      <th>age</th>\n",
              "      <th>sibsp</th>\n",
              "      <th>fare_no_nan</th>\n",
              "    </tr>\n",
              "  </thead>\n",
              "  <tbody>\n",
              "    <tr>\n",
              "      <th>692</th>\n",
              "      <td>33.247055</td>\n",
              "      <td>NaN</td>\n",
              "      <td>0</td>\n",
              "      <td>56.4958</td>\n",
              "    </tr>\n",
              "    <tr>\n",
              "      <th>481</th>\n",
              "      <td>31.505469</td>\n",
              "      <td>NaN</td>\n",
              "      <td>0</td>\n",
              "      <td>13.0000</td>\n",
              "    </tr>\n",
              "    <tr>\n",
              "      <th>527</th>\n",
              "      <td>39.865055</td>\n",
              "      <td>NaN</td>\n",
              "      <td>0</td>\n",
              "      <td>221.7792</td>\n",
              "    </tr>\n",
              "    <tr>\n",
              "      <th>557</th>\n",
              "      <td>40.095119</td>\n",
              "      <td>NaN</td>\n",
              "      <td>0</td>\n",
              "      <td>227.5250</td>\n",
              "    </tr>\n",
              "    <tr>\n",
              "      <th>828</th>\n",
              "      <td>31.295257</td>\n",
              "      <td>NaN</td>\n",
              "      <td>0</td>\n",
              "      <td>7.7500</td>\n",
              "    </tr>\n",
              "    <tr>\n",
              "      <th>...</th>\n",
              "      <td>...</td>\n",
              "      <td>...</td>\n",
              "      <td>...</td>\n",
              "      <td>...</td>\n",
              "    </tr>\n",
              "    <tr>\n",
              "      <th>277</th>\n",
              "      <td>31.505469</td>\n",
              "      <td>NaN</td>\n",
              "      <td>0</td>\n",
              "      <td>13.0000</td>\n",
              "    </tr>\n",
              "    <tr>\n",
              "      <th>451</th>\n",
              "      <td>26.515259</td>\n",
              "      <td>NaN</td>\n",
              "      <td>1</td>\n",
              "      <td>19.9667</td>\n",
              "    </tr>\n",
              "    <tr>\n",
              "      <th>680</th>\n",
              "      <td>31.310773</td>\n",
              "      <td>NaN</td>\n",
              "      <td>0</td>\n",
              "      <td>8.1375</td>\n",
              "    </tr>\n",
              "    <tr>\n",
              "      <th>359</th>\n",
              "      <td>31.300430</td>\n",
              "      <td>NaN</td>\n",
              "      <td>0</td>\n",
              "      <td>7.8792</td>\n",
              "    </tr>\n",
              "    <tr>\n",
              "      <th>507</th>\n",
              "      <td>32.048015</td>\n",
              "      <td>NaN</td>\n",
              "      <td>0</td>\n",
              "      <td>26.5500</td>\n",
              "    </tr>\n",
              "  </tbody>\n",
              "</table>\n",
              "<p>137 rows × 4 columns</p>\n",
              "</div>"
            ],
            "text/plain": [
              "     age_no_nan  age  sibsp  fare_no_nan\n",
              "692   33.247055  NaN      0      56.4958\n",
              "481   31.505469  NaN      0      13.0000\n",
              "527   39.865055  NaN      0     221.7792\n",
              "557   40.095119  NaN      0     227.5250\n",
              "828   31.295257  NaN      0       7.7500\n",
              "..          ...  ...    ...          ...\n",
              "277   31.505469  NaN      0      13.0000\n",
              "451   26.515259  NaN      1      19.9667\n",
              "680   31.310773  NaN      0       8.1375\n",
              "359   31.300430  NaN      0       7.8792\n",
              "507   32.048015  NaN      0      26.5500\n",
              "\n",
              "[137 rows x 4 columns]"
            ]
          },
          "execution_count": 19,
          "metadata": {},
          "output_type": "execute_result"
        }
      ],
      "source": [
        "X_train[X_train['age'].isna()][['age_no_nan', 'age', 'sibsp', 'fare_no_nan']]"
      ]
    },
    {
      "cell_type": "code",
      "execution_count": 20,
      "metadata": {
        "colab": {
          "base_uri": "https://localhost:8080/"
        },
        "id": "Xqai5T0UYB_x",
        "outputId": "90eef8a7-5fe3-4984-f3be-700abdc1d198"
      },
      "outputs": [
        {
          "data": {
            "text/plain": [
              "['age', 'sibsp', 'fare']"
            ]
          },
          "execution_count": 20,
          "metadata": {},
          "output_type": "execute_result"
        }
      ],
      "source": [
        "num_cols"
      ]
    },
    {
      "cell_type": "code",
      "execution_count": 21,
      "metadata": {
        "colab": {
          "base_uri": "https://localhost:8080/"
        },
        "id": "NGlDaVMkXqY3",
        "outputId": "07895ce9-42c3-425b-dc6b-858c9c243066"
      },
      "outputs": [
        {
          "data": {
            "text/plain": [
              "['sibsp', 'age_no_nan', 'fare_no_nan']"
            ]
          },
          "execution_count": 21,
          "metadata": {},
          "output_type": "execute_result"
        }
      ],
      "source": [
        "num_cols.remove('age')\n",
        "num_cols.remove('fare')\n",
        "num_cols.extend(['age_no_nan', 'fare_no_nan'])\n",
        "num_cols"
      ]
    },
    {
      "cell_type": "code",
      "execution_count": 22,
      "metadata": {
        "id": "YtMLYRwNYwk5"
      },
      "outputs": [],
      "source": [
        "# категориальные — мода\n",
        "cat_imputer = SimpleImputer(strategy='most_frequent')\n",
        "# считаемм моду на трейне\n",
        "X_train[cat_cols] = cat_imputer.fit_transform(X_train[cat_cols])\n",
        "\n",
        "# на тесте мы заполняем той модой, что посчитали на трейне\n",
        "X_test[cat_cols] = cat_imputer.transform(X_test[cat_cols])\n"
      ]
    },
    {
      "cell_type": "code",
      "execution_count": 23,
      "metadata": {
        "id": "RK8mvjAucWau"
      },
      "outputs": [],
      "source": [
        "X_test = X_test[num_cols+cat_cols]\n",
        "X_train = X_train[num_cols+cat_cols]"
      ]
    },
    {
      "cell_type": "markdown",
      "metadata": {
        "id": "xBxk6XSgYhe2"
      },
      "source": [
        "# 5. Анализ и обработка категориальных переменных"
      ]
    },
    {
      "cell_type": "code",
      "execution_count": 24,
      "metadata": {
        "id": "hn7mOyNOdn46"
      },
      "outputs": [],
      "source": [
        "cat_cols_ohe = ['sex', ]\n",
        "cat_cols_meant = ['class', ]\n",
        "cat_cols_freq = ['embark_town', ]"
      ]
    },
    {
      "cell_type": "markdown",
      "metadata": {
        "id": "RgyxXmzAeA3a"
      },
      "source": [
        "handle_unknown='ignore'\n",
        "- Что делает: если во время transform() (например, на X_test) встречается категория, которой не было в fit(), она не вызывает ошибку, а просто кодирует её как вектор из нулей.\n",
        "\n",
        "- Если не указать этот параметр (по умолчанию error), при появлении новой категории будет ValueError."
      ]
    },
    {
      "cell_type": "markdown",
      "metadata": {
        "id": "A8Ct179ieHok"
      },
      "source": [
        "sparse_output=False\n",
        "- Что делает: указывает, что результат должен быть обычным numpy.ndarray, а не разреженной матрицей (scipy.sparse).\n",
        "\n",
        "- По умолчанию OneHotEncoder возвращает разреженную матрицу, потому что большинство значений — нули (эффективнее по памяти). Но часто, особенно в pandas, нужно работать с полной таблицей."
      ]
    },
    {
      "cell_type": "code",
      "execution_count": 25,
      "metadata": {
        "id": "ERjbTeaqZNnN"
      },
      "outputs": [],
      "source": [
        "# OneHotEncoder\n",
        "encoder = OneHotEncoder(handle_unknown='ignore', sparse_output=False, drop='first')\n",
        "X_train_encoded = encoder.fit_transform(X_train[cat_cols_ohe])\n",
        "X_test_encoded = encoder.transform(X_test[cat_cols_ohe])\n"
      ]
    },
    {
      "cell_type": "code",
      "execution_count": 26,
      "metadata": {
        "colab": {
          "base_uri": "https://localhost:8080/"
        },
        "id": "ljzZWxKwZWa_",
        "outputId": "cfeb518e-e066-412e-af05-0f92807e8fee"
      },
      "outputs": [
        {
          "data": {
            "text/plain": [
              "array(['sex_male'], dtype=object)"
            ]
          },
          "execution_count": 26,
          "metadata": {},
          "output_type": "execute_result"
        }
      ],
      "source": [
        "# Получаем названия новых колонок\n",
        "encoded_col_names = encoder.get_feature_names_out(cat_cols_ohe)\n",
        "encoded_col_names"
      ]
    },
    {
      "cell_type": "code",
      "execution_count": 27,
      "metadata": {
        "id": "V2XBNBr1ZYEr"
      },
      "outputs": [],
      "source": [
        "# Преобразуем в DataFrame\n",
        "X_train_encoded_df = pd.DataFrame(X_train_encoded, columns=encoded_col_names, index=X_train.index)\n",
        "X_test_encoded_df = pd.DataFrame(X_test_encoded, columns=encoded_col_names, index=X_test.index)\n"
      ]
    },
    {
      "cell_type": "code",
      "execution_count": 28,
      "metadata": {
        "colab": {
          "base_uri": "https://localhost:8080/"
        },
        "id": "sBzCyHd_aX15",
        "outputId": "53454519-c50d-4e28-b48a-4e794c8d52bd"
      },
      "outputs": [
        {
          "name": "stdout",
          "output_type": "stream",
          "text": [
            "(712, 1)\n",
            "['sex_male']\n"
          ]
        }
      ],
      "source": [
        "print(X_train_encoded.shape)\n",
        "print(encoded_col_names)\n"
      ]
    },
    {
      "cell_type": "code",
      "execution_count": 29,
      "metadata": {
        "colab": {
          "base_uri": "https://localhost:8080/",
          "height": 206
        },
        "id": "D0oQW5x77GyS",
        "outputId": "7d427f56-8c0a-41dc-ec46-71cb9c4ee3c2"
      },
      "outputs": [
        {
          "data": {
            "text/html": [
              "<div>\n",
              "<style scoped>\n",
              "    .dataframe tbody tr th:only-of-type {\n",
              "        vertical-align: middle;\n",
              "    }\n",
              "\n",
              "    .dataframe tbody tr th {\n",
              "        vertical-align: top;\n",
              "    }\n",
              "\n",
              "    .dataframe thead th {\n",
              "        text-align: right;\n",
              "    }\n",
              "</style>\n",
              "<table border=\"1\" class=\"dataframe\">\n",
              "  <thead>\n",
              "    <tr style=\"text-align: right;\">\n",
              "      <th></th>\n",
              "      <th>sex_male</th>\n",
              "    </tr>\n",
              "  </thead>\n",
              "  <tbody>\n",
              "    <tr>\n",
              "      <th>692</th>\n",
              "      <td>1.0</td>\n",
              "    </tr>\n",
              "    <tr>\n",
              "      <th>481</th>\n",
              "      <td>1.0</td>\n",
              "    </tr>\n",
              "    <tr>\n",
              "      <th>527</th>\n",
              "      <td>1.0</td>\n",
              "    </tr>\n",
              "    <tr>\n",
              "      <th>855</th>\n",
              "      <td>0.0</td>\n",
              "    </tr>\n",
              "    <tr>\n",
              "      <th>801</th>\n",
              "      <td>0.0</td>\n",
              "    </tr>\n",
              "  </tbody>\n",
              "</table>\n",
              "</div>"
            ],
            "text/plain": [
              "     sex_male\n",
              "692       1.0\n",
              "481       1.0\n",
              "527       1.0\n",
              "855       0.0\n",
              "801       0.0"
            ]
          },
          "execution_count": 29,
          "metadata": {},
          "output_type": "execute_result"
        }
      ],
      "source": [
        "X_train_encoded_df.head()"
      ]
    },
    {
      "cell_type": "code",
      "execution_count": 30,
      "metadata": {
        "id": "dpx8A6wnadSq"
      },
      "outputs": [],
      "source": [
        "# Удаляем старые категориальные, добавляем закодированные\n",
        "X_train = X_train.drop(columns=cat_cols_ohe).join(X_train_encoded_df)\n",
        "X_test = X_test.drop(columns=cat_cols_ohe).join(X_test_encoded_df)"
      ]
    },
    {
      "cell_type": "code",
      "execution_count": 31,
      "metadata": {
        "colab": {
          "base_uri": "https://localhost:8080/",
          "height": 424
        },
        "id": "yRN1O5U1dkKr",
        "outputId": "a3d51aa5-3457-43fa-bc35-30546e7e1ecd"
      },
      "outputs": [
        {
          "data": {
            "text/html": [
              "<div>\n",
              "<style scoped>\n",
              "    .dataframe tbody tr th:only-of-type {\n",
              "        vertical-align: middle;\n",
              "    }\n",
              "\n",
              "    .dataframe tbody tr th {\n",
              "        vertical-align: top;\n",
              "    }\n",
              "\n",
              "    .dataframe thead th {\n",
              "        text-align: right;\n",
              "    }\n",
              "</style>\n",
              "<table border=\"1\" class=\"dataframe\">\n",
              "  <thead>\n",
              "    <tr style=\"text-align: right;\">\n",
              "      <th></th>\n",
              "      <th>sibsp</th>\n",
              "      <th>age_no_nan</th>\n",
              "      <th>fare_no_nan</th>\n",
              "      <th>class</th>\n",
              "      <th>embark_town</th>\n",
              "      <th>sex_male</th>\n",
              "    </tr>\n",
              "  </thead>\n",
              "  <tbody>\n",
              "    <tr>\n",
              "      <th>692</th>\n",
              "      <td>0</td>\n",
              "      <td>33.247055</td>\n",
              "      <td>56.4958</td>\n",
              "      <td>Third</td>\n",
              "      <td>Southampton</td>\n",
              "      <td>1.0</td>\n",
              "    </tr>\n",
              "    <tr>\n",
              "      <th>481</th>\n",
              "      <td>0</td>\n",
              "      <td>31.505469</td>\n",
              "      <td>13.0000</td>\n",
              "      <td>Second</td>\n",
              "      <td>Southampton</td>\n",
              "      <td>1.0</td>\n",
              "    </tr>\n",
              "    <tr>\n",
              "      <th>527</th>\n",
              "      <td>0</td>\n",
              "      <td>39.865055</td>\n",
              "      <td>221.7792</td>\n",
              "      <td>First</td>\n",
              "      <td>Southampton</td>\n",
              "      <td>1.0</td>\n",
              "    </tr>\n",
              "    <tr>\n",
              "      <th>855</th>\n",
              "      <td>0</td>\n",
              "      <td>18.000000</td>\n",
              "      <td>9.3500</td>\n",
              "      <td>Third</td>\n",
              "      <td>Southampton</td>\n",
              "      <td>0.0</td>\n",
              "    </tr>\n",
              "    <tr>\n",
              "      <th>801</th>\n",
              "      <td>1</td>\n",
              "      <td>31.000000</td>\n",
              "      <td>26.2500</td>\n",
              "      <td>Second</td>\n",
              "      <td>Southampton</td>\n",
              "      <td>0.0</td>\n",
              "    </tr>\n",
              "    <tr>\n",
              "      <th>...</th>\n",
              "      <td>...</td>\n",
              "      <td>...</td>\n",
              "      <td>...</td>\n",
              "      <td>...</td>\n",
              "      <td>...</td>\n",
              "      <td>...</td>\n",
              "    </tr>\n",
              "    <tr>\n",
              "      <th>359</th>\n",
              "      <td>0</td>\n",
              "      <td>31.300430</td>\n",
              "      <td>7.8792</td>\n",
              "      <td>Third</td>\n",
              "      <td>Queenstown</td>\n",
              "      <td>0.0</td>\n",
              "    </tr>\n",
              "    <tr>\n",
              "      <th>258</th>\n",
              "      <td>0</td>\n",
              "      <td>35.000000</td>\n",
              "      <td>512.3292</td>\n",
              "      <td>First</td>\n",
              "      <td>Cherbourg</td>\n",
              "      <td>0.0</td>\n",
              "    </tr>\n",
              "    <tr>\n",
              "      <th>736</th>\n",
              "      <td>1</td>\n",
              "      <td>48.000000</td>\n",
              "      <td>34.3750</td>\n",
              "      <td>Third</td>\n",
              "      <td>Southampton</td>\n",
              "      <td>0.0</td>\n",
              "    </tr>\n",
              "    <tr>\n",
              "      <th>462</th>\n",
              "      <td>0</td>\n",
              "      <td>47.000000</td>\n",
              "      <td>38.5000</td>\n",
              "      <td>First</td>\n",
              "      <td>Southampton</td>\n",
              "      <td>1.0</td>\n",
              "    </tr>\n",
              "    <tr>\n",
              "      <th>507</th>\n",
              "      <td>0</td>\n",
              "      <td>32.048015</td>\n",
              "      <td>26.5500</td>\n",
              "      <td>First</td>\n",
              "      <td>Southampton</td>\n",
              "      <td>1.0</td>\n",
              "    </tr>\n",
              "  </tbody>\n",
              "</table>\n",
              "<p>712 rows × 6 columns</p>\n",
              "</div>"
            ],
            "text/plain": [
              "     sibsp  age_no_nan  fare_no_nan   class  embark_town  sex_male\n",
              "692      0   33.247055      56.4958   Third  Southampton       1.0\n",
              "481      0   31.505469      13.0000  Second  Southampton       1.0\n",
              "527      0   39.865055     221.7792   First  Southampton       1.0\n",
              "855      0   18.000000       9.3500   Third  Southampton       0.0\n",
              "801      1   31.000000      26.2500  Second  Southampton       0.0\n",
              "..     ...         ...          ...     ...          ...       ...\n",
              "359      0   31.300430       7.8792   Third   Queenstown       0.0\n",
              "258      0   35.000000     512.3292   First    Cherbourg       0.0\n",
              "736      1   48.000000      34.3750   Third  Southampton       0.0\n",
              "462      0   47.000000      38.5000   First  Southampton       1.0\n",
              "507      0   32.048015      26.5500   First  Southampton       1.0\n",
              "\n",
              "[712 rows x 6 columns]"
            ]
          },
          "execution_count": 31,
          "metadata": {},
          "output_type": "execute_result"
        }
      ],
      "source": [
        "X_train"
      ]
    },
    {
      "cell_type": "code",
      "execution_count": 32,
      "metadata": {
        "colab": {
          "base_uri": "https://localhost:8080/",
          "height": 424
        },
        "id": "dOVP67ENfVvF",
        "outputId": "1111e3ae-9d0b-41b8-e503-d21cd639e825"
      },
      "outputs": [
        {
          "data": {
            "text/html": [
              "<div>\n",
              "<style scoped>\n",
              "    .dataframe tbody tr th:only-of-type {\n",
              "        vertical-align: middle;\n",
              "    }\n",
              "\n",
              "    .dataframe tbody tr th {\n",
              "        vertical-align: top;\n",
              "    }\n",
              "\n",
              "    .dataframe thead th {\n",
              "        text-align: right;\n",
              "    }\n",
              "</style>\n",
              "<table border=\"1\" class=\"dataframe\">\n",
              "  <thead>\n",
              "    <tr style=\"text-align: right;\">\n",
              "      <th></th>\n",
              "      <th>sibsp</th>\n",
              "      <th>age_no_nan</th>\n",
              "      <th>fare_no_nan</th>\n",
              "      <th>class</th>\n",
              "      <th>embark_town</th>\n",
              "      <th>sex_male</th>\n",
              "    </tr>\n",
              "  </thead>\n",
              "  <tbody>\n",
              "    <tr>\n",
              "      <th>565</th>\n",
              "      <td>2</td>\n",
              "      <td>24.000000</td>\n",
              "      <td>24.1500</td>\n",
              "      <td>Third</td>\n",
              "      <td>Southampton</td>\n",
              "      <td>1.0</td>\n",
              "    </tr>\n",
              "    <tr>\n",
              "      <th>160</th>\n",
              "      <td>0</td>\n",
              "      <td>44.000000</td>\n",
              "      <td>16.1000</td>\n",
              "      <td>Third</td>\n",
              "      <td>Southampton</td>\n",
              "      <td>1.0</td>\n",
              "    </tr>\n",
              "    <tr>\n",
              "      <th>553</th>\n",
              "      <td>0</td>\n",
              "      <td>22.000000</td>\n",
              "      <td>7.2250</td>\n",
              "      <td>Third</td>\n",
              "      <td>Cherbourg</td>\n",
              "      <td>1.0</td>\n",
              "    </tr>\n",
              "    <tr>\n",
              "      <th>860</th>\n",
              "      <td>2</td>\n",
              "      <td>41.000000</td>\n",
              "      <td>14.1083</td>\n",
              "      <td>Third</td>\n",
              "      <td>Southampton</td>\n",
              "      <td>1.0</td>\n",
              "    </tr>\n",
              "    <tr>\n",
              "      <th>241</th>\n",
              "      <td>1</td>\n",
              "      <td>26.336411</td>\n",
              "      <td>15.5000</td>\n",
              "      <td>Third</td>\n",
              "      <td>Queenstown</td>\n",
              "      <td>0.0</td>\n",
              "    </tr>\n",
              "    <tr>\n",
              "      <th>...</th>\n",
              "      <td>...</td>\n",
              "      <td>...</td>\n",
              "      <td>...</td>\n",
              "      <td>...</td>\n",
              "      <td>...</td>\n",
              "      <td>...</td>\n",
              "    </tr>\n",
              "    <tr>\n",
              "      <th>880</th>\n",
              "      <td>0</td>\n",
              "      <td>25.000000</td>\n",
              "      <td>26.0000</td>\n",
              "      <td>Second</td>\n",
              "      <td>Southampton</td>\n",
              "      <td>0.0</td>\n",
              "    </tr>\n",
              "    <tr>\n",
              "      <th>91</th>\n",
              "      <td>0</td>\n",
              "      <td>20.000000</td>\n",
              "      <td>7.8542</td>\n",
              "      <td>Third</td>\n",
              "      <td>Southampton</td>\n",
              "      <td>1.0</td>\n",
              "    </tr>\n",
              "    <tr>\n",
              "      <th>883</th>\n",
              "      <td>0</td>\n",
              "      <td>28.000000</td>\n",
              "      <td>10.5000</td>\n",
              "      <td>Second</td>\n",
              "      <td>Southampton</td>\n",
              "      <td>1.0</td>\n",
              "    </tr>\n",
              "    <tr>\n",
              "      <th>473</th>\n",
              "      <td>0</td>\n",
              "      <td>23.000000</td>\n",
              "      <td>13.7917</td>\n",
              "      <td>Second</td>\n",
              "      <td>Cherbourg</td>\n",
              "      <td>0.0</td>\n",
              "    </tr>\n",
              "    <tr>\n",
              "      <th>637</th>\n",
              "      <td>1</td>\n",
              "      <td>31.000000</td>\n",
              "      <td>26.2500</td>\n",
              "      <td>Second</td>\n",
              "      <td>Southampton</td>\n",
              "      <td>1.0</td>\n",
              "    </tr>\n",
              "  </tbody>\n",
              "</table>\n",
              "<p>179 rows × 6 columns</p>\n",
              "</div>"
            ],
            "text/plain": [
              "     sibsp  age_no_nan  fare_no_nan   class  embark_town  sex_male\n",
              "565      2   24.000000      24.1500   Third  Southampton       1.0\n",
              "160      0   44.000000      16.1000   Third  Southampton       1.0\n",
              "553      0   22.000000       7.2250   Third    Cherbourg       1.0\n",
              "860      2   41.000000      14.1083   Third  Southampton       1.0\n",
              "241      1   26.336411      15.5000   Third   Queenstown       0.0\n",
              "..     ...         ...          ...     ...          ...       ...\n",
              "880      0   25.000000      26.0000  Second  Southampton       0.0\n",
              "91       0   20.000000       7.8542   Third  Southampton       1.0\n",
              "883      0   28.000000      10.5000  Second  Southampton       1.0\n",
              "473      0   23.000000      13.7917  Second    Cherbourg       0.0\n",
              "637      1   31.000000      26.2500  Second  Southampton       1.0\n",
              "\n",
              "[179 rows x 6 columns]"
            ]
          },
          "execution_count": 32,
          "metadata": {},
          "output_type": "execute_result"
        }
      ],
      "source": [
        "X_test"
      ]
    },
    {
      "cell_type": "code",
      "execution_count": 33,
      "metadata": {
        "id": "8DSM4dOJdi3i"
      },
      "outputs": [],
      "source": [
        "# Создаем TargetEncoder для нескольких колонок\n",
        "target_encoder = ce.TargetEncoder(cols=cat_cols_meant)\n",
        "\n",
        "# Обучаем энкодер и трансформируем тренировочный набор (обрати внимание, передаем сразу весь DataFrame с этими колонками)\n",
        "X_train_encoded = target_encoder.fit_transform(X_train[cat_cols_meant], y_train)\n",
        "\n",
        "# Применяем к тестовому набору\n",
        "X_test_encoded = target_encoder.transform(X_test[cat_cols_meant])\n",
        "\n",
        "# присоединить обратно к основным данным\n",
        "for col in cat_cols_meant:\n",
        "    X_train[col + '_target'] = X_train_encoded[col]\n",
        "    X_train.drop(columns=col, inplace=True)\n",
        "    X_test[col + '_target'] = X_test_encoded[col]\n",
        "    X_test.drop(columns=col, inplace=True)\n"
      ]
    },
    {
      "cell_type": "code",
      "execution_count": 34,
      "metadata": {
        "colab": {
          "base_uri": "https://localhost:8080/",
          "height": 424
        },
        "id": "FPze6jQK7xvu",
        "outputId": "c19a0705-bdd3-4ecf-9499-3f10762ed08f"
      },
      "outputs": [
        {
          "data": {
            "text/html": [
              "<div>\n",
              "<style scoped>\n",
              "    .dataframe tbody tr th:only-of-type {\n",
              "        vertical-align: middle;\n",
              "    }\n",
              "\n",
              "    .dataframe tbody tr th {\n",
              "        vertical-align: top;\n",
              "    }\n",
              "\n",
              "    .dataframe thead th {\n",
              "        text-align: right;\n",
              "    }\n",
              "</style>\n",
              "<table border=\"1\" class=\"dataframe\">\n",
              "  <thead>\n",
              "    <tr style=\"text-align: right;\">\n",
              "      <th></th>\n",
              "      <th>sibsp</th>\n",
              "      <th>age_no_nan</th>\n",
              "      <th>fare_no_nan</th>\n",
              "      <th>embark_town</th>\n",
              "      <th>sex_male</th>\n",
              "      <th>class_target</th>\n",
              "    </tr>\n",
              "  </thead>\n",
              "  <tbody>\n",
              "    <tr>\n",
              "      <th>692</th>\n",
              "      <td>0</td>\n",
              "      <td>33.247055</td>\n",
              "      <td>56.4958</td>\n",
              "      <td>Southampton</td>\n",
              "      <td>1.0</td>\n",
              "      <td>0.242967</td>\n",
              "    </tr>\n",
              "    <tr>\n",
              "      <th>481</th>\n",
              "      <td>0</td>\n",
              "      <td>31.505469</td>\n",
              "      <td>13.0000</td>\n",
              "      <td>Southampton</td>\n",
              "      <td>1.0</td>\n",
              "      <td>0.446667</td>\n",
              "    </tr>\n",
              "    <tr>\n",
              "      <th>527</th>\n",
              "      <td>0</td>\n",
              "      <td>39.865055</td>\n",
              "      <td>221.7792</td>\n",
              "      <td>Southampton</td>\n",
              "      <td>1.0</td>\n",
              "      <td>0.649123</td>\n",
              "    </tr>\n",
              "    <tr>\n",
              "      <th>855</th>\n",
              "      <td>0</td>\n",
              "      <td>18.000000</td>\n",
              "      <td>9.3500</td>\n",
              "      <td>Southampton</td>\n",
              "      <td>0.0</td>\n",
              "      <td>0.242967</td>\n",
              "    </tr>\n",
              "    <tr>\n",
              "      <th>801</th>\n",
              "      <td>1</td>\n",
              "      <td>31.000000</td>\n",
              "      <td>26.2500</td>\n",
              "      <td>Southampton</td>\n",
              "      <td>0.0</td>\n",
              "      <td>0.446667</td>\n",
              "    </tr>\n",
              "    <tr>\n",
              "      <th>...</th>\n",
              "      <td>...</td>\n",
              "      <td>...</td>\n",
              "      <td>...</td>\n",
              "      <td>...</td>\n",
              "      <td>...</td>\n",
              "      <td>...</td>\n",
              "    </tr>\n",
              "    <tr>\n",
              "      <th>359</th>\n",
              "      <td>0</td>\n",
              "      <td>31.300430</td>\n",
              "      <td>7.8792</td>\n",
              "      <td>Queenstown</td>\n",
              "      <td>0.0</td>\n",
              "      <td>0.242967</td>\n",
              "    </tr>\n",
              "    <tr>\n",
              "      <th>258</th>\n",
              "      <td>0</td>\n",
              "      <td>35.000000</td>\n",
              "      <td>512.3292</td>\n",
              "      <td>Cherbourg</td>\n",
              "      <td>0.0</td>\n",
              "      <td>0.649123</td>\n",
              "    </tr>\n",
              "    <tr>\n",
              "      <th>736</th>\n",
              "      <td>1</td>\n",
              "      <td>48.000000</td>\n",
              "      <td>34.3750</td>\n",
              "      <td>Southampton</td>\n",
              "      <td>0.0</td>\n",
              "      <td>0.242967</td>\n",
              "    </tr>\n",
              "    <tr>\n",
              "      <th>462</th>\n",
              "      <td>0</td>\n",
              "      <td>47.000000</td>\n",
              "      <td>38.5000</td>\n",
              "      <td>Southampton</td>\n",
              "      <td>1.0</td>\n",
              "      <td>0.649123</td>\n",
              "    </tr>\n",
              "    <tr>\n",
              "      <th>507</th>\n",
              "      <td>0</td>\n",
              "      <td>32.048015</td>\n",
              "      <td>26.5500</td>\n",
              "      <td>Southampton</td>\n",
              "      <td>1.0</td>\n",
              "      <td>0.649123</td>\n",
              "    </tr>\n",
              "  </tbody>\n",
              "</table>\n",
              "<p>712 rows × 6 columns</p>\n",
              "</div>"
            ],
            "text/plain": [
              "     sibsp  age_no_nan  fare_no_nan  embark_town  sex_male  class_target\n",
              "692      0   33.247055      56.4958  Southampton       1.0      0.242967\n",
              "481      0   31.505469      13.0000  Southampton       1.0      0.446667\n",
              "527      0   39.865055     221.7792  Southampton       1.0      0.649123\n",
              "855      0   18.000000       9.3500  Southampton       0.0      0.242967\n",
              "801      1   31.000000      26.2500  Southampton       0.0      0.446667\n",
              "..     ...         ...          ...          ...       ...           ...\n",
              "359      0   31.300430       7.8792   Queenstown       0.0      0.242967\n",
              "258      0   35.000000     512.3292    Cherbourg       0.0      0.649123\n",
              "736      1   48.000000      34.3750  Southampton       0.0      0.242967\n",
              "462      0   47.000000      38.5000  Southampton       1.0      0.649123\n",
              "507      0   32.048015      26.5500  Southampton       1.0      0.649123\n",
              "\n",
              "[712 rows x 6 columns]"
            ]
          },
          "execution_count": 34,
          "metadata": {},
          "output_type": "execute_result"
        }
      ],
      "source": [
        "X_train"
      ]
    },
    {
      "cell_type": "code",
      "execution_count": 35,
      "metadata": {
        "id": "uW3KONL2fIUm"
      },
      "outputs": [],
      "source": [
        "# Создаем CountEncoder с normalize=True\n",
        "freq_encoder = ce.CountEncoder(cols=cat_cols_freq, normalize=True)\n",
        "\n",
        "# Обучаем и трансформируем тренировочные данные (с нужными колонками)\n",
        "X_train_encoded = freq_encoder.fit_transform(X_train[cat_cols_freq])\n",
        "\n",
        "# Трансформируем тестовые данные\n",
        "X_test_encoded = freq_encoder.transform(X_test[cat_cols_freq])\n",
        "\n",
        "# Добавляем закодированные колонки в исходные датасеты с суффиксом '_freq'\n",
        "for col in cat_cols_freq:\n",
        "    X_train[col + '_freq'] = X_train_encoded[col]\n",
        "    X_train.drop(columns=col, inplace=True)\n",
        "    X_test[col + '_freq'] = X_test_encoded[col]\n",
        "    X_test.drop(columns=col, inplace=True)\n"
      ]
    },
    {
      "cell_type": "code",
      "execution_count": 36,
      "metadata": {
        "colab": {
          "base_uri": "https://localhost:8080/",
          "height": 424
        },
        "id": "MVJgrR5vgNhI",
        "outputId": "7a65b12f-2fad-4138-b0f0-e2f63e9a7a2c"
      },
      "outputs": [
        {
          "data": {
            "text/html": [
              "<div>\n",
              "<style scoped>\n",
              "    .dataframe tbody tr th:only-of-type {\n",
              "        vertical-align: middle;\n",
              "    }\n",
              "\n",
              "    .dataframe tbody tr th {\n",
              "        vertical-align: top;\n",
              "    }\n",
              "\n",
              "    .dataframe thead th {\n",
              "        text-align: right;\n",
              "    }\n",
              "</style>\n",
              "<table border=\"1\" class=\"dataframe\">\n",
              "  <thead>\n",
              "    <tr style=\"text-align: right;\">\n",
              "      <th></th>\n",
              "      <th>sibsp</th>\n",
              "      <th>age_no_nan</th>\n",
              "      <th>fare_no_nan</th>\n",
              "      <th>sex_male</th>\n",
              "      <th>class_target</th>\n",
              "      <th>embark_town_freq</th>\n",
              "    </tr>\n",
              "  </thead>\n",
              "  <tbody>\n",
              "    <tr>\n",
              "      <th>565</th>\n",
              "      <td>2</td>\n",
              "      <td>24.000000</td>\n",
              "      <td>24.1500</td>\n",
              "      <td>1.0</td>\n",
              "      <td>0.242967</td>\n",
              "      <td>0.727528</td>\n",
              "    </tr>\n",
              "    <tr>\n",
              "      <th>160</th>\n",
              "      <td>0</td>\n",
              "      <td>44.000000</td>\n",
              "      <td>16.1000</td>\n",
              "      <td>1.0</td>\n",
              "      <td>0.242967</td>\n",
              "      <td>0.727528</td>\n",
              "    </tr>\n",
              "    <tr>\n",
              "      <th>553</th>\n",
              "      <td>0</td>\n",
              "      <td>22.000000</td>\n",
              "      <td>7.2250</td>\n",
              "      <td>1.0</td>\n",
              "      <td>0.242967</td>\n",
              "      <td>0.195225</td>\n",
              "    </tr>\n",
              "    <tr>\n",
              "      <th>860</th>\n",
              "      <td>2</td>\n",
              "      <td>41.000000</td>\n",
              "      <td>14.1083</td>\n",
              "      <td>1.0</td>\n",
              "      <td>0.242967</td>\n",
              "      <td>0.727528</td>\n",
              "    </tr>\n",
              "    <tr>\n",
              "      <th>241</th>\n",
              "      <td>1</td>\n",
              "      <td>26.336411</td>\n",
              "      <td>15.5000</td>\n",
              "      <td>0.0</td>\n",
              "      <td>0.242967</td>\n",
              "      <td>0.077247</td>\n",
              "    </tr>\n",
              "    <tr>\n",
              "      <th>...</th>\n",
              "      <td>...</td>\n",
              "      <td>...</td>\n",
              "      <td>...</td>\n",
              "      <td>...</td>\n",
              "      <td>...</td>\n",
              "      <td>...</td>\n",
              "    </tr>\n",
              "    <tr>\n",
              "      <th>880</th>\n",
              "      <td>0</td>\n",
              "      <td>25.000000</td>\n",
              "      <td>26.0000</td>\n",
              "      <td>0.0</td>\n",
              "      <td>0.446667</td>\n",
              "      <td>0.727528</td>\n",
              "    </tr>\n",
              "    <tr>\n",
              "      <th>91</th>\n",
              "      <td>0</td>\n",
              "      <td>20.000000</td>\n",
              "      <td>7.8542</td>\n",
              "      <td>1.0</td>\n",
              "      <td>0.242967</td>\n",
              "      <td>0.727528</td>\n",
              "    </tr>\n",
              "    <tr>\n",
              "      <th>883</th>\n",
              "      <td>0</td>\n",
              "      <td>28.000000</td>\n",
              "      <td>10.5000</td>\n",
              "      <td>1.0</td>\n",
              "      <td>0.446667</td>\n",
              "      <td>0.727528</td>\n",
              "    </tr>\n",
              "    <tr>\n",
              "      <th>473</th>\n",
              "      <td>0</td>\n",
              "      <td>23.000000</td>\n",
              "      <td>13.7917</td>\n",
              "      <td>0.0</td>\n",
              "      <td>0.446667</td>\n",
              "      <td>0.195225</td>\n",
              "    </tr>\n",
              "    <tr>\n",
              "      <th>637</th>\n",
              "      <td>1</td>\n",
              "      <td>31.000000</td>\n",
              "      <td>26.2500</td>\n",
              "      <td>1.0</td>\n",
              "      <td>0.446667</td>\n",
              "      <td>0.727528</td>\n",
              "    </tr>\n",
              "  </tbody>\n",
              "</table>\n",
              "<p>179 rows × 6 columns</p>\n",
              "</div>"
            ],
            "text/plain": [
              "     sibsp  age_no_nan  fare_no_nan  sex_male  class_target  embark_town_freq\n",
              "565      2   24.000000      24.1500       1.0      0.242967          0.727528\n",
              "160      0   44.000000      16.1000       1.0      0.242967          0.727528\n",
              "553      0   22.000000       7.2250       1.0      0.242967          0.195225\n",
              "860      2   41.000000      14.1083       1.0      0.242967          0.727528\n",
              "241      1   26.336411      15.5000       0.0      0.242967          0.077247\n",
              "..     ...         ...          ...       ...           ...               ...\n",
              "880      0   25.000000      26.0000       0.0      0.446667          0.727528\n",
              "91       0   20.000000       7.8542       1.0      0.242967          0.727528\n",
              "883      0   28.000000      10.5000       1.0      0.446667          0.727528\n",
              "473      0   23.000000      13.7917       0.0      0.446667          0.195225\n",
              "637      1   31.000000      26.2500       1.0      0.446667          0.727528\n",
              "\n",
              "[179 rows x 6 columns]"
            ]
          },
          "execution_count": 36,
          "metadata": {},
          "output_type": "execute_result"
        }
      ],
      "source": [
        "X_test"
      ]
    },
    {
      "cell_type": "code",
      "execution_count": 37,
      "metadata": {
        "colab": {
          "base_uri": "https://localhost:8080/",
          "height": 424
        },
        "id": "OXcLcOfvgQul",
        "outputId": "ced4d03a-c1f0-43c3-b86a-d121f2642dd8"
      },
      "outputs": [
        {
          "data": {
            "text/html": [
              "<div>\n",
              "<style scoped>\n",
              "    .dataframe tbody tr th:only-of-type {\n",
              "        vertical-align: middle;\n",
              "    }\n",
              "\n",
              "    .dataframe tbody tr th {\n",
              "        vertical-align: top;\n",
              "    }\n",
              "\n",
              "    .dataframe thead th {\n",
              "        text-align: right;\n",
              "    }\n",
              "</style>\n",
              "<table border=\"1\" class=\"dataframe\">\n",
              "  <thead>\n",
              "    <tr style=\"text-align: right;\">\n",
              "      <th></th>\n",
              "      <th>sibsp</th>\n",
              "      <th>age_no_nan</th>\n",
              "      <th>fare_no_nan</th>\n",
              "      <th>sex_male</th>\n",
              "      <th>class_target</th>\n",
              "      <th>embark_town_freq</th>\n",
              "    </tr>\n",
              "  </thead>\n",
              "  <tbody>\n",
              "    <tr>\n",
              "      <th>692</th>\n",
              "      <td>0</td>\n",
              "      <td>33.247055</td>\n",
              "      <td>56.4958</td>\n",
              "      <td>1.0</td>\n",
              "      <td>0.242967</td>\n",
              "      <td>0.727528</td>\n",
              "    </tr>\n",
              "    <tr>\n",
              "      <th>481</th>\n",
              "      <td>0</td>\n",
              "      <td>31.505469</td>\n",
              "      <td>13.0000</td>\n",
              "      <td>1.0</td>\n",
              "      <td>0.446667</td>\n",
              "      <td>0.727528</td>\n",
              "    </tr>\n",
              "    <tr>\n",
              "      <th>527</th>\n",
              "      <td>0</td>\n",
              "      <td>39.865055</td>\n",
              "      <td>221.7792</td>\n",
              "      <td>1.0</td>\n",
              "      <td>0.649123</td>\n",
              "      <td>0.727528</td>\n",
              "    </tr>\n",
              "    <tr>\n",
              "      <th>855</th>\n",
              "      <td>0</td>\n",
              "      <td>18.000000</td>\n",
              "      <td>9.3500</td>\n",
              "      <td>0.0</td>\n",
              "      <td>0.242967</td>\n",
              "      <td>0.727528</td>\n",
              "    </tr>\n",
              "    <tr>\n",
              "      <th>801</th>\n",
              "      <td>1</td>\n",
              "      <td>31.000000</td>\n",
              "      <td>26.2500</td>\n",
              "      <td>0.0</td>\n",
              "      <td>0.446667</td>\n",
              "      <td>0.727528</td>\n",
              "    </tr>\n",
              "    <tr>\n",
              "      <th>...</th>\n",
              "      <td>...</td>\n",
              "      <td>...</td>\n",
              "      <td>...</td>\n",
              "      <td>...</td>\n",
              "      <td>...</td>\n",
              "      <td>...</td>\n",
              "    </tr>\n",
              "    <tr>\n",
              "      <th>359</th>\n",
              "      <td>0</td>\n",
              "      <td>31.300430</td>\n",
              "      <td>7.8792</td>\n",
              "      <td>0.0</td>\n",
              "      <td>0.242967</td>\n",
              "      <td>0.077247</td>\n",
              "    </tr>\n",
              "    <tr>\n",
              "      <th>258</th>\n",
              "      <td>0</td>\n",
              "      <td>35.000000</td>\n",
              "      <td>512.3292</td>\n",
              "      <td>0.0</td>\n",
              "      <td>0.649123</td>\n",
              "      <td>0.195225</td>\n",
              "    </tr>\n",
              "    <tr>\n",
              "      <th>736</th>\n",
              "      <td>1</td>\n",
              "      <td>48.000000</td>\n",
              "      <td>34.3750</td>\n",
              "      <td>0.0</td>\n",
              "      <td>0.242967</td>\n",
              "      <td>0.727528</td>\n",
              "    </tr>\n",
              "    <tr>\n",
              "      <th>462</th>\n",
              "      <td>0</td>\n",
              "      <td>47.000000</td>\n",
              "      <td>38.5000</td>\n",
              "      <td>1.0</td>\n",
              "      <td>0.649123</td>\n",
              "      <td>0.727528</td>\n",
              "    </tr>\n",
              "    <tr>\n",
              "      <th>507</th>\n",
              "      <td>0</td>\n",
              "      <td>32.048015</td>\n",
              "      <td>26.5500</td>\n",
              "      <td>1.0</td>\n",
              "      <td>0.649123</td>\n",
              "      <td>0.727528</td>\n",
              "    </tr>\n",
              "  </tbody>\n",
              "</table>\n",
              "<p>712 rows × 6 columns</p>\n",
              "</div>"
            ],
            "text/plain": [
              "     sibsp  age_no_nan  fare_no_nan  sex_male  class_target  embark_town_freq\n",
              "692      0   33.247055      56.4958       1.0      0.242967          0.727528\n",
              "481      0   31.505469      13.0000       1.0      0.446667          0.727528\n",
              "527      0   39.865055     221.7792       1.0      0.649123          0.727528\n",
              "855      0   18.000000       9.3500       0.0      0.242967          0.727528\n",
              "801      1   31.000000      26.2500       0.0      0.446667          0.727528\n",
              "..     ...         ...          ...       ...           ...               ...\n",
              "359      0   31.300430       7.8792       0.0      0.242967          0.077247\n",
              "258      0   35.000000     512.3292       0.0      0.649123          0.195225\n",
              "736      1   48.000000      34.3750       0.0      0.242967          0.727528\n",
              "462      0   47.000000      38.5000       1.0      0.649123          0.727528\n",
              "507      0   32.048015      26.5500       1.0      0.649123          0.727528\n",
              "\n",
              "[712 rows x 6 columns]"
            ]
          },
          "execution_count": 37,
          "metadata": {},
          "output_type": "execute_result"
        }
      ],
      "source": [
        "X_train"
      ]
    },
    {
      "cell_type": "markdown",
      "metadata": {
        "id": "zB3Irs3n9KVh"
      },
      "source": [
        "y = 2*age+3*income - сколько денег клиент пртратит (1000, 10000)\n",
        "\n",
        "age = [0;100]\n",
        "income = [1000, 1000000]\n",
        "\n",
        "age_norm = mean = 0, std = 1\n",
        "\n",
        "income_norm = mean = 0, std = 1\n",
        "\n",
        "y = w_1 * age_norm + w_2 * income_norm + w_0\n"
      ]
    },
    {
      "cell_type": "markdown",
      "metadata": {
        "id": "etqP-Pulaw6c"
      },
      "source": [
        "# 6. Масштабирование числовых признаков"
      ]
    },
    {
      "cell_type": "code",
      "execution_count": 38,
      "metadata": {
        "colab": {
          "base_uri": "https://localhost:8080/"
        },
        "id": "PmhPj7_JhBhS",
        "outputId": "60500a3c-bf36-4330-d44f-50b1609404c9"
      },
      "outputs": [
        {
          "data": {
            "text/plain": [
              "['age_no_nan', 'fare_no_nan']"
            ]
          },
          "execution_count": 38,
          "metadata": {},
          "output_type": "execute_result"
        }
      ],
      "source": [
        "num_cols_for_scaler = num_cols.copy()\n",
        "num_cols_for_scaler.remove('sibsp')\n",
        "num_cols_for_scaler"
      ]
    },
    {
      "cell_type": "code",
      "execution_count": 39,
      "metadata": {
        "id": "b1hdBLwlalCa"
      },
      "outputs": [],
      "source": [
        "scaler = StandardScaler()\n",
        "X_train[num_cols_for_scaler] = scaler.fit_transform(X_train[num_cols_for_scaler])\n",
        "X_test[num_cols_for_scaler] = scaler.transform(X_test[num_cols_for_scaler])"
      ]
    },
    {
      "cell_type": "code",
      "execution_count": 40,
      "metadata": {
        "colab": {
          "base_uri": "https://localhost:8080/"
        },
        "id": "25ssMRZJMVWv",
        "outputId": "9a3e9970-0581-42f0-efef-92ce647068d4"
      },
      "outputs": [
        {
          "name": "stdout",
          "output_type": "stream",
          "text": [
            "\n",
            "Обработка завершена. Размерности после кодирования:\n",
            "X_train: (712, 6), X_test: (179, 6)\n"
          ]
        }
      ],
      "source": [
        "print(\"\\nОбработка завершена. Размерности после кодирования:\")\n",
        "print(f\"X_train: {X_train.shape}, X_test: {X_test.shape}\")"
      ]
    },
    {
      "cell_type": "code",
      "execution_count": 41,
      "metadata": {
        "colab": {
          "base_uri": "https://localhost:8080/",
          "height": 206
        },
        "id": "t4uWKDUta5Uw",
        "outputId": "0ce81994-2473-4c58-9156-7410fc59ae6e"
      },
      "outputs": [
        {
          "data": {
            "text/html": [
              "<div>\n",
              "<style scoped>\n",
              "    .dataframe tbody tr th:only-of-type {\n",
              "        vertical-align: middle;\n",
              "    }\n",
              "\n",
              "    .dataframe tbody tr th {\n",
              "        vertical-align: top;\n",
              "    }\n",
              "\n",
              "    .dataframe thead th {\n",
              "        text-align: right;\n",
              "    }\n",
              "</style>\n",
              "<table border=\"1\" class=\"dataframe\">\n",
              "  <thead>\n",
              "    <tr style=\"text-align: right;\">\n",
              "      <th></th>\n",
              "      <th>sibsp</th>\n",
              "      <th>age_no_nan</th>\n",
              "      <th>fare_no_nan</th>\n",
              "      <th>sex_male</th>\n",
              "      <th>class_target</th>\n",
              "      <th>embark_town_freq</th>\n",
              "    </tr>\n",
              "  </thead>\n",
              "  <tbody>\n",
              "    <tr>\n",
              "      <th>692</th>\n",
              "      <td>0</td>\n",
              "      <td>0.265368</td>\n",
              "      <td>0.509929</td>\n",
              "      <td>1.0</td>\n",
              "      <td>0.242967</td>\n",
              "      <td>0.727528</td>\n",
              "    </tr>\n",
              "    <tr>\n",
              "      <th>481</th>\n",
              "      <td>0</td>\n",
              "      <td>0.136106</td>\n",
              "      <td>-0.398320</td>\n",
              "      <td>1.0</td>\n",
              "      <td>0.446667</td>\n",
              "      <td>0.727528</td>\n",
              "    </tr>\n",
              "    <tr>\n",
              "      <th>527</th>\n",
              "      <td>0</td>\n",
              "      <td>0.756564</td>\n",
              "      <td>3.961264</td>\n",
              "      <td>1.0</td>\n",
              "      <td>0.649123</td>\n",
              "      <td>0.727528</td>\n",
              "    </tr>\n",
              "    <tr>\n",
              "      <th>855</th>\n",
              "      <td>0</td>\n",
              "      <td>-0.866285</td>\n",
              "      <td>-0.474537</td>\n",
              "      <td>0.0</td>\n",
              "      <td>0.242967</td>\n",
              "      <td>0.727528</td>\n",
              "    </tr>\n",
              "    <tr>\n",
              "      <th>801</th>\n",
              "      <td>1</td>\n",
              "      <td>0.098589</td>\n",
              "      <td>-0.121643</td>\n",
              "      <td>0.0</td>\n",
              "      <td>0.446667</td>\n",
              "      <td>0.727528</td>\n",
              "    </tr>\n",
              "  </tbody>\n",
              "</table>\n",
              "</div>"
            ],
            "text/plain": [
              "     sibsp  age_no_nan  fare_no_nan  sex_male  class_target  embark_town_freq\n",
              "692      0    0.265368     0.509929       1.0      0.242967          0.727528\n",
              "481      0    0.136106    -0.398320       1.0      0.446667          0.727528\n",
              "527      0    0.756564     3.961264       1.0      0.649123          0.727528\n",
              "855      0   -0.866285    -0.474537       0.0      0.242967          0.727528\n",
              "801      1    0.098589    -0.121643       0.0      0.446667          0.727528"
            ]
          },
          "execution_count": 41,
          "metadata": {},
          "output_type": "execute_result"
        }
      ],
      "source": [
        "X_train.head()"
      ]
    },
    {
      "cell_type": "code",
      "execution_count": 42,
      "metadata": {
        "colab": {
          "base_uri": "https://localhost:8080/",
          "height": 206
        },
        "id": "BpImhmc3a6at",
        "outputId": "21d96cc3-a1a8-498b-8b48-951c98d4cf8c"
      },
      "outputs": [
        {
          "data": {
            "text/html": [
              "<div>\n",
              "<style scoped>\n",
              "    .dataframe tbody tr th:only-of-type {\n",
              "        vertical-align: middle;\n",
              "    }\n",
              "\n",
              "    .dataframe tbody tr th {\n",
              "        vertical-align: top;\n",
              "    }\n",
              "\n",
              "    .dataframe thead th {\n",
              "        text-align: right;\n",
              "    }\n",
              "</style>\n",
              "<table border=\"1\" class=\"dataframe\">\n",
              "  <thead>\n",
              "    <tr style=\"text-align: right;\">\n",
              "      <th></th>\n",
              "      <th>sibsp</th>\n",
              "      <th>age_no_nan</th>\n",
              "      <th>fare_no_nan</th>\n",
              "      <th>sex_male</th>\n",
              "      <th>class_target</th>\n",
              "      <th>embark_town_freq</th>\n",
              "    </tr>\n",
              "  </thead>\n",
              "  <tbody>\n",
              "    <tr>\n",
              "      <th>565</th>\n",
              "      <td>2</td>\n",
              "      <td>-0.420958</td>\n",
              "      <td>-0.165494</td>\n",
              "      <td>1.0</td>\n",
              "      <td>0.242967</td>\n",
              "      <td>0.727528</td>\n",
              "    </tr>\n",
              "    <tr>\n",
              "      <th>160</th>\n",
              "      <td>0</td>\n",
              "      <td>1.063464</td>\n",
              "      <td>-0.333588</td>\n",
              "      <td>1.0</td>\n",
              "      <td>0.242967</td>\n",
              "      <td>0.727528</td>\n",
              "    </tr>\n",
              "    <tr>\n",
              "      <th>553</th>\n",
              "      <td>0</td>\n",
              "      <td>-0.569401</td>\n",
              "      <td>-0.518910</td>\n",
              "      <td>1.0</td>\n",
              "      <td>0.242967</td>\n",
              "      <td>0.195225</td>\n",
              "    </tr>\n",
              "    <tr>\n",
              "      <th>860</th>\n",
              "      <td>2</td>\n",
              "      <td>0.840801</td>\n",
              "      <td>-0.375178</td>\n",
              "      <td>1.0</td>\n",
              "      <td>0.242967</td>\n",
              "      <td>0.727528</td>\n",
              "    </tr>\n",
              "    <tr>\n",
              "      <th>241</th>\n",
              "      <td>1</td>\n",
              "      <td>-0.247547</td>\n",
              "      <td>-0.346117</td>\n",
              "      <td>0.0</td>\n",
              "      <td>0.242967</td>\n",
              "      <td>0.077247</td>\n",
              "    </tr>\n",
              "  </tbody>\n",
              "</table>\n",
              "</div>"
            ],
            "text/plain": [
              "     sibsp  age_no_nan  fare_no_nan  sex_male  class_target  embark_town_freq\n",
              "565      2   -0.420958    -0.165494       1.0      0.242967          0.727528\n",
              "160      0    1.063464    -0.333588       1.0      0.242967          0.727528\n",
              "553      0   -0.569401    -0.518910       1.0      0.242967          0.195225\n",
              "860      2    0.840801    -0.375178       1.0      0.242967          0.727528\n",
              "241      1   -0.247547    -0.346117       0.0      0.242967          0.077247"
            ]
          },
          "execution_count": 42,
          "metadata": {},
          "output_type": "execute_result"
        }
      ],
      "source": [
        "X_test.head()"
      ]
    },
    {
      "cell_type": "markdown",
      "metadata": {
        "id": "PEjUiNsibM61"
      },
      "source": [
        "# 7. Моделирование и Оценка модели"
      ]
    },
    {
      "cell_type": "code",
      "execution_count": 43,
      "metadata": {
        "colab": {
          "base_uri": "https://localhost:8080/",
          "height": 80
        },
        "id": "dyNQqAMAbbFN",
        "outputId": "90734080-5276-4d34-8fdc-68e7fd3eb236"
      },
      "outputs": [
        {
          "data": {
            "text/html": [
              "<style>#sk-container-id-1 {\n",
              "  /* Definition of color scheme common for light and dark mode */\n",
              "  --sklearn-color-text: #000;\n",
              "  --sklearn-color-text-muted: #666;\n",
              "  --sklearn-color-line: gray;\n",
              "  /* Definition of color scheme for unfitted estimators */\n",
              "  --sklearn-color-unfitted-level-0: #fff5e6;\n",
              "  --sklearn-color-unfitted-level-1: #f6e4d2;\n",
              "  --sklearn-color-unfitted-level-2: #ffe0b3;\n",
              "  --sklearn-color-unfitted-level-3: chocolate;\n",
              "  /* Definition of color scheme for fitted estimators */\n",
              "  --sklearn-color-fitted-level-0: #f0f8ff;\n",
              "  --sklearn-color-fitted-level-1: #d4ebff;\n",
              "  --sklearn-color-fitted-level-2: #b3dbfd;\n",
              "  --sklearn-color-fitted-level-3: cornflowerblue;\n",
              "\n",
              "  /* Specific color for light theme */\n",
              "  --sklearn-color-text-on-default-background: var(--sg-text-color, var(--theme-code-foreground, var(--jp-content-font-color1, black)));\n",
              "  --sklearn-color-background: var(--sg-background-color, var(--theme-background, var(--jp-layout-color0, white)));\n",
              "  --sklearn-color-border-box: var(--sg-text-color, var(--theme-code-foreground, var(--jp-content-font-color1, black)));\n",
              "  --sklearn-color-icon: #696969;\n",
              "\n",
              "  @media (prefers-color-scheme: dark) {\n",
              "    /* Redefinition of color scheme for dark theme */\n",
              "    --sklearn-color-text-on-default-background: var(--sg-text-color, var(--theme-code-foreground, var(--jp-content-font-color1, white)));\n",
              "    --sklearn-color-background: var(--sg-background-color, var(--theme-background, var(--jp-layout-color0, #111)));\n",
              "    --sklearn-color-border-box: var(--sg-text-color, var(--theme-code-foreground, var(--jp-content-font-color1, white)));\n",
              "    --sklearn-color-icon: #878787;\n",
              "  }\n",
              "}\n",
              "\n",
              "#sk-container-id-1 {\n",
              "  color: var(--sklearn-color-text);\n",
              "}\n",
              "\n",
              "#sk-container-id-1 pre {\n",
              "  padding: 0;\n",
              "}\n",
              "\n",
              "#sk-container-id-1 input.sk-hidden--visually {\n",
              "  border: 0;\n",
              "  clip: rect(1px 1px 1px 1px);\n",
              "  clip: rect(1px, 1px, 1px, 1px);\n",
              "  height: 1px;\n",
              "  margin: -1px;\n",
              "  overflow: hidden;\n",
              "  padding: 0;\n",
              "  position: absolute;\n",
              "  width: 1px;\n",
              "}\n",
              "\n",
              "#sk-container-id-1 div.sk-dashed-wrapped {\n",
              "  border: 1px dashed var(--sklearn-color-line);\n",
              "  margin: 0 0.4em 0.5em 0.4em;\n",
              "  box-sizing: border-box;\n",
              "  padding-bottom: 0.4em;\n",
              "  background-color: var(--sklearn-color-background);\n",
              "}\n",
              "\n",
              "#sk-container-id-1 div.sk-container {\n",
              "  /* jupyter's `normalize.less` sets `[hidden] { display: none; }`\n",
              "     but bootstrap.min.css set `[hidden] { display: none !important; }`\n",
              "     so we also need the `!important` here to be able to override the\n",
              "     default hidden behavior on the sphinx rendered scikit-learn.org.\n",
              "     See: https://github.com/scikit-learn/scikit-learn/issues/21755 */\n",
              "  display: inline-block !important;\n",
              "  position: relative;\n",
              "}\n",
              "\n",
              "#sk-container-id-1 div.sk-text-repr-fallback {\n",
              "  display: none;\n",
              "}\n",
              "\n",
              "div.sk-parallel-item,\n",
              "div.sk-serial,\n",
              "div.sk-item {\n",
              "  /* draw centered vertical line to link estimators */\n",
              "  background-image: linear-gradient(var(--sklearn-color-text-on-default-background), var(--sklearn-color-text-on-default-background));\n",
              "  background-size: 2px 100%;\n",
              "  background-repeat: no-repeat;\n",
              "  background-position: center center;\n",
              "}\n",
              "\n",
              "/* Parallel-specific style estimator block */\n",
              "\n",
              "#sk-container-id-1 div.sk-parallel-item::after {\n",
              "  content: \"\";\n",
              "  width: 100%;\n",
              "  border-bottom: 2px solid var(--sklearn-color-text-on-default-background);\n",
              "  flex-grow: 1;\n",
              "}\n",
              "\n",
              "#sk-container-id-1 div.sk-parallel {\n",
              "  display: flex;\n",
              "  align-items: stretch;\n",
              "  justify-content: center;\n",
              "  background-color: var(--sklearn-color-background);\n",
              "  position: relative;\n",
              "}\n",
              "\n",
              "#sk-container-id-1 div.sk-parallel-item {\n",
              "  display: flex;\n",
              "  flex-direction: column;\n",
              "}\n",
              "\n",
              "#sk-container-id-1 div.sk-parallel-item:first-child::after {\n",
              "  align-self: flex-end;\n",
              "  width: 50%;\n",
              "}\n",
              "\n",
              "#sk-container-id-1 div.sk-parallel-item:last-child::after {\n",
              "  align-self: flex-start;\n",
              "  width: 50%;\n",
              "}\n",
              "\n",
              "#sk-container-id-1 div.sk-parallel-item:only-child::after {\n",
              "  width: 0;\n",
              "}\n",
              "\n",
              "/* Serial-specific style estimator block */\n",
              "\n",
              "#sk-container-id-1 div.sk-serial {\n",
              "  display: flex;\n",
              "  flex-direction: column;\n",
              "  align-items: center;\n",
              "  background-color: var(--sklearn-color-background);\n",
              "  padding-right: 1em;\n",
              "  padding-left: 1em;\n",
              "}\n",
              "\n",
              "\n",
              "/* Toggleable style: style used for estimator/Pipeline/ColumnTransformer box that is\n",
              "clickable and can be expanded/collapsed.\n",
              "- Pipeline and ColumnTransformer use this feature and define the default style\n",
              "- Estimators will overwrite some part of the style using the `sk-estimator` class\n",
              "*/\n",
              "\n",
              "/* Pipeline and ColumnTransformer style (default) */\n",
              "\n",
              "#sk-container-id-1 div.sk-toggleable {\n",
              "  /* Default theme specific background. It is overwritten whether we have a\n",
              "  specific estimator or a Pipeline/ColumnTransformer */\n",
              "  background-color: var(--sklearn-color-background);\n",
              "}\n",
              "\n",
              "/* Toggleable label */\n",
              "#sk-container-id-1 label.sk-toggleable__label {\n",
              "  cursor: pointer;\n",
              "  display: flex;\n",
              "  width: 100%;\n",
              "  margin-bottom: 0;\n",
              "  padding: 0.5em;\n",
              "  box-sizing: border-box;\n",
              "  text-align: center;\n",
              "  align-items: start;\n",
              "  justify-content: space-between;\n",
              "  gap: 0.5em;\n",
              "}\n",
              "\n",
              "#sk-container-id-1 label.sk-toggleable__label .caption {\n",
              "  font-size: 0.6rem;\n",
              "  font-weight: lighter;\n",
              "  color: var(--sklearn-color-text-muted);\n",
              "}\n",
              "\n",
              "#sk-container-id-1 label.sk-toggleable__label-arrow:before {\n",
              "  /* Arrow on the left of the label */\n",
              "  content: \"▸\";\n",
              "  float: left;\n",
              "  margin-right: 0.25em;\n",
              "  color: var(--sklearn-color-icon);\n",
              "}\n",
              "\n",
              "#sk-container-id-1 label.sk-toggleable__label-arrow:hover:before {\n",
              "  color: var(--sklearn-color-text);\n",
              "}\n",
              "\n",
              "/* Toggleable content - dropdown */\n",
              "\n",
              "#sk-container-id-1 div.sk-toggleable__content {\n",
              "  max-height: 0;\n",
              "  max-width: 0;\n",
              "  overflow: hidden;\n",
              "  text-align: left;\n",
              "  /* unfitted */\n",
              "  background-color: var(--sklearn-color-unfitted-level-0);\n",
              "}\n",
              "\n",
              "#sk-container-id-1 div.sk-toggleable__content.fitted {\n",
              "  /* fitted */\n",
              "  background-color: var(--sklearn-color-fitted-level-0);\n",
              "}\n",
              "\n",
              "#sk-container-id-1 div.sk-toggleable__content pre {\n",
              "  margin: 0.2em;\n",
              "  border-radius: 0.25em;\n",
              "  color: var(--sklearn-color-text);\n",
              "  /* unfitted */\n",
              "  background-color: var(--sklearn-color-unfitted-level-0);\n",
              "}\n",
              "\n",
              "#sk-container-id-1 div.sk-toggleable__content.fitted pre {\n",
              "  /* unfitted */\n",
              "  background-color: var(--sklearn-color-fitted-level-0);\n",
              "}\n",
              "\n",
              "#sk-container-id-1 input.sk-toggleable__control:checked~div.sk-toggleable__content {\n",
              "  /* Expand drop-down */\n",
              "  max-height: 200px;\n",
              "  max-width: 100%;\n",
              "  overflow: auto;\n",
              "}\n",
              "\n",
              "#sk-container-id-1 input.sk-toggleable__control:checked~label.sk-toggleable__label-arrow:before {\n",
              "  content: \"▾\";\n",
              "}\n",
              "\n",
              "/* Pipeline/ColumnTransformer-specific style */\n",
              "\n",
              "#sk-container-id-1 div.sk-label input.sk-toggleable__control:checked~label.sk-toggleable__label {\n",
              "  color: var(--sklearn-color-text);\n",
              "  background-color: var(--sklearn-color-unfitted-level-2);\n",
              "}\n",
              "\n",
              "#sk-container-id-1 div.sk-label.fitted input.sk-toggleable__control:checked~label.sk-toggleable__label {\n",
              "  background-color: var(--sklearn-color-fitted-level-2);\n",
              "}\n",
              "\n",
              "/* Estimator-specific style */\n",
              "\n",
              "/* Colorize estimator box */\n",
              "#sk-container-id-1 div.sk-estimator input.sk-toggleable__control:checked~label.sk-toggleable__label {\n",
              "  /* unfitted */\n",
              "  background-color: var(--sklearn-color-unfitted-level-2);\n",
              "}\n",
              "\n",
              "#sk-container-id-1 div.sk-estimator.fitted input.sk-toggleable__control:checked~label.sk-toggleable__label {\n",
              "  /* fitted */\n",
              "  background-color: var(--sklearn-color-fitted-level-2);\n",
              "}\n",
              "\n",
              "#sk-container-id-1 div.sk-label label.sk-toggleable__label,\n",
              "#sk-container-id-1 div.sk-label label {\n",
              "  /* The background is the default theme color */\n",
              "  color: var(--sklearn-color-text-on-default-background);\n",
              "}\n",
              "\n",
              "/* On hover, darken the color of the background */\n",
              "#sk-container-id-1 div.sk-label:hover label.sk-toggleable__label {\n",
              "  color: var(--sklearn-color-text);\n",
              "  background-color: var(--sklearn-color-unfitted-level-2);\n",
              "}\n",
              "\n",
              "/* Label box, darken color on hover, fitted */\n",
              "#sk-container-id-1 div.sk-label.fitted:hover label.sk-toggleable__label.fitted {\n",
              "  color: var(--sklearn-color-text);\n",
              "  background-color: var(--sklearn-color-fitted-level-2);\n",
              "}\n",
              "\n",
              "/* Estimator label */\n",
              "\n",
              "#sk-container-id-1 div.sk-label label {\n",
              "  font-family: monospace;\n",
              "  font-weight: bold;\n",
              "  display: inline-block;\n",
              "  line-height: 1.2em;\n",
              "}\n",
              "\n",
              "#sk-container-id-1 div.sk-label-container {\n",
              "  text-align: center;\n",
              "}\n",
              "\n",
              "/* Estimator-specific */\n",
              "#sk-container-id-1 div.sk-estimator {\n",
              "  font-family: monospace;\n",
              "  border: 1px dotted var(--sklearn-color-border-box);\n",
              "  border-radius: 0.25em;\n",
              "  box-sizing: border-box;\n",
              "  margin-bottom: 0.5em;\n",
              "  /* unfitted */\n",
              "  background-color: var(--sklearn-color-unfitted-level-0);\n",
              "}\n",
              "\n",
              "#sk-container-id-1 div.sk-estimator.fitted {\n",
              "  /* fitted */\n",
              "  background-color: var(--sklearn-color-fitted-level-0);\n",
              "}\n",
              "\n",
              "/* on hover */\n",
              "#sk-container-id-1 div.sk-estimator:hover {\n",
              "  /* unfitted */\n",
              "  background-color: var(--sklearn-color-unfitted-level-2);\n",
              "}\n",
              "\n",
              "#sk-container-id-1 div.sk-estimator.fitted:hover {\n",
              "  /* fitted */\n",
              "  background-color: var(--sklearn-color-fitted-level-2);\n",
              "}\n",
              "\n",
              "/* Specification for estimator info (e.g. \"i\" and \"?\") */\n",
              "\n",
              "/* Common style for \"i\" and \"?\" */\n",
              "\n",
              ".sk-estimator-doc-link,\n",
              "a:link.sk-estimator-doc-link,\n",
              "a:visited.sk-estimator-doc-link {\n",
              "  float: right;\n",
              "  font-size: smaller;\n",
              "  line-height: 1em;\n",
              "  font-family: monospace;\n",
              "  background-color: var(--sklearn-color-background);\n",
              "  border-radius: 1em;\n",
              "  height: 1em;\n",
              "  width: 1em;\n",
              "  text-decoration: none !important;\n",
              "  margin-left: 0.5em;\n",
              "  text-align: center;\n",
              "  /* unfitted */\n",
              "  border: var(--sklearn-color-unfitted-level-1) 1pt solid;\n",
              "  color: var(--sklearn-color-unfitted-level-1);\n",
              "}\n",
              "\n",
              ".sk-estimator-doc-link.fitted,\n",
              "a:link.sk-estimator-doc-link.fitted,\n",
              "a:visited.sk-estimator-doc-link.fitted {\n",
              "  /* fitted */\n",
              "  border: var(--sklearn-color-fitted-level-1) 1pt solid;\n",
              "  color: var(--sklearn-color-fitted-level-1);\n",
              "}\n",
              "\n",
              "/* On hover */\n",
              "div.sk-estimator:hover .sk-estimator-doc-link:hover,\n",
              ".sk-estimator-doc-link:hover,\n",
              "div.sk-label-container:hover .sk-estimator-doc-link:hover,\n",
              ".sk-estimator-doc-link:hover {\n",
              "  /* unfitted */\n",
              "  background-color: var(--sklearn-color-unfitted-level-3);\n",
              "  color: var(--sklearn-color-background);\n",
              "  text-decoration: none;\n",
              "}\n",
              "\n",
              "div.sk-estimator.fitted:hover .sk-estimator-doc-link.fitted:hover,\n",
              ".sk-estimator-doc-link.fitted:hover,\n",
              "div.sk-label-container:hover .sk-estimator-doc-link.fitted:hover,\n",
              ".sk-estimator-doc-link.fitted:hover {\n",
              "  /* fitted */\n",
              "  background-color: var(--sklearn-color-fitted-level-3);\n",
              "  color: var(--sklearn-color-background);\n",
              "  text-decoration: none;\n",
              "}\n",
              "\n",
              "/* Span, style for the box shown on hovering the info icon */\n",
              ".sk-estimator-doc-link span {\n",
              "  display: none;\n",
              "  z-index: 9999;\n",
              "  position: relative;\n",
              "  font-weight: normal;\n",
              "  right: .2ex;\n",
              "  padding: .5ex;\n",
              "  margin: .5ex;\n",
              "  width: min-content;\n",
              "  min-width: 20ex;\n",
              "  max-width: 50ex;\n",
              "  color: var(--sklearn-color-text);\n",
              "  box-shadow: 2pt 2pt 4pt #999;\n",
              "  /* unfitted */\n",
              "  background: var(--sklearn-color-unfitted-level-0);\n",
              "  border: .5pt solid var(--sklearn-color-unfitted-level-3);\n",
              "}\n",
              "\n",
              ".sk-estimator-doc-link.fitted span {\n",
              "  /* fitted */\n",
              "  background: var(--sklearn-color-fitted-level-0);\n",
              "  border: var(--sklearn-color-fitted-level-3);\n",
              "}\n",
              "\n",
              ".sk-estimator-doc-link:hover span {\n",
              "  display: block;\n",
              "}\n",
              "\n",
              "/* \"?\"-specific style due to the `<a>` HTML tag */\n",
              "\n",
              "#sk-container-id-1 a.estimator_doc_link {\n",
              "  float: right;\n",
              "  font-size: 1rem;\n",
              "  line-height: 1em;\n",
              "  font-family: monospace;\n",
              "  background-color: var(--sklearn-color-background);\n",
              "  border-radius: 1rem;\n",
              "  height: 1rem;\n",
              "  width: 1rem;\n",
              "  text-decoration: none;\n",
              "  /* unfitted */\n",
              "  color: var(--sklearn-color-unfitted-level-1);\n",
              "  border: var(--sklearn-color-unfitted-level-1) 1pt solid;\n",
              "}\n",
              "\n",
              "#sk-container-id-1 a.estimator_doc_link.fitted {\n",
              "  /* fitted */\n",
              "  border: var(--sklearn-color-fitted-level-1) 1pt solid;\n",
              "  color: var(--sklearn-color-fitted-level-1);\n",
              "}\n",
              "\n",
              "/* On hover */\n",
              "#sk-container-id-1 a.estimator_doc_link:hover {\n",
              "  /* unfitted */\n",
              "  background-color: var(--sklearn-color-unfitted-level-3);\n",
              "  color: var(--sklearn-color-background);\n",
              "  text-decoration: none;\n",
              "}\n",
              "\n",
              "#sk-container-id-1 a.estimator_doc_link.fitted:hover {\n",
              "  /* fitted */\n",
              "  background-color: var(--sklearn-color-fitted-level-3);\n",
              "}\n",
              "</style><div id=\"sk-container-id-1\" class=\"sk-top-container\"><div class=\"sk-text-repr-fallback\"><pre>LogisticRegression(max_iter=1000, random_state=42)</pre><b>In a Jupyter environment, please rerun this cell to show the HTML representation or trust the notebook. <br />On GitHub, the HTML representation is unable to render, please try loading this page with nbviewer.org.</b></div><div class=\"sk-container\" hidden><div class=\"sk-item\"><div class=\"sk-estimator fitted sk-toggleable\"><input class=\"sk-toggleable__control sk-hidden--visually\" id=\"sk-estimator-id-1\" type=\"checkbox\" checked><label for=\"sk-estimator-id-1\" class=\"sk-toggleable__label fitted sk-toggleable__label-arrow\"><div><div>LogisticRegression</div></div><div><a class=\"sk-estimator-doc-link fitted\" rel=\"noreferrer\" target=\"_blank\" href=\"https://scikit-learn.org/1.6/modules/generated/sklearn.linear_model.LogisticRegression.html\">?<span>Documentation for LogisticRegression</span></a><span class=\"sk-estimator-doc-link fitted\">i<span>Fitted</span></span></div></label><div class=\"sk-toggleable__content fitted\"><pre>LogisticRegression(max_iter=1000, random_state=42)</pre></div> </div></div></div></div>"
            ],
            "text/plain": [
              "LogisticRegression(max_iter=1000, random_state=42)"
            ]
          },
          "execution_count": 43,
          "metadata": {},
          "output_type": "execute_result"
        }
      ],
      "source": [
        "# Обучение логистической регрессии\n",
        "model = LogisticRegression(max_iter=1000, random_state=42)\n",
        "model.fit(X_train, y_train)"
      ]
    },
    {
      "cell_type": "code",
      "execution_count": 44,
      "metadata": {
        "id": "tYSzS8K1bccR"
      },
      "outputs": [],
      "source": [
        "# Получение вероятностей\n",
        "y_train_proba = model.predict_proba(X_train)[:, 1]\n",
        "y_test_proba = model.predict_proba(X_test)[:, 1]"
      ]
    },
    {
      "cell_type": "code",
      "execution_count": 45,
      "metadata": {
        "colab": {
          "base_uri": "https://localhost:8080/",
          "height": 607
        },
        "id": "ZkQE9BmIa9YM",
        "outputId": "f6a1c8d1-2d99-46ba-e97a-bed4beb0ed01"
      },
      "outputs": [
        {
          "data": {
            "image/png": "[encoded data removed]",
            "text/plain": [
              "<Figure size 800x600 with 1 Axes>"
            ]
          },
          "metadata": {},
          "output_type": "display_data"
        }
      ],
      "source": [
        "# ROC-кривая + AUC\n",
        "fpr_train, tpr_train, _ = roc_curve(y_train, y_train_proba)\n",
        "fpr_test, tpr_test, _ = roc_curve(y_test, y_test_proba)\n",
        "\n",
        "auc_train = roc_auc_score(y_train, y_train_proba)\n",
        "auc_test = roc_auc_score(y_test, y_test_proba)\n",
        "\n",
        "# Построение ROC-графика\n",
        "plt.figure(figsize=(8, 6))\n",
        "plt.plot(fpr_train, tpr_train, label=f\"Train ROC (AUC = {auc_train:.3f})\", color=\"blue\")\n",
        "plt.plot(fpr_test, tpr_test, label=f\"Test ROC (AUC = {auc_test:.3f})\", color=\"green\")\n",
        "plt.plot([0, 1], [0, 1], 'k--', label=\"Random\")\n",
        "plt.xlabel(\"False Positive Rate\")\n",
        "plt.ylabel(\"True Positive Rate\")\n",
        "plt.title(\"ROC-кривая: Train vs Test\")\n",
        "plt.legend()\n",
        "plt.grid()\n",
        "plt.tight_layout()\n",
        "plt.show()"
      ]
    },
    {
      "cell_type": "code",
      "execution_count": 46,
      "metadata": {
        "colab": {
          "base_uri": "https://localhost:8080/",
          "height": 607
        },
        "id": "H8IpX8WcbfYe",
        "outputId": "4440e36a-347b-4791-8242-b56aabcc6c06"
      },
      "outputs": [
        {
          "data": {
            "image/png": "[encoded data removed]",
            "text/plain": [
              "<Figure size 1000x600 with 1 Axes>"
            ]
          },
          "metadata": {},
          "output_type": "display_data"
        }
      ],
      "source": [
        "# Распределение вероятностей\n",
        "plt.figure(figsize=(10, 6))\n",
        "sns.histplot(y_train_proba, bins=30, kde=False, color='blue', label='Train', stat='density', alpha=0.6)\n",
        "sns.histplot(y_test_proba, bins=30, kde=False, color='green', label='Test', stat='density', alpha=0.6)\n",
        "plt.xlabel(\"Предсказанная вероятность положительного класса (1)\")\n",
        "plt.ylabel(\"Плотность\")\n",
        "plt.title(\"Распределение предсказанных вероятностей\")\n",
        "plt.legend()\n",
        "plt.grid()\n",
        "plt.tight_layout()\n",
        "plt.show()"
      ]
    },
    {
      "cell_type": "code",
      "execution_count": null,
      "metadata": {
        "id": "mU2QOJXqhbFE"
      },
      "outputs": [],
      "source": []
    }
  ],
  "metadata": {
    "colab": {
      "collapsed_sections": [
        "YpKHwWWpSQJ2",
        "2lo9ORwoSVAw",
        "8OCRsSlESW3J",
        "etqP-Pulaw6c",
        "PEjUiNsibM61"
      ],
      "provenance": []
    },
    "kernelspec": {
      "display_name": ".venv",
      "language": "python",
      "name": "python3"
    },
    "language_info": {
      "codemirror_mode": {
        "name": "ipython",
        "version": 3
      },
      "file_extension": ".py",
      "mimetype": "text/x-python",
      "name": "python",
      "nbconvert_exporter": "python",
      "pygments_lexer": "ipython3",
      "version": "3.12.0"
    }
  },
  "nbformat": 4,
  "nbformat_minor": 0
}
