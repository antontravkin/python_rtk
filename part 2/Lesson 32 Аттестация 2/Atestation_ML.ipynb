{
  "cells": [
    {
      "cell_type": "markdown",
      "metadata": {
        "id": "jZOR9Y3YtJd6"
      },
      "source": [
        "<font color='green' size='7'>**Промежуточная аттестация 2**</font>  \n",
        "<font color='#11a642' size='6'>**Тема: Временные ряды**</font>  \n",
        "<font size='5'>**Задание:**</font>  \n",
        "\n",
        "Домашняя работа основана на лекции и семинаре по Временным рядам.\n",
        "\n",
        "Данные для домашнего задания прикреплены в Дополнительных материалах.\n",
        "\n",
        "\n",
        "\n"
      ]
    },
    {
      "cell_type": "markdown",
      "metadata": {
        "id": "ZZBcF-KnHC55"
      },
      "source": [
        "**Описание плана работы**\n",
        "\n",
        "1. Загрузка данных. Убедиться, что дата является индексом датасета.\n",
        "2. Провести разведочный анализ данных (EDA).\n",
        "3. Провести тест на стационарность ряда. Сделать вывод о стационарности.\n",
        "4. Разделить данные на тестовую и тренировочную выборку.\n",
        "5. Автоматически подобрать параметры для ряда с помощью auto_arima. Выбрать оптимальные значения.\n",
        "7. Построить и обучить модель ARIMA, используя p,d,q из полученного результата по auto_arima. Построить прогноз для тестового набора данных. Оценить модель ARIMA.\n",
        "8. Разложить на тренд и сезонность с помощью prophet. Оценить модель prophet\n",
        "9. Сравнить модель ARIMA и prophet. Выбрать лучшую\n"
      ]
    },
    {
      "cell_type": "markdown",
      "metadata": {
        "id": "zSuKyjSxvt0D"
      },
      "source": [
        "# <font color='#11a642' size='6'> Импорт и установка библиотек\n",
        "\n"
      ]
    },
    {
      "cell_type": "code",
      "execution_count": 1,
      "metadata": {
        "colab": {
          "base_uri": "https://localhost:8080/"
        },
        "id": "JgYkulQY8C8b",
        "outputId": "3056371d-9ddd-4af2-bc18-dc169fad8a61"
      },
      "outputs": [
        {
          "name": "stdout",
          "output_type": "stream",
          "text": [
            "Collecting pmdarima\n",
            "  Downloading pmdarima-2.0.4-cp312-cp312-macosx_11_0_arm64.whl.metadata (7.8 kB)\n",
            "Requirement already satisfied: joblib>=0.11 in /Users/antontravkin/Sites/python_rtk/.venv/lib/python3.12/site-packages (from pmdarima) (1.5.0)\n",
            "Collecting Cython!=0.29.18,!=0.29.31,>=0.29 (from pmdarima)\n",
            "  Downloading cython-3.1.2-cp312-cp312-macosx_11_0_arm64.whl.metadata (5.9 kB)\n",
            "Requirement already satisfied: numpy>=1.21.2 in /Users/antontravkin/Sites/python_rtk/.venv/lib/python3.12/site-packages (from pmdarima) (1.26.4)\n",
            "Requirement already satisfied: pandas>=0.19 in /Users/antontravkin/Sites/python_rtk/.venv/lib/python3.12/site-packages (from pmdarima) (2.2.3)\n",
            "Requirement already satisfied: scikit-learn>=0.22 in /Users/antontravkin/Sites/python_rtk/.venv/lib/python3.12/site-packages (from pmdarima) (1.6.1)\n",
            "Requirement already satisfied: scipy>=1.3.2 in /Users/antontravkin/Sites/python_rtk/.venv/lib/python3.12/site-packages (from pmdarima) (1.13.1)\n",
            "Requirement already satisfied: statsmodels>=0.13.2 in /Users/antontravkin/Sites/python_rtk/.venv/lib/python3.12/site-packages (from pmdarima) (0.14.4)\n",
            "Requirement already satisfied: urllib3 in /Users/antontravkin/Sites/python_rtk/.venv/lib/python3.12/site-packages (from pmdarima) (2.4.0)\n",
            "Requirement already satisfied: setuptools!=50.0.0,>=38.6.0 in /Users/antontravkin/Sites/python_rtk/.venv/lib/python3.12/site-packages (from pmdarima) (80.4.0)\n",
            "Requirement already satisfied: packaging>=17.1 in /Users/antontravkin/Sites/python_rtk/.venv/lib/python3.12/site-packages (from pmdarima) (24.2)\n",
            "Requirement already satisfied: python-dateutil>=2.8.2 in /Users/antontravkin/Sites/python_rtk/.venv/lib/python3.12/site-packages (from pandas>=0.19->pmdarima) (2.9.0.post0)\n",
            "Requirement already satisfied: pytz>=2020.1 in /Users/antontravkin/Sites/python_rtk/.venv/lib/python3.12/site-packages (from pandas>=0.19->pmdarima) (2025.2)\n",
            "Requirement already satisfied: tzdata>=2022.7 in /Users/antontravkin/Sites/python_rtk/.venv/lib/python3.12/site-packages (from pandas>=0.19->pmdarima) (2025.2)\n",
            "Requirement already satisfied: six>=1.5 in /Users/antontravkin/Sites/python_rtk/.venv/lib/python3.12/site-packages (from python-dateutil>=2.8.2->pandas>=0.19->pmdarima) (1.17.0)\n",
            "Requirement already satisfied: threadpoolctl>=3.1.0 in /Users/antontravkin/Sites/python_rtk/.venv/lib/python3.12/site-packages (from scikit-learn>=0.22->pmdarima) (3.6.0)\n",
            "Requirement already satisfied: patsy>=0.5.6 in /Users/antontravkin/Sites/python_rtk/.venv/lib/python3.12/site-packages (from statsmodels>=0.13.2->pmdarima) (1.0.1)\n",
            "Downloading pmdarima-2.0.4-cp312-cp312-macosx_11_0_arm64.whl (1.2 MB)\n",
            "\u001b[2K   \u001b[90m━━━━━━━━━━━━━━━━━━━━━━━━━━━━━━━━━━━━━━━━\u001b[0m \u001b[32m1.2/1.2 MB\u001b[0m \u001b[31m2.1 MB/s\u001b[0m eta \u001b[36m0:00:00\u001b[0ma \u001b[36m0:00:01\u001b[0m\n",
            "\u001b[?25hDownloading cython-3.1.2-cp312-cp312-macosx_11_0_arm64.whl (2.8 MB)\n",
            "\u001b[2K   \u001b[90m━━━━━━━━━━━━━━━━━━━━━━━━━━━━━━━━━━━━━━━━\u001b[0m \u001b[32m2.8/2.8 MB\u001b[0m \u001b[31m4.7 MB/s\u001b[0m eta \u001b[36m0:00:00\u001b[0ma \u001b[36m0:00:01\u001b[0m\n",
            "\u001b[?25hInstalling collected packages: Cython, pmdarima\n",
            "\u001b[2K   \u001b[90m━━━━━━━━━━━━━━━━━━━━━━━━━━━━━━━━━━━━━━━━\u001b[0m \u001b[32m2/2\u001b[0m [pmdarima]\n",
            "\u001b[1A\u001b[2KSuccessfully installed Cython-3.1.2 pmdarima-2.0.4\n"
          ]
        }
      ],
      "source": [
        "# установка дополнительной библиотеки\n",
        "!pip install pmdarima"
      ]
    },
    {
      "cell_type": "code",
      "execution_count": 2,
      "metadata": {
        "id": "unRyVUGuvt-O"
      },
      "outputs": [],
      "source": [
        "import warnings\n",
        "warnings.simplefilter(action='ignore', category=FutureWarning)\n",
        "import pandas as pd # работа с таблицами\n",
        "import numpy as np # математические вычисления\n",
        "from scipy import stats # статистические методы\n",
        "import matplotlib\n",
        "import matplotlib.pyplot as plt # визуализация данных\n",
        "\n",
        "\n",
        "from statsmodels.tsa.stattools import adfuller # тест Дики-Фуллера\n",
        "\n",
        "\n",
        "from pmdarima import auto_arima # автоматический подбор параметров"
      ]
    },
    {
      "cell_type": "markdown",
      "metadata": {
        "id": "aiA-R90MvCF9"
      },
      "source": [
        "# <font color='#11a642' size='6'> Загрузка данных\n"
      ]
    },
    {
      "cell_type": "code",
      "execution_count": 3,
      "metadata": {
        "colab": {
          "base_uri": "https://localhost:8080/"
        },
        "id": "2e3DRmX-u6wT",
        "outputId": "fc830d8f-e100-4186-846e-a2cace24075e"
      },
      "outputs": [
        {
          "name": "stdout",
          "output_type": "stream",
          "text": [
            "Downloading...\n",
            "From: https://drive.google.com/uc?id=1XFoZrWweyXM4kO9JWitNyAp50yySiMx_\n",
            "To: /Users/antontravkin/Sites/python_rtk/part 2/Lesson 32 Аттестация 2/Electric_Production.csv\n",
            "100%|██████████████████████████████████████| 7.32k/7.32k [00:00<00:00, 1.15MB/s]\n"
          ]
        }
      ],
      "source": [
        "!gdown 1XFoZrWweyXM4kO9JWitNyAp50yySiMx_"
      ]
    },
    {
      "cell_type": "code",
      "execution_count": 4,
      "metadata": {
        "id": "EPLXT3psd_VU"
      },
      "outputs": [],
      "source": [
        "try:\n",
        "  df = pd.read_csv('Electric_Production.csv')\n",
        "except:\n",
        "  df = pd.read_csv('/content/Electric_Production.csv')"
      ]
    },
    {
      "cell_type": "code",
      "execution_count": 5,
      "metadata": {
        "colab": {
          "base_uri": "https://localhost:8080/",
          "height": 206
        },
        "id": "zEPGmIRHeKfE",
        "outputId": "13199401-5615-42c1-a8d1-98fb8ee09d7d"
      },
      "outputs": [
        {
          "data": {
            "text/html": [
              "<div>\n",
              "<style scoped>\n",
              "    .dataframe tbody tr th:only-of-type {\n",
              "        vertical-align: middle;\n",
              "    }\n",
              "\n",
              "    .dataframe tbody tr th {\n",
              "        vertical-align: top;\n",
              "    }\n",
              "\n",
              "    .dataframe thead th {\n",
              "        text-align: right;\n",
              "    }\n",
              "</style>\n",
              "<table border=\"1\" class=\"dataframe\">\n",
              "  <thead>\n",
              "    <tr style=\"text-align: right;\">\n",
              "      <th></th>\n",
              "      <th>DATE</th>\n",
              "      <th>IPG2211A2N</th>\n",
              "    </tr>\n",
              "  </thead>\n",
              "  <tbody>\n",
              "    <tr>\n",
              "      <th>0</th>\n",
              "      <td>1/1/1985</td>\n",
              "      <td>72.5052</td>\n",
              "    </tr>\n",
              "    <tr>\n",
              "      <th>1</th>\n",
              "      <td>2/1/1985</td>\n",
              "      <td>70.6720</td>\n",
              "    </tr>\n",
              "    <tr>\n",
              "      <th>2</th>\n",
              "      <td>3/1/1985</td>\n",
              "      <td>62.4502</td>\n",
              "    </tr>\n",
              "    <tr>\n",
              "      <th>3</th>\n",
              "      <td>4/1/1985</td>\n",
              "      <td>57.4714</td>\n",
              "    </tr>\n",
              "    <tr>\n",
              "      <th>4</th>\n",
              "      <td>5/1/1985</td>\n",
              "      <td>55.3151</td>\n",
              "    </tr>\n",
              "  </tbody>\n",
              "</table>\n",
              "</div>"
            ],
            "text/plain": [
              "       DATE  IPG2211A2N\n",
              "0  1/1/1985     72.5052\n",
              "1  2/1/1985     70.6720\n",
              "2  3/1/1985     62.4502\n",
              "3  4/1/1985     57.4714\n",
              "4  5/1/1985     55.3151"
            ]
          },
          "execution_count": 5,
          "metadata": {},
          "output_type": "execute_result"
        }
      ],
      "source": [
        "df.head()"
      ]
    },
    {
      "cell_type": "markdown",
      "metadata": {
        "id": "j0mQVQAG4Hvb"
      },
      "source": [
        "# <font color='#11a642' size='6'> Провести разведочный анализ данных (EDA)"
      ]
    },
    {
      "cell_type": "markdown",
      "metadata": {
        "id": "kvgXZ_1C6jFH"
      },
      "source": [
        "- Анализ пропусков и выбросов\n"
      ]
    },
    {
      "cell_type": "code",
      "execution_count": 6,
      "metadata": {
        "id": "5UljiSaQ6k_r"
      },
      "outputs": [],
      "source": [
        "# ваш код"
      ]
    },
    {
      "cell_type": "markdown",
      "metadata": {
        "id": "bvhVO_Sl7RH3"
      },
      "source": [
        "# <font color='#11a642' size='6'> Провести анализ временного ряда"
      ]
    },
    {
      "cell_type": "markdown",
      "metadata": {
        "id": "J2XWTTVl_Tak"
      },
      "source": [
        "## <font color='#11a642' size='5'>Автокорреляция"
      ]
    },
    {
      "cell_type": "code",
      "execution_count": 7,
      "metadata": {
        "id": "89IF1f8K_VCC"
      },
      "outputs": [],
      "source": [
        "# ваш код"
      ]
    },
    {
      "cell_type": "markdown",
      "metadata": {
        "id": "Y3cYAAQH_Vdz"
      },
      "source": [
        "## <font color='#11a642' size='5'>Частичная автокорреляция"
      ]
    },
    {
      "cell_type": "code",
      "execution_count": 8,
      "metadata": {
        "id": "3q18iKTs_WkC"
      },
      "outputs": [],
      "source": [
        "# ваш код"
      ]
    },
    {
      "cell_type": "markdown",
      "metadata": {
        "id": "CnibZvco7i1o"
      },
      "source": [
        "# <font color='#11a642' size='6'> Провести тест на стационарность ряда"
      ]
    },
    {
      "cell_type": "code",
      "execution_count": 9,
      "metadata": {
        "id": "ijTjE077cYTK"
      },
      "outputs": [],
      "source": [
        "def adf_test(series,title=''):\n",
        "  '''\n",
        "  тест Дики-Фуллера\n",
        "  0 гипотеза: ряд данных не стационарен\n",
        "  альтернативная гипотеза: ряд данных стационарен\n",
        "  Понятие стационарного временного ряда означает, что его среднее значение не изменяется во времени, т. е. временной ряд не имеет тренда\n",
        "  @param series - значения ряда\n",
        "  @param title - заголовок ряда\n",
        "  '''\n",
        "\n",
        "  result = adfuller(series.dropna(),autolag='AIC')\n",
        "\n",
        "  labels = ['ADF тест','p-value','# lags used','# наблюдения']\n",
        "  out = pd.Series(result[0:4],index=labels)\n",
        "\n",
        "  for key,val in result[4].items():\n",
        "      out[f'критическое значение ({key})']=val\n",
        "\n",
        "  print(out.to_string())\n",
        "\n",
        "  if result[1] <= 0.05:\n",
        "      print(\"Сильные доказательства против нулевой гипотезы\")\n",
        "      print(\"Отменяем 0 гипотезу\")\n",
        "      print(\"Данные стационарны\")\n",
        "  else:\n",
        "      print(\"Слабые доказательства против нулевой гипотезы\")\n",
        "      print(\"Не отменяем 0 гипотезу\")\n",
        "      print(\"Данные не стационарны\")"
      ]
    },
    {
      "cell_type": "code",
      "execution_count": 10,
      "metadata": {
        "colab": {
          "base_uri": "https://localhost:8080/"
        },
        "id": "k2bxUSr2eSeF",
        "outputId": "7d4632ad-22b4-4b43-f16c-c4c96169469e"
      },
      "outputs": [
        {
          "name": "stdout",
          "output_type": "stream",
          "text": [
            "ADF тест                       -2.256990\n",
            "p-value                         0.186215\n",
            "# lags used                    15.000000\n",
            "# наблюдения                  381.000000\n",
            "критическое значение (1%)      -3.447631\n",
            "критическое значение (5%)      -2.869156\n",
            "критическое значение (10%)     -2.570827\n",
            "Слабые доказательства против нулевой гипотезы\n",
            "Не отменяем 0 гипотезу\n",
            "Данные не стационарны\n"
          ]
        }
      ],
      "source": [
        "adf_test(df['IPG2211A2N'])"
      ]
    },
    {
      "cell_type": "code",
      "execution_count": 11,
      "metadata": {
        "id": "0PNOxlja_emy"
      },
      "outputs": [],
      "source": [
        "# ваш код"
      ]
    },
    {
      "cell_type": "markdown",
      "metadata": {
        "id": "cVOBFr1BLmAe"
      },
      "source": [
        "Сделать вывод о стационарности:"
      ]
    },
    {
      "cell_type": "markdown",
      "metadata": {
        "id": "qCEOEwAB_ns0"
      },
      "source": [
        "# <font color='#11a642' size='6'> Разделить данные на тестовую и тренировочную выборку"
      ]
    },
    {
      "cell_type": "code",
      "execution_count": 12,
      "metadata": {
        "id": "4_hG5z3W_nFK"
      },
      "outputs": [],
      "source": [
        "# ваш код"
      ]
    },
    {
      "cell_type": "markdown",
      "metadata": {
        "id": "K8m6XLiY_uRF"
      },
      "source": [
        "# <font color='#11a642' size='6'> Модель SARIMA\n",
        "Автоматически подобрать параметры для ряда с помощью auto_arima. Выбрать оптимальные значения"
      ]
    },
    {
      "cell_type": "code",
      "execution_count": 13,
      "metadata": {
        "id": "s8PHTwfu_tKC"
      },
      "outputs": [],
      "source": [
        "# ваш код"
      ]
    },
    {
      "cell_type": "markdown",
      "metadata": {
        "id": "yKkZ38RcLpT3"
      },
      "source": [
        "Ваш вывод (сравнить значения параметров):"
      ]
    },
    {
      "cell_type": "markdown",
      "metadata": {
        "id": "LzhfBUC_cg5a"
      },
      "source": [
        "# <font color='#11a642' size='6'> Модель PROPHET"
      ]
    },
    {
      "cell_type": "code",
      "execution_count": 14,
      "metadata": {
        "id": "aEkD4J-McmkW"
      },
      "outputs": [],
      "source": [
        "# ваш код"
      ]
    }
  ],
  "metadata": {
    "colab": {
      "provenance": []
    },
    "kernelspec": {
      "display_name": ".venv",
      "language": "python",
      "name": "python3"
    },
    "language_info": {
      "codemirror_mode": {
        "name": "ipython",
        "version": 3
      },
      "file_extension": ".py",
      "mimetype": "text/x-python",
      "name": "python",
      "nbconvert_exporter": "python",
      "pygments_lexer": "ipython3",
      "version": "3.12.0"
    }
  },
  "nbformat": 4,
  "nbformat_minor": 0
}
