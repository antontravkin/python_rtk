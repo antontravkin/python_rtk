<!DOCTYPE html>
<html lang="ru">
  <head>
    <meta charset="utf-8" />
    <meta name="viewport" content="width=device-width, initial-scale=1" />
    <meta name="theme-color" media="(prefers-color-scheme: light)" content="#f3f4f9" />
    <meta name="background-color" media="(prefers-color-scheme: light)" content="#f3f4f9" />
    <meta name="theme-color" media="(prefers-color-scheme: dark)" content="#1b1d29" />
    <meta name="background-color" media="(prefers-color-scheme: dark)" content="#1b1d29" />
    <meta name="description" content="Электронная платформа обучения Университета Иннополис" />
    <link rel="stylesheet" href="/initial.css" />
    <link rel="manifest" href="/manifest.json" />
    <title>ЭПО УИ</title>
    <script type="module" crossorigin src="/assets/index-wzNjsZ24.js"></script>
    <link rel="modulepreload" crossorigin href="/assets/vendor-Dr0rkNYZ.js">
    <link rel="modulepreload" crossorigin href="/assets/common-B3Dcfr_1.js">
    <link rel="modulepreload" crossorigin href="/assets/pages-guest-BnaHwwJ-.js">
    <link rel="modulepreload" crossorigin href="/assets/pages-instructor-DD0Fy0Yg.js">
    <link rel="modulepreload" crossorigin href="/assets/pages-student-Bx-bxlG9.js">
    <link rel="stylesheet" crossorigin href="/assets/vendor-BritPRsO.css">
    <link rel="stylesheet" crossorigin href="/assets/common-DKx56VCl.css">
    <link rel="stylesheet" crossorigin href="/assets/pages-guest-t6PZhtrh.css">
    <link rel="stylesheet" crossorigin href="/assets/pages-instructor-DLJrLYUX.css">
    <link rel="stylesheet" crossorigin href="/assets/pages-student-DQIhP-QA.css">
    <link rel="stylesheet" crossorigin href="/assets/index-CWSC9YY3.css">
  </head>

  <body>
    <noscript>You need to enable JavaScript to run this app.</noscript>
    <div id="root"></div>

    <!-- Yandex.Metrika counter -->
    <script type="text/javascript">
      (function (m, e, t, r, i, k, a) {
        m[i] =
          m[i] ||
          function () {
            (m[i].a = m[i].a || []).push(arguments);
          };
        m[i].l = 1 * new Date();
        for (var j = 0; j < document.scripts.length; j++) {
          if (document.scripts[j].src === r) {
            return;
          }
        }
        (k = e.createElement(t)), (a = e.getElementsByTagName(t)[0]), (k.async = 1), (k.src = r), a.parentNode.insertBefore(k, a);
      })(window, document, 'script', 'https://mc.yandex.ru/metrika/tag.js', 'ym');

      ym(97279384, 'init', {
        clickmap: true,
        trackLinks: true,
        accurateTrackBounce: true,
        webvisor: true,
        ecommerce: 'dataLayer'
      });
    </script>
    <noscript>
      <div>
        <img src="https://mc.yandex.ru/watch/97279384" style="position: absolute; left: -9999px" alt="" />
      </div>
    </noscript>
    <!-- /Yandex.Metrika counter -->
  </body>
</html>
