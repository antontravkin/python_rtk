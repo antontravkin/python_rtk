{
  "nbformat": 4,
  "nbformat_minor": 0,
  "metadata": {
    "colab": {
      "provenance": []
    },
    "kernelspec": {
      "name": "python3",
      "display_name": "Python 3"
    },
    "language_info": {
      "name": "python"
    }
  },
  "cells": [
    {
      "cell_type": "markdown",
      "source": [
        "<font color='green' size='7'>**Домашняя работа**</font>  \n",
        "<font color='#11a642' size='6'>**Тема: Машинное обучение. Ансамбли моделей**</font>  \n",
        "<font size='5'>**Задание:**</font>  \n",
        "\n",
        "Домашняя работа основана на данных конкурса https://www.kaggle.com/competitions/playground-series-s5e5  \n",
        "\n",
        "**Что нужно сделать:**\n",
        "\n",
        "1. Загрузить данные c конкурса  https://www.kaggle.com/competitions/playground-series-s5e5\n",
        "2. Построить ансамбли моделей\n",
        "\n",
        "\n",
        "**Форма загрузки на платформу:** строго файл ipynb. Перед загрузкой еще раз запустите ноутбук, убедившись, что все работает корректно без ошибок\n",
        "\n",
        "\n",
        "\n",
        "\n"
      ],
      "metadata": {
        "id": "jZOR9Y3YtJd6"
      }
    },
    {
      "cell_type": "markdown",
      "source": [
        "# <font color='#11a642' size='6'> **Импорт и установка библиотек**"
      ],
      "metadata": {
        "id": "zSuKyjSxvt0D"
      }
    },
    {
      "cell_type": "code",
      "source": [
        "import pandas as pd"
      ],
      "metadata": {
        "id": "unRyVUGuvt-O"
      },
      "execution_count": null,
      "outputs": []
    },
    {
      "cell_type": "markdown",
      "source": [
        "# <font color='#11a642' size='6'> **Загрузка данных**"
      ],
      "metadata": {
        "id": "aiA-R90MvCF9"
      }
    },
    {
      "cell_type": "code",
      "source": [
        "!gdown 1_GGhdAONTOpW3HQcM665rk3CEl7A6r4C"
      ],
      "metadata": {
        "id": "2e3DRmX-u6wT",
        "colab": {
          "base_uri": "https://localhost:8080/"
        },
        "outputId": "deea7bc4-a748-4404-c4f5-e49dfe2f6765"
      },
      "execution_count": null,
      "outputs": [
        {
          "output_type": "stream",
          "name": "stdout",
          "text": [
            "Downloading...\n",
            "From: https://drive.google.com/uc?id=1_GGhdAONTOpW3HQcM665rk3CEl7A6r4C\n",
            "To: /content/train_сalories.csv\n",
            "100% 35.5M/35.5M [00:00<00:00, 54.8MB/s]\n"
          ]
        }
      ]
    },
    {
      "cell_type": "code",
      "source": [
        "try:\n",
        "  df = pd.read_csv('/content/train_сalories.csv')\n",
        "except:\n",
        "  df = pd.read_csv('train_сalories.csv')"
      ],
      "metadata": {
        "id": "P1uEkXjJu6zb"
      },
      "execution_count": null,
      "outputs": []
    },
    {
      "cell_type": "code",
      "source": [
        "# на этих данных дальше необходимо разработать модель\n",
        "df.head()"
      ],
      "metadata": {
        "colab": {
          "base_uri": "https://localhost:8080/",
          "height": 206
        },
        "id": "009eOyTLu68F",
        "outputId": "ac070554-8e7c-4a9e-b45b-c91adde9940e"
      },
      "execution_count": null,
      "outputs": [
        {
          "output_type": "execute_result",
          "data": {
            "text/plain": [
              "   id     Sex  Age  Height  Weight  Duration  Heart_Rate  Body_Temp  Calories\n",
              "0   0    male   36   189.0    82.0      26.0       101.0       41.0     150.0\n",
              "1   1  female   64   163.0    60.0       8.0        85.0       39.7      34.0\n",
              "2   2  female   51   161.0    64.0       7.0        84.0       39.8      29.0\n",
              "3   3    male   20   192.0    90.0      25.0       105.0       40.7     140.0\n",
              "4   4  female   38   166.0    61.0      25.0       102.0       40.6     146.0"
            ],
            "text/html": [
              "\n",
              "  <div id=\"df-5b369925-1307-46d9-9881-373117687855\" class=\"colab-df-container\">\n",
              "    <div>\n",
              "<style scoped>\n",
              "    .dataframe tbody tr th:only-of-type {\n",
              "        vertical-align: middle;\n",
              "    }\n",
              "\n",
              "    .dataframe tbody tr th {\n",
              "        vertical-align: top;\n",
              "    }\n",
              "\n",
              "    .dataframe thead th {\n",
              "        text-align: right;\n",
              "    }\n",
              "</style>\n",
              "<table border=\"1\" class=\"dataframe\">\n",
              "  <thead>\n",
              "    <tr style=\"text-align: right;\">\n",
              "      <th></th>\n",
              "      <th>id</th>\n",
              "      <th>Sex</th>\n",
              "      <th>Age</th>\n",
              "      <th>Height</th>\n",
              "      <th>Weight</th>\n",
              "      <th>Duration</th>\n",
              "      <th>Heart_Rate</th>\n",
              "      <th>Body_Temp</th>\n",
              "      <th>Calories</th>\n",
              "    </tr>\n",
              "  </thead>\n",
              "  <tbody>\n",
              "    <tr>\n",
              "      <th>0</th>\n",
              "      <td>0</td>\n",
              "      <td>male</td>\n",
              "      <td>36</td>\n",
              "      <td>189.0</td>\n",
              "      <td>82.0</td>\n",
              "      <td>26.0</td>\n",
              "      <td>101.0</td>\n",
              "      <td>41.0</td>\n",
              "      <td>150.0</td>\n",
              "    </tr>\n",
              "    <tr>\n",
              "      <th>1</th>\n",
              "      <td>1</td>\n",
              "      <td>female</td>\n",
              "      <td>64</td>\n",
              "      <td>163.0</td>\n",
              "      <td>60.0</td>\n",
              "      <td>8.0</td>\n",
              "      <td>85.0</td>\n",
              "      <td>39.7</td>\n",
              "      <td>34.0</td>\n",
              "    </tr>\n",
              "    <tr>\n",
              "      <th>2</th>\n",
              "      <td>2</td>\n",
              "      <td>female</td>\n",
              "      <td>51</td>\n",
              "      <td>161.0</td>\n",
              "      <td>64.0</td>\n",
              "      <td>7.0</td>\n",
              "      <td>84.0</td>\n",
              "      <td>39.8</td>\n",
              "      <td>29.0</td>\n",
              "    </tr>\n",
              "    <tr>\n",
              "      <th>3</th>\n",
              "      <td>3</td>\n",
              "      <td>male</td>\n",
              "      <td>20</td>\n",
              "      <td>192.0</td>\n",
              "      <td>90.0</td>\n",
              "      <td>25.0</td>\n",
              "      <td>105.0</td>\n",
              "      <td>40.7</td>\n",
              "      <td>140.0</td>\n",
              "    </tr>\n",
              "    <tr>\n",
              "      <th>4</th>\n",
              "      <td>4</td>\n",
              "      <td>female</td>\n",
              "      <td>38</td>\n",
              "      <td>166.0</td>\n",
              "      <td>61.0</td>\n",
              "      <td>25.0</td>\n",
              "      <td>102.0</td>\n",
              "      <td>40.6</td>\n",
              "      <td>146.0</td>\n",
              "    </tr>\n",
              "  </tbody>\n",
              "</table>\n",
              "</div>\n",
              "    <div class=\"colab-df-buttons\">\n",
              "\n",
              "  <div class=\"colab-df-container\">\n",
              "    <button class=\"colab-df-convert\" onclick=\"convertToInteractive('df-5b369925-1307-46d9-9881-373117687855')\"\n",
              "            title=\"Convert this dataframe to an interactive table.\"\n",
              "            style=\"display:none;\">\n",
              "\n",
              "  <svg xmlns=\"http://www.w3.org/2000/svg\" height=\"24px\" viewBox=\"0 -960 960 960\">\n",
              "    <path d=\"M120-120v-720h720v720H120Zm60-500h600v-160H180v160Zm220 220h160v-160H400v160Zm0 220h160v-160H400v160ZM180-400h160v-160H180v160Zm440 0h160v-160H620v160ZM180-180h160v-160H180v160Zm440 0h160v-160H620v160Z\"/>\n",
              "  </svg>\n",
              "    </button>\n",
              "\n",
              "  <style>\n",
              "    .colab-df-container {\n",
              "      display:flex;\n",
              "      gap: 12px;\n",
              "    }\n",
              "\n",
              "    .colab-df-convert {\n",
              "      background-color: #E8F0FE;\n",
              "      border: none;\n",
              "      border-radius: 50%;\n",
              "      cursor: pointer;\n",
              "      display: none;\n",
              "      fill: #1967D2;\n",
              "      height: 32px;\n",
              "      padding: 0 0 0 0;\n",
              "      width: 32px;\n",
              "    }\n",
              "\n",
              "    .colab-df-convert:hover {\n",
              "      background-color: #E2EBFA;\n",
              "      box-shadow: 0px 1px 2px rgba(60, 64, 67, 0.3), 0px 1px 3px 1px rgba(60, 64, 67, 0.15);\n",
              "      fill: #174EA6;\n",
              "    }\n",
              "\n",
              "    .colab-df-buttons div {\n",
              "      margin-bottom: 4px;\n",
              "    }\n",
              "\n",
              "    [theme=dark] .colab-df-convert {\n",
              "      background-color: #3B4455;\n",
              "      fill: #D2E3FC;\n",
              "    }\n",
              "\n",
              "    [theme=dark] .colab-df-convert:hover {\n",
              "      background-color: #434B5C;\n",
              "      box-shadow: 0px 1px 3px 1px rgba(0, 0, 0, 0.15);\n",
              "      filter: drop-shadow(0px 1px 2px rgba(0, 0, 0, 0.3));\n",
              "      fill: #FFFFFF;\n",
              "    }\n",
              "  </style>\n",
              "\n",
              "    <script>\n",
              "      const buttonEl =\n",
              "        document.querySelector('#df-5b369925-1307-46d9-9881-373117687855 button.colab-df-convert');\n",
              "      buttonEl.style.display =\n",
              "        google.colab.kernel.accessAllowed ? 'block' : 'none';\n",
              "\n",
              "      async function convertToInteractive(key) {\n",
              "        const element = document.querySelector('#df-5b369925-1307-46d9-9881-373117687855');\n",
              "        const dataTable =\n",
              "          await google.colab.kernel.invokeFunction('convertToInteractive',\n",
              "                                                    [key], {});\n",
              "        if (!dataTable) return;\n",
              "\n",
              "        const docLinkHtml = 'Like what you see? Visit the ' +\n",
              "          '<a target=\"_blank\" href=https://colab.research.google.com/notebooks/data_table.ipynb>data table notebook</a>'\n",
              "          + ' to learn more about interactive tables.';\n",
              "        element.innerHTML = '';\n",
              "        dataTable['output_type'] = 'display_data';\n",
              "        await google.colab.output.renderOutput(dataTable, element);\n",
              "        const docLink = document.createElement('div');\n",
              "        docLink.innerHTML = docLinkHtml;\n",
              "        element.appendChild(docLink);\n",
              "      }\n",
              "    </script>\n",
              "  </div>\n",
              "\n",
              "\n",
              "    <div id=\"df-527d1871-a214-4227-815a-7fa57b56ff75\">\n",
              "      <button class=\"colab-df-quickchart\" onclick=\"quickchart('df-527d1871-a214-4227-815a-7fa57b56ff75')\"\n",
              "                title=\"Suggest charts\"\n",
              "                style=\"display:none;\">\n",
              "\n",
              "<svg xmlns=\"http://www.w3.org/2000/svg\" height=\"24px\"viewBox=\"0 0 24 24\"\n",
              "     width=\"24px\">\n",
              "    <g>\n",
              "        <path d=\"M19 3H5c-1.1 0-2 .9-2 2v14c0 1.1.9 2 2 2h14c1.1 0 2-.9 2-2V5c0-1.1-.9-2-2-2zM9 17H7v-7h2v7zm4 0h-2V7h2v10zm4 0h-2v-4h2v4z\"/>\n",
              "    </g>\n",
              "</svg>\n",
              "      </button>\n",
              "\n",
              "<style>\n",
              "  .colab-df-quickchart {\n",
              "      --bg-color: #E8F0FE;\n",
              "      --fill-color: #1967D2;\n",
              "      --hover-bg-color: #E2EBFA;\n",
              "      --hover-fill-color: #174EA6;\n",
              "      --disabled-fill-color: #AAA;\n",
              "      --disabled-bg-color: #DDD;\n",
              "  }\n",
              "\n",
              "  [theme=dark] .colab-df-quickchart {\n",
              "      --bg-color: #3B4455;\n",
              "      --fill-color: #D2E3FC;\n",
              "      --hover-bg-color: #434B5C;\n",
              "      --hover-fill-color: #FFFFFF;\n",
              "      --disabled-bg-color: #3B4455;\n",
              "      --disabled-fill-color: #666;\n",
              "  }\n",
              "\n",
              "  .colab-df-quickchart {\n",
              "    background-color: var(--bg-color);\n",
              "    border: none;\n",
              "    border-radius: 50%;\n",
              "    cursor: pointer;\n",
              "    display: none;\n",
              "    fill: var(--fill-color);\n",
              "    height: 32px;\n",
              "    padding: 0;\n",
              "    width: 32px;\n",
              "  }\n",
              "\n",
              "  .colab-df-quickchart:hover {\n",
              "    background-color: var(--hover-bg-color);\n",
              "    box-shadow: 0 1px 2px rgba(60, 64, 67, 0.3), 0 1px 3px 1px rgba(60, 64, 67, 0.15);\n",
              "    fill: var(--button-hover-fill-color);\n",
              "  }\n",
              "\n",
              "  .colab-df-quickchart-complete:disabled,\n",
              "  .colab-df-quickchart-complete:disabled:hover {\n",
              "    background-color: var(--disabled-bg-color);\n",
              "    fill: var(--disabled-fill-color);\n",
              "    box-shadow: none;\n",
              "  }\n",
              "\n",
              "  .colab-df-spinner {\n",
              "    border: 2px solid var(--fill-color);\n",
              "    border-color: transparent;\n",
              "    border-bottom-color: var(--fill-color);\n",
              "    animation:\n",
              "      spin 1s steps(1) infinite;\n",
              "  }\n",
              "\n",
              "  @keyframes spin {\n",
              "    0% {\n",
              "      border-color: transparent;\n",
              "      border-bottom-color: var(--fill-color);\n",
              "      border-left-color: var(--fill-color);\n",
              "    }\n",
              "    20% {\n",
              "      border-color: transparent;\n",
              "      border-left-color: var(--fill-color);\n",
              "      border-top-color: var(--fill-color);\n",
              "    }\n",
              "    30% {\n",
              "      border-color: transparent;\n",
              "      border-left-color: var(--fill-color);\n",
              "      border-top-color: var(--fill-color);\n",
              "      border-right-color: var(--fill-color);\n",
              "    }\n",
              "    40% {\n",
              "      border-color: transparent;\n",
              "      border-right-color: var(--fill-color);\n",
              "      border-top-color: var(--fill-color);\n",
              "    }\n",
              "    60% {\n",
              "      border-color: transparent;\n",
              "      border-right-color: var(--fill-color);\n",
              "    }\n",
              "    80% {\n",
              "      border-color: transparent;\n",
              "      border-right-color: var(--fill-color);\n",
              "      border-bottom-color: var(--fill-color);\n",
              "    }\n",
              "    90% {\n",
              "      border-color: transparent;\n",
              "      border-bottom-color: var(--fill-color);\n",
              "    }\n",
              "  }\n",
              "</style>\n",
              "\n",
              "      <script>\n",
              "        async function quickchart(key) {\n",
              "          const quickchartButtonEl =\n",
              "            document.querySelector('#' + key + ' button');\n",
              "          quickchartButtonEl.disabled = true;  // To prevent multiple clicks.\n",
              "          quickchartButtonEl.classList.add('colab-df-spinner');\n",
              "          try {\n",
              "            const charts = await google.colab.kernel.invokeFunction(\n",
              "                'suggestCharts', [key], {});\n",
              "          } catch (error) {\n",
              "            console.error('Error during call to suggestCharts:', error);\n",
              "          }\n",
              "          quickchartButtonEl.classList.remove('colab-df-spinner');\n",
              "          quickchartButtonEl.classList.add('colab-df-quickchart-complete');\n",
              "        }\n",
              "        (() => {\n",
              "          let quickchartButtonEl =\n",
              "            document.querySelector('#df-527d1871-a214-4227-815a-7fa57b56ff75 button');\n",
              "          quickchartButtonEl.style.display =\n",
              "            google.colab.kernel.accessAllowed ? 'block' : 'none';\n",
              "        })();\n",
              "      </script>\n",
              "    </div>\n",
              "    </div>\n",
              "  </div>\n"
            ],
            "application/vnd.google.colaboratory.intrinsic+json": {
              "type": "dataframe",
              "variable_name": "df"
            }
          },
          "metadata": {},
          "execution_count": 7
        }
      ]
    },
    {
      "cell_type": "markdown",
      "source": [
        "## <font color='#11a642' size='5'> Роли для переменных"
      ],
      "metadata": {
        "id": "lipLqCn7HvND"
      }
    },
    {
      "cell_type": "code",
      "source": [
        "target = 'Calories'\n",
        "cat_features = # ваш код\n",
        "num_features = # ваш код"
      ],
      "metadata": {
        "id": "VPoB-uzaH23T"
      },
      "execution_count": null,
      "outputs": []
    },
    {
      "cell_type": "markdown",
      "source": [
        "# <font color='#11a642' size='6'> **Разведочный анализ данных**"
      ],
      "metadata": {
        "id": "j0mQVQAG4Hvb"
      }
    },
    {
      "cell_type": "markdown",
      "source": [
        "<font color='#11a642' size='5'>\n",
        "Оцените размер вашего датасета  \n",
        "\n",
        "1.   Сколько ГБ ваш датасет\n",
        "2.   Сколько строк и столбцов\n",
        "\n"
      ],
      "metadata": {
        "id": "3sj3k-rB4L0J"
      }
    },
    {
      "cell_type": "code",
      "source": [
        "# Сколько ГБ ваш датасет\n",
        "# ваш код"
      ],
      "metadata": {
        "id": "yU6WkgQ7u6-z"
      },
      "execution_count": null,
      "outputs": []
    },
    {
      "cell_type": "markdown",
      "source": [
        "<font color='#11a642' size='5'>\n",
        "Рекомендуется:\n",
        "\n",
        "- посмотреть на `df.info()`, `df.describe()`\n",
        "- визуализировать распределения целевой переменной и признаков (гистограммы, boxplot)\n",
        "- посмотреть на корреляции (`df.corr()`)\n",
        "- проверить пропуски"
      ],
      "metadata": {
        "id": "FxJ2YY9S4CkV"
      }
    },
    {
      "cell_type": "code",
      "source": [
        "# ваш код"
      ],
      "metadata": {
        "id": "JG6g0Gfa57EZ"
      },
      "execution_count": null,
      "outputs": []
    },
    {
      "cell_type": "markdown",
      "source": [
        "# <font color='#11a642' size='6'> **Разделите данные на трейн и тест**"
      ],
      "metadata": {
        "id": "cd-lxD1y6v0Q"
      }
    },
    {
      "cell_type": "code",
      "source": [
        "# ваш код"
      ],
      "metadata": {
        "id": "3fHwY-2J7PXr"
      },
      "execution_count": null,
      "outputs": []
    },
    {
      "cell_type": "markdown",
      "source": [
        "# <font color='#11a642' size='6'> **Построение моделей**"
      ],
      "metadata": {
        "id": "CnibZvco7i1o"
      }
    },
    {
      "cell_type": "markdown",
      "source": [
        "## <font color='#11a642' size='5'> Построение модели **Random Forest**. Гиперпараметры подберите либо вручную, либо с помощью GridSearchCV или RandomizedSearchCV\n"
      ],
      "metadata": {
        "id": "rrow0r8B7rEa"
      }
    },
    {
      "cell_type": "markdown",
      "source": [
        "- необходимо ли обрабатывать категориальные признаки заранее?\n",
        "- необходимо ли обрабатывать пропуски?"
      ],
      "metadata": {
        "id": "lxWLcCFwXzGc"
      }
    },
    {
      "cell_type": "code",
      "source": [
        "# ваш код"
      ],
      "metadata": {
        "id": "VCOomVx_7wGJ"
      },
      "execution_count": null,
      "outputs": []
    },
    {
      "cell_type": "markdown",
      "source": [
        "## <font color='#11a642' size='5'> Построение модели бустинга **XGBoost**. Гиперпараметры подберите либо вручную, либо с помощью GridSearchCV или RandomizedSearchCV\n"
      ],
      "metadata": {
        "id": "sS8enPrk7wP7"
      }
    },
    {
      "cell_type": "markdown",
      "source": [
        "- необходимо ли обрабатывать категориальные признаки заранее?\n",
        "- необходимо ли обрабатывать пропуски?"
      ],
      "metadata": {
        "id": "aCWHzHHYXyYd"
      }
    },
    {
      "cell_type": "code",
      "source": [
        "# ваш код"
      ],
      "metadata": {
        "id": "TyKuh45f8Ff3"
      },
      "execution_count": null,
      "outputs": []
    },
    {
      "cell_type": "markdown",
      "source": [
        "## <font color='#11a642' size='5'> Построение модели бустинга **LightGBM**. Гиперпараметры подберите либо вручную, либо с помощью GridSearchCV или RandomizedSearchCV\n"
      ],
      "metadata": {
        "id": "e93XQW3aW8VG"
      }
    },
    {
      "cell_type": "markdown",
      "source": [
        "- необходимо ли обрабатывать категориальные признаки заранее?\n",
        "- необходимо ли обрабатывать пропуски?"
      ],
      "metadata": {
        "id": "sjytc2azXxzl"
      }
    },
    {
      "cell_type": "code",
      "source": [
        "# ваш код"
      ],
      "metadata": {
        "id": "S1qxGRN_W7sU"
      },
      "execution_count": null,
      "outputs": []
    },
    {
      "cell_type": "markdown",
      "source": [
        "## <font color='#11a642' size='5'> Построение модели бустинга **Catboost**. Гиперпараметры подберите либо вручную, либо с помощью GridSearchCV или RandomizedSearchCV\n"
      ],
      "metadata": {
        "id": "T8H_vpiTXBqv"
      }
    },
    {
      "cell_type": "markdown",
      "source": [
        "- необходимо ли обрабатывать категориальные признаки заранее?\n",
        "- необходимо ли обрабатывать пропуски?"
      ],
      "metadata": {
        "id": "6nn3E55jXZLs"
      }
    },
    {
      "cell_type": "code",
      "source": [
        "# ваш код"
      ],
      "metadata": {
        "id": "hNGfYsWkXHcy"
      },
      "execution_count": null,
      "outputs": []
    },
    {
      "cell_type": "markdown",
      "source": [
        "## <font color='#11a642' size='5'> Выводы:"
      ],
      "metadata": {
        "id": "iYLNz1JrZGlz"
      }
    },
    {
      "cell_type": "markdown",
      "source": [
        "### <font color='#11a642' size='4'>\n",
        "- Какая модель оказалась более стабильной и лучше по метрикам?\n",
        "- Какая модель требует меньше дополнительных обработок данных?\n",
        "- Какую модель вы выбираете и почему?"
      ],
      "metadata": {
        "id": "WYkuh5P2Xzsi"
      }
    }
  ]
}