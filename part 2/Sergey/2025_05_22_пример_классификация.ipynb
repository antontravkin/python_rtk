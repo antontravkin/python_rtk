{
  "cells": [
    {
      "cell_type": "code",
      "execution_count": 1,
      "metadata": {
        "id": "KI6zdbK6b7um"
      },
      "outputs": [],
      "source": [
        "import seaborn as sns\n",
        "from sklearn.model_selection import train_test_split\n",
        "from sklearn.linear_model import LogisticRegression\n",
        "from sklearn.metrics import (  # Метрики оценки качества модели\n",
        "    precision_score,\n",
        "    recall_score,\n",
        "    roc_auc_score,\n",
        "    roc_curve\n",
        ")\n",
        "import matplotlib.pyplot as plt"
      ]
    },
    {
      "cell_type": "markdown",
      "metadata": {
        "id": "P-AR_HzIf05K"
      },
      "source": [
        "# классификация"
      ]
    },
    {
      "cell_type": "code",
      "execution_count": 2,
      "metadata": {
        "id": "Jtdx0rRjfBVZ"
      },
      "outputs": [],
      "source": [
        "df_titanic = sns.load_dataset('titanic')"
      ]
    },
    {
      "cell_type": "code",
      "execution_count": 3,
      "metadata": {
        "colab": {
          "base_uri": "https://localhost:8080/",
          "height": 206
        },
        "id": "PJ1-jyUgfUCU",
        "outputId": "e3bf40a3-30e4-45bf-b676-34d6eb70750d"
      },
      "outputs": [
        {
          "data": {
            "text/html": [
              "<div>\n",
              "<style scoped>\n",
              "    .dataframe tbody tr th:only-of-type {\n",
              "        vertical-align: middle;\n",
              "    }\n",
              "\n",
              "    .dataframe tbody tr th {\n",
              "        vertical-align: top;\n",
              "    }\n",
              "\n",
              "    .dataframe thead th {\n",
              "        text-align: right;\n",
              "    }\n",
              "</style>\n",
              "<table border=\"1\" class=\"dataframe\">\n",
              "  <thead>\n",
              "    <tr style=\"text-align: right;\">\n",
              "      <th></th>\n",
              "      <th>survived</th>\n",
              "      <th>pclass</th>\n",
              "      <th>sex</th>\n",
              "      <th>age</th>\n",
              "      <th>sibsp</th>\n",
              "      <th>parch</th>\n",
              "      <th>fare</th>\n",
              "      <th>embarked</th>\n",
              "      <th>class</th>\n",
              "      <th>who</th>\n",
              "      <th>adult_male</th>\n",
              "      <th>deck</th>\n",
              "      <th>embark_town</th>\n",
              "      <th>alive</th>\n",
              "      <th>alone</th>\n",
              "    </tr>\n",
              "  </thead>\n",
              "  <tbody>\n",
              "    <tr>\n",
              "      <th>0</th>\n",
              "      <td>0</td>\n",
              "      <td>3</td>\n",
              "      <td>male</td>\n",
              "      <td>22.0</td>\n",
              "      <td>1</td>\n",
              "      <td>0</td>\n",
              "      <td>7.2500</td>\n",
              "      <td>S</td>\n",
              "      <td>Third</td>\n",
              "      <td>man</td>\n",
              "      <td>True</td>\n",
              "      <td>NaN</td>\n",
              "      <td>Southampton</td>\n",
              "      <td>no</td>\n",
              "      <td>False</td>\n",
              "    </tr>\n",
              "    <tr>\n",
              "      <th>1</th>\n",
              "      <td>1</td>\n",
              "      <td>1</td>\n",
              "      <td>female</td>\n",
              "      <td>38.0</td>\n",
              "      <td>1</td>\n",
              "      <td>0</td>\n",
              "      <td>71.2833</td>\n",
              "      <td>C</td>\n",
              "      <td>First</td>\n",
              "      <td>woman</td>\n",
              "      <td>False</td>\n",
              "      <td>C</td>\n",
              "      <td>Cherbourg</td>\n",
              "      <td>yes</td>\n",
              "      <td>False</td>\n",
              "    </tr>\n",
              "    <tr>\n",
              "      <th>2</th>\n",
              "      <td>1</td>\n",
              "      <td>3</td>\n",
              "      <td>female</td>\n",
              "      <td>26.0</td>\n",
              "      <td>0</td>\n",
              "      <td>0</td>\n",
              "      <td>7.9250</td>\n",
              "      <td>S</td>\n",
              "      <td>Third</td>\n",
              "      <td>woman</td>\n",
              "      <td>False</td>\n",
              "      <td>NaN</td>\n",
              "      <td>Southampton</td>\n",
              "      <td>yes</td>\n",
              "      <td>True</td>\n",
              "    </tr>\n",
              "    <tr>\n",
              "      <th>3</th>\n",
              "      <td>1</td>\n",
              "      <td>1</td>\n",
              "      <td>female</td>\n",
              "      <td>35.0</td>\n",
              "      <td>1</td>\n",
              "      <td>0</td>\n",
              "      <td>53.1000</td>\n",
              "      <td>S</td>\n",
              "      <td>First</td>\n",
              "      <td>woman</td>\n",
              "      <td>False</td>\n",
              "      <td>C</td>\n",
              "      <td>Southampton</td>\n",
              "      <td>yes</td>\n",
              "      <td>False</td>\n",
              "    </tr>\n",
              "    <tr>\n",
              "      <th>4</th>\n",
              "      <td>0</td>\n",
              "      <td>3</td>\n",
              "      <td>male</td>\n",
              "      <td>35.0</td>\n",
              "      <td>0</td>\n",
              "      <td>0</td>\n",
              "      <td>8.0500</td>\n",
              "      <td>S</td>\n",
              "      <td>Third</td>\n",
              "      <td>man</td>\n",
              "      <td>True</td>\n",
              "      <td>NaN</td>\n",
              "      <td>Southampton</td>\n",
              "      <td>no</td>\n",
              "      <td>True</td>\n",
              "    </tr>\n",
              "  </tbody>\n",
              "</table>\n",
              "</div>"
            ],
            "text/plain": [
              "   survived  pclass     sex   age  sibsp  parch     fare embarked  class  \\\n",
              "0         0       3    male  22.0      1      0   7.2500        S  Third   \n",
              "1         1       1  female  38.0      1      0  71.2833        C  First   \n",
              "2         1       3  female  26.0      0      0   7.9250        S  Third   \n",
              "3         1       1  female  35.0      1      0  53.1000        S  First   \n",
              "4         0       3    male  35.0      0      0   8.0500        S  Third   \n",
              "\n",
              "     who  adult_male deck  embark_town alive  alone  \n",
              "0    man        True  NaN  Southampton    no  False  \n",
              "1  woman       False    C    Cherbourg   yes  False  \n",
              "2  woman       False  NaN  Southampton   yes   True  \n",
              "3  woman       False    C  Southampton   yes  False  \n",
              "4    man        True  NaN  Southampton    no   True  "
            ]
          },
          "execution_count": 3,
          "metadata": {},
          "output_type": "execute_result"
        }
      ],
      "source": [
        "df_titanic.head()"
      ]
    },
    {
      "cell_type": "code",
      "execution_count": 4,
      "metadata": {
        "colab": {
          "base_uri": "https://localhost:8080/"
        },
        "id": "52lTf055gKiX",
        "outputId": "59f11212-1416-4fb8-cab5-129367f73c19"
      },
      "outputs": [
        {
          "data": {
            "text/plain": [
              "Index(['survived', 'pclass', 'age', 'sibsp', 'parch', 'fare'], dtype='object')"
            ]
          },
          "execution_count": 4,
          "metadata": {},
          "output_type": "execute_result"
        }
      ],
      "source": [
        "df_titanic.select_dtypes(include='number').columns # берем только значимые целевые колонки"
      ]
    },
    {
      "cell_type": "code",
      "execution_count": 5,
      "metadata": {
        "colab": {
          "base_uri": "https://localhost:8080/"
        },
        "id": "-GaRnz0SgwCs",
        "outputId": "73416ea0-4caf-43cd-89d0-d725b6284079"
      },
      "outputs": [
        {
          "data": {
            "text/plain": [
              "0.3838383838383838"
            ]
          },
          "execution_count": 5,
          "metadata": {},
          "output_type": "execute_result"
        }
      ],
      "source": [
        "df_titanic['survived'].mean() # разбиение целевого признака"
      ]
    },
    {
      "cell_type": "code",
      "execution_count": 6,
      "metadata": {
        "id": "D85O6o0vf6sY"
      },
      "outputs": [],
      "source": [
        "X_train, X_test, y_train, y_test = train_test_split(df_titanic[['age', 'sibsp', 'parch', 'fare']],\n",
        "                                                    df_titanic['survived'],\n",
        "                                                    train_size=0.7, # доля трейн-а\n",
        "                                                    stratify=df_titanic['survived'], # сохраняет распределение по таргету в трейне и тесте\n",
        "                                                    random_state=1234 # фиксирует воспроизводимость\n",
        "                                                    )"
      ]
    },
    {
      "cell_type": "code",
      "execution_count": 7,
      "metadata": {
        "colab": {
          "base_uri": "https://localhost:8080/",
          "height": 424
        },
        "id": "TOtB2P_5fuH1",
        "outputId": "1a2d3e89-46e5-4a6d-bf67-1e2b57753cbb"
      },
      "outputs": [
        {
          "data": {
            "text/html": [
              "<div>\n",
              "<style scoped>\n",
              "    .dataframe tbody tr th:only-of-type {\n",
              "        vertical-align: middle;\n",
              "    }\n",
              "\n",
              "    .dataframe tbody tr th {\n",
              "        vertical-align: top;\n",
              "    }\n",
              "\n",
              "    .dataframe thead th {\n",
              "        text-align: right;\n",
              "    }\n",
              "</style>\n",
              "<table border=\"1\" class=\"dataframe\">\n",
              "  <thead>\n",
              "    <tr style=\"text-align: right;\">\n",
              "      <th></th>\n",
              "      <th>age</th>\n",
              "      <th>sibsp</th>\n",
              "      <th>parch</th>\n",
              "      <th>fare</th>\n",
              "    </tr>\n",
              "  </thead>\n",
              "  <tbody>\n",
              "    <tr>\n",
              "      <th>477</th>\n",
              "      <td>29.0</td>\n",
              "      <td>1</td>\n",
              "      <td>0</td>\n",
              "      <td>7.0458</td>\n",
              "    </tr>\n",
              "    <tr>\n",
              "      <th>60</th>\n",
              "      <td>22.0</td>\n",
              "      <td>0</td>\n",
              "      <td>0</td>\n",
              "      <td>7.2292</td>\n",
              "    </tr>\n",
              "    <tr>\n",
              "      <th>508</th>\n",
              "      <td>28.0</td>\n",
              "      <td>0</td>\n",
              "      <td>0</td>\n",
              "      <td>22.5250</td>\n",
              "    </tr>\n",
              "    <tr>\n",
              "      <th>799</th>\n",
              "      <td>30.0</td>\n",
              "      <td>1</td>\n",
              "      <td>1</td>\n",
              "      <td>24.1500</td>\n",
              "    </tr>\n",
              "    <tr>\n",
              "      <th>251</th>\n",
              "      <td>29.0</td>\n",
              "      <td>1</td>\n",
              "      <td>1</td>\n",
              "      <td>10.4625</td>\n",
              "    </tr>\n",
              "    <tr>\n",
              "      <th>...</th>\n",
              "      <td>...</td>\n",
              "      <td>...</td>\n",
              "      <td>...</td>\n",
              "      <td>...</td>\n",
              "    </tr>\n",
              "    <tr>\n",
              "      <th>789</th>\n",
              "      <td>46.0</td>\n",
              "      <td>0</td>\n",
              "      <td>0</td>\n",
              "      <td>79.2000</td>\n",
              "    </tr>\n",
              "    <tr>\n",
              "      <th>718</th>\n",
              "      <td>NaN</td>\n",
              "      <td>0</td>\n",
              "      <td>0</td>\n",
              "      <td>15.5000</td>\n",
              "    </tr>\n",
              "    <tr>\n",
              "      <th>872</th>\n",
              "      <td>33.0</td>\n",
              "      <td>0</td>\n",
              "      <td>0</td>\n",
              "      <td>5.0000</td>\n",
              "    </tr>\n",
              "    <tr>\n",
              "      <th>390</th>\n",
              "      <td>36.0</td>\n",
              "      <td>1</td>\n",
              "      <td>2</td>\n",
              "      <td>120.0000</td>\n",
              "    </tr>\n",
              "    <tr>\n",
              "      <th>403</th>\n",
              "      <td>28.0</td>\n",
              "      <td>1</td>\n",
              "      <td>0</td>\n",
              "      <td>15.8500</td>\n",
              "    </tr>\n",
              "  </tbody>\n",
              "</table>\n",
              "<p>623 rows × 4 columns</p>\n",
              "</div>"
            ],
            "text/plain": [
              "      age  sibsp  parch      fare\n",
              "477  29.0      1      0    7.0458\n",
              "60   22.0      0      0    7.2292\n",
              "508  28.0      0      0   22.5250\n",
              "799  30.0      1      1   24.1500\n",
              "251  29.0      1      1   10.4625\n",
              "..    ...    ...    ...       ...\n",
              "789  46.0      0      0   79.2000\n",
              "718   NaN      0      0   15.5000\n",
              "872  33.0      0      0    5.0000\n",
              "390  36.0      1      2  120.0000\n",
              "403  28.0      1      0   15.8500\n",
              "\n",
              "[623 rows x 4 columns]"
            ]
          },
          "execution_count": 7,
          "metadata": {},
          "output_type": "execute_result"
        }
      ],
      "source": [
        "X_train"
      ]
    },
    {
      "cell_type": "code",
      "execution_count": 8,
      "metadata": {
        "colab": {
          "base_uri": "https://localhost:8080/",
          "height": 424
        },
        "id": "wHGp5-idhVOa",
        "outputId": "89893e37-7b73-454a-8adc-59070fcbaa38"
      },
      "outputs": [
        {
          "data": {
            "text/html": [
              "<div>\n",
              "<style scoped>\n",
              "    .dataframe tbody tr th:only-of-type {\n",
              "        vertical-align: middle;\n",
              "    }\n",
              "\n",
              "    .dataframe tbody tr th {\n",
              "        vertical-align: top;\n",
              "    }\n",
              "\n",
              "    .dataframe thead th {\n",
              "        text-align: right;\n",
              "    }\n",
              "</style>\n",
              "<table border=\"1\" class=\"dataframe\">\n",
              "  <thead>\n",
              "    <tr style=\"text-align: right;\">\n",
              "      <th></th>\n",
              "      <th>age</th>\n",
              "      <th>sibsp</th>\n",
              "      <th>parch</th>\n",
              "      <th>fare</th>\n",
              "    </tr>\n",
              "  </thead>\n",
              "  <tbody>\n",
              "    <tr>\n",
              "      <th>132</th>\n",
              "      <td>47.0</td>\n",
              "      <td>1</td>\n",
              "      <td>0</td>\n",
              "      <td>14.5000</td>\n",
              "    </tr>\n",
              "    <tr>\n",
              "      <th>409</th>\n",
              "      <td>NaN</td>\n",
              "      <td>3</td>\n",
              "      <td>1</td>\n",
              "      <td>25.4667</td>\n",
              "    </tr>\n",
              "    <tr>\n",
              "      <th>247</th>\n",
              "      <td>24.0</td>\n",
              "      <td>0</td>\n",
              "      <td>2</td>\n",
              "      <td>14.5000</td>\n",
              "    </tr>\n",
              "    <tr>\n",
              "      <th>158</th>\n",
              "      <td>NaN</td>\n",
              "      <td>0</td>\n",
              "      <td>0</td>\n",
              "      <td>8.6625</td>\n",
              "    </tr>\n",
              "    <tr>\n",
              "      <th>791</th>\n",
              "      <td>16.0</td>\n",
              "      <td>0</td>\n",
              "      <td>0</td>\n",
              "      <td>26.0000</td>\n",
              "    </tr>\n",
              "    <tr>\n",
              "      <th>...</th>\n",
              "      <td>...</td>\n",
              "      <td>...</td>\n",
              "      <td>...</td>\n",
              "      <td>...</td>\n",
              "    </tr>\n",
              "    <tr>\n",
              "      <th>505</th>\n",
              "      <td>18.0</td>\n",
              "      <td>1</td>\n",
              "      <td>0</td>\n",
              "      <td>108.9000</td>\n",
              "    </tr>\n",
              "    <tr>\n",
              "      <th>829</th>\n",
              "      <td>62.0</td>\n",
              "      <td>0</td>\n",
              "      <td>0</td>\n",
              "      <td>80.0000</td>\n",
              "    </tr>\n",
              "    <tr>\n",
              "      <th>671</th>\n",
              "      <td>31.0</td>\n",
              "      <td>1</td>\n",
              "      <td>0</td>\n",
              "      <td>52.0000</td>\n",
              "    </tr>\n",
              "    <tr>\n",
              "      <th>5</th>\n",
              "      <td>NaN</td>\n",
              "      <td>0</td>\n",
              "      <td>0</td>\n",
              "      <td>8.4583</td>\n",
              "    </tr>\n",
              "    <tr>\n",
              "      <th>459</th>\n",
              "      <td>NaN</td>\n",
              "      <td>0</td>\n",
              "      <td>0</td>\n",
              "      <td>7.7500</td>\n",
              "    </tr>\n",
              "  </tbody>\n",
              "</table>\n",
              "<p>268 rows × 4 columns</p>\n",
              "</div>"
            ],
            "text/plain": [
              "      age  sibsp  parch      fare\n",
              "132  47.0      1      0   14.5000\n",
              "409   NaN      3      1   25.4667\n",
              "247  24.0      0      2   14.5000\n",
              "158   NaN      0      0    8.6625\n",
              "791  16.0      0      0   26.0000\n",
              "..    ...    ...    ...       ...\n",
              "505  18.0      1      0  108.9000\n",
              "829  62.0      0      0   80.0000\n",
              "671  31.0      1      0   52.0000\n",
              "5     NaN      0      0    8.4583\n",
              "459   NaN      0      0    7.7500\n",
              "\n",
              "[268 rows x 4 columns]"
            ]
          },
          "execution_count": 8,
          "metadata": {},
          "output_type": "execute_result"
        }
      ],
      "source": [
        "X_test"
      ]
    },
    {
      "cell_type": "code",
      "execution_count": 9,
      "metadata": {
        "colab": {
          "base_uri": "https://localhost:8080/"
        },
        "id": "vd9n3IFVfuMW",
        "outputId": "6580e386-e8be-41b9-9e36-651835f48cc4"
      },
      "outputs": [
        {
          "data": {
            "text/plain": [
              "(0.38362760834670945, 0.3843283582089552)"
            ]
          },
          "execution_count": 9,
          "metadata": {},
          "output_type": "execute_result"
        }
      ],
      "source": [
        "y_train.mean(), y_test.mean()"
      ]
    },
    {
      "cell_type": "code",
      "execution_count": 10,
      "metadata": {
        "colab": {
          "base_uri": "https://localhost:8080/",
          "height": 210
        },
        "id": "eUvptbF4i0RE",
        "outputId": "e596f63a-82b7-4863-b4cc-d3691d14b26d"
      },
      "outputs": [
        {
          "data": {
            "text/plain": [
              "age      130\n",
              "sibsp      0\n",
              "parch      0\n",
              "fare       0\n",
              "dtype: int64"
            ]
          },
          "execution_count": 10,
          "metadata": {},
          "output_type": "execute_result"
        }
      ],
      "source": [
        "X_train.isna().sum()"
      ]
    },
    {
      "cell_type": "code",
      "execution_count": 11,
      "metadata": {
        "colab": {
          "base_uri": "https://localhost:8080/"
        },
        "id": "TXFumLpdjG1F",
        "outputId": "545ad9f0-5ac2-4e68-dd0a-9f33bc78799c"
      },
      "outputs": [
        {
          "data": {
            "text/plain": [
              "29.63"
            ]
          },
          "execution_count": 11,
          "metadata": {},
          "output_type": "execute_result"
        }
      ],
      "source": [
        "age_mean = X_train['age'].mean()\n",
        "age_mean"
      ]
    },
    {
      "cell_type": "code",
      "execution_count": 12,
      "metadata": {
        "id": "D-upafbyi4OE"
      },
      "outputs": [],
      "source": [
        "X_train['age'] = X_train['age'].fillna(age_mean)"
      ]
    },
    {
      "cell_type": "code",
      "execution_count": 13,
      "metadata": {
        "id": "PqF_QNosjQY2"
      },
      "outputs": [],
      "source": [
        "X_test['age'] = X_test['age'].fillna(age_mean)"
      ]
    },
    {
      "cell_type": "code",
      "execution_count": 14,
      "metadata": {
        "id": "sLfs1pANhxnT"
      },
      "outputs": [],
      "source": [
        "# ?LogisticRegression"
      ]
    },
    {
      "cell_type": "code",
      "execution_count": 15,
      "metadata": {
        "id": "h9vE7IyfhnKR"
      },
      "outputs": [],
      "source": [
        "lg_model = LogisticRegression(random_state=1234)"
      ]
    },
    {
      "cell_type": "code",
      "execution_count": 16,
      "metadata": {
        "colab": {
          "base_uri": "https://localhost:8080/",
          "height": 80
        },
        "id": "4TjfMjP5hnNJ",
        "outputId": "fa7ff49f-b717-45ed-a30e-2e2f7e337619"
      },
      "outputs": [
        {
          "data": {
            "text/html": [
              "<style>#sk-container-id-1 {\n",
              "  /* Definition of color scheme common for light and dark mode */\n",
              "  --sklearn-color-text: #000;\n",
              "  --sklearn-color-text-muted: #666;\n",
              "  --sklearn-color-line: gray;\n",
              "  /* Definition of color scheme for unfitted estimators */\n",
              "  --sklearn-color-unfitted-level-0: #fff5e6;\n",
              "  --sklearn-color-unfitted-level-1: #f6e4d2;\n",
              "  --sklearn-color-unfitted-level-2: #ffe0b3;\n",
              "  --sklearn-color-unfitted-level-3: chocolate;\n",
              "  /* Definition of color scheme for fitted estimators */\n",
              "  --sklearn-color-fitted-level-0: #f0f8ff;\n",
              "  --sklearn-color-fitted-level-1: #d4ebff;\n",
              "  --sklearn-color-fitted-level-2: #b3dbfd;\n",
              "  --sklearn-color-fitted-level-3: cornflowerblue;\n",
              "\n",
              "  /* Specific color for light theme */\n",
              "  --sklearn-color-text-on-default-background: var(--sg-text-color, var(--theme-code-foreground, var(--jp-content-font-color1, black)));\n",
              "  --sklearn-color-background: var(--sg-background-color, var(--theme-background, var(--jp-layout-color0, white)));\n",
              "  --sklearn-color-border-box: var(--sg-text-color, var(--theme-code-foreground, var(--jp-content-font-color1, black)));\n",
              "  --sklearn-color-icon: #696969;\n",
              "\n",
              "  @media (prefers-color-scheme: dark) {\n",
              "    /* Redefinition of color scheme for dark theme */\n",
              "    --sklearn-color-text-on-default-background: var(--sg-text-color, var(--theme-code-foreground, var(--jp-content-font-color1, white)));\n",
              "    --sklearn-color-background: var(--sg-background-color, var(--theme-background, var(--jp-layout-color0, #111)));\n",
              "    --sklearn-color-border-box: var(--sg-text-color, var(--theme-code-foreground, var(--jp-content-font-color1, white)));\n",
              "    --sklearn-color-icon: #878787;\n",
              "  }\n",
              "}\n",
              "\n",
              "#sk-container-id-1 {\n",
              "  color: var(--sklearn-color-text);\n",
              "}\n",
              "\n",
              "#sk-container-id-1 pre {\n",
              "  padding: 0;\n",
              "}\n",
              "\n",
              "#sk-container-id-1 input.sk-hidden--visually {\n",
              "  border: 0;\n",
              "  clip: rect(1px 1px 1px 1px);\n",
              "  clip: rect(1px, 1px, 1px, 1px);\n",
              "  height: 1px;\n",
              "  margin: -1px;\n",
              "  overflow: hidden;\n",
              "  padding: 0;\n",
              "  position: absolute;\n",
              "  width: 1px;\n",
              "}\n",
              "\n",
              "#sk-container-id-1 div.sk-dashed-wrapped {\n",
              "  border: 1px dashed var(--sklearn-color-line);\n",
              "  margin: 0 0.4em 0.5em 0.4em;\n",
              "  box-sizing: border-box;\n",
              "  padding-bottom: 0.4em;\n",
              "  background-color: var(--sklearn-color-background);\n",
              "}\n",
              "\n",
              "#sk-container-id-1 div.sk-container {\n",
              "  /* jupyter's `normalize.less` sets `[hidden] { display: none; }`\n",
              "     but bootstrap.min.css set `[hidden] { display: none !important; }`\n",
              "     so we also need the `!important` here to be able to override the\n",
              "     default hidden behavior on the sphinx rendered scikit-learn.org.\n",
              "     See: https://github.com/scikit-learn/scikit-learn/issues/21755 */\n",
              "  display: inline-block !important;\n",
              "  position: relative;\n",
              "}\n",
              "\n",
              "#sk-container-id-1 div.sk-text-repr-fallback {\n",
              "  display: none;\n",
              "}\n",
              "\n",
              "div.sk-parallel-item,\n",
              "div.sk-serial,\n",
              "div.sk-item {\n",
              "  /* draw centered vertical line to link estimators */\n",
              "  background-image: linear-gradient(var(--sklearn-color-text-on-default-background), var(--sklearn-color-text-on-default-background));\n",
              "  background-size: 2px 100%;\n",
              "  background-repeat: no-repeat;\n",
              "  background-position: center center;\n",
              "}\n",
              "\n",
              "/* Parallel-specific style estimator block */\n",
              "\n",
              "#sk-container-id-1 div.sk-parallel-item::after {\n",
              "  content: \"\";\n",
              "  width: 100%;\n",
              "  border-bottom: 2px solid var(--sklearn-color-text-on-default-background);\n",
              "  flex-grow: 1;\n",
              "}\n",
              "\n",
              "#sk-container-id-1 div.sk-parallel {\n",
              "  display: flex;\n",
              "  align-items: stretch;\n",
              "  justify-content: center;\n",
              "  background-color: var(--sklearn-color-background);\n",
              "  position: relative;\n",
              "}\n",
              "\n",
              "#sk-container-id-1 div.sk-parallel-item {\n",
              "  display: flex;\n",
              "  flex-direction: column;\n",
              "}\n",
              "\n",
              "#sk-container-id-1 div.sk-parallel-item:first-child::after {\n",
              "  align-self: flex-end;\n",
              "  width: 50%;\n",
              "}\n",
              "\n",
              "#sk-container-id-1 div.sk-parallel-item:last-child::after {\n",
              "  align-self: flex-start;\n",
              "  width: 50%;\n",
              "}\n",
              "\n",
              "#sk-container-id-1 div.sk-parallel-item:only-child::after {\n",
              "  width: 0;\n",
              "}\n",
              "\n",
              "/* Serial-specific style estimator block */\n",
              "\n",
              "#sk-container-id-1 div.sk-serial {\n",
              "  display: flex;\n",
              "  flex-direction: column;\n",
              "  align-items: center;\n",
              "  background-color: var(--sklearn-color-background);\n",
              "  padding-right: 1em;\n",
              "  padding-left: 1em;\n",
              "}\n",
              "\n",
              "\n",
              "/* Toggleable style: style used for estimator/Pipeline/ColumnTransformer box that is\n",
              "clickable and can be expanded/collapsed.\n",
              "- Pipeline and ColumnTransformer use this feature and define the default style\n",
              "- Estimators will overwrite some part of the style using the `sk-estimator` class\n",
              "*/\n",
              "\n",
              "/* Pipeline and ColumnTransformer style (default) */\n",
              "\n",
              "#sk-container-id-1 div.sk-toggleable {\n",
              "  /* Default theme specific background. It is overwritten whether we have a\n",
              "  specific estimator or a Pipeline/ColumnTransformer */\n",
              "  background-color: var(--sklearn-color-background);\n",
              "}\n",
              "\n",
              "/* Toggleable label */\n",
              "#sk-container-id-1 label.sk-toggleable__label {\n",
              "  cursor: pointer;\n",
              "  display: flex;\n",
              "  width: 100%;\n",
              "  margin-bottom: 0;\n",
              "  padding: 0.5em;\n",
              "  box-sizing: border-box;\n",
              "  text-align: center;\n",
              "  align-items: start;\n",
              "  justify-content: space-between;\n",
              "  gap: 0.5em;\n",
              "}\n",
              "\n",
              "#sk-container-id-1 label.sk-toggleable__label .caption {\n",
              "  font-size: 0.6rem;\n",
              "  font-weight: lighter;\n",
              "  color: var(--sklearn-color-text-muted);\n",
              "}\n",
              "\n",
              "#sk-container-id-1 label.sk-toggleable__label-arrow:before {\n",
              "  /* Arrow on the left of the label */\n",
              "  content: \"▸\";\n",
              "  float: left;\n",
              "  margin-right: 0.25em;\n",
              "  color: var(--sklearn-color-icon);\n",
              "}\n",
              "\n",
              "#sk-container-id-1 label.sk-toggleable__label-arrow:hover:before {\n",
              "  color: var(--sklearn-color-text);\n",
              "}\n",
              "\n",
              "/* Toggleable content - dropdown */\n",
              "\n",
              "#sk-container-id-1 div.sk-toggleable__content {\n",
              "  max-height: 0;\n",
              "  max-width: 0;\n",
              "  overflow: hidden;\n",
              "  text-align: left;\n",
              "  /* unfitted */\n",
              "  background-color: var(--sklearn-color-unfitted-level-0);\n",
              "}\n",
              "\n",
              "#sk-container-id-1 div.sk-toggleable__content.fitted {\n",
              "  /* fitted */\n",
              "  background-color: var(--sklearn-color-fitted-level-0);\n",
              "}\n",
              "\n",
              "#sk-container-id-1 div.sk-toggleable__content pre {\n",
              "  margin: 0.2em;\n",
              "  border-radius: 0.25em;\n",
              "  color: var(--sklearn-color-text);\n",
              "  /* unfitted */\n",
              "  background-color: var(--sklearn-color-unfitted-level-0);\n",
              "}\n",
              "\n",
              "#sk-container-id-1 div.sk-toggleable__content.fitted pre {\n",
              "  /* unfitted */\n",
              "  background-color: var(--sklearn-color-fitted-level-0);\n",
              "}\n",
              "\n",
              "#sk-container-id-1 input.sk-toggleable__control:checked~div.sk-toggleable__content {\n",
              "  /* Expand drop-down */\n",
              "  max-height: 200px;\n",
              "  max-width: 100%;\n",
              "  overflow: auto;\n",
              "}\n",
              "\n",
              "#sk-container-id-1 input.sk-toggleable__control:checked~label.sk-toggleable__label-arrow:before {\n",
              "  content: \"▾\";\n",
              "}\n",
              "\n",
              "/* Pipeline/ColumnTransformer-specific style */\n",
              "\n",
              "#sk-container-id-1 div.sk-label input.sk-toggleable__control:checked~label.sk-toggleable__label {\n",
              "  color: var(--sklearn-color-text);\n",
              "  background-color: var(--sklearn-color-unfitted-level-2);\n",
              "}\n",
              "\n",
              "#sk-container-id-1 div.sk-label.fitted input.sk-toggleable__control:checked~label.sk-toggleable__label {\n",
              "  background-color: var(--sklearn-color-fitted-level-2);\n",
              "}\n",
              "\n",
              "/* Estimator-specific style */\n",
              "\n",
              "/* Colorize estimator box */\n",
              "#sk-container-id-1 div.sk-estimator input.sk-toggleable__control:checked~label.sk-toggleable__label {\n",
              "  /* unfitted */\n",
              "  background-color: var(--sklearn-color-unfitted-level-2);\n",
              "}\n",
              "\n",
              "#sk-container-id-1 div.sk-estimator.fitted input.sk-toggleable__control:checked~label.sk-toggleable__label {\n",
              "  /* fitted */\n",
              "  background-color: var(--sklearn-color-fitted-level-2);\n",
              "}\n",
              "\n",
              "#sk-container-id-1 div.sk-label label.sk-toggleable__label,\n",
              "#sk-container-id-1 div.sk-label label {\n",
              "  /* The background is the default theme color */\n",
              "  color: var(--sklearn-color-text-on-default-background);\n",
              "}\n",
              "\n",
              "/* On hover, darken the color of the background */\n",
              "#sk-container-id-1 div.sk-label:hover label.sk-toggleable__label {\n",
              "  color: var(--sklearn-color-text);\n",
              "  background-color: var(--sklearn-color-unfitted-level-2);\n",
              "}\n",
              "\n",
              "/* Label box, darken color on hover, fitted */\n",
              "#sk-container-id-1 div.sk-label.fitted:hover label.sk-toggleable__label.fitted {\n",
              "  color: var(--sklearn-color-text);\n",
              "  background-color: var(--sklearn-color-fitted-level-2);\n",
              "}\n",
              "\n",
              "/* Estimator label */\n",
              "\n",
              "#sk-container-id-1 div.sk-label label {\n",
              "  font-family: monospace;\n",
              "  font-weight: bold;\n",
              "  display: inline-block;\n",
              "  line-height: 1.2em;\n",
              "}\n",
              "\n",
              "#sk-container-id-1 div.sk-label-container {\n",
              "  text-align: center;\n",
              "}\n",
              "\n",
              "/* Estimator-specific */\n",
              "#sk-container-id-1 div.sk-estimator {\n",
              "  font-family: monospace;\n",
              "  border: 1px dotted var(--sklearn-color-border-box);\n",
              "  border-radius: 0.25em;\n",
              "  box-sizing: border-box;\n",
              "  margin-bottom: 0.5em;\n",
              "  /* unfitted */\n",
              "  background-color: var(--sklearn-color-unfitted-level-0);\n",
              "}\n",
              "\n",
              "#sk-container-id-1 div.sk-estimator.fitted {\n",
              "  /* fitted */\n",
              "  background-color: var(--sklearn-color-fitted-level-0);\n",
              "}\n",
              "\n",
              "/* on hover */\n",
              "#sk-container-id-1 div.sk-estimator:hover {\n",
              "  /* unfitted */\n",
              "  background-color: var(--sklearn-color-unfitted-level-2);\n",
              "}\n",
              "\n",
              "#sk-container-id-1 div.sk-estimator.fitted:hover {\n",
              "  /* fitted */\n",
              "  background-color: var(--sklearn-color-fitted-level-2);\n",
              "}\n",
              "\n",
              "/* Specification for estimator info (e.g. \"i\" and \"?\") */\n",
              "\n",
              "/* Common style for \"i\" and \"?\" */\n",
              "\n",
              ".sk-estimator-doc-link,\n",
              "a:link.sk-estimator-doc-link,\n",
              "a:visited.sk-estimator-doc-link {\n",
              "  float: right;\n",
              "  font-size: smaller;\n",
              "  line-height: 1em;\n",
              "  font-family: monospace;\n",
              "  background-color: var(--sklearn-color-background);\n",
              "  border-radius: 1em;\n",
              "  height: 1em;\n",
              "  width: 1em;\n",
              "  text-decoration: none !important;\n",
              "  margin-left: 0.5em;\n",
              "  text-align: center;\n",
              "  /* unfitted */\n",
              "  border: var(--sklearn-color-unfitted-level-1) 1pt solid;\n",
              "  color: var(--sklearn-color-unfitted-level-1);\n",
              "}\n",
              "\n",
              ".sk-estimator-doc-link.fitted,\n",
              "a:link.sk-estimator-doc-link.fitted,\n",
              "a:visited.sk-estimator-doc-link.fitted {\n",
              "  /* fitted */\n",
              "  border: var(--sklearn-color-fitted-level-1) 1pt solid;\n",
              "  color: var(--sklearn-color-fitted-level-1);\n",
              "}\n",
              "\n",
              "/* On hover */\n",
              "div.sk-estimator:hover .sk-estimator-doc-link:hover,\n",
              ".sk-estimator-doc-link:hover,\n",
              "div.sk-label-container:hover .sk-estimator-doc-link:hover,\n",
              ".sk-estimator-doc-link:hover {\n",
              "  /* unfitted */\n",
              "  background-color: var(--sklearn-color-unfitted-level-3);\n",
              "  color: var(--sklearn-color-background);\n",
              "  text-decoration: none;\n",
              "}\n",
              "\n",
              "div.sk-estimator.fitted:hover .sk-estimator-doc-link.fitted:hover,\n",
              ".sk-estimator-doc-link.fitted:hover,\n",
              "div.sk-label-container:hover .sk-estimator-doc-link.fitted:hover,\n",
              ".sk-estimator-doc-link.fitted:hover {\n",
              "  /* fitted */\n",
              "  background-color: var(--sklearn-color-fitted-level-3);\n",
              "  color: var(--sklearn-color-background);\n",
              "  text-decoration: none;\n",
              "}\n",
              "\n",
              "/* Span, style for the box shown on hovering the info icon */\n",
              ".sk-estimator-doc-link span {\n",
              "  display: none;\n",
              "  z-index: 9999;\n",
              "  position: relative;\n",
              "  font-weight: normal;\n",
              "  right: .2ex;\n",
              "  padding: .5ex;\n",
              "  margin: .5ex;\n",
              "  width: min-content;\n",
              "  min-width: 20ex;\n",
              "  max-width: 50ex;\n",
              "  color: var(--sklearn-color-text);\n",
              "  box-shadow: 2pt 2pt 4pt #999;\n",
              "  /* unfitted */\n",
              "  background: var(--sklearn-color-unfitted-level-0);\n",
              "  border: .5pt solid var(--sklearn-color-unfitted-level-3);\n",
              "}\n",
              "\n",
              ".sk-estimator-doc-link.fitted span {\n",
              "  /* fitted */\n",
              "  background: var(--sklearn-color-fitted-level-0);\n",
              "  border: var(--sklearn-color-fitted-level-3);\n",
              "}\n",
              "\n",
              ".sk-estimator-doc-link:hover span {\n",
              "  display: block;\n",
              "}\n",
              "\n",
              "/* \"?\"-specific style due to the `<a>` HTML tag */\n",
              "\n",
              "#sk-container-id-1 a.estimator_doc_link {\n",
              "  float: right;\n",
              "  font-size: 1rem;\n",
              "  line-height: 1em;\n",
              "  font-family: monospace;\n",
              "  background-color: var(--sklearn-color-background);\n",
              "  border-radius: 1rem;\n",
              "  height: 1rem;\n",
              "  width: 1rem;\n",
              "  text-decoration: none;\n",
              "  /* unfitted */\n",
              "  color: var(--sklearn-color-unfitted-level-1);\n",
              "  border: var(--sklearn-color-unfitted-level-1) 1pt solid;\n",
              "}\n",
              "\n",
              "#sk-container-id-1 a.estimator_doc_link.fitted {\n",
              "  /* fitted */\n",
              "  border: var(--sklearn-color-fitted-level-1) 1pt solid;\n",
              "  color: var(--sklearn-color-fitted-level-1);\n",
              "}\n",
              "\n",
              "/* On hover */\n",
              "#sk-container-id-1 a.estimator_doc_link:hover {\n",
              "  /* unfitted */\n",
              "  background-color: var(--sklearn-color-unfitted-level-3);\n",
              "  color: var(--sklearn-color-background);\n",
              "  text-decoration: none;\n",
              "}\n",
              "\n",
              "#sk-container-id-1 a.estimator_doc_link.fitted:hover {\n",
              "  /* fitted */\n",
              "  background-color: var(--sklearn-color-fitted-level-3);\n",
              "}\n",
              "</style><div id=\"sk-container-id-1\" class=\"sk-top-container\"><div class=\"sk-text-repr-fallback\"><pre>LogisticRegression(random_state=1234)</pre><b>In a Jupyter environment, please rerun this cell to show the HTML representation or trust the notebook. <br />On GitHub, the HTML representation is unable to render, please try loading this page with nbviewer.org.</b></div><div class=\"sk-container\" hidden><div class=\"sk-item\"><div class=\"sk-estimator fitted sk-toggleable\"><input class=\"sk-toggleable__control sk-hidden--visually\" id=\"sk-estimator-id-1\" type=\"checkbox\" checked><label for=\"sk-estimator-id-1\" class=\"sk-toggleable__label fitted sk-toggleable__label-arrow\"><div><div>LogisticRegression</div></div><div><a class=\"sk-estimator-doc-link fitted\" rel=\"noreferrer\" target=\"_blank\" href=\"https://scikit-learn.org/1.6/modules/generated/sklearn.linear_model.LogisticRegression.html\">?<span>Documentation for LogisticRegression</span></a><span class=\"sk-estimator-doc-link fitted\">i<span>Fitted</span></span></div></label><div class=\"sk-toggleable__content fitted\"><pre>LogisticRegression(random_state=1234)</pre></div> </div></div></div></div>"
            ],
            "text/plain": [
              "LogisticRegression(random_state=1234)"
            ]
          },
          "execution_count": 16,
          "metadata": {},
          "output_type": "execute_result"
        }
      ],
      "source": [
        "lg_model.fit(X_train, y_train)"
      ]
    },
    {
      "cell_type": "code",
      "execution_count": 17,
      "metadata": {},
      "outputs": [
        {
          "data": {
            "text/plain": [
              "array([0, 0, 0, 0, 0, 0, 0, 0, 0, 1, 1, 0, 0, 0, 1, 0, 0, 0, 0, 1, 0, 1,\n",
              "       0, 0, 0, 0, 0, 0, 0, 0, 1, 1, 1, 0, 1, 0, 0, 1, 0, 0, 1, 1, 0, 0,\n",
              "       0, 0, 0, 1, 0, 0, 0, 0, 1, 0, 0, 0, 0, 1, 0, 0, 0, 0, 0, 0, 0, 0,\n",
              "       0, 0, 0, 0, 0, 0, 0, 0, 0, 0, 1, 1, 0, 0, 0, 0, 1, 0, 1, 0, 0, 0,\n",
              "       0, 1, 0, 0, 1, 0, 0, 1, 0, 0, 1, 0, 0, 0, 0, 0, 1, 0, 0, 0, 1, 0,\n",
              "       0, 0, 0, 0, 0, 0, 0, 0, 0, 0, 0, 1, 0, 0, 0, 0, 0, 0, 0, 0, 0, 0,\n",
              "       0, 0, 1, 0, 1, 0, 0, 0, 0, 1, 0, 0, 0, 0, 0, 1, 0, 0, 0, 0, 0, 0,\n",
              "       0, 0, 1, 0, 0, 0, 0, 0, 0, 0, 0, 0, 0, 0, 0, 0, 0, 0, 0, 0, 0, 1,\n",
              "       0, 0, 0, 0, 0, 0, 0, 0, 0, 0, 0, 0, 0, 0, 0, 1, 0, 0, 0, 1, 0, 0,\n",
              "       0, 0, 0, 0, 0, 1, 0, 0, 0, 0, 0, 0, 1, 0, 0, 0, 0, 0, 0, 0, 0, 0,\n",
              "       0, 0, 1, 0, 0, 0, 0, 0, 0, 0, 0, 1, 0, 0, 0, 0, 0, 0, 0, 0, 0, 0,\n",
              "       0, 0, 0, 0, 0, 0, 0, 0, 0, 0, 0, 0, 0, 1, 0, 0, 0, 0, 0, 0, 1, 0,\n",
              "       0, 1, 0, 0, 0, 0, 0, 0, 0, 0, 0, 0, 0, 0, 0, 0, 0, 0, 0, 0, 0, 0,\n",
              "       0, 0, 0, 0, 0, 0, 0, 0, 0, 0, 0, 0, 0, 0, 0, 0, 0, 0, 0, 0, 1, 0,\n",
              "       0, 1, 1, 0, 0, 0, 1, 0, 0, 0, 0, 1, 1, 0, 0, 0, 0, 0, 0, 0, 0, 0,\n",
              "       0, 0, 0, 0, 0, 0, 0, 0, 0, 0, 0, 0, 0, 0, 0, 0, 0, 0, 0, 0, 0, 1,\n",
              "       0, 0, 0, 0, 0, 0, 0, 0, 0, 0, 1, 1, 0, 0, 0, 1, 1, 0, 0, 0, 0, 0,\n",
              "       0, 0, 0, 0, 1, 0, 0, 0, 0, 0, 0, 0, 0, 1, 0, 0, 0, 0, 0, 1, 1, 0,\n",
              "       0, 0, 0, 0, 0, 0, 0, 0, 0, 1, 0, 0, 0, 0, 0, 0, 0, 0, 0, 0, 0, 0,\n",
              "       1, 0, 0, 0, 0, 0, 1, 0, 0, 0, 0, 0, 0, 0, 1, 1, 0, 0, 0, 0, 0, 0,\n",
              "       0, 0, 0, 0, 0, 0, 0, 0, 0, 0, 0, 0, 0, 0, 0, 1, 1, 0, 0, 0, 0, 1,\n",
              "       0, 0, 0, 0, 0, 0, 0, 0, 0, 0, 0, 0, 0, 0, 0, 0, 1, 0, 0, 0, 0, 0,\n",
              "       0, 0, 1, 0, 0, 0, 1, 0, 1, 0, 0, 0, 0, 0, 0, 1, 0, 1, 0, 0, 0, 0,\n",
              "       0, 0, 0, 0, 0, 0, 0, 0, 0, 0, 0, 0, 0, 0, 0, 0, 0, 0, 0, 0, 1, 0,\n",
              "       0, 1, 0, 0, 0, 0, 0, 0, 0, 1, 0, 0, 0, 0, 0, 0, 0, 1, 0, 0, 0, 0,\n",
              "       0, 0, 0, 0, 0, 0, 0, 0, 0, 1, 0, 0, 1, 0, 0, 0, 1, 0, 0, 0, 0, 0,\n",
              "       0, 1, 1, 0, 0, 1, 0, 0, 0, 0, 0, 1, 0, 0, 1, 0, 0, 0, 0, 0, 0, 0,\n",
              "       0, 1, 0, 1, 0, 0, 0, 0, 0, 0, 0, 0, 0, 0, 0, 1, 0, 0, 0, 0, 0, 0,\n",
              "       0, 0, 1, 0, 0, 1, 0])"
            ]
          },
          "execution_count": 17,
          "metadata": {},
          "output_type": "execute_result"
        }
      ],
      "source": [
        "pred_train = lg_model.predict(X_train)\n",
        "pred_train"
      ]
    },
    {
      "cell_type": "code",
      "execution_count": 18,
      "metadata": {
        "id": "2taRUXj0hnQt"
      },
      "outputs": [
        {
          "data": {
            "text/plain": [
              "array([0, 0, 0, 0, 0, 0, 0, 0, 0, 0, 0, 0, 0, 0, 0, 0, 1, 0, 0, 1, 0, 0,\n",
              "       1, 0, 0, 0, 0, 0, 0, 1, 0, 0, 1, 0, 1, 0, 0, 0, 0, 0, 1, 0, 1, 0,\n",
              "       0, 0, 0, 1, 0, 0, 0, 1, 0, 1, 0, 0, 0, 0, 0, 0, 0, 0, 0, 0, 0, 0,\n",
              "       0, 0, 0, 0, 0, 0, 0, 0, 0, 0, 0, 0, 0, 0, 0, 0, 1, 0, 1, 0, 0, 0,\n",
              "       0, 0, 0, 0, 0, 0, 0, 0, 0, 0, 1, 0, 0, 1, 0, 0, 0, 1, 0, 1, 0, 0,\n",
              "       0, 0, 0, 0, 0, 0, 0, 0, 0, 0, 0, 0, 0, 0, 0, 0, 0, 0, 0, 0, 0, 1,\n",
              "       0, 1, 0, 0, 0, 0, 0, 0, 0, 0, 0, 0, 1, 1, 0, 0, 0, 0, 0, 0, 0, 0,\n",
              "       0, 0, 0, 0, 0, 0, 0, 0, 0, 0, 0, 0, 0, 0, 0, 0, 0, 0, 0, 0, 0, 0,\n",
              "       0, 0, 1, 0, 0, 0, 0, 1, 0, 0, 0, 0, 1, 0, 0, 0, 1, 0, 0, 0, 1, 0,\n",
              "       1, 0, 0, 0, 0, 1, 0, 0, 0, 0, 0, 0, 0, 0, 0, 0, 0, 1, 0, 0, 0, 0,\n",
              "       0, 0, 0, 0, 0, 0, 0, 0, 0, 0, 0, 0, 0, 1, 0, 0, 0, 0, 0, 0, 0, 0,\n",
              "       0, 0, 0, 0, 0, 0, 0, 0, 0, 1, 0, 1, 0, 0, 0, 1, 0, 0, 0, 0, 0, 1,\n",
              "       0, 0, 0, 0])"
            ]
          },
          "execution_count": 18,
          "metadata": {},
          "output_type": "execute_result"
        }
      ],
      "source": [
        "pred_test = lg_model.predict(X_test)\n",
        "pred_test\n"
      ]
    },
    {
      "cell_type": "code",
      "execution_count": 19,
      "metadata": {
        "colab": {
          "base_uri": "https://localhost:8080/"
        },
        "id": "iVD2tFf4hnTL",
        "outputId": "98f04900-c0ec-46f1-a6ba-4fd3efee6674"
      },
      "outputs": [
        {
          "data": {
            "text/plain": [
              "array([0.2180022 , 0.22825874, 0.39512306, 0.31552766, 0.45287855,\n",
              "       0.15389974, 0.3639574 , 0.32367509, 0.27089799, 0.29109589,\n",
              "       0.32849566, 0.43286605, 0.3623012 , 0.35839547, 0.35725805,\n",
              "       0.34980263, 0.5583346 , 0.35846604, 0.30278169, 0.58995134,\n",
              "       0.39211319, 0.28651943, 0.66247537, 0.276692  , 0.34360892,\n",
              "       0.29763684, 0.3118958 , 0.31984246, 0.37561243, 0.56465422,\n",
              "       0.32315245, 0.35337164, 0.52744358, 0.37362668, 0.64380671,\n",
              "       0.44126386, 0.24607901, 0.3315009 , 0.30152709, 0.27048496,\n",
              "       0.50916006, 0.31240864, 0.67088369, 0.34970194, 0.30912527,\n",
              "       0.29932951, 0.31888098, 0.65452921, 0.32604434, 0.31247457,\n",
              "       0.30829799, 0.54990793, 0.27612116, 0.52157775, 0.31732152,\n",
              "       0.3623012 , 0.22172375, 0.28868706, 0.38952847, 0.47585623,\n",
              "       0.37808236, 0.30983323, 0.35353859, 0.35169265, 0.32559182,\n",
              "       0.26008775, 0.28200372, 0.32294602, 0.30198635, 0.28199807,\n",
              "       0.30400392, 0.44955589, 0.26205298, 0.35964391, 0.30159277,\n",
              "       0.3419605 , 0.38648355, 0.30619086, 0.31624399, 0.31605406,\n",
              "       0.32987281, 0.36467615, 0.62939301, 0.34456521, 0.53893003,\n",
              "       0.35846604, 0.30057099, 0.22825874, 0.36360603, 0.31810591,\n",
              "       0.41060811, 0.37871087, 0.32248671, 0.38708923, 0.29814453,\n",
              "       0.26997459, 0.37108388, 0.34454231, 0.96480979, 0.4232598 ,\n",
              "       0.28199807, 0.5310371 , 0.37790855, 0.3118958 , 0.3118958 ,\n",
              "       0.99978236, 0.32248671, 0.99979219, 0.44545287, 0.3215388 ,\n",
              "       0.23477776, 0.31221012, 0.29725203, 0.43334538, 0.25163337,\n",
              "       0.21364917, 0.3118958 , 0.3852571 , 0.46539889, 0.34284016,\n",
              "       0.25026893, 0.29512179, 0.17842359, 0.28694707, 0.40250393,\n",
              "       0.31024042, 0.20445825, 0.39769148, 0.38061537, 0.30851364,\n",
              "       0.31179662, 0.73458569, 0.24398034, 0.77257627, 0.35782409,\n",
              "       0.30209916, 0.34889644, 0.24301244, 0.31502745, 0.29858251,\n",
              "       0.38139575, 0.33427155, 0.25900322, 0.2814994 , 0.70995669,\n",
              "       0.54498253, 0.30415044, 0.26429727, 0.31396552, 0.26823292,\n",
              "       0.34456521, 0.49425396, 0.35725805, 0.32779036, 0.25341747,\n",
              "       0.31308731, 0.33333887, 0.2837605 , 0.38112077, 0.26604959,\n",
              "       0.15389974, 0.27486039, 0.42152098, 0.34940435, 0.3118958 ,\n",
              "       0.34915094, 0.47391101, 0.28694707, 0.45676044, 0.37075177,\n",
              "       0.35112148, 0.31450806, 0.31931886, 0.31202979, 0.34581881,\n",
              "       0.36961129, 0.30983323, 0.44390107, 0.59520166, 0.26767394,\n",
              "       0.15389974, 0.19044455, 0.37770118, 0.67427296, 0.30981663,\n",
              "       0.49196519, 0.32884337, 0.33911157, 0.5427909 , 0.28892777,\n",
              "       0.25895082, 0.30250546, 0.58700001, 0.37538262, 0.35638856,\n",
              "       0.37264516, 0.6306576 , 0.34915896, 0.65705934, 0.32147826,\n",
              "       0.38843717, 0.3315009 , 0.15389974, 0.55305075, 0.43781783,\n",
              "       0.39085528, 0.29922077, 0.45533346, 0.43803957, 0.458648  ,\n",
              "       0.24894495, 0.42597529, 0.36568946, 0.39882236, 0.44571447,\n",
              "       0.74091502, 0.32765472, 0.28199807, 0.34907159, 0.41802499,\n",
              "       0.26698023, 0.30983323, 0.34016853, 0.28860804, 0.31794958,\n",
              "       0.22804791, 0.30179289, 0.31240864, 0.30463042, 0.31308731,\n",
              "       0.41689632, 0.35728057, 0.27957446, 0.53689867, 0.32133975,\n",
              "       0.47231867, 0.26907766, 0.26241064, 0.29109589, 0.30278169,\n",
              "       0.46506509, 0.34897001, 0.46239563, 0.32845264, 0.33846283,\n",
              "       0.30585271, 0.46547232, 0.31308731, 0.3118958 , 0.43847864,\n",
              "       0.31462867, 0.85881589, 0.32935359, 0.51130339, 0.28561597,\n",
              "       0.44163816, 0.41315868, 0.50614944, 0.35742172, 0.30483038,\n",
              "       0.2917246 , 0.35806333, 0.25763116, 0.7371677 , 0.47887104,\n",
              "       0.43212162, 0.31471294, 0.3118958 ])"
            ]
          },
          "execution_count": 19,
          "metadata": {},
          "output_type": "execute_result"
        }
      ],
      "source": [
        "proba_1_test = lg_model.predict_proba(X_test)[:,1]\n",
        "proba_1_test"
      ]
    },
    {
      "cell_type": "code",
      "execution_count": 20,
      "metadata": {
        "colab": {
          "base_uri": "https://localhost:8080/"
        },
        "id": "YGjfwIsmllje",
        "outputId": "18d71d2d-e10a-4c2f-b593-2b933f5048e3"
      },
      "outputs": [
        {
          "data": {
            "text/plain": [
              "array([0.25627884, 0.3423941 , 0.38072877, 0.33114814, 0.28158667,\n",
              "       0.30565627, 0.37127745, 0.31247457, 0.37269077, 0.60582539,\n",
              "       0.63780146, 0.27404474, 0.36243045, 0.31240864, 0.73608696,\n",
              "       0.31181328, 0.30984085, 0.3708364 , 0.42758138, 0.81813761,\n",
              "       0.26150355, 0.9592145 , 0.36670949, 0.33664746, 0.1856492 ,\n",
              "       0.34917661, 0.31016263, 0.37362265, 0.37009107, 0.29512179,\n",
              "       0.96667413, 0.51574179, 0.61206208, 0.34586294, 0.70257311,\n",
              "       0.32643591, 0.28398622, 0.57717388, 0.24799381, 0.38044316,\n",
              "       0.59638826, 0.51595313, 0.34517419, 0.3118958 , 0.42222501,\n",
              "       0.2313396 , 0.30179289, 0.97648861, 0.30326975, 0.30946328,\n",
              "       0.35912187, 0.36243045, 0.81637968, 0.32463761, 0.29811502,\n",
              "       0.34373399, 0.28444744, 0.58488374, 0.27775324, 0.32579909,\n",
              "       0.34073773, 0.36107856, 0.33148844, 0.37075177, 0.39602054,\n",
              "       0.43866539, 0.28585949, 0.41179581, 0.31228846, 0.28200372,\n",
              "       0.46932023, 0.33032836, 0.30981663, 0.28468291, 0.31240305,\n",
              "       0.28501015, 0.53696924, 0.52554839, 0.31344622, 0.32866084,\n",
              "       0.38303364, 0.33152579, 0.64544727, 0.2466408 , 0.66427822,\n",
              "       0.47380213, 0.42274999, 0.25016313, 0.4308801 , 0.57349354,\n",
              "       0.30266775, 0.31450806, 0.97511248, 0.24633994, 0.30061264,\n",
              "       0.61206208, 0.31576812, 0.34833769, 0.8048484 , 0.31012338,\n",
              "       0.25636594, 0.34633737, 0.24867854, 0.2807776 , 0.81769537,\n",
              "       0.25460655, 0.31308731, 0.34237662, 0.51100615, 0.24301244,\n",
              "       0.36819442, 0.31110283, 0.33851943, 0.33212005, 0.3171171 ,\n",
              "       0.30320601, 0.28810936, 0.49308638, 0.46015727, 0.32849566,\n",
              "       0.31580903, 0.65867122, 0.1817149 , 0.15389974, 0.32355693,\n",
              "       0.28468291, 0.32782417, 0.24304821, 0.32563452, 0.30981663,\n",
              "       0.34454326, 0.3118958 , 0.29646147, 0.27765889, 0.64420826,\n",
              "       0.30836892, 0.96344419, 0.29394921, 0.20204441, 0.34454228,\n",
              "       0.34581881, 0.55217744, 0.25443603, 0.45493116, 0.34062287,\n",
              "       0.31247457, 0.350931  , 0.90745096, 0.31247457, 0.3663144 ,\n",
              "       0.34970194, 0.27404474, 0.29328941, 0.23032028, 0.31247457,\n",
              "       0.42293452, 0.57280026, 0.29657722, 0.30838   , 0.31833397,\n",
              "       0.34454231, 0.31915172, 0.33644405, 0.2806953 , 0.46402   ,\n",
              "       0.30619086, 0.30981663, 0.39966304, 0.4967324 , 0.30570016,\n",
              "       0.32154561, 0.30983323, 0.30983323, 0.35127568, 0.44344923,\n",
              "       0.67690153, 0.34616234, 0.3118958 , 0.25592564, 0.28696664,\n",
              "       0.46885573, 0.3612386 , 0.47676916, 0.31308731, 0.21233371,\n",
              "       0.45100207, 0.25489226, 0.35022763, 0.31182954, 0.40488376,\n",
              "       0.31308731, 0.71695498, 0.35337164, 0.30983323, 0.29394921,\n",
              "       0.64421746, 0.28200372, 0.35027202, 0.31308731, 0.26670871,\n",
              "       0.29050798, 0.36232366, 0.34234712, 0.61485793, 0.38700068,\n",
              "       0.40924781, 0.35782409, 0.31308731, 0.38277937, 0.45124168,\n",
              "       0.75817867, 0.31247457, 0.33555089, 0.36251931, 0.36414542,\n",
              "       0.34896658, 0.34016853, 0.25642699, 0.39729565, 0.37264516,\n",
              "       0.29858251, 0.4323596 , 0.77951983, 0.28200372, 0.47235888,\n",
              "       0.34156739, 0.41379928, 0.31333586, 0.27757542, 0.40417363,\n",
              "       0.40837298, 0.68714085, 0.48935441, 0.3521625 , 0.30843819,\n",
              "       0.43089542, 0.46885573, 0.45632604, 0.28156097, 0.3118958 ,\n",
              "       0.37682026, 0.43866315, 0.3850336 , 0.3120446 , 0.27216739,\n",
              "       0.45464359, 0.35184189, 0.30508209, 0.42861487, 0.31247457,\n",
              "       0.33009669, 0.20271653, 0.46408762, 0.40909748, 0.31450806,\n",
              "       0.75312291, 0.3017147 , 0.26767394, 0.30619086, 0.31247457,\n",
              "       0.35337164, 0.31308731, 0.55748238, 0.31452902, 0.33418219,\n",
              "       0.96518664, 0.24384573, 0.31154323, 0.42077496, 0.31891717,\n",
              "       0.15389974, 0.35817316, 0.28543511, 0.24569296, 0.3118958 ,\n",
              "       0.38790858, 0.25784219, 0.3862608 , 0.36757804, 0.35280878,\n",
              "       0.24116822, 0.22825874, 0.31678857, 0.33309604, 0.28385965,\n",
              "       0.31343531, 0.31247457, 0.37790855, 0.38139575, 0.24436816,\n",
              "       0.28918015, 0.33043204, 0.20242732, 0.35795264, 0.28547833,\n",
              "       0.33491324, 0.3409169 , 0.37893296, 0.31572732, 0.35466219,\n",
              "       0.37251681, 0.28200372, 0.31110283, 0.35846604, 0.36229674,\n",
              "       0.47661283, 0.88240373, 0.29799798, 0.30155941, 0.53533019,\n",
              "       0.96263134, 0.40715909, 0.30306229, 0.27810067, 0.90567342,\n",
              "       0.35958279, 0.321599  , 0.30743254, 0.25636594, 0.83298767,\n",
              "       0.95396907, 0.27550956, 0.26993244, 0.28468291, 0.33586206,\n",
              "       0.46270994, 0.32465571, 0.28468291, 0.3063097 , 0.24268325,\n",
              "       0.38329334, 0.3118958 , 0.22477596, 0.30053012, 0.3282671 ,\n",
              "       0.27536013, 0.2807623 , 0.32533835, 0.38480095, 0.37130463,\n",
              "       0.45381006, 0.16071121, 0.31247457, 0.33479518, 0.26034066,\n",
              "       0.26845561, 0.29119631, 0.31247457, 0.31221012, 0.35782409,\n",
              "       0.28200372, 0.96908917, 0.30399807, 0.28381605, 0.38092024,\n",
              "       0.36347557, 0.35044244, 0.31247457, 0.27206398, 0.30885342,\n",
              "       0.28694707, 0.31617609, 0.96173859, 0.80986205, 0.4006437 ,\n",
              "       0.23130492, 0.30621151, 0.67382852, 0.84827598, 0.22825874,\n",
              "       0.31308731, 0.35383416, 0.31182954, 0.34727524, 0.31093214,\n",
              "       0.31184621, 0.39443116, 0.36117143, 0.95726411, 0.32794313,\n",
              "       0.31154323, 0.48093959, 0.35360955, 0.35383416, 0.37848884,\n",
              "       0.19133542, 0.30743557, 0.85996645, 0.25267921, 0.31308731,\n",
              "       0.25489226, 0.42216132, 0.41809776, 0.57259314, 0.60756976,\n",
              "       0.35119692, 0.3139061 , 0.30873059, 0.33981171, 0.46347616,\n",
              "       0.29725203, 0.33545718, 0.35964941, 0.32082542, 0.36518866,\n",
              "       0.5303908 , 0.43626715, 0.31292436, 0.35333217, 0.27486039,\n",
              "       0.32542951, 0.31247457, 0.37083711, 0.44392932, 0.31023475,\n",
              "       0.35912187, 0.29695694, 0.30827936, 0.59429965, 0.2684537 ,\n",
              "       0.33928437, 0.34771359, 0.28468291, 0.39607485, 0.53146296,\n",
              "       0.29478664, 0.27668483, 0.36082107, 0.31247457, 0.22260106,\n",
              "       0.32782417, 0.47875103, 0.60810633, 0.99978236, 0.30828144,\n",
              "       0.30050968, 0.34248069, 0.22544215, 0.33776977, 0.38034434,\n",
              "       0.34726495, 0.30988455, 0.30991546, 0.33936093, 0.44227622,\n",
              "       0.36660398, 0.21612453, 0.311995  , 0.44846803, 0.29522302,\n",
              "       0.32666686, 0.32559182, 0.26234291, 0.35413347, 0.34286733,\n",
              "       0.76994965, 0.52249146, 0.34248069, 0.30449183, 0.30278169,\n",
              "       0.32733226, 0.52279987, 0.28894668, 0.33261714, 0.40480468,\n",
              "       0.34248069, 0.40609162, 0.33871773, 0.32947716, 0.31397704,\n",
              "       0.4974495 , 0.48682123, 0.27906422, 0.33364266, 0.27864153,\n",
              "       0.34016853, 0.34079562, 0.44577973, 0.84566493, 0.3066209 ,\n",
              "       0.29747157, 0.3118958 , 0.35022763, 0.31931886, 0.3272091 ,\n",
              "       0.35869906, 0.73400259, 0.30981663, 0.34686952, 0.31308731,\n",
              "       0.9595133 , 0.31450806, 0.6297737 , 0.31511043, 0.30991546,\n",
              "       0.3118958 , 0.34517419, 0.40886935, 0.2943664 , 0.60616188,\n",
              "       0.31241212, 0.80930312, 0.3315009 , 0.38459669, 0.45797051,\n",
              "       0.34475645, 0.29336976, 0.34039349, 0.28897878, 0.31454785,\n",
              "       0.33296226, 0.36069605, 0.33603145, 0.27217399, 0.25743772,\n",
              "       0.28200372, 0.21887258, 0.33162487, 0.31141672, 0.311995  ,\n",
              "       0.33708076, 0.37145742, 0.3485467 , 0.27459676, 0.28757973,\n",
              "       0.28993273, 0.95187629, 0.33928437, 0.30983323, 0.52764867,\n",
              "       0.37134952, 0.3118958 , 0.34129905, 0.39085528, 0.18573826,\n",
              "       0.31247457, 0.38996245, 0.53782557, 0.28395585, 0.31184621,\n",
              "       0.40614163, 0.25161507, 0.33797645, 0.28869042, 0.25895082,\n",
              "       0.5066925 , 0.19329022, 0.30988921, 0.3315009 , 0.29755856,\n",
              "       0.41958472, 0.32937506, 0.3490738 , 0.31931886, 0.37848884,\n",
              "       0.40373004, 0.3118958 , 0.30991546, 0.36060344, 0.50889129,\n",
              "       0.30981663, 0.37075177, 0.90185105, 0.3446696 , 0.36961129,\n",
              "       0.34847862, 0.52744358, 0.28345034, 0.30888043, 0.33461248,\n",
              "       0.39602054, 0.34224631, 0.31572598, 0.79100762, 0.52744358,\n",
              "       0.15389974, 0.34309665, 0.96604246, 0.31308731, 0.32558186,\n",
              "       0.30331397, 0.28200372, 0.35620638, 0.94148981, 0.2406256 ,\n",
              "       0.30689924, 0.52545253, 0.36112245, 0.49507587, 0.3118958 ,\n",
              "       0.38810785, 0.31308731, 0.32579909, 0.17874893, 0.3623012 ,\n",
              "       0.51595313, 0.38748636, 0.97846614, 0.4086743 , 0.31833397,\n",
              "       0.3417753 , 0.28810936, 0.19691292, 0.41654464, 0.28729575,\n",
              "       0.34454326, 0.32866084, 0.29242295, 0.39842149, 0.81283609,\n",
              "       0.29516237, 0.3628657 , 0.33111287, 0.34154574, 0.33545718,\n",
              "       0.17003195, 0.33279599, 0.37710847, 0.55268727, 0.3434408 ,\n",
              "       0.28749301, 0.73458569, 0.29251351])"
            ]
          },
          "execution_count": 20,
          "metadata": {},
          "output_type": "execute_result"
        }
      ],
      "source": [
        "proba_1_train = lg_model.predict_proba(X_train)[:,1]\n",
        "proba_1_train"
      ]
    },
    {
      "cell_type": "code",
      "execution_count": 21,
      "metadata": {
        "id": "lJzL6Y3tqeep"
      },
      "outputs": [],
      "source": [
        "X_train['pred'] = proba_1_train"
      ]
    },
    {
      "cell_type": "code",
      "execution_count": 22,
      "metadata": {
        "colab": {
          "base_uri": "https://localhost:8080/",
          "height": 424
        },
        "id": "BmBRD_jwqhxB",
        "outputId": "e48b826d-d95b-4845-bba0-74f20547a14f"
      },
      "outputs": [
        {
          "data": {
            "text/html": [
              "<div>\n",
              "<style scoped>\n",
              "    .dataframe tbody tr th:only-of-type {\n",
              "        vertical-align: middle;\n",
              "    }\n",
              "\n",
              "    .dataframe tbody tr th {\n",
              "        vertical-align: top;\n",
              "    }\n",
              "\n",
              "    .dataframe thead th {\n",
              "        text-align: right;\n",
              "    }\n",
              "</style>\n",
              "<table border=\"1\" class=\"dataframe\">\n",
              "  <thead>\n",
              "    <tr style=\"text-align: right;\">\n",
              "      <th></th>\n",
              "      <th>age</th>\n",
              "      <th>sibsp</th>\n",
              "      <th>parch</th>\n",
              "      <th>fare</th>\n",
              "      <th>pred</th>\n",
              "    </tr>\n",
              "  </thead>\n",
              "  <tbody>\n",
              "    <tr>\n",
              "      <th>477</th>\n",
              "      <td>29.00</td>\n",
              "      <td>1</td>\n",
              "      <td>0</td>\n",
              "      <td>7.0458</td>\n",
              "      <td>0.256279</td>\n",
              "    </tr>\n",
              "    <tr>\n",
              "      <th>60</th>\n",
              "      <td>22.00</td>\n",
              "      <td>0</td>\n",
              "      <td>0</td>\n",
              "      <td>7.2292</td>\n",
              "      <td>0.342394</td>\n",
              "    </tr>\n",
              "    <tr>\n",
              "      <th>508</th>\n",
              "      <td>28.00</td>\n",
              "      <td>0</td>\n",
              "      <td>0</td>\n",
              "      <td>22.5250</td>\n",
              "      <td>0.380729</td>\n",
              "    </tr>\n",
              "    <tr>\n",
              "      <th>799</th>\n",
              "      <td>30.00</td>\n",
              "      <td>1</td>\n",
              "      <td>1</td>\n",
              "      <td>24.1500</td>\n",
              "      <td>0.331148</td>\n",
              "    </tr>\n",
              "    <tr>\n",
              "      <th>251</th>\n",
              "      <td>29.00</td>\n",
              "      <td>1</td>\n",
              "      <td>1</td>\n",
              "      <td>10.4625</td>\n",
              "      <td>0.281587</td>\n",
              "    </tr>\n",
              "    <tr>\n",
              "      <th>...</th>\n",
              "      <td>...</td>\n",
              "      <td>...</td>\n",
              "      <td>...</td>\n",
              "      <td>...</td>\n",
              "      <td>...</td>\n",
              "    </tr>\n",
              "    <tr>\n",
              "      <th>789</th>\n",
              "      <td>46.00</td>\n",
              "      <td>0</td>\n",
              "      <td>0</td>\n",
              "      <td>79.2000</td>\n",
              "      <td>0.552687</td>\n",
              "    </tr>\n",
              "    <tr>\n",
              "      <th>718</th>\n",
              "      <td>29.63</td>\n",
              "      <td>0</td>\n",
              "      <td>0</td>\n",
              "      <td>15.5000</td>\n",
              "      <td>0.343441</td>\n",
              "    </tr>\n",
              "    <tr>\n",
              "      <th>872</th>\n",
              "      <td>33.00</td>\n",
              "      <td>0</td>\n",
              "      <td>0</td>\n",
              "      <td>5.0000</td>\n",
              "      <td>0.287493</td>\n",
              "    </tr>\n",
              "    <tr>\n",
              "      <th>390</th>\n",
              "      <td>36.00</td>\n",
              "      <td>1</td>\n",
              "      <td>2</td>\n",
              "      <td>120.0000</td>\n",
              "      <td>0.734586</td>\n",
              "    </tr>\n",
              "    <tr>\n",
              "      <th>403</th>\n",
              "      <td>28.00</td>\n",
              "      <td>1</td>\n",
              "      <td>0</td>\n",
              "      <td>15.8500</td>\n",
              "      <td>0.292514</td>\n",
              "    </tr>\n",
              "  </tbody>\n",
              "</table>\n",
              "<p>623 rows × 5 columns</p>\n",
              "</div>"
            ],
            "text/plain": [
              "       age  sibsp  parch      fare      pred\n",
              "477  29.00      1      0    7.0458  0.256279\n",
              "60   22.00      0      0    7.2292  0.342394\n",
              "508  28.00      0      0   22.5250  0.380729\n",
              "799  30.00      1      1   24.1500  0.331148\n",
              "251  29.00      1      1   10.4625  0.281587\n",
              "..     ...    ...    ...       ...       ...\n",
              "789  46.00      0      0   79.2000  0.552687\n",
              "718  29.63      0      0   15.5000  0.343441\n",
              "872  33.00      0      0    5.0000  0.287493\n",
              "390  36.00      1      2  120.0000  0.734586\n",
              "403  28.00      1      0   15.8500  0.292514\n",
              "\n",
              "[623 rows x 5 columns]"
            ]
          },
          "execution_count": 22,
          "metadata": {},
          "output_type": "execute_result"
        }
      ],
      "source": [
        "X_train"
      ]
    },
    {
      "cell_type": "code",
      "execution_count": 23,
      "metadata": {
        "colab": {
          "base_uri": "https://localhost:8080/"
        },
        "id": "3otc6czEldpT",
        "outputId": "0c3ae3f3-d25d-4e54-e46e-74003178b700"
      },
      "outputs": [
        {
          "data": {
            "text/plain": [
              "(0.6470588235294118, 0.8045977011494253)"
            ]
          },
          "execution_count": 23,
          "metadata": {},
          "output_type": "execute_result"
        }
      ],
      "source": [
        "precision_test = precision_score(y_test, pred_test)\n",
        "precision_train = precision_score(y_train, pred_train)\n",
        "precision_test, precision_train"
      ]
    },
    {
      "cell_type": "code",
      "execution_count": 24,
      "metadata": {
        "colab": {
          "base_uri": "https://localhost:8080/"
        },
        "id": "HuKTk_H8mIA2",
        "outputId": "7cd0750e-1c67-4dd6-faf4-005959cc49ee"
      },
      "outputs": [
        {
          "data": {
            "text/plain": [
              "(0.21359223300970873, 0.2928870292887029)"
            ]
          },
          "execution_count": 24,
          "metadata": {},
          "output_type": "execute_result"
        }
      ],
      "source": [
        "recall_score_test = recall_score(y_test, pred_test)\n",
        "recall_score_train = recall_score(y_train, pred_train)\n",
        "recall_score_test, recall_score_train"
      ]
    },
    {
      "cell_type": "code",
      "execution_count": 25,
      "metadata": {
        "colab": {
          "base_uri": "https://localhost:8080/"
        },
        "id": "AEbq63qWmOtW",
        "outputId": "4b71518d-5670-4e34-e727-73142fe4dafe"
      },
      "outputs": [
        {
          "data": {
            "text/plain": [
              "(0.6952633127390409, 0.7224764644351465)"
            ]
          },
          "execution_count": 25,
          "metadata": {},
          "output_type": "execute_result"
        }
      ],
      "source": [
        "roc_auc_test = roc_auc_score(y_test, proba_1_test)\n",
        "roc_auc_train = roc_auc_score(y_train, proba_1_train)\n",
        "roc_auc_test, roc_auc_train"
      ]
    },
    {
      "cell_type": "code",
      "execution_count": 26,
      "metadata": {
        "colab": {
          "base_uri": "https://localhost:8080/",
          "height": 449
        },
        "id": "QlzXumPNmYc-",
        "outputId": "85747920-d2f9-468d-fce5-f9cf01ce9bb6"
      },
      "outputs": [
        {
          "data": {
            "image/png": "[encoded data removed]",
            "text/plain": [
              "<Figure size 640x480 with 1 Axes>"
            ]
          },
          "metadata": {},
          "output_type": "display_data"
        }
      ],
      "source": [
        "fpr_test, tpr_test, _ = roc_curve(y_test, proba_1_test)\n",
        "fpr_train, tpr_train, _ = roc_curve(y_train, proba_1_train)\n",
        "\n",
        "plt.figure()\n",
        "plt.plot(fpr_test, tpr_test, color='blue', lw=2, label='ROC Curve test')\n",
        "plt.plot(fpr_train, tpr_train, color='red', lw=2, label='ROC Curve train')\n",
        "plt.plot([0, 1], [0, 1], color='navy', lw=2, linestyle='--')\n",
        "plt.xlabel('False Positive Rate')\n",
        "plt.ylabel('True Positive Rate')\n",
        "# plt.title(f'ROC Curve ({type(model).__name__})')\n",
        "plt.legend()\n",
        "plt.show()"
      ]
    },
    {
      "cell_type": "markdown",
      "metadata": {
        "id": "J_yslxZFsQ-N"
      },
      "source": [
        "<font color='red' size=10> !!! так делать нельзя"
      ]
    },
    {
      "cell_type": "code",
      "execution_count": 27,
      "metadata": {
        "colab": {
          "base_uri": "https://localhost:8080/",
          "height": 449
        },
        "id": "A5nf5N8Sr_tQ",
        "outputId": "07bace83-8833-4233-d47f-000d0e73ea10"
      },
      "outputs": [
        {
          "data": {
            "image/png": "[encoded data removed]",
            "text/plain": [
              "<Figure size 640x480 with 1 Axes>"
            ]
          },
          "metadata": {},
          "output_type": "display_data"
        }
      ],
      "source": [
        "fpr_test, tpr_test, _ = roc_curve(y_test, pred_test)\n",
        "fpr_train, tpr_train, _ = roc_curve(y_train, pred_train)\n",
        "\n",
        "plt.figure()\n",
        "plt.plot(fpr_test, tpr_test, color='blue', lw=2, label='ROC Curve test')\n",
        "plt.plot(fpr_train, tpr_train, color='red', lw=2, label='ROC Curve train')\n",
        "plt.plot([0, 1], [0, 1], color='navy', lw=2, linestyle='--')\n",
        "plt.xlabel('False Positive Rate')\n",
        "plt.ylabel('True Positive Rate')\n",
        "# plt.title(f'ROC Curve ({type(model).__name__})')\n",
        "plt.legend()\n",
        "plt.show()"
      ]
    }
  ],
  "metadata": {
    "colab": {
      "provenance": []
    },
    "kernelspec": {
      "display_name": ".venv",
      "language": "python",
      "name": "python3"
    },
    "language_info": {
      "codemirror_mode": {
        "name": "ipython",
        "version": 3
      },
      "file_extension": ".py",
      "mimetype": "text/x-python",
      "name": "python",
      "nbconvert_exporter": "python",
      "pygments_lexer": "ipython3",
      "version": "3.12.0"
    }
  },
  "nbformat": 4,
  "nbformat_minor": 0
}
