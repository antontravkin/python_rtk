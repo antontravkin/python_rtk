{
 "cells": [
  {
   "cell_type": "markdown",
   "metadata": {},
   "source": [
    "# Домашнее задание № 5"
   ]
  },
  {
   "cell_type": "markdown",
   "metadata": {},
   "source": [
    "**Ситуация:**\\\n",
    "Спокойное рабочее утро. \\\n",
    "Налив чашку утреннего кофе вы замечаете в Outlook письмо, в котором коллеги просят помощи в решении проблемы. \n",
    "\n",
    "Для тестирования API нового сервиса валидации адресов им необходимо получить списки реальных адресов и геокоординат которыми пользуются клиенты компании.\\\n",
    "Они уже обратились за помощью к коллегам DevOps. Те выгрузили из логов сетевого балансера все, что клиенты передавали в поля, предназначенные для адресов.\\\n",
    "Файл durty_data.csv прилагается к письму.\n",
    "\n",
    "От вас требуется выделить из файла только похожие на адреса и гео-координаты строки. Убрать дубликаты и кавычки, а также разложить результаты на 2 разных листа Excel файла: строковые адреса на один, а гео-координаты на другой.\n",
    "\n",
    "Используйте любые полученные в предыдущих уроках навыки для решения поставленной задачи.\n",
    "- работу с Python\n",
    "- работу с Unix\n",
    "- работу с БД\n",
    "\n",
    "*В идеале оформить решение в виде .ipynb файла!* В нем **должно быть**:\n",
    "1) описание алгоритма решения поставленной задачи (отдельно в начале или пошагово комментариями к коду);\n",
    "2) все использованные в ходе решения скрипты/команды/запросы.\n",
    "\n",
    "Результатом работы по вашему алгоритму должен стать xlsx файл, в котором на разных листах лежат все распознанные адреса и геокоординаты.\n",
    "\n",
    "***Важно!***\n",
    "* алгоритм решения должен быть описан настолько просто, чтобы не возникало сложностей с его воспроизведением\n",
    "* использовать можно только механики/модули/методики, изученные на занятиях\n"
   ]
  },
  {
   "cell_type": "markdown",
   "metadata": {},
   "source": [
    "#### *Решение*"
   ]
  },
  {
   "cell_type": "code",
   "execution_count": null,
   "metadata": {},
   "outputs": [
    {
     "name": "stdout",
     "output_type": "stream",
     "text": [
      "Готово! Файл 'cleaned_addresses_and_coords.xlsx' создан.\n"
     ]
    }
   ],
   "source": [
    "import re\n",
    "from openpyxl import Workbook\n",
    "\n",
    "\n",
    "# Функция очистки строки\n",
    "\n",
    "def clean_line(line):\n",
    "    # Очищаем от заклинаний, чтоб не пошел дождь\n",
    "    line = re.sub(\n",
    "        r'[\\x00-\\x1F\\x7F]+|\\\\{2,}|&quot;|&amp;|<[^>]*>|[\"\\']+', '', line)\n",
    "\n",
    "    # Убираем повторяющиеся пробелы\n",
    "    line = re.sub(r'\\s+', ' ', line).strip()\n",
    "\n",
    "    return line\n",
    "\n",
    "\n",
    "# Загружаем файл\n",
    "with open('durty_data.csv', 'r', encoding='utf-8') as file:\n",
    "    lines = file.readlines()\n",
    "\n",
    "# Очищаем строки\n",
    "lines = [clean_line(line) for line in lines]\n",
    "\n",
    "# Паттерны для поиска\n",
    "address_pattern = re.compile(\n",
    "    r'\\b(ул\\.|проспект|переулок|пл\\.|д\\.|стр\\.|корп\\.|шоссе|город|г\\.|Moscow|Street|Ave|Square|Road|Blvd)\\b', re.IGNORECASE)\n",
    "coord_pattern = re.compile(r'^-?\\d{1,3}\\.\\d+,\\s*-?\\d{1,3}\\.\\d+$')\n",
    "\n",
    "addresses = set()  # Используем set для удаления повторов\n",
    "coordinates = set()  # Используем set для удаления повторов\n",
    "\n",
    "# Отделяем мух от котлет и удаляем дубли\n",
    "for line in lines:\n",
    "    if coord_pattern.match(line):\n",
    "        coordinates.add(line)\n",
    "    elif address_pattern.search(line):\n",
    "        addresses.add(line)\n",
    "\n",
    "# Пишем в Excel\n",
    "wb = Workbook()\n",
    "\n",
    "# Лист для адресов\n",
    "ws_addresses = wb.active\n",
    "ws_addresses.title = 'Addresses'\n",
    "ws_addresses.append(['Address'])\n",
    "for addr in sorted(addresses):\n",
    "    ws_addresses.append([addr])\n",
    "\n",
    "# Лист для координат\n",
    "ws_coords = wb.create_sheet(title='Coordinates')\n",
    "ws_coords.append(['Coordinates'])\n",
    "for coord in sorted(coordinates):\n",
    "    ws_coords.append([coord])\n",
    "\n",
    "# Сохраняем\n",
    "wb.save('cleaned_addresses_and_coords.xlsx')\n",
    "\n",
    "print(\"Готово! Файл 'cleaned_addresses_and_coords.xlsx' создан.\")"
   ]
  }
 ],
 "metadata": {
  "kernelspec": {
   "display_name": ".venv",
   "language": "python",
   "name": "python3"
  },
  "language_info": {
   "codemirror_mode": {
    "name": "ipython",
    "version": 3
   },
   "file_extension": ".py",
   "mimetype": "text/x-python",
   "name": "python",
   "nbconvert_exporter": "python",
   "pygments_lexer": "ipython3",
   "version": "3.12.0"
  }
 },
 "nbformat": 4,
 "nbformat_minor": 2
}
