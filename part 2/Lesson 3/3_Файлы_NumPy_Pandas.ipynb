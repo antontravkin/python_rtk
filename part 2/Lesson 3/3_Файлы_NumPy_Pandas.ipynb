{
 "cells": [
  {
   "cell_type": "markdown",
   "metadata": {},
   "source": [
    "# Введение в анализ на Python"
   ]
  },
  {
   "cell_type": "markdown",
   "metadata": {},
   "source": [
    "## Работа с текстовыми файлами"
   ]
  },
  {
   "cell_type": "markdown",
   "metadata": {},
   "source": [
    "### Простейшие операции"
   ]
  },
  {
   "cell_type": "markdown",
   "metadata": {},
   "source": [
    "Для открытия файла используется встроенная функция **open**\n",
    "Важные атрибуты:\n",
    "* mode - режим, в котором открывается файл. По-умолчанию r - read\n",
    "* encoding - кодировка, с которой открывается файл. По-умолчанию не читает кирилицу"
   ]
  },
  {
   "cell_type": "code",
   "execution_count": null,
   "metadata": {},
   "outputs": [],
   "source": [
    "file = open('strange_text.txt', encoding='utf8')"
   ]
  },
  {
   "cell_type": "markdown",
   "metadata": {},
   "source": [
    "Открыв файл мы можем считать из него строку:"
   ]
  },
  {
   "cell_type": "code",
   "execution_count": null,
   "metadata": {},
   "outputs": [],
   "source": [
    "file.readline()"
   ]
  },
  {
   "cell_type": "markdown",
   "metadata": {},
   "source": [
    "Считав строку еще раз - вы продвинетесь далее по файлу. Если необходимо вернуться в начало - необходимо переставить каретку на 0 бит файла:"
   ]
  },
  {
   "cell_type": "code",
   "execution_count": null,
   "metadata": {},
   "outputs": [],
   "source": [
    "file.seek(0)\n",
    "file.readline()"
   ]
  },
  {
   "cell_type": "markdown",
   "metadata": {},
   "source": [
    "Файл - такой же итерируемый объект как список или словарь. Элемент итерации файла - строка:"
   ]
  },
  {
   "cell_type": "code",
   "execution_count": null,
   "metadata": {},
   "outputs": [],
   "source": [
    "file.seek(0)\n",
    "for s in file:\n",
    "    print(s, end='')"
   ]
  },
  {
   "cell_type": "markdown",
   "metadata": {},
   "source": [
    "После работы с файлом его необходимо закрыть!"
   ]
  },
  {
   "cell_type": "code",
   "execution_count": null,
   "metadata": {},
   "outputs": [],
   "source": [
    "file.close()\n",
    "file.read()"
   ]
  },
  {
   "cell_type": "markdown",
   "metadata": {},
   "source": [
    "Также доступны следующие режимы открытия файла:\n",
    "* **'r'** - Открыть текстовый файл для чтения. Курсор будет в начале файла.\n",
    "* **'r+'** - Открыть для чтения и записи. Курсор в начале файла.\n",
    "* **'w'** - Открыть для записи. Файл обрезается до начала или создается, если ранее не существовал. Курсор в начале файла.\n",
    "* **'w+'** - Открыть для чтения и записи. Файл обрезается до начала или создается, если ранее не существовал. Курсор в начале файла.\n",
    "* **'a'** - Открыть для записи. Файл создается, если ранее не существовал. Курсор в конце файла (добавление новой информации в конец файла).\n",
    "* **'a+'** - Открыть для чтения и записи. Файл создается если ранее не существовал. Курсор в конце файла (добавление новой информации в конец файла).\n"
   ]
  },
  {
   "cell_type": "markdown",
   "metadata": {},
   "source": [
    "Для автоматического заркрытия файла можно использовать контекстный менеджер"
   ]
  },
  {
   "cell_type": "code",
   "execution_count": null,
   "metadata": {},
   "outputs": [],
   "source": [
    "with open('this_is_new_file.csv', 'w') as file:\n",
    "    file.write(','.join([str(i) for i in range(10)]))"
   ]
  },
  {
   "cell_type": "markdown",
   "metadata": {},
   "source": [
    "## Модули"
   ]
  },
  {
   "cell_type": "markdown",
   "metadata": {},
   "source": [
    "Для работы далее нам понадобятся такие библиотеки как:\n",
    "\n",
    "*   `numpy` - библиотека для работы с линейной алгеброй\n",
    "*   `pandas` - библиотека для работы с анализом данных\n",
    "*   `matplotlib` - библиотека для работы с графиками\n",
    "\n",
    "Перед тем как вы сможете воспользоваться функциями из этих библиотек, их необходимо установить. Сделать это очень просто. Просто пропишите в ячейке ноутбука:\n",
    "```\n",
    "pip install имя_библиотеки\n",
    "```\n",
    "Обращаю внимание, что в Google Colab большинство популярных библиотек уже установлено.\\\n",
    "Проверить какие библиотеки установлены на вашем компьютере или в Google Colab можно командой:\n",
    "\n",
    "```\n",
    "pip list\n",
    "```"
   ]
  },
  {
   "cell_type": "code",
   "execution_count": null,
   "metadata": {},
   "outputs": [],
   "source": [
    "pip list"
   ]
  },
  {
   "cell_type": "markdown",
   "metadata": {},
   "source": [
    "Установим необходимые модули, если их еще нет:"
   ]
  },
  {
   "cell_type": "code",
   "execution_count": null,
   "metadata": {},
   "outputs": [],
   "source": [
    "pip install numpy\n"
   ]
  },
  {
   "cell_type": "code",
   "execution_count": null,
   "metadata": {},
   "outputs": [],
   "source": [
    "pip install pandas\n"
   ]
  },
  {
   "cell_type": "code",
   "execution_count": null,
   "metadata": {},
   "outputs": [],
   "source": [
    "pip install openpyxl\n"
   ]
  },
  {
   "cell_type": "markdown",
   "metadata": {},
   "source": [
    "Вот так можно посмотреть все функции и константы объявленные в модуле:"
   ]
  },
  {
   "cell_type": "code",
   "execution_count": null,
   "metadata": {},
   "outputs": [],
   "source": [
    "import openpyxl\n",
    "dir(openpyxl)"
   ]
  },
  {
   "cell_type": "markdown",
   "metadata": {},
   "source": [
    "### Создадим свой модуль"
   ]
  },
  {
   "cell_type": "markdown",
   "metadata": {},
   "source": [
    "Недавно мы создавали функцию, которая анализирует текст.\\\n",
    "Давайте упакуем ее в собственный модуль:"
   ]
  },
  {
   "cell_type": "code",
   "execution_count": null,
   "metadata": {},
   "outputs": [],
   "source": [
    "def analyze_text(text):\n",
    "  # Разбиваем текст на слова\n",
    "  words = text.split()\n",
    "\n",
    "  #Считаем количество слов\n",
    "  total_words = len(words)\n",
    "\n",
    "  #Подсчет количества уникальных слов\n",
    "  unqiue_words = len(set(words))\n",
    "\n",
    "  #Подсчет частоты каждого слова\n",
    "  word_frequency = {}\n",
    "  for word in words:\n",
    "      word = word.lower().strip(\".,!?;:-\")  # Приведение к нижнему регистру и удаление знаков препинания\n",
    "      if word in word_frequency:\n",
    "        word_frequency[word] += 1\n",
    "      else:\n",
    "        word_frequency[word] = 1\n",
    "\n",
    "  most_frequent_word = max(word_frequency, key=word_frequency.get)\n",
    "  most_frequent_word_count = word_frequency[most_frequent_word]\n",
    "\n",
    "  return total_words, unqiue_words, most_frequent_word, word_frequency"
   ]
  },
  {
   "cell_type": "code",
   "execution_count": null,
   "metadata": {},
   "outputs": [],
   "source": [
    "with open('strange_text.txt', encoding='utf8') as file:\n",
    "    text = file.read()\n",
    "\n",
    "analyze_text(text)"
   ]
  },
  {
   "cell_type": "markdown",
   "metadata": {},
   "source": [
    "Но как быть если файл не в текстовом формате? А, допустим, Excel..."
   ]
  },
  {
   "cell_type": "markdown",
   "metadata": {},
   "source": [
    "## NumPy"
   ]
  },
  {
   "cell_type": "markdown",
   "metadata": {},
   "source": [
    "Numpy - библиотека для работы с многомерными массивами и матрицами.\n",
    "\n",
    "Зачем нужен Numpy:\n",
    "* Эффективная работа с массивами и матрицами.\n",
    "* Быстрое выполнение математических операций благодаря реализации на языке C.\n",
    "* Основа для многих других библиотек, таких как Pandas и SciPy.\n"
   ]
  },
  {
   "cell_type": "code",
   "execution_count": null,
   "metadata": {},
   "outputs": [],
   "source": [
    "import numpy as np\n",
    "\n",
    "# Одномерный массив\n",
    "one_d_array = np.array([1, 2, 3, 4, 5])\n",
    "print(\"Одномерный массив:\", one_d_array)\n",
    "\n",
    "# Двумерный массив\n",
    "two_d_array = np.array([[1, 2, 3], [4, 5, 6]])\n",
    "print(\"Двумерный массив:\", two_d_array, sep='\\n')\n",
    "\n",
    "# Многомерный массив\n",
    "multi_d_array = np.array([[[1, 2], [3, 4]], [[5, 6], [7, 8]]])\n",
    "print(\"Многомерный массив:\", multi_d_array, sep='\\n')\n"
   ]
  },
  {
   "cell_type": "markdown",
   "metadata": {},
   "source": [
    "Математические операции"
   ]
  },
  {
   "cell_type": "code",
   "execution_count": null,
   "metadata": {},
   "outputs": [],
   "source": [
    "import numpy as np\n",
    "\n",
    "# Создание массивов\n",
    "a = np.array([1, 2, 3, 4, 5])\n",
    "b = np.array([5, 4, 3, 2, 1])\n",
    "\n",
    "# Арифметические операции\n",
    "print(\"Сложение:\", a + b)\n",
    "print(\"Вычитание:\", a - b)\n",
    "print(\"Умножение:\", a * b)\n",
    "print(\"Деление:\", a / b)\n",
    "\n",
    "# Универсальные функции\n",
    "print(\"Синус:\", np.sin(a))\n",
    "print(\"Экспонента:\", np.exp(a))\n",
    "\n",
    "# Агрегационные функции\n",
    "print(\"Сумма:\", np.sum(a))\n",
    "print(\"Среднее:\", np.mean(b))\n",
    "print(\"Медиана:\", np.median(a))\n",
    "print(\"Минимум:\", np.min(a))\n",
    "print(\"Максимум:\", np.max(a))\n"
   ]
  },
  {
   "cell_type": "markdown",
   "metadata": {},
   "source": [
    "Индексация и срезы"
   ]
  },
  {
   "cell_type": "code",
   "execution_count": null,
   "metadata": {},
   "outputs": [],
   "source": [
    "import numpy as np\n",
    "\n",
    "# Одномерный массив\n",
    "a = np.array([1, 2, 3, 4, 5])\n",
    "print(\"Элемент с индексом 2:\", a[2])\n",
    "print(\"Срез [1:4]:\", a[1:4])\n",
    "\n",
    "# Двумерный массив\n",
    "b = np.array([[1, 2, 3], [4, 5, 6], [7, 8, 9]])\n",
    "print(\"Элемент [1,2]:\", b[1, 2])\n",
    "print(\"Строка с индексом 1:\", b[1, :])\n",
    "print(\"Столбец с индексом 2:\", b[:, 2])\n",
    "\n",
    "# Многомерный массив\n",
    "c = np.array([[[1, 2], [3, 4]], [[5, 6], [7, 8]]])\n",
    "print(\"Элемент [1,1,1]:\", c[1, 1, 1])\n",
    "print(\"Срез [:,1,:]:\", c[:, 1, :], sep='\\n')\n"
   ]
  },
  {
   "cell_type": "markdown",
   "metadata": {},
   "source": [
    "Типовые операции\n",
    "* Reshape: Изменение формы массива без изменения данных.\n",
    "* Ravel: Преобразование многомерного массива в одномерный.\n",
    "* Transpose: Транспонирование массива (перестановка осей)."
   ]
  },
  {
   "cell_type": "code",
   "execution_count": null,
   "metadata": {},
   "outputs": [],
   "source": [
    "import numpy as np\n",
    "\n",
    "# Создание двумерного массива\n",
    "a = np.array([[1, 2, 3], [4, 5, 6]])\n",
    "print(\"Исходная форма:\", a, sep='\\n')\n",
    "\n",
    "# Изменение формы массива\n",
    "b = a.reshape((3, 2))\n",
    "print(\"Измененная форма:\", b, sep='\\n')\n",
    "\n",
    "# Преобразование в одномерный массив\n",
    "c = a.ravel() # flatten()\n",
    "print(\"Одномерный массив:\", c)\n",
    "\n",
    "# Транспонирование массива\n",
    "d = a.transpose()\n",
    "print(\"Транспонированный массив:\", d, sep='\\n')\n"
   ]
  },
  {
   "cell_type": "markdown",
   "metadata": {},
   "source": [
    "Зачем NumPy, если есть List? Производительность!"
   ]
  },
  {
   "cell_type": "markdown",
   "metadata": {},
   "source": [
    "1) Удобство проведения мат операций:"
   ]
  },
  {
   "cell_type": "code",
   "execution_count": null,
   "metadata": {},
   "outputs": [],
   "source": [
    "# списки\n",
    "x = [1,2,3] \n",
    "y = [1,2,3]\n",
    "\n",
    "print(x+y)\n",
    "\n",
    "res = []\n",
    "for i, j in zip(x, y):\n",
    "    res.append(i + j)\n",
    "\n",
    "print(res)\n",
    "\n",
    "# массивы\n",
    "print(np.array(x) + np.array(y))"
   ]
  },
  {
   "cell_type": "markdown",
   "metadata": {},
   "source": [
    "2) Производительность!"
   ]
  },
  {
   "cell_type": "code",
   "execution_count": null,
   "metadata": {
    "colab": {
     "base_uri": "https://localhost:8080/"
    },
    "executionInfo": {
     "elapsed": 3,
     "status": "ok",
     "timestamp": 1721920289356,
     "user": {
      "displayName": "Alexander Saranov",
      "userId": "05717130771038677382"
     },
     "user_tz": -180
    },
    "id": "T7BXgVBkyMr9",
    "outputId": "f4028bb2-34f9-4bfe-a187-bf8590a57a7b"
   },
   "outputs": [],
   "source": [
    "import numpy as np\n",
    "import time\n",
    "\n",
    "# Сравнение производительности сложения элементов в списках и массивах NumPy\n",
    "size = 1000000\n",
    "\n",
    "# Создание списков и массивов\n",
    "list1 = list(range(size))\n",
    "list2 = list(range(size))\n",
    "array1 = np.array(list1)\n",
    "array2 = np.array(list2)\n",
    "\n",
    "# Сложение элементов в списках\n",
    "start_time = time.time()\n",
    "result_list = [x + y for x, y in zip(list1, list2)]\n",
    "print(\"Сложение списков:\", time.time() - start_time, \"секунд\")\n",
    "\n",
    "\n",
    "# Сложение элементов в массивах NumPy\n",
    "start_time = time.time()\n",
    "result_array = array1 + array2\n",
    "print(\"Сложение массивов NumPy:\", time.time() - start_time, \"секунд\")\n",
    "\n",
    "# вывод результатов\n",
    "print(result_list[1:10])\n",
    "print(result_array[1:10])\n",
    "\n"
   ]
  },
  {
   "cell_type": "markdown",
   "metadata": {
    "id": "nPCp6G1zI-Ew"
   },
   "source": [
    "## Pandas"
   ]
  },
  {
   "cell_type": "markdown",
   "metadata": {},
   "source": [
    "`Pandas` - это библиотека, которая позволяет удобно работать с таблицами. Как и в `numpy`, некоторые компоненты библиотеки `pandas` написаны на языке `C`, что ощутимо ускоряет работу с таблицами, содержащими большие объёмы данных."
   ]
  },
  {
   "cell_type": "markdown",
   "metadata": {},
   "source": [
    "### Series"
   ]
  },
  {
   "cell_type": "markdown",
   "metadata": {},
   "source": [
    "#### Основы"
   ]
  },
  {
   "cell_type": "markdown",
   "metadata": {},
   "source": [
    "`Series` - это одна из структур данных библиотеки `pandas`. Она представляет собой что-то вроде массива.\n"
   ]
  },
  {
   "cell_type": "code",
   "execution_count": null,
   "metadata": {
    "id": "UUMvqVhwI-Ex"
   },
   "outputs": [],
   "source": [
    "import pandas as pd\n",
    "import numpy as np"
   ]
  },
  {
   "cell_type": "markdown",
   "metadata": {},
   "source": [
    "Получим объект `Series` на основе различных источников:"
   ]
  },
  {
   "cell_type": "code",
   "execution_count": null,
   "metadata": {
    "colab": {
     "base_uri": "https://localhost:8080/"
    },
    "executionInfo": {
     "elapsed": 272,
     "status": "ok",
     "timestamp": 1721921249699,
     "user": {
      "displayName": "Alexander Saranov",
      "userId": "05717130771038677382"
     },
     "user_tz": -180
    },
    "id": "r7BIt-kQI-E1",
    "outputId": "4e22079c-e612-4ca6-f2b7-98aa1fdbfab7"
   },
   "outputs": [],
   "source": [
    "# Создание Series из списка\n",
    "lst = [1, 4, 3, 5, 2]\n",
    "list_series = pd.Series(lst)\n",
    "print(\"Series из списка:\", list_series, sep='\\n')\n",
    "\n",
    "# Создание Series из массива NumPy\n",
    "array_series = pd.Series(np.array(lst))\n",
    "print(\"Series из массива NumPy:\", array_series, sep='\\n')\n",
    "\n",
    "# Создание Series из словаря\n",
    "dict_series = pd.Series({'a': 1, 'b': 4, 'c': 3, 'd': 5, 'e': 2})\n",
    "print(\"Series из словаря:\", dict_series, sep='\\n')\n"
   ]
  },
  {
   "cell_type": "code",
   "execution_count": null,
   "metadata": {},
   "outputs": [],
   "source": [
    "type(array_series)"
   ]
  },
  {
   "cell_type": "markdown",
   "metadata": {
    "id": "RNvSFF_NI-E6"
   },
   "source": [
    "В результате такой операции получается объект `Series`, содержащий элементы из списка. Здесь справа располагаются элементы из, а слева - их индексы. Поскольку индексы для этих элементов мы явно не указали, используются стандартные.\n",
    "\n",
    "Индексы можно также указать явно, для этого нужно подать в качестве аргумента `index` список из индексов. Список индексов должен быть той же длины, что и исходный список.\n",
    "\n",
    "В качестве индексов можно использовать что угодно: числа, строки и пр. "
   ]
  },
  {
   "cell_type": "markdown",
   "metadata": {
    "id": "akKQ3IiUI-FA"
   },
   "source": [
    "Индексы можно задать сразу, а можно и изменить позже:"
   ]
  },
  {
   "cell_type": "code",
   "execution_count": null,
   "metadata": {
    "colab": {
     "base_uri": "https://localhost:8080/"
    },
    "executionInfo": {
     "elapsed": 272,
     "status": "ok",
     "timestamp": 1721921253613,
     "user": {
      "displayName": "Alexander Saranov",
      "userId": "05717130771038677382"
     },
     "user_tz": -180
    },
    "id": "ruk5GAE3I-FB",
    "outputId": "42417417-fe48-4768-906e-391f1a71615d"
   },
   "outputs": [],
   "source": [
    "list_series.index = [\"a\", \"b\", \"c\", \"d\", \"e\"]\n",
    "\n",
    "print(list_series)"
   ]
  },
  {
   "cell_type": "markdown",
   "metadata": {},
   "source": [
    "А теперь проиндексируем наш список объектами типа `datetime.date`:"
   ]
  },
  {
   "cell_type": "code",
   "execution_count": null,
   "metadata": {
    "id": "Fa1KwLmtI-E7"
   },
   "outputs": [],
   "source": [
    "from datetime import date"
   ]
  },
  {
   "cell_type": "code",
   "execution_count": null,
   "metadata": {
    "colab": {
     "base_uri": "https://localhost:8080/"
    },
    "executionInfo": {
     "elapsed": 302,
     "status": "ok",
     "timestamp": 1721921000012,
     "user": {
      "displayName": "Alexander Saranov",
      "userId": "05717130771038677382"
     },
     "user_tz": -180
    },
    "id": "uQOXgn_TI-E9",
    "outputId": "17afd125-07d7-4ff7-d760-92b1f387a209"
   },
   "outputs": [],
   "source": [
    "index = [date(2019, 4, i) for i in lst]\n",
    "\n",
    "list_series = pd.Series(lst, index=index)\n",
    "\n",
    "print(list_series)"
   ]
  },
  {
   "cell_type": "code",
   "execution_count": null,
   "metadata": {
    "colab": {
     "base_uri": "https://localhost:8080/",
     "height": 204
    },
    "executionInfo": {
     "elapsed": 680,
     "status": "ok",
     "timestamp": 1721921022347,
     "user": {
      "displayName": "Alexander Saranov",
      "userId": "05717130771038677382"
     },
     "user_tz": -180
    },
    "id": "odzJLsPbfYTW",
    "outputId": "b1e3ae44-f727-46c7-ae63-b0bbf0d9069f"
   },
   "outputs": [],
   "source": [
    "type(list_series)"
   ]
  },
  {
   "cell_type": "markdown",
   "metadata": {
    "id": "TNBEOla8I-FE"
   },
   "source": [
    "Рассмотрим индексы объекта `Series` поподробнее. Их можно получить с помощью атрибута `.index`:"
   ]
  },
  {
   "cell_type": "code",
   "execution_count": null,
   "metadata": {
    "colab": {
     "base_uri": "https://localhost:8080/"
    },
    "id": "zjymdqx7I-FE",
    "outputId": "93e5ac6a-f5a6-4c4f-8fd0-491cac987350"
   },
   "outputs": [],
   "source": [
    "list_series.index"
   ]
  },
  {
   "cell_type": "markdown",
   "metadata": {
    "id": "E0XUXlJuI-FH"
   },
   "source": [
    "Мы видим, что в качестве индексов здесь используются объекты типа `object`. Этот тип объектов используется также в `numpy`. Он используется для объектов, для которых заранее не известно, сколько памяти они требуют (в отличие от, например, `numpy.int64`, для которого заранее известно, сколько памяти под него нужно).\n",
    "\n",
    "Тип `object` в `numpy` и `pandas` приписывается, например, строкам, а также объектам из других библиотек. В массивы данных, состоящие из объектов типа `object` (например, в наш массив `list_series.index`), помещаются не сами объекты, а лишь указатели на них, а сами объекты хранятся в специально выделенном месте. Мы всё ещё можем использовать для этих объектов методы, присущие им (например, для каждого индекса из массива `list_series.index` мы можем посмотреть его год, месяц или день):"
   ]
  },
  {
   "cell_type": "code",
   "execution_count": null,
   "metadata": {
    "colab": {
     "base_uri": "https://localhost:8080/"
    },
    "executionInfo": {
     "elapsed": 263,
     "status": "ok",
     "timestamp": 1721921294988,
     "user": {
      "displayName": "Alexander Saranov",
      "userId": "05717130771038677382"
     },
     "user_tz": -180
    },
    "id": "fgMguWAvI-FI",
    "outputId": "412ab60c-1f17-404d-b029-11c0ae6055eb"
   },
   "outputs": [],
   "source": [
    "print(list_series.index[2].day)\n",
    "\n",
    "# print(list_series.index.day)"
   ]
  },
  {
   "cell_type": "markdown",
   "metadata": {
    "id": "vIZMN0PLI-FL"
   },
   "source": [
    "Поскольку сейчас индекс - object, то сейчас безопасно так делать лишь с отдельными элементами из индекса.\n",
    "\n",
    "В `pandas`, как и в `numpy`, возможно выполнять различные операции с массивами целиком, но лишь когда эти массивы содержат объекты типов, поддерживаемых `numpy` и `pandas` (вроде `numpy.int32` или `numpy.float64`).\n",
    "\n",
    "Для работы с датой и временем в `numpy` также есть специальный тип: `numpy.datetime64`. Приведём элементы нашего индекса к этому типу и посмотрим, что это нам позволит делать. Это можно сделать с помощью функции `pd.to_datetime`, которая получает на вход массив и возвращает новый массив, элементы которого приведены к типу `numpy.datetime64`:"
   ]
  },
  {
   "cell_type": "code",
   "execution_count": null,
   "metadata": {
    "id": "bzOSEijLI-FL"
   },
   "outputs": [],
   "source": [
    "list_series.index = pd.to_datetime(list_series.index)\n",
    "list_series.index"
   ]
  },
  {
   "cell_type": "markdown",
   "metadata": {
    "id": "FtRGK43zI-FO"
   },
   "source": [
    "Теперь мы можем, например, посмотреть атрибут `day` у всех элементов индекса одновременно:"
   ]
  },
  {
   "cell_type": "code",
   "execution_count": null,
   "metadata": {
    "colab": {
     "base_uri": "https://localhost:8080/"
    },
    "executionInfo": {
     "elapsed": 279,
     "status": "ok",
     "timestamp": 1721921392453,
     "user": {
      "displayName": "Alexander Saranov",
      "userId": "05717130771038677382"
     },
     "user_tz": -180
    },
    "id": "gHflx2_nI-FO",
    "outputId": "09e99e48-0078-464e-8ced-fc2380e9caf2"
   },
   "outputs": [],
   "source": [
    "print(list_series.index.day)"
   ]
  },
  {
   "cell_type": "markdown",
   "metadata": {
    "id": "YxxTvVIFI-FR"
   },
   "source": [
    "Индексы в `Series` не обязаны быть уникальными:"
   ]
  },
  {
   "cell_type": "code",
   "execution_count": null,
   "metadata": {
    "colab": {
     "base_uri": "https://localhost:8080/"
    },
    "executionInfo": {
     "elapsed": 259,
     "status": "ok",
     "timestamp": 1721921449769,
     "user": {
      "displayName": "Alexander Saranov",
      "userId": "05717130771038677382"
     },
     "user_tz": -180
    },
    "id": "65AeCMUbI-FS",
    "outputId": "6edd1f5e-781d-4534-d9af-06e54f63ce04"
   },
   "outputs": [],
   "source": [
    "list_series = pd.Series(lst, index=[0, 1, 0, 1, 0])\n",
    "\n",
    "print(list_series)"
   ]
  },
  {
   "cell_type": "code",
   "execution_count": null,
   "metadata": {},
   "outputs": [],
   "source": [
    "print(list_series[0])"
   ]
  },
  {
   "cell_type": "markdown",
   "metadata": {
    "id": "vMW6-wNkI-FV"
   },
   "source": [
    "Тип данных в `Series` можно также задать явно. Можно это сделать либо сразу же:"
   ]
  },
  {
   "cell_type": "code",
   "execution_count": null,
   "metadata": {
    "id": "6I-lJg-DI-FW"
   },
   "outputs": [],
   "source": [
    "import numpy as np"
   ]
  },
  {
   "cell_type": "code",
   "execution_count": null,
   "metadata": {
    "colab": {
     "base_uri": "https://localhost:8080/"
    },
    "executionInfo": {
     "elapsed": 280,
     "status": "ok",
     "timestamp": 1721921498438,
     "user": {
      "displayName": "Alexander Saranov",
      "userId": "05717130771038677382"
     },
     "user_tz": -180
    },
    "id": "w4c1rU6GI-Fa",
    "outputId": "2e28cc1d-c6d4-46cf-fae0-2f5e9c701735"
   },
   "outputs": [],
   "source": [
    "list_series = pd.Series(lst, dtype=np.float32)\n",
    "\n",
    "print(list_series)"
   ]
  },
  {
   "cell_type": "markdown",
   "metadata": {
    "id": "mXjbWV9iI-Fg"
   },
   "source": [
    "либо позже с помощью метода `.astype`:"
   ]
  },
  {
   "cell_type": "code",
   "execution_count": null,
   "metadata": {
    "colab": {
     "base_uri": "https://localhost:8080/"
    },
    "executionInfo": {
     "elapsed": 305,
     "status": "ok",
     "timestamp": 1721921513756,
     "user": {
      "displayName": "Alexander Saranov",
      "userId": "05717130771038677382"
     },
     "user_tz": -180
    },
    "id": "j60vPHljI-Fg",
    "outputId": "59129efc-0a11-4cff-9cb0-129b07e6ad68"
   },
   "outputs": [],
   "source": [
    "list_series = pd.Series(lst)\n",
    "print(list_series)\n",
    "\n",
    "list_series = list_series.astype(np.float32)\n",
    "print(list_series)"
   ]
  },
  {
   "cell_type": "markdown",
   "metadata": {
    "id": "lw878OtsI-Fk"
   },
   "source": [
    "Создать массив `Series` можно не только из списка, но и из словаря. В таком случае, ключи этого словаря становятся индексами, а соответствующие значения словаря - значениями массива:"
   ]
  },
  {
   "cell_type": "code",
   "execution_count": null,
   "metadata": {
    "colab": {
     "base_uri": "https://localhost:8080/"
    },
    "executionInfo": {
     "elapsed": 281,
     "status": "ok",
     "timestamp": 1721921539802,
     "user": {
      "displayName": "Alexander Saranov",
      "userId": "05717130771038677382"
     },
     "user_tz": -180
    },
    "id": "-NLxfGgfI-Fl",
    "outputId": "271061b4-6c8e-4d20-a584-4e0fe7c0eb78"
   },
   "outputs": [],
   "source": [
    "dict_ = {\n",
    "    \"1st\": \"a\",\n",
    "    \"2nd\": \"b\",\n",
    "    \"3rd\": \"c\",\n",
    "}\n",
    "\n",
    "dict_series = pd.Series(dict_)\n",
    "\n",
    "print(dict_series)"
   ]
  },
  {
   "cell_type": "markdown",
   "metadata": {
    "id": "ftjLrIk-I-Fq"
   },
   "source": [
    "Значения массива `Series` можно получить с помощью атрибута `.values`. Значения массива представлены как `numpy.ndarray`."
   ]
  },
  {
   "cell_type": "code",
   "execution_count": null,
   "metadata": {
    "colab": {
     "base_uri": "https://localhost:8080/"
    },
    "executionInfo": {
     "elapsed": 271,
     "status": "ok",
     "timestamp": 1721921556187,
     "user": {
      "displayName": "Alexander Saranov",
      "userId": "05717130771038677382"
     },
     "user_tz": -180
    },
    "id": "bZvjtWDWI-Fr",
    "outputId": "1ab97b89-1fbc-4734-d891-579e1a281088"
   },
   "outputs": [],
   "source": [
    "dict_series.values"
   ]
  },
  {
   "cell_type": "code",
   "execution_count": null,
   "metadata": {
    "colab": {
     "base_uri": "https://localhost:8080/"
    },
    "executionInfo": {
     "elapsed": 2,
     "status": "ok",
     "timestamp": 1721921567850,
     "user": {
      "displayName": "Alexander Saranov",
      "userId": "05717130771038677382"
     },
     "user_tz": -180
    },
    "id": "YgENyQbHhe2R",
    "outputId": "291df143-6ab6-4285-cdd7-c8bafa1d4cfd"
   },
   "outputs": [],
   "source": [
    "type(dict_series.values)"
   ]
  },
  {
   "cell_type": "markdown",
   "metadata": {
    "id": "HIvm7r-7I-Fv"
   },
   "source": [
    "#### Выбор данных из массива Series"
   ]
  },
  {
   "cell_type": "markdown",
   "metadata": {},
   "source": [
    "Для получения значений массива `Series` по индексу используется тот же синтаксис, что и с массивами в `numpy`:\n",
    "\n",
    "* Чтобы получить значение или значения по одному индексу, достаточно поставить этот индекс в квадратные скобки после массива: `f[\"1st\"]`.\n",
    "* Если необходимо получить значения по нескольким индексам, в квадратные скобки массива подаётся список индексов: `f[[\"1st\", \"3rd\"]]`.\n",
    "\n",
    "У массивов `Series` также имеются методы `.head` и `.tail`, позволяющие посмотреть, соответственно, первые несколько или последние несколько значений массива. В каждом из этих методов можно указать, сколько именно значений нужно вернуть. По умолчанию возвращается 5 значений."
   ]
  },
  {
   "cell_type": "code",
   "execution_count": null,
   "metadata": {
    "colab": {
     "base_uri": "https://localhost:8080/"
    },
    "executionInfo": {
     "elapsed": 317,
     "status": "ok",
     "timestamp": 1721921660586,
     "user": {
      "displayName": "Alexander Saranov",
      "userId": "05717130771038677382"
     },
     "user_tz": -180
    },
    "id": "sctRMinhI-Fv",
    "outputId": "f184a38f-f0d2-422c-c9ee-d18499efe47e"
   },
   "outputs": [],
   "source": [
    "print('Исходный Series:', list_series, sep='\\n')\n",
    "print('Значение по индексу 1:', list_series[1])\n",
    "print('Значения по индексам [1,2,3]:', list_series[[1,2,3]], sep='\\n')\n",
    "\n",
    "print('2 элемента с хвоста:', list_series.tail(2), sep='\\n') # head и tail часто используются для проверки при перекладке данных между средами\n"
   ]
  },
  {
   "cell_type": "markdown",
   "metadata": {
    "id": "qpYg-6A7I-Fy"
   },
   "source": [
    "Для массивов `Series`, также как и для `numpy`-массивов, доступна булева индексация. С помощью неё можно получать значения массива, которые удовлетворяют некоторому условию:"
   ]
  },
  {
   "cell_type": "code",
   "execution_count": null,
   "metadata": {
    "colab": {
     "base_uri": "https://localhost:8080/"
    },
    "executionInfo": {
     "elapsed": 434,
     "status": "ok",
     "timestamp": 1721921723378,
     "user": {
      "displayName": "Alexander Saranov",
      "userId": "05717130771038677382"
     },
     "user_tz": -180
    },
    "id": "syw4sftrI-Fy",
    "outputId": "5ef32dc6-c317-41e7-e717-fd9fad3852f9"
   },
   "outputs": [],
   "source": [
    "list_series[list_series > 2]"
   ]
  },
  {
   "cell_type": "markdown",
   "metadata": {
    "id": "06hnIBprI-F1"
   },
   "source": [
    "Как и ранее, условия можно комбинировать, используя логические операторы \"и\" (обозначается символом $\\&$), \"или\" (символ $\\mid$) и оператор отрицания \"не\" (символ $\\sim$). При этом каждое условие необходимо поставить в круглые скобки:"
   ]
  },
  {
   "cell_type": "code",
   "execution_count": null,
   "metadata": {
    "colab": {
     "base_uri": "https://localhost:8080/"
    },
    "executionInfo": {
     "elapsed": 300,
     "status": "ok",
     "timestamp": 1721921764844,
     "user": {
      "displayName": "Alexander Saranov",
      "userId": "05717130771038677382"
     },
     "user_tz": -180
    },
    "id": "o_hZyVJII-F2",
    "outputId": "8fdbf606-e21e-47f2-e886-97165c49e871"
   },
   "outputs": [],
   "source": [
    "list_series[~(list_series > 3) | (list_series == 1)]"
   ]
  },
  {
   "cell_type": "markdown",
   "metadata": {
    "id": "1-BmalZKI-F7"
   },
   "source": [
    "Изменять массив `Series` можно теми же способами, что и при работе с обычными словарями. Например, команда `e[2] = 4` заменит значение массива `e` с индексом 2 на 4.\n",
    "\n",
    "Однако, в массивах `Series` мы можем менять несколько значений одновременно. Например, с помощью тех же самых условий:"
   ]
  },
  {
   "cell_type": "code",
   "execution_count": null,
   "metadata": {
    "colab": {
     "base_uri": "https://localhost:8080/"
    },
    "executionInfo": {
     "elapsed": 284,
     "status": "ok",
     "timestamp": 1721921808709,
     "user": {
      "displayName": "Alexander Saranov",
      "userId": "05717130771038677382"
     },
     "user_tz": -180
    },
    "id": "YGfM1cx9I-GA",
    "outputId": "a45f4734-d904-4b40-e064-aadc1f5170cb"
   },
   "outputs": [],
   "source": [
    "list_series[list_series > 2] = -1\n",
    "\n",
    "print(list_series)"
   ]
  },
  {
   "cell_type": "markdown",
   "metadata": {
    "id": "Xf_URau1I-GC"
   },
   "source": [
    "либо передав в массив какие-то конкретные индексы:"
   ]
  },
  {
   "cell_type": "code",
   "execution_count": null,
   "metadata": {
    "colab": {
     "base_uri": "https://localhost:8080/"
    },
    "executionInfo": {
     "elapsed": 279,
     "status": "ok",
     "timestamp": 1721921841260,
     "user": {
      "displayName": "Alexander Saranov",
      "userId": "05717130771038677382"
     },
     "user_tz": -180
    },
    "id": "ABTSWHOoI-GD",
    "outputId": "3c3d74f1-cf1d-47ef-ba36-0e20365faa58"
   },
   "outputs": [],
   "source": [
    "list_series[[1, 3]] = [9,7]\n",
    "\n",
    "print(list_series)"
   ]
  },
  {
   "cell_type": "markdown",
   "metadata": {},
   "source": [
    "#### Добавление и удаление данных в Series"
   ]
  },
  {
   "cell_type": "code",
   "execution_count": null,
   "metadata": {},
   "outputs": [],
   "source": [
    "list_series[111] = 5\n",
    "list_series"
   ]
  },
  {
   "cell_type": "markdown",
   "metadata": {
    "id": "G5Z7PCwmI-GK"
   },
   "source": [
    "С помощью метода `concat` мы можем добавлять к одному массиву `Series` другой:"
   ]
  },
  {
   "cell_type": "code",
   "execution_count": null,
   "metadata": {
    "colab": {
     "base_uri": "https://localhost:8080/"
    },
    "executionInfo": {
     "elapsed": 313,
     "status": "ok",
     "timestamp": 1721921919969,
     "user": {
      "displayName": "Alexander Saranov",
      "userId": "05717130771038677382"
     },
     "user_tz": -180
    },
    "id": "sHq5bhAII-GL",
    "outputId": "828e663f-2649-45b2-968b-16e89b91bed4"
   },
   "outputs": [],
   "source": [
    "print(list_series)\n",
    "print(dict_series)\n",
    "series = pd.concat([list_series, dict_series])\n",
    "\n",
    "print(series)"
   ]
  },
  {
   "cell_type": "markdown",
   "metadata": {
    "id": "1OnEv778I-GO"
   },
   "source": [
    "С помощью метода `.drop` мы можем удалять из массива элементы с определёнными индексами. Эти индексы мы и подаём в метод в виде списка:"
   ]
  },
  {
   "cell_type": "code",
   "execution_count": null,
   "metadata": {
    "colab": {
     "base_uri": "https://localhost:8080/"
    },
    "executionInfo": {
     "elapsed": 285,
     "status": "ok",
     "timestamp": 1721921956114,
     "user": {
      "displayName": "Alexander Saranov",
      "userId": "05717130771038677382"
     },
     "user_tz": -180
    },
    "id": "n_TqKZG_I-GP",
    "outputId": "b4de2738-e247-42da-cf10-df0dd0436313"
   },
   "outputs": [],
   "source": [
    "series = series.drop([0, 4, \"2nd\"])\n",
    "\n",
    "print(series)"
   ]
  },
  {
   "cell_type": "markdown",
   "metadata": {},
   "source": [
    "Обратите внимание, что эти методы, в отличие от аналогичных методов из стандартных библиотек питона, не изменяют исходный массив, но возвращают новый."
   ]
  },
  {
   "cell_type": "markdown",
   "metadata": {
    "id": "B9GSACSLI-GR"
   },
   "source": [
    "#### Запись и чтение массивов Series из файла"
   ]
  },
  {
   "cell_type": "markdown",
   "metadata": {},
   "source": [
    "Для записи массивов `Series` в файлы используется формат файлов под названием `pickle`. Этот формат позволяет полностью сохранять питоновские объекты, а затем загружать их в неизменном виде. Данные в `pickle` хранятся в бинарном виде\n",
    "\n",
    "Для записи массива `Series` в файл используется метод `.to_pickle`, а для чтения - функция `np.read_pickle`:"
   ]
  },
  {
   "cell_type": "code",
   "execution_count": null,
   "metadata": {
    "id": "ZTrPh3ELI-GS"
   },
   "outputs": [],
   "source": [
    "series.to_pickle(\"series.pkl\")"
   ]
  },
  {
   "cell_type": "code",
   "execution_count": null,
   "metadata": {
    "colab": {
     "base_uri": "https://localhost:8080/"
    },
    "executionInfo": {
     "elapsed": 285,
     "status": "ok",
     "timestamp": 1721922039755,
     "user": {
      "displayName": "Alexander Saranov",
      "userId": "05717130771038677382"
     },
     "user_tz": -180
    },
    "id": "ZYirazZHI-GV",
    "outputId": "9a961c1e-b189-4edf-f702-81ce20058da2"
   },
   "outputs": [],
   "source": [
    "some_new_series = pd.read_pickle(\"series.pkl\")\n",
    "\n",
    "print(some_new_series)"
   ]
  },
  {
   "cell_type": "markdown",
   "metadata": {
    "id": "VtiWsjwkI-GX"
   },
   "source": [
    "### DataFrame"
   ]
  },
  {
   "cell_type": "markdown",
   "metadata": {},
   "source": [
    "#### Основы"
   ]
  },
  {
   "cell_type": "markdown",
   "metadata": {},
   "source": [
    "`DataFrame` - двумерная структура данных из библиотеки `pandas`, позволяющая удобно работать с таблицами.\n",
    "\n",
    "Самый простой способ задать `DataFrame` - с помощью словаря, в котором каждый ключ отвечает за столбец, а соответствующее значение - это список из элементов данного столбца. Эти списки должны иметь одинаковую длину."
   ]
  },
  {
   "cell_type": "code",
   "execution_count": null,
   "metadata": {},
   "outputs": [],
   "source": [
    "import pandas as pd\n",
    "import numpy as np"
   ]
  },
  {
   "cell_type": "markdown",
   "metadata": {},
   "source": [
    "Попробуем создать DataFrame из различных источников данных:"
   ]
  },
  {
   "cell_type": "code",
   "execution_count": null,
   "metadata": {
    "colab": {
     "base_uri": "https://localhost:8080/",
     "height": 269
    },
    "executionInfo": {
     "elapsed": 273,
     "status": "ok",
     "timestamp": 1721922093399,
     "user": {
      "displayName": "Alexander Saranov",
      "userId": "05717130771038677382"
     },
     "user_tz": -180
    },
    "id": "Do-NbZz3I-GY",
    "outputId": "ad3dc989-4d98-4039-a3c0-2fe2e7794999"
   },
   "outputs": [],
   "source": [
    "# Создание DataFrame из словаря\n",
    "data = {\n",
    "    'Имя': ['Анна', 'Борис', 'Виктор'],\n",
    "    'Возраст': [25, 30, 35],\n",
    "    'Город': ['Москва', 'Санкт-Петербург', 'Казань']\n",
    "}\n",
    "df = pd.DataFrame(data)\n",
    "print(\"DataFrame из словаря:\", df, sep=\"\\n\")\n",
    "\n",
    "# Создание DataFrame из списка словарей\n",
    "data = [\n",
    "    {'Имя': 'Анна', 'Возраст': 25, 'Город': 'Москва'},\n",
    "    {'Имя': 'Борис', 'Возраст': 30, 'Город': 'Санкт-Петербург'},\n",
    "    {'Имя': 'Виктор', 'Возраст': 35, 'Город': 'Казань'}\n",
    "]\n",
    "df = pd.DataFrame(data)\n",
    "print(\"DataFrame из списка словарей:\", df, sep=\"\\n\")\n",
    "\n",
    "# Создание DataFrame из массива NumPy\n",
    "data = np.array([\n",
    "    ['Анна', 25, 'Москва'],\n",
    "    ['Борис', 30, 'Санкт-Петербург'],\n",
    "    ['Виктор', 35, 'Казань']\n",
    "])\n",
    "df = pd.DataFrame(data, columns=['Имя', 'Возраст', 'Город'])\n",
    "print(\"DataFrame из массива NumPy:\", df, sep=\"\\n\")\n"
   ]
  },
  {
   "cell_type": "markdown",
   "metadata": {},
   "source": [
    "DataFrame в среде Jupiter выводится в виде всем привычной таблицы:"
   ]
  },
  {
   "cell_type": "code",
   "execution_count": null,
   "metadata": {},
   "outputs": [],
   "source": [
    "df"
   ]
  },
  {
   "cell_type": "markdown",
   "metadata": {},
   "source": [
    "Поля DataFrame можно без труда преобразовать к формату словаря или списка:"
   ]
  },
  {
   "cell_type": "code",
   "execution_count": null,
   "metadata": {
    "colab": {
     "base_uri": "https://localhost:8080/"
    },
    "executionInfo": {
     "elapsed": 295,
     "status": "ok",
     "timestamp": 1721921156664,
     "user": {
      "displayName": "Alexander Saranov",
      "userId": "05717130771038677382"
     },
     "user_tz": -180
    },
    "id": "NEFFm261fpQM",
    "outputId": "cf73cfc7-d809-4723-93c3-2dfb551bda63"
   },
   "outputs": [],
   "source": [
    "df['Имя'].to_dict()"
   ]
  },
  {
   "cell_type": "code",
   "execution_count": null,
   "metadata": {
    "colab": {
     "base_uri": "https://localhost:8080/"
    },
    "executionInfo": {
     "elapsed": 273,
     "status": "ok",
     "timestamp": 1721921106162,
     "user": {
      "displayName": "Alexander Saranov",
      "userId": "05717130771038677382"
     },
     "user_tz": -180
    },
    "id": "VStdHpcAfuMw",
    "outputId": "eece7cc2-57cb-4145-9cb1-58d361dd911a"
   },
   "outputs": [],
   "source": [
    "df['Имя'].tolist()"
   ]
  },
  {
   "cell_type": "markdown",
   "metadata": {
    "id": "5r6rUlqxI-Gb"
   },
   "source": [
    "С помощью атрибута `.shape` можно посмотреть форму массива `DataFrame`. Атрибут `.columns` содержит массив из столбцов, а `.index`, как и ранее, содержит массив индексов."
   ]
  },
  {
   "cell_type": "code",
   "execution_count": null,
   "metadata": {
    "colab": {
     "base_uri": "https://localhost:8080/"
    },
    "executionInfo": {
     "elapsed": 277,
     "status": "ok",
     "timestamp": 1721922153613,
     "user": {
      "displayName": "Alexander Saranov",
      "userId": "05717130771038677382"
     },
     "user_tz": -180
    },
    "id": "d-BlBVFnI-Gc",
    "outputId": "eb8bfa6c-2e67-4fc8-a46c-234a520a8a83"
   },
   "outputs": [],
   "source": [
    "print(\"Форма df: {}\".format(df.shape))\n",
    "\n",
    "print(\"Столбцы df: {}\".format(df.columns))\n",
    "\n",
    "print(\"Индексы df: {}\".format(df.index))"
   ]
  },
  {
   "cell_type": "markdown",
   "metadata": {
    "id": "pgn1tqBbI-Gf"
   },
   "source": [
    "Общую информацию о массиве можно запросить с помощью метода `.info`. Нам вернётся информация об индексах и столбцах данного массива, о том, какие типы данных хранятся в каждом из столбцов, а также информация о том, сколько памяти выделено под данный массив."
   ]
  },
  {
   "cell_type": "code",
   "execution_count": null,
   "metadata": {
    "colab": {
     "base_uri": "https://localhost:8080/"
    },
    "executionInfo": {
     "elapsed": 286,
     "status": "ok",
     "timestamp": 1721922287123,
     "user": {
      "displayName": "Alexander Saranov",
      "userId": "05717130771038677382"
     },
     "user_tz": -180
    },
    "id": "6kE3cFoPI-Gg",
    "outputId": "2c47a2cc-c815-47af-ca4e-66d25b1023d9"
   },
   "outputs": [],
   "source": [
    "df.info()"
   ]
  },
  {
   "cell_type": "markdown",
   "metadata": {},
   "source": [
    "Поле `Возраст` можно привести к типу Int:"
   ]
  },
  {
   "cell_type": "code",
   "execution_count": null,
   "metadata": {},
   "outputs": [],
   "source": [
    "df = df.astype({\"Возраст\": \"Int64\"})"
   ]
  },
  {
   "cell_type": "code",
   "execution_count": null,
   "metadata": {},
   "outputs": [],
   "source": [
    "df.info()"
   ]
  },
  {
   "cell_type": "markdown",
   "metadata": {
    "id": "IKpjQKm0I-Gj"
   },
   "source": [
    "С помощью метода `.describe` можно получить некоторые статистические характеристики по столбцам с числовыми значениями: среднее значение, среднее квадратическое отклонение, максимум, минимум, квартили и пр."
   ]
  },
  {
   "cell_type": "code",
   "execution_count": null,
   "metadata": {
    "colab": {
     "base_uri": "https://localhost:8080/",
     "height": 300
    },
    "executionInfo": {
     "elapsed": 312,
     "status": "ok",
     "timestamp": 1721922420324,
     "user": {
      "displayName": "Alexander Saranov",
      "userId": "05717130771038677382"
     },
     "user_tz": -180
    },
    "id": "pDzeYsuQI-Gj",
    "outputId": "b516c9de-8f8b-4777-9571-e8e87bd88015"
   },
   "outputs": [],
   "source": [
    "df.describe()"
   ]
  },
  {
   "cell_type": "markdown",
   "metadata": {
    "id": "wfhKgrHvI-Gm"
   },
   "source": [
    "#### Выбор данных из массива DataFrame"
   ]
  },
  {
   "cell_type": "markdown",
   "metadata": {},
   "source": [
    "Для получения данных из массива `DataFrame` используется тот же синтаксис, что и для `Series`. Например, с помощью методов `.head` и `.tail` можно получить несколько первых или несколько последних строк таблицы.\n",
    "\n",
    "Отдельный столбец можно получить, передав его название в квадратные скобки массива. В данном случае на выходе будет Series"
   ]
  },
  {
   "cell_type": "code",
   "execution_count": null,
   "metadata": {
    "colab": {
     "base_uri": "https://localhost:8080/"
    },
    "executionInfo": {
     "elapsed": 287,
     "status": "ok",
     "timestamp": 1721922667907,
     "user": {
      "displayName": "Alexander Saranov",
      "userId": "05717130771038677382"
     },
     "user_tz": -180
    },
    "id": "deLdbicSI-Gm",
    "outputId": "38d6869e-88f2-4e04-e210-391f343d6c0d"
   },
   "outputs": [],
   "source": [
    "df[\"Имя\"]"
   ]
  },
  {
   "cell_type": "code",
   "execution_count": null,
   "metadata": {},
   "outputs": [],
   "source": [
    "type(df[\"Имя\"])"
   ]
  },
  {
   "cell_type": "markdown",
   "metadata": {},
   "source": [
    "Если хотим получить DataFrame то вместо индекса нужно передать список столбцов []"
   ]
  },
  {
   "cell_type": "code",
   "execution_count": null,
   "metadata": {
    "colab": {
     "base_uri": "https://localhost:8080/",
     "height": 269
    },
    "executionInfo": {
     "elapsed": 271,
     "status": "ok",
     "timestamp": 1721922696234,
     "user": {
      "displayName": "Alexander Saranov",
      "userId": "05717130771038677382"
     },
     "user_tz": -180
    },
    "id": "TFBMTXCjlxci",
    "outputId": "bd188095-96ad-4110-f1c8-83f4f3b145b3"
   },
   "outputs": [],
   "source": [
    "df[[\"Имя\"]]\n"
   ]
  },
  {
   "cell_type": "code",
   "execution_count": null,
   "metadata": {},
   "outputs": [],
   "source": [
    "type(df[[\"Имя\"]])"
   ]
  },
  {
   "cell_type": "markdown",
   "metadata": {},
   "source": [
    "В любом случае, конвертировать `Series` в `DataFrame` можно и явно:"
   ]
  },
  {
   "cell_type": "code",
   "execution_count": null,
   "metadata": {},
   "outputs": [],
   "source": [
    "temp_series = pd.Series([3, 1, 2])\n",
    "temp_series"
   ]
  },
  {
   "cell_type": "code",
   "execution_count": null,
   "metadata": {},
   "outputs": [],
   "source": [
    "temp_df = pd.DataFrame(temp_series)\n",
    "temp_df"
   ]
  },
  {
   "cell_type": "markdown",
   "metadata": {
    "id": "uRKmTTYXI-Gq"
   },
   "source": [
    "Каждый отдельный столбец массива `DataFrame` возвращается как массив типа `Series`.\n",
    "\n",
    "Если мы хотим указать несколько столбцов, в квадратные скобки нужно подать список из столбцов. Тогда нам вернётся подтаблица исходной таблицы опять в формате `DataFrame`.\n",
    "\n",
    "Получить данные из строк таблицы `DataFrame` можно получить с помощью атрибута `.loc`. Этот атрибут представляет собой что-то вроде двумерного массива. Конкретное значение (или несколько значений) этого массива можно получить, указав нужный индекс строки и название колонки:"
   ]
  },
  {
   "cell_type": "code",
   "execution_count": null,
   "metadata": {
    "colab": {
     "base_uri": "https://localhost:8080/",
     "height": 269
    },
    "executionInfo": {
     "elapsed": 296,
     "status": "ok",
     "timestamp": 1721922746169,
     "user": {
      "displayName": "Alexander Saranov",
      "userId": "05717130771038677382"
     },
     "user_tz": -180
    },
    "id": "gOrRPYccco43",
    "outputId": "bd2a68a5-b8c1-49eb-93bd-ace312944ad3"
   },
   "outputs": [],
   "source": [
    "df"
   ]
  },
  {
   "cell_type": "code",
   "execution_count": null,
   "metadata": {
    "colab": {
     "base_uri": "https://localhost:8080/"
    },
    "executionInfo": {
     "elapsed": 317,
     "status": "ok",
     "timestamp": 1721922785916,
     "user": {
      "displayName": "Alexander Saranov",
      "userId": "05717130771038677382"
     },
     "user_tz": -180
    },
    "id": "AdTOoBqpI-Gq",
    "outputId": "29890170-a6fd-4e04-a635-b810f98f2722"
   },
   "outputs": [],
   "source": [
    "df.loc[2, \"Город\"]"
   ]
  },
  {
   "cell_type": "markdown",
   "metadata": {
    "id": "VBFnMwFSI-Gu"
   },
   "source": [
    "Как и ранее, вместо каждого из ключей можно подать список ключей, чтобы вернуть несколько значений. Кроме того, второй аргумент можно не указывать, тогда будут возвращены значения из всех столбцов:"
   ]
  },
  {
   "cell_type": "code",
   "execution_count": null,
   "metadata": {},
   "outputs": [],
   "source": [
    "df.loc[[0, 2]]"
   ]
  },
  {
   "cell_type": "code",
   "execution_count": null,
   "metadata": {
    "colab": {
     "base_uri": "https://localhost:8080/",
     "height": 143
    },
    "executionInfo": {
     "elapsed": 271,
     "status": "ok",
     "timestamp": 1721922820316,
     "user": {
      "displayName": "Alexander Saranov",
      "userId": "05717130771038677382"
     },
     "user_tz": -180
    },
    "id": "GDKBx7bUI-Gu",
    "outputId": "267406df-8587-478e-fb56-bac49a84d3ce"
   },
   "outputs": [],
   "source": [
    "df.loc[[0, 2], [\"Имя\", \"Город\"]]"
   ]
  },
  {
   "cell_type": "markdown",
   "metadata": {
    "id": "QymzPkb9I-G1"
   },
   "source": [
    "При использовании атрибута `.loc` мы должны указывать именно индекс нужной строки и название нужного столбца. Бывают ситуации, когда удобнее было бы получить значение по позиции (т.е., например, элемент из третьей строки и второго столбца). Для этого можно использовать атрибут `.iloc`:"
   ]
  },
  {
   "cell_type": "code",
   "execution_count": null,
   "metadata": {
    "colab": {
     "base_uri": "https://localhost:8080/",
     "height": 35
    },
    "executionInfo": {
     "elapsed": 304,
     "status": "ok",
     "timestamp": 1721922863260,
     "user": {
      "displayName": "Alexander Saranov",
      "userId": "05717130771038677382"
     },
     "user_tz": -180
    },
    "id": "uLu2QgKkI-G2",
    "outputId": "bbfa6852-93b1-43b8-c716-23361ca85bd3"
   },
   "outputs": [],
   "source": [
    "df.iloc[2, 1]"
   ]
  },
  {
   "cell_type": "markdown",
   "metadata": {
    "id": "0KFyO-ozI-G6"
   },
   "source": [
    "Как и в `Series`, в массивах `DataFrame` есть возможность использовать булеву индексацию для указания строк. Причём, условия могут касаться любого столбца или набора столбцов. Как и ранее, условия можно комбинировать с помощью логических операторов.\n",
    "\n",
    "Например, получим значения из второго столбца у всех строк, значение первого столбца для которых больше 3 или равно 1:"
   ]
  },
  {
   "cell_type": "code",
   "execution_count": null,
   "metadata": {
    "colab": {
     "base_uri": "https://localhost:8080/"
    },
    "executionInfo": {
     "elapsed": 295,
     "status": "ok",
     "timestamp": 1721922933449,
     "user": {
      "displayName": "Alexander Saranov",
      "userId": "05717130771038677382"
     },
     "user_tz": -180
    },
    "id": "8IMJITPsI-G6",
    "outputId": "12600480-c903-460f-cf80-2a768d253c88"
   },
   "outputs": [],
   "source": [
    "df.loc[(df[\"Возраст\"] > 30 ) | (df[\"Имя\"] == \"Анна\"), \"Город\"]"
   ]
  },
  {
   "cell_type": "markdown",
   "metadata": {
    "id": "M1IesFbGI-G-"
   },
   "source": [
    "В `pandas` есть также несколько методов, упрощающих булеву индексацию:\n",
    "\n",
    "* `b[\"col1\"].between(1, 3)` - все строки, для которых значение в первом столбце лежит между 11 и 13 (включая оба конца)\n",
    "* `b[\"col2\"].isin([\"a\", \"z\"])` - все строки, для которых значение второго столбца содержится в списке `[\"a\", \"z\"]`\n",
    "\n",
    "Их также можно использовать вместе с логическими операторами. Например, получим все строки из таблицы `b`, для которых значение первого столбца лежит между 3 и 6, а значение второго столбца не равно `\"a\"` или `\"z\"`:"
   ]
  },
  {
   "cell_type": "code",
   "execution_count": null,
   "metadata": {
    "colab": {
     "base_uri": "https://localhost:8080/",
     "height": 112
    },
    "executionInfo": {
     "elapsed": 350,
     "status": "ok",
     "timestamp": 1721922961525,
     "user": {
      "displayName": "Alexander Saranov",
      "userId": "05717130771038677382"
     },
     "user_tz": -180
    },
    "id": "pCaY3x5uI-HA",
    "outputId": "dea5f5d7-81b1-4795-cca2-5f39cd0908cb"
   },
   "outputs": [],
   "source": [
    "df[df[\"Возраст\"].between(20, 40) & (~df[\"Город\"].isin([\"Казань\", \"Москва\"]))]"
   ]
  },
  {
   "cell_type": "markdown",
   "metadata": {
    "id": "yGYdcMSPI-HD"
   },
   "source": [
    "Более короткий и удобный функционал для таких запросов реализован методом `.query`. В него подаётся строка, содержащая булевы условия на значения столбцов. При этом, переменную массива мы уже не пишем, а к столбцам обращаемся без кавычек. В остальном, допускается тот же синтаксис с использованием булевых операторов.\n",
    "\n",
    "Пример:"
   ]
  },
  {
   "cell_type": "code",
   "execution_count": null,
   "metadata": {
    "colab": {
     "base_uri": "https://localhost:8080/",
     "height": 112
    },
    "executionInfo": {
     "elapsed": 280,
     "status": "ok",
     "timestamp": 1721923031075,
     "user": {
      "displayName": "Alexander Saranov",
      "userId": "05717130771038677382"
     },
     "user_tz": -180
    },
    "id": "XeX-GrTSI-HD",
    "outputId": "984a37fe-1ec0-4fce-8083-0113ec4e0ab8"
   },
   "outputs": [],
   "source": [
    "df.query('(Возраст < 40) & (Город == \"Москва\")')"
   ]
  },
  {
   "cell_type": "markdown",
   "metadata": {
    "id": "tOYty94oI-HR"
   },
   "source": [
    "Если требуется скопировать массив `Series` или `DataFrame`, это можно сделать с помощью метода `.copy`: `e = d.copy()`."
   ]
  },
  {
   "cell_type": "markdown",
   "metadata": {
    "id": "F4El81QKI-HS"
   },
   "source": [
    "#### Случайный выбор значений из DataFrame"
   ]
  },
  {
   "cell_type": "markdown",
   "metadata": {},
   "source": [
    "Случайный выбор строк из массива `DataFrame` производится с помощью метода `.sample`. Вот несколько его важных параметров:\n",
    "\n",
    "* `frac` - какую долю от общего числа строк нужно вернуть (число от 0 до 1)\n",
    "* `n` - сколько строк нужно вернуть (число от 0 до числа строк в массиве)\n",
    "* `replace` - индикатор того, производится ли выбор _с возвращением_, т.е. с возможным повторением строк в выборке, или _без возвращения_ (`True` или `False`)\n",
    "\n",
    "Нельзя использовать параметры `frac` и `n` одновременно, нужно выбрать какой-то один."
   ]
  },
  {
   "cell_type": "code",
   "execution_count": null,
   "metadata": {},
   "outputs": [],
   "source": [
    "df"
   ]
  },
  {
   "cell_type": "code",
   "execution_count": null,
   "metadata": {
    "colab": {
     "base_uri": "https://localhost:8080/",
     "height": 174
    },
    "id": "U2roX2B-I-HT",
    "outputId": "65515769-36f3-4740-aaad-44b38f0c0f94"
   },
   "outputs": [],
   "source": [
    "df.sample(frac=0.7, replace=False)"
   ]
  },
  {
   "cell_type": "markdown",
   "metadata": {},
   "source": [
    "Если требуется просто перемешать всю выборку, это также можно выполнить с помощью метода `.sample`, передав в него параметр `frac=1`."
   ]
  },
  {
   "cell_type": "code",
   "execution_count": null,
   "metadata": {},
   "outputs": [],
   "source": [
    "df.sample(frac=1)"
   ]
  },
  {
   "cell_type": "markdown",
   "metadata": {
    "id": "FsUnA0MdI-HZ"
   },
   "source": [
    "#### Запись и чтение DataFrame из файлов"
   ]
  },
  {
   "cell_type": "markdown",
   "metadata": {},
   "source": [
    "Для хранения таблиц широко распространён формат файлов с расширением `.csv`.\n",
    "\n",
    "Сохранить массив в файл можно с помощью метода `.to_csv`. Вот несколько важных параметров этого метода:\n",
    "\n",
    "* `sep` - символ, который нужно использовать для разделения значения столбцов между собой. По умолчанию это `\",\"`, но можно также использовать `\";\"`, `\"\\t\"` и др.\n",
    "* `index` - булево значение, индикатор того, нужно ли в файл сохранить также столбец индексов.\n"
   ]
  },
  {
   "cell_type": "code",
   "execution_count": null,
   "metadata": {},
   "outputs": [],
   "source": [
    "df"
   ]
  },
  {
   "cell_type": "code",
   "execution_count": null,
   "metadata": {
    "id": "RYMORR5TI-Hb"
   },
   "outputs": [],
   "source": [
    "df.to_csv(\"persons.csv\", sep=\";\", index=False)"
   ]
  },
  {
   "cell_type": "markdown",
   "metadata": {
    "id": "IyBxeXaVI-Hm"
   },
   "source": [
    "Прочитать массив из файла можно с помощью функции `pd.read_csv`. Здесь также можно указать разделитель столбцов в параметре `sep`."
   ]
  },
  {
   "cell_type": "code",
   "execution_count": null,
   "metadata": {
    "colab": {
     "base_uri": "https://localhost:8080/",
     "height": 269
    },
    "executionInfo": {
     "elapsed": 324,
     "status": "ok",
     "timestamp": 1721923127849,
     "user": {
      "displayName": "Alexander Saranov",
      "userId": "05717130771038677382"
     },
     "user_tz": -180
    },
    "id": "Lk_wWrT2I-Hm",
    "outputId": "d8ece4e3-138a-47d8-9718-015ddc80c18d"
   },
   "outputs": [],
   "source": [
    "df = pd.read_csv(\"sales.csv\", sep=\";\")\n",
    "\n",
    "df"
   ]
  },
  {
   "cell_type": "markdown",
   "metadata": {
    "id": "eFmm9O6UI-Hp"
   },
   "source": [
    "У данных команд для сохранения и чтения таблиц есть множество других важных и полезных параметров, поэтому рекомендуется также изучить их документацию: [to_csv](https://pandas.pydata.org/pandas-docs/stable/reference/api/pandas.DataFrame.to_csv.html), [read_csv](https://pandas.pydata.org/pandas-docs/stable/reference/api/pandas.read_csv.html).\n",
    "\n",
    "В `pandas` также имеются аналогичные команды для сохранения и записи таблиц как `excel`, `pickle`, `json`, `xml`, `parquet` и тд."
   ]
  },
  {
   "cell_type": "code",
   "execution_count": null,
   "metadata": {},
   "outputs": [],
   "source": [
    "df.\n",
    "\n",
    "pd."
   ]
  },
  {
   "cell_type": "markdown",
   "metadata": {
    "id": "yiL5JLa-I-Hp"
   },
   "source": [
    "### Работа с данными в Pandas"
   ]
  },
  {
   "cell_type": "markdown",
   "metadata": {},
   "source": [
    "#### Слияние данных"
   ]
  },
  {
   "cell_type": "markdown",
   "metadata": {},
   "source": [
    "Рассмотрим следующий пример. Допустим, что мы работаем с небольшим отделом книжного магазина, в котором продаётся классическая литература на английском языке. Наша задача - систематизировать ассортимент отдела.\n",
    "\n",
    "У нас есть таблица `authors`, содержащая данные об авторах: их идентификаторы (`author_id`) и имена (`author_name`):"
   ]
  },
  {
   "cell_type": "code",
   "execution_count": null,
   "metadata": {
    "colab": {
     "base_uri": "https://localhost:8080/",
     "height": 143
    },
    "executionInfo": {
     "elapsed": 352,
     "status": "ok",
     "timestamp": 1721923215094,
     "user": {
      "displayName": "Alexander Saranov",
      "userId": "05717130771038677382"
     },
     "user_tz": -180
    },
    "id": "ol2u5eVDI-Hq",
    "outputId": "216ebeca-af06-4968-cdc6-44095b8fe6df"
   },
   "outputs": [],
   "source": [
    "authors = pd.DataFrame({\n",
    "    'author_id': [1, 2, 3],\n",
    "    'author_name': ['Pushkin', 'Tolstoy', 'Dostoevsky'],\n",
    "})\n",
    "\n",
    "authors"
   ]
  },
  {
   "cell_type": "markdown",
   "metadata": {
    "id": "6-IVLnBvI-Hs"
   },
   "source": [
    "Кроме того, у нас есть таблица `books`, содержащая информацию о книгах этих авторов. В этой таблице также есть колонка `author_id`, а также колонка `book_title`, содержащая название книги:"
   ]
  },
  {
   "cell_type": "code",
   "execution_count": null,
   "metadata": {
    "colab": {
     "base_uri": "https://localhost:8080/",
     "height": 175
    },
    "executionInfo": {
     "elapsed": 295,
     "status": "ok",
     "timestamp": 1721923236192,
     "user": {
      "displayName": "Alexander Saranov",
      "userId": "05717130771038677382"
     },
     "user_tz": -180
    },
    "id": "ESCfC0eaI-Hs",
    "outputId": "549f923c-2c8d-4ede-831e-ffe402ec4b61"
   },
   "outputs": [],
   "source": [
    "books = pd.DataFrame({\n",
    "    'author_id': [2, 3, 3, 4],\n",
    "    'book_title': ['War and Peace', 'The Idiot', 'Crime and Punishment', 'Fathers and Sons'],\n",
    "})\n",
    "\n",
    "books"
   ]
  },
  {
   "cell_type": "markdown",
   "metadata": {
    "id": "YrsRPVSEI-Hv"
   },
   "source": [
    "Что делать, если мы, например, захотим сопоставить названия книг именам их авторов? Для этого используется функция `pd.merge`: в эту функцию помещаются те таблицы, которые мы хотим соединить, а также несколько других важных аргументов:\n",
    "\n",
    "* `on` - параметр, отвечающий за то, какой столбец мы будем использовать для слияния,\n",
    "* `how` - каким образом производить слияние.\n",
    "\n",
    "Опишем подробнее, какие значения может принимать параметр `how`:\n",
    "\n",
    "* `\"inner\"` - внутреннее слияние. В этом случае в слиянии участвуют только те строки, которые присутствуют в обоих таблицах,\n",
    "* `\"left\"` - в слиянии участвуют все строки из левой таблицы,\n",
    "* `\"right\"` - то же самое, но для правой таблицы,\n",
    "* `\"outer\"` - внешнее слияние, соединяются все строки как из левой, так и из правой таблицы,\n",
    "* `\"cross\"` - Декартово произведение (каждая строка с каждой).\n"
   ]
  },
  {
   "cell_type": "code",
   "execution_count": null,
   "metadata": {
    "colab": {
     "base_uri": "https://localhost:8080/",
     "height": 143
    },
    "executionInfo": {
     "elapsed": 284,
     "status": "ok",
     "timestamp": 1721924080863,
     "user": {
      "displayName": "Alexander Saranov",
      "userId": "05717130771038677382"
     },
     "user_tz": -180
    },
    "id": "8n2gin-nI-Hw",
    "outputId": "a2f41419-7e9a-471d-ac98-ebc9c4f85b0d"
   },
   "outputs": [],
   "source": [
    "pd.merge(authors, books, left_on='author_id', right_on='author_id', how='inner')"
   ]
  },
  {
   "cell_type": "markdown",
   "metadata": {
    "id": "bVPmcn37I-Hy"
   },
   "source": [
    "Если мы выбираем `\"left\"`, `\"right\"` или `\"outer\"`, может случиться так, что строку из одной таблицы будет невозможно соединить со второй. Например, мы видим, что в нашей таблице `books` нет произведений Пушкина (его `id` равен 1). В свою очередь, в таблице `books` есть книга, для которой `author_id` равен 4, хотя, в таблице `authors` нет записи с таким `author_id`. Рассмотрим внешнее слияние этих таблиц:"
   ]
  },
  {
   "cell_type": "code",
   "execution_count": null,
   "metadata": {
    "colab": {
     "base_uri": "https://localhost:8080/",
     "height": 206
    },
    "executionInfo": {
     "elapsed": 288,
     "status": "ok",
     "timestamp": 1721924084394,
     "user": {
      "displayName": "Alexander Saranov",
      "userId": "05717130771038677382"
     },
     "user_tz": -180
    },
    "id": "P9E4mInBI-Hz",
    "outputId": "56586004-bbca-4f37-9ffb-b73b60f5f4b4"
   },
   "outputs": [],
   "source": [
    "merged_df = pd.merge(authors, books, on='author_id', how='outer')\n",
    "\n",
    "merged_df"
   ]
  },
  {
   "cell_type": "markdown",
   "metadata": {},
   "source": [
    "Как мы видим, в получившейся таблице присутствуют пропущенные значения (`NaN`)."
   ]
  },
  {
   "cell_type": "markdown",
   "metadata": {
    "id": "Af0I2qVKI-H3"
   },
   "source": [
    "#### Работа с пропущенными данными"
   ]
  },
  {
   "cell_type": "markdown",
   "metadata": {},
   "source": [
    "Пропущенные значения в `Series` или `DataFrame` можно получить с помощью метода `.isnull`. Наоборот, все имеющиеся непустые значения можно получить с помощью метода `.notnull`:"
   ]
  },
  {
   "cell_type": "code",
   "execution_count": null,
   "metadata": {
    "colab": {
     "base_uri": "https://localhost:8080/",
     "height": 81
    },
    "executionInfo": {
     "elapsed": 295,
     "status": "ok",
     "timestamp": 1721923709528,
     "user": {
      "displayName": "Alexander Saranov",
      "userId": "05717130771038677382"
     },
     "user_tz": -180
    },
    "id": "PIVEZX7sI-H3",
    "outputId": "0d204551-7a1a-4901-b65b-69a050050376"
   },
   "outputs": [],
   "source": [
    "merged_df[merged_df[\"author_name\"].isnull()]"
   ]
  },
  {
   "cell_type": "code",
   "execution_count": null,
   "metadata": {
    "colab": {
     "base_uri": "https://localhost:8080/",
     "height": 175
    },
    "executionInfo": {
     "elapsed": 318,
     "status": "ok",
     "timestamp": 1721923727076,
     "user": {
      "displayName": "Alexander Saranov",
      "userId": "05717130771038677382"
     },
     "user_tz": -180
    },
    "id": "F0MaLqu1I-H5",
    "outputId": "fdf4b8a8-063d-42cc-ca9c-ddf5a4879229"
   },
   "outputs": [],
   "source": [
    "merged_df[merged_df[\"author_name\"].notnull()]"
   ]
  },
  {
   "cell_type": "markdown",
   "metadata": {
    "id": "pNq0X7x-I-H7"
   },
   "source": [
    "Заполнить пропущенные значения каким-то своим значением можно с помощью метода `.fillna()`:"
   ]
  },
  {
   "cell_type": "code",
   "execution_count": null,
   "metadata": {
    "colab": {
     "base_uri": "https://localhost:8080/",
     "height": 206
    },
    "executionInfo": {
     "elapsed": 289,
     "status": "ok",
     "timestamp": 1721923789385,
     "user": {
      "displayName": "Alexander Saranov",
      "userId": "05717130771038677382"
     },
     "user_tz": -180
    },
    "id": "76FEe8XjI-H8",
    "outputId": "59d9ed1f-0b63-4702-96ce-83ddf34da505"
   },
   "outputs": [],
   "source": [
    "merged_df[\"author_name\"] = merged_df[\"author_name\"].fillna(\"Unknown author\")\n",
    "\n",
    "merged_df"
   ]
  },
  {
   "cell_type": "markdown",
   "metadata": {
    "id": "nVrQXD-II-H-"
   },
   "source": [
    "#### Добавление столбцов в `DataFrame`"
   ]
  },
  {
   "cell_type": "markdown",
   "metadata": {},
   "source": [
    "Допустим, каждая из наших книг имеется в единственном экземпляре. Мы хотели бы создать в таблице `merged_df` столбец `quantity`, который бы содержал количество экземпляров каждой книги.\n",
    "\n",
    "Создание нового столбца в таблице `DataFrame` происходит аналогично созданию нового значения в словаре `dict`. Достаточно просто объявить значение `merged_df[\"quantity\"]`. Если подать в это значение какое-нибудь число или строку, то все значения в данном столбце приравняются к этому числу или строке. Также можно подать сюда список, тогда значения из этого списка поступят в соответствующие строки этого столбца. В этом случае длина списка обязана совпадать с числом строк таблицы.\n",
    "\n",
    "Итак, выберем все строки с непустым значением поля `book_title`, и для них запишем в столбец `quantity` число 1. Это можно сделать с помощью атрибута `.loc`:"
   ]
  },
  {
   "cell_type": "code",
   "execution_count": null,
   "metadata": {
    "colab": {
     "base_uri": "https://localhost:8080/",
     "height": 206
    },
    "executionInfo": {
     "elapsed": 297,
     "status": "ok",
     "timestamp": 1721924096744,
     "user": {
      "displayName": "Alexander Saranov",
      "userId": "05717130771038677382"
     },
     "user_tz": -180
    },
    "id": "qMczv7OTI-H-",
    "outputId": "836c9ca2-f779-4d83-c2e9-66bbce9a63a4"
   },
   "outputs": [],
   "source": [
    "merged_df.loc[merged_df[\"book_title\"].notnull(), \"quantity\"] = 1\n",
    "\n",
    "merged_df"
   ]
  },
  {
   "cell_type": "markdown",
   "metadata": {
    "id": "AOBt9xicI-IA"
   },
   "source": [
    "Теперь заполним все пропуски в этом столбце числом 0:"
   ]
  },
  {
   "cell_type": "code",
   "execution_count": null,
   "metadata": {
    "id": "lPJUXA6-I-IB"
   },
   "outputs": [],
   "source": [
    "merged_df[\"quantity\"].fillna(0, inplace=True)\n",
    "\n",
    "merged_df\n"
   ]
  },
  {
   "cell_type": "code",
   "execution_count": null,
   "metadata": {},
   "outputs": [],
   "source": [
    "pip show pandas "
   ]
  },
  {
   "cell_type": "markdown",
   "metadata": {
    "id": "y9n61GsAI-ID"
   },
   "source": [
    "Наконец, приведём значения в этом столбце к типу `int`. (Это сделать невозможно, если в столбце содержатся пропуски.)"
   ]
  },
  {
   "cell_type": "code",
   "execution_count": null,
   "metadata": {},
   "outputs": [],
   "source": [
    "merged_df.dtypes"
   ]
  },
  {
   "cell_type": "code",
   "execution_count": null,
   "metadata": {
    "colab": {
     "base_uri": "https://localhost:8080/",
     "height": 206
    },
    "executionInfo": {
     "elapsed": 293,
     "status": "ok",
     "timestamp": 1721924224661,
     "user": {
      "displayName": "Alexander Saranov",
      "userId": "05717130771038677382"
     },
     "user_tz": -180
    },
    "id": "oiC1eYVvI-IE",
    "outputId": "db0ff56e-0e86-4f1e-96c1-b291566f43de"
   },
   "outputs": [],
   "source": [
    "merged_df[\"quantity\"] = merged_df[\"quantity\"].astype(int)\n",
    "\n",
    "merged_df"
   ]
  },
  {
   "cell_type": "code",
   "execution_count": null,
   "metadata": {},
   "outputs": [],
   "source": [
    "merged_df.dtypes"
   ]
  },
  {
   "cell_type": "markdown",
   "metadata": {
    "id": "S4WgroS-I-IG"
   },
   "source": [
    "В `DataFrame` можно использовать индексы по умолчанию, а можно и назначить свои. Например, в качестве индексов можно использовать какой-нибудь из столбцов:"
   ]
  },
  {
   "cell_type": "code",
   "execution_count": null,
   "metadata": {
    "colab": {
     "base_uri": "https://localhost:8080/",
     "height": 237
    },
    "executionInfo": {
     "elapsed": 284,
     "status": "ok",
     "timestamp": 1721924237661,
     "user": {
      "displayName": "Alexander Saranov",
      "userId": "05717130771038677382"
     },
     "user_tz": -180
    },
    "id": "VfSnwKwsI-IG",
    "outputId": "9942b138-41d5-4de4-c349-c886e466c294"
   },
   "outputs": [],
   "source": [
    "merged_df.set_index(\"author_id\", inplace=True)\n",
    "\n",
    "merged_df"
   ]
  },
  {
   "cell_type": "markdown",
   "metadata": {
    "id": "a3YQjgpMI-II"
   },
   "source": [
    "Если что, индексы всегда можно сбросить. Тогда текущие индексы становятся столбцом:"
   ]
  },
  {
   "cell_type": "code",
   "execution_count": null,
   "metadata": {
    "colab": {
     "base_uri": "https://localhost:8080/",
     "height": 206
    },
    "executionInfo": {
     "elapsed": 318,
     "status": "ok",
     "timestamp": 1721924262869,
     "user": {
      "displayName": "Alexander Saranov",
      "userId": "05717130771038677382"
     },
     "user_tz": -180
    },
    "id": "5aABCnNqI-IJ",
    "outputId": "c2ccacad-d410-44d2-dbaf-eff274430d24"
   },
   "outputs": [],
   "source": [
    "merged_df.reset_index(inplace=True)\n",
    "\n",
    "merged_df"
   ]
  },
  {
   "cell_type": "markdown",
   "metadata": {
    "id": "jMLzx0I7I-IN"
   },
   "source": [
    "#### Удаление данных\n"
   ]
  },
  {
   "cell_type": "markdown",
   "metadata": {},
   "source": [
    "Для удаления данных из `DataFrame` используется метод `.drop`. В этот метод подаётся метка элемента, который необходимо удалить (индекс строки или название столбца), а также ось `axis`. При `axis=0` удаляется строка, при значении `axis=1` - столбец:"
   ]
  },
  {
   "cell_type": "code",
   "execution_count": null,
   "metadata": {
    "colab": {
     "base_uri": "https://localhost:8080/",
     "height": 206
    },
    "executionInfo": {
     "elapsed": 278,
     "status": "ok",
     "timestamp": 1721924392460,
     "user": {
      "displayName": "Alexander Saranov",
      "userId": "05717130771038677382"
     },
     "user_tz": -180
    },
    "id": "akegn7sVI-IO",
    "outputId": "d9b5f259-c5b0-4b8f-9b91-1d3bd1dcb270"
   },
   "outputs": [],
   "source": [
    "merged_df[\"price\"] = 500\n",
    "\n",
    "merged_df"
   ]
  },
  {
   "cell_type": "code",
   "execution_count": null,
   "metadata": {
    "colab": {
     "base_uri": "https://localhost:8080/",
     "height": 206
    },
    "executionInfo": {
     "elapsed": 313,
     "status": "ok",
     "timestamp": 1721924421804,
     "user": {
      "displayName": "Alexander Saranov",
      "userId": "05717130771038677382"
     },
     "user_tz": -180
    },
    "id": "Iycv-BFlI-IT",
    "outputId": "95c06567-fcbe-4d65-de91-4cb7ec16a01a"
   },
   "outputs": [],
   "source": [
    "merged_df.drop(\"price\", axis=1, inplace=True)\n",
    "\n",
    "merged_df"
   ]
  },
  {
   "cell_type": "markdown",
   "metadata": {
    "id": "6iF3MhWUI-IW"
   },
   "source": [
    "Теперь удалим строку с индексом 1:"
   ]
  },
  {
   "cell_type": "code",
   "execution_count": null,
   "metadata": {
    "colab": {
     "base_uri": "https://localhost:8080/",
     "height": 175
    },
    "executionInfo": {
     "elapsed": 282,
     "status": "ok",
     "timestamp": 1721924450030,
     "user": {
      "displayName": "Alexander Saranov",
      "userId": "05717130771038677382"
     },
     "user_tz": -180
    },
    "id": "XbMgSWZ_I-IX",
    "outputId": "b1dea489-356e-405a-8c2a-898e145029e1"
   },
   "outputs": [],
   "source": [
    "merged_df.drop(1, axis=0, inplace=True)\n",
    "\n",
    "merged_df"
   ]
  },
  {
   "cell_type": "markdown",
   "metadata": {
    "id": "cHSeORq8I-IY"
   },
   "source": [
    "#### Сортировка данных"
   ]
  },
  {
   "cell_type": "markdown",
   "metadata": {},
   "source": [
    "Вернём только что удалённую строку. Напомним, что для этого используется метод `.concat`. Кстати, добавлять строки к `DataFrame` можно прямо в виде словарей `dict`:"
   ]
  },
  {
   "cell_type": "code",
   "execution_count": null,
   "metadata": {
    "colab": {
     "base_uri": "https://localhost:8080/",
     "height": 206
    },
    "executionInfo": {
     "elapsed": 292,
     "status": "ok",
     "timestamp": 1721924524002,
     "user": {
      "displayName": "Alexander Saranov",
      "userId": "05717130771038677382"
     },
     "user_tz": -180
    },
    "id": "1GbbSJHeI-Ia",
    "outputId": "fed39148-80b6-4b6c-82c2-08caaf6e5641"
   },
   "outputs": [],
   "source": [
    "merged_df = pd.concat([merged_df,\n",
    "    pd.DataFrame({\n",
    "        \"author_id\": [2],\n",
    "        \"author_name\": [\"Tolstoy\"],\n",
    "        \"book_title\": [\"War and Peace\"],\n",
    "        \"quantity\": [1],\n",
    "    })],ignore_index=True\n",
    ")\n",
    "\n",
    "merged_df"
   ]
  },
  {
   "cell_type": "markdown",
   "metadata": {
    "id": "jnJVEYYJI-Ih"
   },
   "source": [
    "Параметр `ignore_index=True` подаётся сюда, чтобы индексы соединяемых таблиц не учитывались. В результирующей таблице будут использованы стандартные последовательные индексы, начинающиеся с 0.\n",
    "\n",
    "Отсортируем эту таблицу по столбцу `author_id`. Это делается с помощью метода `.sort_values`:"
   ]
  },
  {
   "cell_type": "code",
   "execution_count": null,
   "metadata": {
    "colab": {
     "base_uri": "https://localhost:8080/",
     "height": 206
    },
    "executionInfo": {
     "elapsed": 413,
     "status": "ok",
     "timestamp": 1721924543322,
     "user": {
      "displayName": "Alexander Saranov",
      "userId": "05717130771038677382"
     },
     "user_tz": -180
    },
    "id": "WlwQC7ZgI-Ih",
    "outputId": "f55f937b-b4bd-441a-d118-40ffcb8771ba"
   },
   "outputs": [],
   "source": [
    "merged_df.sort_values(by=\"author_id\", inplace=True)\n",
    "\n",
    "merged_df"
   ]
  },
  {
   "cell_type": "markdown",
   "metadata": {
    "id": "gKydz8lII-Ij"
   },
   "source": [
    "Чтобы сбросить индексы, воспользуемся уже известным методом `.reset_index`. В нашем случае, стоит подать в него аргумент `drop=True`, который означает, что текущий столбец из индексов не нужно сохранять в таблице, а можно удалить."
   ]
  },
  {
   "cell_type": "code",
   "execution_count": null,
   "metadata": {
    "colab": {
     "base_uri": "https://localhost:8080/",
     "height": 206
    },
    "executionInfo": {
     "elapsed": 294,
     "status": "ok",
     "timestamp": 1721924556829,
     "user": {
      "displayName": "Alexander Saranov",
      "userId": "05717130771038677382"
     },
     "user_tz": -180
    },
    "id": "FvYreG9bI-Ij",
    "outputId": "f32db1cd-46ab-457a-bf19-d72a9c6455ad"
   },
   "outputs": [],
   "source": [
    "merged_df.reset_index(drop=True, inplace=True)\n",
    "\n",
    "merged_df"
   ]
  },
  {
   "cell_type": "markdown",
   "metadata": {
    "id": "dfIIi0LGI-Im"
   },
   "source": [
    "#### Соединение таблиц"
   ]
  },
  {
   "cell_type": "markdown",
   "metadata": {},
   "source": [
    "Для соединения таблиц можно пользоваться функцией `pd.concat`. С этой функцией мы уже знакомились, когда изучали библиотеку `numpy`. Здесь эта функция работает аналогичным образом: соединяет таблицы либо вертикально (если указан параметр `axis=0`), либо горизонтально (если `axis=1`).\n",
    "\n",
    "Соединение происходит с сохранением индексов, если не указан параметр `ignore_index=True`."
   ]
  },
  {
   "cell_type": "code",
   "execution_count": null,
   "metadata": {
    "colab": {
     "base_uri": "https://localhost:8080/",
     "height": 269
    },
    "executionInfo": {
     "elapsed": 281,
     "status": "ok",
     "timestamp": 1721924682761,
     "user": {
      "displayName": "Alexander Saranov",
      "userId": "05717130771038677382"
     },
     "user_tz": -180
    },
    "id": "Jc68kpVPI-Im",
    "outputId": "9cdc4026-b143-4251-c2ab-b97839d60f7a"
   },
   "outputs": [],
   "source": [
    "df = pd.DataFrame({\n",
    "    'author_id': [3, 5],\n",
    "    'author_name': ['Dostoevsky', 'Chekhov'],\n",
    "    'book_title': ['The Gambler', 'Three Sisters'],\n",
    "    'quantity': [2, 3],\n",
    "})\n",
    "\n",
    "df"
   ]
  },
  {
   "cell_type": "code",
   "execution_count": null,
   "metadata": {},
   "outputs": [],
   "source": [
    "df_concat = pd.concat([merged_df, df], axis=0, ignore_index=True)\n",
    "\n",
    "df_concat"
   ]
  },
  {
   "cell_type": "code",
   "execution_count": null,
   "metadata": {},
   "outputs": [],
   "source": [
    "df = pd.DataFrame(\n",
    "    {'price': [700, 450, 500, 400, 350]},\n",
    "    index=[1, 2, 3, 5, 6],\n",
    ")\n",
    "\n",
    "df"
   ]
  },
  {
   "cell_type": "code",
   "execution_count": null,
   "metadata": {
    "colab": {
     "base_uri": "https://localhost:8080/",
     "height": 269
    },
    "executionInfo": {
     "elapsed": 277,
     "status": "ok",
     "timestamp": 1721924719220,
     "user": {
      "displayName": "Alexander Saranov",
      "userId": "05717130771038677382"
     },
     "user_tz": -180
    },
    "id": "G06O6mgeI-Iq",
    "outputId": "f8084b8f-8293-4601-ea6a-b02fdd73b845"
   },
   "outputs": [],
   "source": [
    "df_concat = pd.concat([df_concat, df], axis=1)\n",
    "\n",
    "df_concat"
   ]
  },
  {
   "cell_type": "markdown",
   "metadata": {
    "id": "g7uNIdjiI-Ir"
   },
   "source": [
    "#### Операции над таблицами"
   ]
  },
  {
   "cell_type": "markdown",
   "metadata": {},
   "source": [
    "Как и ранее с массивами `numpy` и `Series`, с таблицами `DataFrame` можно производить различные математические операции. Например, значения различных столбцов можно поэлементно перемножать, складывать и пр."
   ]
  },
  {
   "cell_type": "code",
   "execution_count": null,
   "metadata": {
    "colab": {
     "base_uri": "https://localhost:8080/",
     "height": 269
    },
    "executionInfo": {
     "elapsed": 304,
     "status": "ok",
     "timestamp": 1721924869091,
     "user": {
      "displayName": "Alexander Saranov",
      "userId": "05717130771038677382"
     },
     "user_tz": -180
    },
    "id": "5e-ebivAI-Ir",
    "outputId": "1f2f3915-fe5c-4ad9-8180-41491c4676e4"
   },
   "outputs": [],
   "source": [
    "df_concat[\"total\"] = df_concat[\"quantity\"] * df_concat[\"price\"]\n",
    "\n",
    "df_concat"
   ]
  },
  {
   "cell_type": "code",
   "execution_count": null,
   "metadata": {
    "colab": {
     "base_uri": "https://localhost:8080/"
    },
    "executionInfo": {
     "elapsed": 1,
     "status": "ok",
     "timestamp": 1721924896345,
     "user": {
      "displayName": "Alexander Saranov",
      "userId": "05717130771038677382"
     },
     "user_tz": -180
    },
    "id": "MTsFbiDcuLHu",
    "outputId": "a412c86d-db68-4776-e630-31b590559b0d"
   },
   "outputs": [],
   "source": [
    "df_concat[\"total\"].max()"
   ]
  },
  {
   "cell_type": "markdown",
   "metadata": {
    "id": "NTI-BTHbI-It"
   },
   "source": [
    "С помощью следующих методов можно посчитать основные статистики по желаемым столбцам:\n",
    "\n",
    "* `df_concat[\"price\"].max()` - максимум\n",
    "* `df_concat[\"price\"].min()` - минимум\n",
    "* `df_concat[\"price\"].mean()` - среднее\n",
    "* `df_concat[\"price\"].median()` - медиана\n",
    "* `df_concat[\"price\"].std()` - среднее квадратическое значение\n",
    "* `df_concat[\"price\"].var()` - дисперсия\n",
    "\n",
    "С помощью метода `.nlargest` можно вывести несколько наибольших значений. Указывается то, сколько значений нужно вернуть, а также то, по какому именно значению нужно сортировать. Имеется также аналогичный метод `.nsmallest`."
   ]
  },
  {
   "cell_type": "code",
   "execution_count": null,
   "metadata": {},
   "outputs": [],
   "source": [
    "df_concat"
   ]
  },
  {
   "cell_type": "code",
   "execution_count": null,
   "metadata": {
    "colab": {
     "base_uri": "https://localhost:8080/",
     "height": 143
    },
    "executionInfo": {
     "elapsed": 279,
     "status": "ok",
     "timestamp": 1721924915801,
     "user": {
      "displayName": "Alexander Saranov",
      "userId": "05717130771038677382"
     },
     "user_tz": -180
    },
    "id": "qzIHHkGQI-It",
    "outputId": "8bb31426-76cc-4cf2-867a-9f4733a54778"
   },
   "outputs": [],
   "source": [
    "df_concat.nlargest(3, \"price\")\n"
   ]
  },
  {
   "cell_type": "code",
   "execution_count": null,
   "metadata": {},
   "outputs": [],
   "source": [
    "df_concat.nsmallest(3, \"quantity\")"
   ]
  },
  {
   "cell_type": "code",
   "execution_count": null,
   "metadata": {},
   "outputs": [],
   "source": [
    "df_concat.nsmallest(3, [\"quantity\", \"price\"])\n"
   ]
  },
  {
   "cell_type": "markdown",
   "metadata": {
    "id": "iTygSn5hI-Iv"
   },
   "source": [
    "С помощью метода `.unique` можно получить уникальные значения заданного столбца:"
   ]
  },
  {
   "cell_type": "code",
   "execution_count": null,
   "metadata": {
    "colab": {
     "base_uri": "https://localhost:8080/"
    },
    "executionInfo": {
     "elapsed": 287,
     "status": "ok",
     "timestamp": 1721924925948,
     "user": {
      "displayName": "Alexander Saranov",
      "userId": "05717130771038677382"
     },
     "user_tz": -180
    },
    "id": "OUjbqYYcI-Iv",
    "outputId": "5ba60090-7515-46df-d1e2-e6ed78fafa49"
   },
   "outputs": [],
   "source": [
    "df_concat[\"author_name\"].unique()"
   ]
  },
  {
   "cell_type": "markdown",
   "metadata": {},
   "source": [
    "Если нужно получить не уникальные значения, а лишь их количество, можно воспользоваться методом `.nunique`."
   ]
  },
  {
   "cell_type": "code",
   "execution_count": null,
   "metadata": {},
   "outputs": [],
   "source": [
    "df_concat[\"author_name\"].nunique()"
   ]
  },
  {
   "cell_type": "markdown",
   "metadata": {
    "id": "selLFZUSI-Ix"
   },
   "source": [
    "С помощью метода `.value_counts` можно получить информацию о том, сколько раз каждое значение появляется в данном столбце:"
   ]
  },
  {
   "cell_type": "code",
   "execution_count": null,
   "metadata": {
    "colab": {
     "base_uri": "https://localhost:8080/"
    },
    "executionInfo": {
     "elapsed": 305,
     "status": "ok",
     "timestamp": 1721924943015,
     "user": {
      "displayName": "Alexander Saranov",
      "userId": "05717130771038677382"
     },
     "user_tz": -180
    },
    "id": "idERJA0NI-Ix",
    "outputId": "004ba9c9-3bff-486b-907f-159351467fc4"
   },
   "outputs": [],
   "source": [
    "df_concat[\"author_name\"].value_counts()"
   ]
  },
  {
   "cell_type": "markdown",
   "metadata": {
    "id": "zuuRhAy6I-Iz"
   },
   "source": [
    "К значениям таблицы можно применять и функции, которые не имеются в библиотеках `pandas` и `numpy`. Делается это с помощью метода `.apply`:"
   ]
  },
  {
   "cell_type": "code",
   "execution_count": null,
   "metadata": {
    "colab": {
     "base_uri": "https://localhost:8080/"
    },
    "id": "Lw8SXZfFI-I0",
    "outputId": "fe031387-67d5-4d78-8657-d10e5cff9260"
   },
   "outputs": [],
   "source": [
    "df_concat[\"author_name\"] = df_concat[\"author_name\"].apply(lambda x: x.upper())\n",
    "\n",
    "df_concat"
   ]
  },
  {
   "cell_type": "markdown",
   "metadata": {
    "id": "rbPPZVFVI-I2"
   },
   "source": [
    "#### Группировка данных"
   ]
  },
  {
   "cell_type": "markdown",
   "metadata": {},
   "source": [
    "Данные в таблице `DataFrame` можно группировать по повторяющимся значениям выбранного столбца. Группировка позволяет вычислять какие-то _агренированные_ значения, т.е. значения, полученные каким-то образом из групп других значений. Например, если мы захотим сгруппировать нашу таблицу по значениям `author_name`, то каждая группа будет содержать все строки с одинаковым значением `author_name`. По таким группам можно затем посчитать какую-нибудь агрегирующую функцию, например, сумму, среднее, минимум и др.\n",
    "\n",
    "Вот несколько способов это сделать. В первом случае мы просто выбираем конкретный столбец из группировки и применяем к нему какую-то агрегирующую функцию:"
   ]
  },
  {
   "cell_type": "code",
   "execution_count": null,
   "metadata": {
    "colab": {
     "base_uri": "https://localhost:8080/",
     "height": 269
    },
    "executionInfo": {
     "elapsed": 976,
     "status": "ok",
     "timestamp": 1721925226041,
     "user": {
      "displayName": "Alexander Saranov",
      "userId": "05717130771038677382"
     },
     "user_tz": -180
    },
    "id": "BRd03CyCvbvq",
    "outputId": "a95ffe71-973a-4fd3-b8f9-a383cf0b4765"
   },
   "outputs": [],
   "source": [
    "df_concat"
   ]
  },
  {
   "cell_type": "code",
   "execution_count": null,
   "metadata": {
    "colab": {
     "base_uri": "https://localhost:8080/"
    },
    "executionInfo": {
     "elapsed": 302,
     "status": "ok",
     "timestamp": 1721925249593,
     "user": {
      "displayName": "Alexander Saranov",
      "userId": "05717130771038677382"
     },
     "user_tz": -180
    },
    "id": "T1UW_htmI-I3",
    "outputId": "0bfcb785-b270-4512-faf4-ffd508499f3b"
   },
   "outputs": [],
   "source": [
    "df_concat.groupby(\"author_name\")[\"price\"].mean().reset_index().sort_values(\"price\")"
   ]
  },
  {
   "cell_type": "markdown",
   "metadata": {
    "id": "hkYvCWkBI-I5"
   },
   "source": [
    "Второй способ - с помощью метода `.agg`. Данный метод является более гибким. Например, он позволяет вычислять одновременно несколько различных агрегирующих функций от разных столбцов:"
   ]
  },
  {
   "cell_type": "code",
   "execution_count": null,
   "metadata": {
    "colab": {
     "base_uri": "https://localhost:8080/",
     "height": 175
    },
    "executionInfo": {
     "elapsed": 291,
     "status": "ok",
     "timestamp": 1721925412986,
     "user": {
      "displayName": "Alexander Saranov",
      "userId": "05717130771038677382"
     },
     "user_tz": -180
    },
    "id": "06mE_kcXvq-h",
    "outputId": "6e9a7f87-bfd7-4c69-ede4-c199163d1012"
   },
   "outputs": [],
   "source": [
    "df_concat.groupby('author_name').agg({\"price\": \"max\", \"total\": \"count\"})\n"
   ]
  },
  {
   "cell_type": "markdown",
   "metadata": {},
   "source": [
    "А теперь приведем результат в порядок:"
   ]
  },
  {
   "cell_type": "code",
   "execution_count": null,
   "metadata": {},
   "outputs": [],
   "source": [
    "df_concat.groupby('author_name').agg({\"price\": \"max\", \"total\": \"count\"}).reset_index().rename(columns={'price': 'price_max'})"
   ]
  },
  {
   "cell_type": "markdown",
   "metadata": {
    "id": "V1IdEj1zfibw"
   },
   "source": [
    "---"
   ]
  },
  {
   "cell_type": "markdown",
   "metadata": {
    "id": "r6QmNH4ssTit"
   },
   "source": [
    "## Практическая часть"
   ]
  },
  {
   "cell_type": "markdown",
   "metadata": {},
   "source": [
    "### Задача 1: Поработаем с Excel"
   ]
  },
  {
   "cell_type": "markdown",
   "metadata": {},
   "source": [
    "Прочитайте файл с данными о продажах sales.xlsx.\n",
    "\n",
    "Вычислите общую сумму продаж и день, в который сумма продаж была максимальной."
   ]
  },
  {
   "cell_type": "code",
   "execution_count": null,
   "metadata": {},
   "outputs": [],
   "source": [
    "import openpyxl\n",
    "\n",
    "\n"
   ]
  },
  {
   "cell_type": "markdown",
   "metadata": {},
   "source": [
    "### Задача 2: Анализ спортивных данных"
   ]
  },
  {
   "cell_type": "markdown",
   "metadata": {},
   "source": [
    "Используйте библиотеку NumPy для анализа данных о результатах спортивных соревнований. У вас есть массив данных с результатами бегунов на дистанцию 100 метров. Ваша задача — вычислить среднее время, медианное время, стандартное отклонение, а также найти лучшие и худшие результаты."
   ]
  },
  {
   "cell_type": "code",
   "execution_count": null,
   "metadata": {
    "colab": {
     "base_uri": "https://localhost:8080/"
    },
    "executionInfo": {
     "elapsed": 285,
     "status": "ok",
     "timestamp": 1722267798994,
     "user": {
      "displayName": "Alexander Saranov",
      "userId": "05717130771038677382"
     },
     "user_tz": -180
    },
    "id": "0aZk22tshbCv",
    "outputId": "eafb5913-46b2-4470-9a45-add27831f9fd"
   },
   "outputs": [],
   "source": [
    "import numpy as np\n",
    "\n",
    "# Результаты бегунов (в секундах)\n",
    "results = np.array([12.4, 11.8, 13.2, 12.1, 11.5, 12.7, 11.9, 12.3, 12.0, 11.7])\n",
    "\n",
    "# Среднее время\n",
    "\n",
    "print(f\"Среднее время: {mean_time} секунд\")\n",
    "\n",
    "# Медианное время\n",
    "\n",
    "print(f\"Медианное время: {median_time} секунд\")\n",
    "\n",
    "# Стандартное отклонение\n",
    "\n",
    "print(f\"Стандартное отклонение: {std_deviation} секунд\")\n",
    "\n",
    "# Лучший и худший результат\n",
    "\n",
    "\n",
    "print(f\"Лучшее время: {best_time} секунд\")\n",
    "print(f\"Худшее время: {worst_time} секунд\")\n"
   ]
  },
  {
   "cell_type": "markdown",
   "metadata": {},
   "source": [
    "### Задача 3: Анализ данных о недвижимости"
   ]
  },
  {
   "cell_type": "markdown",
   "metadata": {},
   "source": [
    "Используйте библиотеку Pandas для анализа данных о недвижимости. У вас есть данные о домах, включая цену, количество комнат, площадь и местоположение. Ваша задача — определить среднюю цену домов в каждом районе, найти дома с самой высокой и самой низкой ценой, а также посчитать среднюю площадь домов."
   ]
  },
  {
   "cell_type": "code",
   "execution_count": null,
   "metadata": {
    "colab": {
     "base_uri": "https://localhost:8080/"
    },
    "executionInfo": {
     "elapsed": 290,
     "status": "ok",
     "timestamp": 1722267913374,
     "user": {
      "displayName": "Alexander Saranov",
      "userId": "05717130771038677382"
     },
     "user_tz": -180
    },
    "id": "vq0-5HnosY76",
    "outputId": "042c1522-3cab-4161-b817-57488d633c53"
   },
   "outputs": [],
   "source": [
    "import pandas as pd\n",
    "\n",
    "# Данные о недвижимости\n",
    "data = {\n",
    "    'Price': [300000, 450000, 350000, 500000, 400000],\n",
    "    'Rooms': [3, 4, 3, 5, 4],\n",
    "    'Area': [120, 200, 150, 250, 180],\n",
    "    'Location': ['North', 'West', 'North', 'East', 'West']\n",
    "}\n",
    "\n",
    "# Создание DataFrame\n",
    "\n",
    "# Средняя цена домов в каждом районе\n",
    "\n",
    "print(\"Средняя цена домов в каждом районе:\\n\", mean_price_by_location)\n",
    "\n",
    "# Дом с самой высокой и самой низкой ценой\n",
    "\n",
    "print(\"Дом с самой высокой ценой:\\n\", max_price_home)\n",
    "print(\"Дом с самой низкой ценой:\\n\", min_price_home)\n",
    "\n",
    "# Средняя площадь домов\n",
    "\n",
    "print(f\"Средняя площадь домов: {mean_area} кв.м.\")\n"
   ]
  }
 ],
 "metadata": {
  "colab": {
   "provenance": []
  },
  "kernelspec": {
   "display_name": ".venv",
   "language": "python",
   "name": "python3"
  },
  "language_info": {
   "codemirror_mode": {
    "name": "ipython",
    "version": 3
   },
   "file_extension": ".py",
   "mimetype": "text/x-python",
   "name": "python",
   "nbconvert_exporter": "python",
   "pygments_lexer": "ipython3",
   "version": "3.13.2"
  }
 },
 "nbformat": 4,
 "nbformat_minor": 0
}
