{
  "cells": [
    {
      "cell_type": "markdown",
      "metadata": {
        "id": "f5mrZpaPaVDE"
      },
      "source": [
        "#<font color='green' size=5> **Масштабирование признаков**"
      ]
    },
    {
      "cell_type": "code",
      "execution_count": 4,
      "metadata": {
        "id": "GOlKl26haXkv"
      },
      "outputs": [],
      "source": [
        "import pandas as pd\n",
        "import numpy as np\n",
        "from sklearn.datasets import fetch_california_housing\n",
        "from sklearn.model_selection import train_test_split\n",
        "from sklearn.impute import SimpleImputer\n",
        "from sklearn.preprocessing import StandardScaler, RobustScaler, MinMaxScaler\n",
        "from sklearn.linear_model import LinearRegression, SGDRegressor, Lasso, LogisticRegression\n",
        "from sklearn.metrics import (mean_absolute_error, root_mean_squared_error, r2_score, roc_auc_score)\n",
        "\n",
        "\n",
        "import seaborn as sns\n",
        "import matplotlib.pyplot as plt"
      ]
    },
    {
      "cell_type": "code",
      "execution_count": 5,
      "metadata": {
        "id": "C2LY4zauBFzi"
      },
      "outputs": [],
      "source": [
        "pd.set_option('display.float_format', '{:.6f}'.format)\n"
      ]
    },
    {
      "cell_type": "markdown",
      "metadata": {
        "id": "YpDeHTA_anAK"
      },
      "source": [
        "#<font color='green' size=5> **Загрузка данных и определение ролей переменных**"
      ]
    },
    {
      "cell_type": "code",
      "execution_count": 6,
      "metadata": {
        "id": "TYP-oaQynV1H"
      },
      "outputs": [],
      "source": [
        "try:\n",
        "  data = fetch_california_housing(as_frame=True)\n",
        "  df = data.frame\n",
        "  target = 'MedHouseVal'\n",
        "except Exception as e:\n",
        "  print(e)\n",
        "  !gdown 1ndW2qOmF_YIgJhJ4ZyrmFwtRkOLGp5zL\n",
        "  df = pd.read_csv('/content/housing.csv')\n",
        "  target = 'median_house_value'"
      ]
    },
    {
      "cell_type": "code",
      "execution_count": 7,
      "metadata": {
        "id": "PO1wAUYFzk6M"
      },
      "outputs": [],
      "source": [
        "# названия столбцов приведем к lowecase\n",
        "df.columns=[col.lower() for col in df.columns]\n",
        "target = target.lower()"
      ]
    },
    {
      "cell_type": "code",
      "execution_count": 8,
      "metadata": {
        "colab": {
          "base_uri": "https://localhost:8080/",
          "height": 206
        },
        "id": "WDo_8FsWaptV",
        "outputId": "f961e4ce-cac3-427e-d308-640fb96f8ad0"
      },
      "outputs": [
        {
          "data": {
            "text/html": [
              "<div>\n",
              "<style scoped>\n",
              "    .dataframe tbody tr th:only-of-type {\n",
              "        vertical-align: middle;\n",
              "    }\n",
              "\n",
              "    .dataframe tbody tr th {\n",
              "        vertical-align: top;\n",
              "    }\n",
              "\n",
              "    .dataframe thead th {\n",
              "        text-align: right;\n",
              "    }\n",
              "</style>\n",
              "<table border=\"1\" class=\"dataframe\">\n",
              "  <thead>\n",
              "    <tr style=\"text-align: right;\">\n",
              "      <th></th>\n",
              "      <th>medinc</th>\n",
              "      <th>houseage</th>\n",
              "      <th>averooms</th>\n",
              "      <th>avebedrms</th>\n",
              "      <th>population</th>\n",
              "      <th>aveoccup</th>\n",
              "      <th>latitude</th>\n",
              "      <th>longitude</th>\n",
              "      <th>medhouseval</th>\n",
              "    </tr>\n",
              "  </thead>\n",
              "  <tbody>\n",
              "    <tr>\n",
              "      <th>0</th>\n",
              "      <td>8.325200</td>\n",
              "      <td>41.000000</td>\n",
              "      <td>6.984127</td>\n",
              "      <td>1.023810</td>\n",
              "      <td>322.000000</td>\n",
              "      <td>2.555556</td>\n",
              "      <td>37.880000</td>\n",
              "      <td>-122.230000</td>\n",
              "      <td>4.526000</td>\n",
              "    </tr>\n",
              "    <tr>\n",
              "      <th>1</th>\n",
              "      <td>8.301400</td>\n",
              "      <td>21.000000</td>\n",
              "      <td>6.238137</td>\n",
              "      <td>0.971880</td>\n",
              "      <td>2401.000000</td>\n",
              "      <td>2.109842</td>\n",
              "      <td>37.860000</td>\n",
              "      <td>-122.220000</td>\n",
              "      <td>3.585000</td>\n",
              "    </tr>\n",
              "    <tr>\n",
              "      <th>2</th>\n",
              "      <td>7.257400</td>\n",
              "      <td>52.000000</td>\n",
              "      <td>8.288136</td>\n",
              "      <td>1.073446</td>\n",
              "      <td>496.000000</td>\n",
              "      <td>2.802260</td>\n",
              "      <td>37.850000</td>\n",
              "      <td>-122.240000</td>\n",
              "      <td>3.521000</td>\n",
              "    </tr>\n",
              "    <tr>\n",
              "      <th>3</th>\n",
              "      <td>5.643100</td>\n",
              "      <td>52.000000</td>\n",
              "      <td>5.817352</td>\n",
              "      <td>1.073059</td>\n",
              "      <td>558.000000</td>\n",
              "      <td>2.547945</td>\n",
              "      <td>37.850000</td>\n",
              "      <td>-122.250000</td>\n",
              "      <td>3.413000</td>\n",
              "    </tr>\n",
              "    <tr>\n",
              "      <th>4</th>\n",
              "      <td>3.846200</td>\n",
              "      <td>52.000000</td>\n",
              "      <td>6.281853</td>\n",
              "      <td>1.081081</td>\n",
              "      <td>565.000000</td>\n",
              "      <td>2.181467</td>\n",
              "      <td>37.850000</td>\n",
              "      <td>-122.250000</td>\n",
              "      <td>3.422000</td>\n",
              "    </tr>\n",
              "  </tbody>\n",
              "</table>\n",
              "</div>"
            ],
            "text/plain": [
              "    medinc  houseage  averooms  avebedrms  population  aveoccup  latitude  \\\n",
              "0 8.325200 41.000000  6.984127   1.023810  322.000000  2.555556 37.880000   \n",
              "1 8.301400 21.000000  6.238137   0.971880 2401.000000  2.109842 37.860000   \n",
              "2 7.257400 52.000000  8.288136   1.073446  496.000000  2.802260 37.850000   \n",
              "3 5.643100 52.000000  5.817352   1.073059  558.000000  2.547945 37.850000   \n",
              "4 3.846200 52.000000  6.281853   1.081081  565.000000  2.181467 37.850000   \n",
              "\n",
              "    longitude  medhouseval  \n",
              "0 -122.230000     4.526000  \n",
              "1 -122.220000     3.585000  \n",
              "2 -122.240000     3.521000  \n",
              "3 -122.250000     3.413000  \n",
              "4 -122.250000     3.422000  "
            ]
          },
          "execution_count": 8,
          "metadata": {},
          "output_type": "execute_result"
        }
      ],
      "source": [
        "df.head()"
      ]
    },
    {
      "cell_type": "code",
      "execution_count": 9,
      "metadata": {
        "colab": {
          "base_uri": "https://localhost:8080/"
        },
        "id": "SZPjZzjaapwz",
        "outputId": "29261734-2b9d-4286-c15c-5b9bcf55a7d6"
      },
      "outputs": [
        {
          "data": {
            "text/plain": [
              "Index(['medinc', 'houseage', 'averooms', 'avebedrms', 'population', 'aveoccup',\n",
              "       'latitude', 'longitude', 'medhouseval'],\n",
              "      dtype='object')"
            ]
          },
          "execution_count": 9,
          "metadata": {},
          "output_type": "execute_result"
        }
      ],
      "source": [
        "df.columns"
      ]
    },
    {
      "cell_type": "code",
      "execution_count": 10,
      "metadata": {
        "colab": {
          "base_uri": "https://localhost:8080/"
        },
        "id": "ripBjgA5ap0G",
        "outputId": "ec8d789b-62c6-4863-c134-00a6a9986142"
      },
      "outputs": [
        {
          "data": {
            "text/plain": [
              "(['medinc', 'houseage', 'averooms', 'avebedrms', 'population', 'aveoccup'], [])"
            ]
          },
          "execution_count": 10,
          "metadata": {},
          "output_type": "execute_result"
        }
      ],
      "source": [
        "# зададим роли переменным\n",
        "ids = ['latitude', 'longitude']\n",
        "target = 'medhouseval'\n",
        "features_num = [col for col in df.select_dtypes(include='number').columns if col not in ids + [target, ]]\n",
        "features_cat = [col for col in df.select_dtypes(exclude='number').columns if col not in ids + [target, ]]\n",
        "features_num, features_cat"
      ]
    },
    {
      "cell_type": "code",
      "execution_count": 11,
      "metadata": {
        "colab": {
          "base_uri": "https://localhost:8080/"
        },
        "id": "LIZyO_yJap3Y",
        "outputId": "e0135e7c-7c59-4a76-d1d4-537c8e53dc89"
      },
      "outputs": [
        {
          "name": "stdout",
          "output_type": "stream",
          "text": [
            "<class 'pandas.core.frame.DataFrame'>\n",
            "RangeIndex: 20640 entries, 0 to 20639\n",
            "Data columns (total 9 columns):\n",
            " #   Column       Non-Null Count  Dtype  \n",
            "---  ------       --------------  -----  \n",
            " 0   medinc       20640 non-null  float64\n",
            " 1   houseage     20640 non-null  float64\n",
            " 2   averooms     20640 non-null  float64\n",
            " 3   avebedrms    20640 non-null  float64\n",
            " 4   population   20640 non-null  float64\n",
            " 5   aveoccup     20640 non-null  float64\n",
            " 6   latitude     20640 non-null  float64\n",
            " 7   longitude    20640 non-null  float64\n",
            " 8   medhouseval  20640 non-null  float64\n",
            "dtypes: float64(9)\n",
            "memory usage: 1.4 MB\n"
          ]
        }
      ],
      "source": [
        "df.info()"
      ]
    },
    {
      "cell_type": "code",
      "execution_count": 12,
      "metadata": {
        "id": "96h25eXosR-H"
      },
      "outputs": [],
      "source": [
        "shape_orig = df.shape[0]"
      ]
    },
    {
      "cell_type": "markdown",
      "metadata": {
        "id": "7y_zIJpMe9WQ"
      },
      "source": [
        "# <font color='green' size=5>**EDA**"
      ]
    },
    {
      "cell_type": "markdown",
      "metadata": {
        "id": "nnove8I1a4Gz"
      },
      "source": [
        "##<font color='white' size=4> анализ целевого признака"
      ]
    },
    {
      "cell_type": "code",
      "execution_count": 13,
      "metadata": {
        "colab": {
          "base_uri": "https://localhost:8080/",
          "height": 472
        },
        "id": "ixwVjbaba6LZ",
        "outputId": "f757baf8-de61-4ce5-fd7f-29e2ded7f232"
      },
      "outputs": [
        {
          "data": {
            "image/png": "[encoded data removed]",
            "text/plain": [
              "<Figure size 640x480 with 1 Axes>"
            ]
          },
          "metadata": {},
          "output_type": "display_data"
        }
      ],
      "source": [
        "sns.histplot(df[target], bins=100)\n",
        "plt.title(f'гитограмма целевого признака = {target}')\n",
        "plt.show()"
      ]
    },
    {
      "cell_type": "code",
      "execution_count": 14,
      "metadata": {
        "colab": {
          "base_uri": "https://localhost:8080/",
          "height": 335
        },
        "id": "bEDIhwv2a8V-",
        "outputId": "4787f7b4-d3d4-469a-dc23-4e0c77943d6e"
      },
      "outputs": [
        {
          "data": {
            "text/plain": [
              "count   20640.000000\n",
              "mean        2.068558\n",
              "std         1.153956\n",
              "min         0.149990\n",
              "25%         1.196000\n",
              "50%         1.797000\n",
              "75%         2.647250\n",
              "max         5.000010\n",
              "Name: medhouseval, dtype: float64"
            ]
          },
          "execution_count": 14,
          "metadata": {},
          "output_type": "execute_result"
        }
      ],
      "source": [
        "df[target].describe()"
      ]
    },
    {
      "cell_type": "code",
      "execution_count": 15,
      "metadata": {
        "id": "PJH-3sEJeGcd"
      },
      "outputs": [],
      "source": [
        "# Преобразование таргета, создадим переменную индикатор: выброс или нет\n",
        "IQR = df[target].quantile(0.75) - df[target].quantile(0.25)\n",
        "lower = df[target].quantile(0.25) - 1.5 * IQR\n",
        "upper = df[target].quantile(0.75) + 1.5 * IQR\n",
        "df['is_high_price'] = np.where((df[target] >= lower) & (df[target] <= upper), 0, 1)"
      ]
    },
    {
      "cell_type": "code",
      "execution_count": 16,
      "metadata": {
        "colab": {
          "base_uri": "https://localhost:8080/",
          "height": 424
        },
        "id": "e9GcHa35KN55",
        "outputId": "d345ec69-fa74-495b-8cb4-dcb92215bb57"
      },
      "outputs": [
        {
          "data": {
            "text/html": [
              "<div>\n",
              "<style scoped>\n",
              "    .dataframe tbody tr th:only-of-type {\n",
              "        vertical-align: middle;\n",
              "    }\n",
              "\n",
              "    .dataframe tbody tr th {\n",
              "        vertical-align: top;\n",
              "    }\n",
              "\n",
              "    .dataframe thead th {\n",
              "        text-align: right;\n",
              "    }\n",
              "</style>\n",
              "<table border=\"1\" class=\"dataframe\">\n",
              "  <thead>\n",
              "    <tr style=\"text-align: right;\">\n",
              "      <th></th>\n",
              "      <th>medinc</th>\n",
              "      <th>houseage</th>\n",
              "      <th>averooms</th>\n",
              "      <th>avebedrms</th>\n",
              "      <th>population</th>\n",
              "      <th>aveoccup</th>\n",
              "      <th>latitude</th>\n",
              "      <th>longitude</th>\n",
              "      <th>medhouseval</th>\n",
              "      <th>is_high_price</th>\n",
              "    </tr>\n",
              "  </thead>\n",
              "  <tbody>\n",
              "    <tr>\n",
              "      <th>0</th>\n",
              "      <td>8.325200</td>\n",
              "      <td>41.000000</td>\n",
              "      <td>6.984127</td>\n",
              "      <td>1.023810</td>\n",
              "      <td>322.000000</td>\n",
              "      <td>2.555556</td>\n",
              "      <td>37.880000</td>\n",
              "      <td>-122.230000</td>\n",
              "      <td>4.526000</td>\n",
              "      <td>0</td>\n",
              "    </tr>\n",
              "    <tr>\n",
              "      <th>13528</th>\n",
              "      <td>3.007800</td>\n",
              "      <td>25.000000</td>\n",
              "      <td>4.912127</td>\n",
              "      <td>1.047452</td>\n",
              "      <td>1650.000000</td>\n",
              "      <td>2.899824</td>\n",
              "      <td>34.170000</td>\n",
              "      <td>-117.310000</td>\n",
              "      <td>0.871000</td>\n",
              "      <td>0</td>\n",
              "    </tr>\n",
              "    <tr>\n",
              "      <th>13527</th>\n",
              "      <td>1.875000</td>\n",
              "      <td>30.000000</td>\n",
              "      <td>5.668950</td>\n",
              "      <td>1.308219</td>\n",
              "      <td>1172.000000</td>\n",
              "      <td>2.675799</td>\n",
              "      <td>34.170000</td>\n",
              "      <td>-117.300000</td>\n",
              "      <td>0.897000</td>\n",
              "      <td>0</td>\n",
              "    </tr>\n",
              "    <tr>\n",
              "      <th>13526</th>\n",
              "      <td>4.367600</td>\n",
              "      <td>28.000000</td>\n",
              "      <td>6.392857</td>\n",
              "      <td>1.011905</td>\n",
              "      <td>1304.000000</td>\n",
              "      <td>3.104762</td>\n",
              "      <td>34.180000</td>\n",
              "      <td>-117.300000</td>\n",
              "      <td>1.111000</td>\n",
              "      <td>0</td>\n",
              "    </tr>\n",
              "    <tr>\n",
              "      <th>13525</th>\n",
              "      <td>3.223200</td>\n",
              "      <td>35.000000</td>\n",
              "      <td>5.365039</td>\n",
              "      <td>1.088689</td>\n",
              "      <td>2127.000000</td>\n",
              "      <td>2.733933</td>\n",
              "      <td>34.170000</td>\n",
              "      <td>-117.290000</td>\n",
              "      <td>0.883000</td>\n",
              "      <td>0</td>\n",
              "    </tr>\n",
              "    <tr>\n",
              "      <th>...</th>\n",
              "      <td>...</td>\n",
              "      <td>...</td>\n",
              "      <td>...</td>\n",
              "      <td>...</td>\n",
              "      <td>...</td>\n",
              "      <td>...</td>\n",
              "      <td>...</td>\n",
              "      <td>...</td>\n",
              "      <td>...</td>\n",
              "      <td>...</td>\n",
              "    </tr>\n",
              "    <tr>\n",
              "      <th>15997</th>\n",
              "      <td>9.360300</td>\n",
              "      <td>51.000000</td>\n",
              "      <td>6.765586</td>\n",
              "      <td>0.987531</td>\n",
              "      <td>1090.000000</td>\n",
              "      <td>2.718204</td>\n",
              "      <td>37.750000</td>\n",
              "      <td>-122.470000</td>\n",
              "      <td>5.000010</td>\n",
              "      <td>1</td>\n",
              "    </tr>\n",
              "    <tr>\n",
              "      <th>17045</th>\n",
              "      <td>8.518400</td>\n",
              "      <td>26.000000</td>\n",
              "      <td>6.759542</td>\n",
              "      <td>0.967557</td>\n",
              "      <td>1392.000000</td>\n",
              "      <td>2.656489</td>\n",
              "      <td>37.480000</td>\n",
              "      <td>-122.270000</td>\n",
              "      <td>5.000010</td>\n",
              "      <td>1</td>\n",
              "    </tr>\n",
              "    <tr>\n",
              "      <th>17043</th>\n",
              "      <td>6.547500</td>\n",
              "      <td>25.000000</td>\n",
              "      <td>6.992374</td>\n",
              "      <td>1.102955</td>\n",
              "      <td>2626.000000</td>\n",
              "      <td>2.503337</td>\n",
              "      <td>37.490000</td>\n",
              "      <td>-122.280000</td>\n",
              "      <td>5.000010</td>\n",
              "      <td>1</td>\n",
              "    </tr>\n",
              "    <tr>\n",
              "      <th>11039</th>\n",
              "      <td>8.363700</td>\n",
              "      <td>22.000000</td>\n",
              "      <td>8.938028</td>\n",
              "      <td>1.047887</td>\n",
              "      <td>1181.000000</td>\n",
              "      <td>3.326761</td>\n",
              "      <td>33.820000</td>\n",
              "      <td>-117.820000</td>\n",
              "      <td>5.000010</td>\n",
              "      <td>1</td>\n",
              "    </tr>\n",
              "    <tr>\n",
              "      <th>17159</th>\n",
              "      <td>8.278200</td>\n",
              "      <td>37.000000</td>\n",
              "      <td>6.750000</td>\n",
              "      <td>1.010417</td>\n",
              "      <td>540.000000</td>\n",
              "      <td>2.812500</td>\n",
              "      <td>37.400000</td>\n",
              "      <td>-122.200000</td>\n",
              "      <td>5.000010</td>\n",
              "      <td>1</td>\n",
              "    </tr>\n",
              "  </tbody>\n",
              "</table>\n",
              "<p>20640 rows × 10 columns</p>\n",
              "</div>"
            ],
            "text/plain": [
              "        medinc  houseage  averooms  avebedrms  population  aveoccup  latitude  \\\n",
              "0     8.325200 41.000000  6.984127   1.023810  322.000000  2.555556 37.880000   \n",
              "13528 3.007800 25.000000  4.912127   1.047452 1650.000000  2.899824 34.170000   \n",
              "13527 1.875000 30.000000  5.668950   1.308219 1172.000000  2.675799 34.170000   \n",
              "13526 4.367600 28.000000  6.392857   1.011905 1304.000000  3.104762 34.180000   \n",
              "13525 3.223200 35.000000  5.365039   1.088689 2127.000000  2.733933 34.170000   \n",
              "...        ...       ...       ...        ...         ...       ...       ...   \n",
              "15997 9.360300 51.000000  6.765586   0.987531 1090.000000  2.718204 37.750000   \n",
              "17045 8.518400 26.000000  6.759542   0.967557 1392.000000  2.656489 37.480000   \n",
              "17043 6.547500 25.000000  6.992374   1.102955 2626.000000  2.503337 37.490000   \n",
              "11039 8.363700 22.000000  8.938028   1.047887 1181.000000  3.326761 33.820000   \n",
              "17159 8.278200 37.000000  6.750000   1.010417  540.000000  2.812500 37.400000   \n",
              "\n",
              "        longitude  medhouseval  is_high_price  \n",
              "0     -122.230000     4.526000              0  \n",
              "13528 -117.310000     0.871000              0  \n",
              "13527 -117.300000     0.897000              0  \n",
              "13526 -117.300000     1.111000              0  \n",
              "13525 -117.290000     0.883000              0  \n",
              "...           ...          ...            ...  \n",
              "15997 -122.470000     5.000010              1  \n",
              "17045 -122.270000     5.000010              1  \n",
              "17043 -122.280000     5.000010              1  \n",
              "11039 -117.820000     5.000010              1  \n",
              "17159 -122.200000     5.000010              1  \n",
              "\n",
              "[20640 rows x 10 columns]"
            ]
          },
          "execution_count": 16,
          "metadata": {},
          "output_type": "execute_result"
        }
      ],
      "source": [
        "df.sort_values('is_high_price')"
      ]
    },
    {
      "cell_type": "code",
      "execution_count": 17,
      "metadata": {
        "colab": {
          "base_uri": "https://localhost:8080/"
        },
        "id": "lUx3qOoZucIU",
        "outputId": "c43a0299-e982-4c9c-f161-cf6521761b56"
      },
      "outputs": [
        {
          "data": {
            "text/plain": [
              "1071"
            ]
          },
          "execution_count": 17,
          "metadata": {},
          "output_type": "execute_result"
        }
      ],
      "source": [
        "df['is_high_price'].sum()"
      ]
    },
    {
      "cell_type": "code",
      "execution_count": 18,
      "metadata": {
        "colab": {
          "base_uri": "https://localhost:8080/"
        },
        "id": "hv5rR7srr7c1",
        "outputId": "695cd456-230f-466c-d9cb-e02c95afcbbf"
      },
      "outputs": [
        {
          "name": "stdout",
          "output_type": "stream",
          "text": [
            "всего 1071 выбросов, что составляет 5.19%\n"
          ]
        }
      ],
      "source": [
        "print(f\"всего {df['is_high_price'].sum()} выбросов, что составляет {round(df['is_high_price'].sum()/shape_orig*100, 2)}%\")"
      ]
    },
    {
      "cell_type": "code",
      "execution_count": 19,
      "metadata": {
        "id": "E_7Ndz1KGoS1"
      },
      "outputs": [],
      "source": [
        "bin_target = 'is_high_price'"
      ]
    },
    {
      "cell_type": "code",
      "execution_count": 20,
      "metadata": {
        "id": "dEA_QwymElqn"
      },
      "outputs": [],
      "source": [
        "# df = df[(df[target] >= lower) & (df[target] <= upper)]"
      ]
    },
    {
      "cell_type": "markdown",
      "metadata": {
        "id": "MzChvOlSfRaU"
      },
      "source": [
        "##<font color='blue' size=4> анализ непрерывных переменных"
      ]
    },
    {
      "cell_type": "code",
      "execution_count": 21,
      "metadata": {
        "colab": {
          "base_uri": "https://localhost:8080/"
        },
        "id": "-MUPT3xDoB2S",
        "outputId": "95de5752-ae31-4338-95fe-f2f2d1d6fdb4"
      },
      "outputs": [
        {
          "data": {
            "text/plain": [
              "['medinc', 'houseage', 'averooms', 'avebedrms', 'population', 'aveoccup']"
            ]
          },
          "execution_count": 21,
          "metadata": {},
          "output_type": "execute_result"
        }
      ],
      "source": [
        "features_num"
      ]
    },
    {
      "cell_type": "code",
      "execution_count": 22,
      "metadata": {
        "colab": {
          "base_uri": "https://localhost:8080/",
          "height": 888
        },
        "id": "BFleChv8d1Fa",
        "outputId": "64c1631e-e2e9-4fe9-ce0d-2e041e72e2b2"
      },
      "outputs": [
        {
          "data": {
            "image/png": "[encoded data removed]",
            "text/plain": [
              "<Figure size 1500x1000 with 6 Axes>"
            ]
          },
          "metadata": {},
          "output_type": "display_data"
        }
      ],
      "source": [
        "# Посмотрим на распределения\n",
        "plt.figure(figsize=(15, 10))\n",
        "n_cols = len(features_num) // 3\n",
        "n_rows = 3 if len(features_num) % 3 == 0 else 4\n",
        "for i, col in enumerate(features_num):\n",
        "    plt.subplot(n_cols, n_rows, i + 1)\n",
        "    sns.histplot(df[col], kde=False)\n",
        "    plt.title(f'{col} (skew={df[col].skew():.2f})')\n",
        "plt.tight_layout()\n",
        "plt.suptitle(\"Распределение признаков\", fontsize=16, y=1.02)\n",
        "plt.show()\n"
      ]
    },
    {
      "cell_type": "code",
      "execution_count": 23,
      "metadata": {
        "id": "1PQq4RazhjVk"
      },
      "outputs": [],
      "source": [
        "# создадим новую переменную\n",
        "df['avebedrms_averooms'] = df['avebedrms'] /df['averooms']\n",
        "features_num.append('avebedrms_averooms')"
      ]
    },
    {
      "cell_type": "code",
      "execution_count": 24,
      "metadata": {
        "colab": {
          "base_uri": "https://localhost:8080/",
          "height": 287
        },
        "id": "ddAswIaG0rD2",
        "outputId": "35c0ac93-66c9-4dd9-cc8f-e804ea82d54c"
      },
      "outputs": [
        {
          "name": "stdout",
          "output_type": "stream",
          "text": [
            "Описательная статистика:\n"
          ]
        },
        {
          "data": {
            "text/html": [
              "<div>\n",
              "<style scoped>\n",
              "    .dataframe tbody tr th:only-of-type {\n",
              "        vertical-align: middle;\n",
              "    }\n",
              "\n",
              "    .dataframe tbody tr th {\n",
              "        vertical-align: top;\n",
              "    }\n",
              "\n",
              "    .dataframe thead th {\n",
              "        text-align: right;\n",
              "    }\n",
              "</style>\n",
              "<table border=\"1\" class=\"dataframe\">\n",
              "  <thead>\n",
              "    <tr style=\"text-align: right;\">\n",
              "      <th></th>\n",
              "      <th>count</th>\n",
              "      <th>mean</th>\n",
              "      <th>std</th>\n",
              "      <th>min</th>\n",
              "      <th>25%</th>\n",
              "      <th>50%</th>\n",
              "      <th>75%</th>\n",
              "      <th>max</th>\n",
              "    </tr>\n",
              "  </thead>\n",
              "  <tbody>\n",
              "    <tr>\n",
              "      <th>medinc</th>\n",
              "      <td>20640.000000</td>\n",
              "      <td>3.870671</td>\n",
              "      <td>1.899822</td>\n",
              "      <td>0.499900</td>\n",
              "      <td>2.563400</td>\n",
              "      <td>3.534800</td>\n",
              "      <td>4.743250</td>\n",
              "      <td>15.000100</td>\n",
              "    </tr>\n",
              "    <tr>\n",
              "      <th>houseage</th>\n",
              "      <td>20640.000000</td>\n",
              "      <td>28.639486</td>\n",
              "      <td>12.585558</td>\n",
              "      <td>1.000000</td>\n",
              "      <td>18.000000</td>\n",
              "      <td>29.000000</td>\n",
              "      <td>37.000000</td>\n",
              "      <td>52.000000</td>\n",
              "    </tr>\n",
              "    <tr>\n",
              "      <th>averooms</th>\n",
              "      <td>20640.000000</td>\n",
              "      <td>5.429000</td>\n",
              "      <td>2.474173</td>\n",
              "      <td>0.846154</td>\n",
              "      <td>4.440716</td>\n",
              "      <td>5.229129</td>\n",
              "      <td>6.052381</td>\n",
              "      <td>141.909091</td>\n",
              "    </tr>\n",
              "    <tr>\n",
              "      <th>avebedrms</th>\n",
              "      <td>20640.000000</td>\n",
              "      <td>1.096675</td>\n",
              "      <td>0.473911</td>\n",
              "      <td>0.333333</td>\n",
              "      <td>1.006079</td>\n",
              "      <td>1.048780</td>\n",
              "      <td>1.099526</td>\n",
              "      <td>34.066667</td>\n",
              "    </tr>\n",
              "    <tr>\n",
              "      <th>population</th>\n",
              "      <td>20640.000000</td>\n",
              "      <td>1425.476744</td>\n",
              "      <td>1132.462122</td>\n",
              "      <td>3.000000</td>\n",
              "      <td>787.000000</td>\n",
              "      <td>1166.000000</td>\n",
              "      <td>1725.000000</td>\n",
              "      <td>35682.000000</td>\n",
              "    </tr>\n",
              "    <tr>\n",
              "      <th>aveoccup</th>\n",
              "      <td>20640.000000</td>\n",
              "      <td>3.070655</td>\n",
              "      <td>10.386050</td>\n",
              "      <td>0.692308</td>\n",
              "      <td>2.429741</td>\n",
              "      <td>2.818116</td>\n",
              "      <td>3.282261</td>\n",
              "      <td>1243.333333</td>\n",
              "    </tr>\n",
              "    <tr>\n",
              "      <th>avebedrms_averooms</th>\n",
              "      <td>20640.000000</td>\n",
              "      <td>0.213075</td>\n",
              "      <td>0.058023</td>\n",
              "      <td>0.100000</td>\n",
              "      <td>0.175426</td>\n",
              "      <td>0.203181</td>\n",
              "      <td>0.239834</td>\n",
              "      <td>1.000000</td>\n",
              "    </tr>\n",
              "  </tbody>\n",
              "</table>\n",
              "</div>"
            ],
            "text/plain": [
              "                          count        mean         std      min        25%  \\\n",
              "medinc             20640.000000    3.870671    1.899822 0.499900   2.563400   \n",
              "houseage           20640.000000   28.639486   12.585558 1.000000  18.000000   \n",
              "averooms           20640.000000    5.429000    2.474173 0.846154   4.440716   \n",
              "avebedrms          20640.000000    1.096675    0.473911 0.333333   1.006079   \n",
              "population         20640.000000 1425.476744 1132.462122 3.000000 787.000000   \n",
              "aveoccup           20640.000000    3.070655   10.386050 0.692308   2.429741   \n",
              "avebedrms_averooms 20640.000000    0.213075    0.058023 0.100000   0.175426   \n",
              "\n",
              "                           50%         75%          max  \n",
              "medinc                3.534800    4.743250    15.000100  \n",
              "houseage             29.000000   37.000000    52.000000  \n",
              "averooms              5.229129    6.052381   141.909091  \n",
              "avebedrms             1.048780    1.099526    34.066667  \n",
              "population         1166.000000 1725.000000 35682.000000  \n",
              "aveoccup              2.818116    3.282261  1243.333333  \n",
              "avebedrms_averooms    0.203181    0.239834     1.000000  "
            ]
          },
          "metadata": {},
          "output_type": "display_data"
        }
      ],
      "source": [
        "print(\"Описательная статистика:\")\n",
        "display(df[features_num].describe().T)\n"
      ]
    },
    {
      "cell_type": "markdown",
      "metadata": {
        "id": "GV8R3Fj2hrLe"
      },
      "source": [
        "# <font color='green' size=5>**Разделим выборку на трейн и тест**"
      ]
    },
    {
      "cell_type": "code",
      "execution_count": 25,
      "metadata": {
        "id": "FAP15yMZhjY2"
      },
      "outputs": [],
      "source": [
        "X_train, X_test, y_train, y_test = train_test_split(df[features_num],\n",
        "                                                    df[[target, bin_target]],\n",
        "                                                    # stratify = df[bin_target],\n",
        "                                                    test_size=0.2, random_state=42)\n"
      ]
    },
    {
      "cell_type": "code",
      "execution_count": 26,
      "metadata": {
        "colab": {
          "base_uri": "https://localhost:8080/"
        },
        "id": "aJMLAUHEGffy",
        "outputId": "c3bd53c1-3622-44de-ece0-f15a9407eb43"
      },
      "outputs": [
        {
          "data": {
            "text/plain": [
              "(0.052749515503875966, 0.04844961240310078)"
            ]
          },
          "execution_count": 26,
          "metadata": {},
          "output_type": "execute_result"
        }
      ],
      "source": [
        "y_train[bin_target].mean(), y_test[bin_target].mean()"
      ]
    },
    {
      "cell_type": "code",
      "execution_count": 27,
      "metadata": {
        "id": "4nNudWWTGyxx"
      },
      "outputs": [],
      "source": [
        "y_train_bin, y_test_bin = y_train[bin_target], y_test[bin_target]"
      ]
    },
    {
      "cell_type": "code",
      "execution_count": 28,
      "metadata": {
        "colab": {
          "base_uri": "https://localhost:8080/"
        },
        "id": "cvFp9780YvLg",
        "outputId": "824697d4-e34f-4ade-fe08-49075c813c0a"
      },
      "outputs": [
        {
          "data": {
            "text/plain": [
              "(0.052749515503875966, 0.04844961240310078)"
            ]
          },
          "execution_count": 28,
          "metadata": {},
          "output_type": "execute_result"
        }
      ],
      "source": [
        "y_train_bin.mean(), y_test_bin.mean()"
      ]
    },
    {
      "cell_type": "code",
      "execution_count": 29,
      "metadata": {
        "id": "LtQlqidvG7HI"
      },
      "outputs": [],
      "source": [
        "y_train, y_test = y_train[target], y_test[target]"
      ]
    },
    {
      "cell_type": "markdown",
      "metadata": {
        "id": "xh-ot3ZTix3V"
      },
      "source": [
        "# <font color='green' size=5>**Моделирование**"
      ]
    },
    {
      "cell_type": "markdown",
      "metadata": {
        "id": "X7bpgINK03rE"
      },
      "source": [
        "##<font size=4>**Точно ли нужна нормализация?**"
      ]
    },
    {
      "cell_type": "code",
      "execution_count": 30,
      "metadata": {
        "colab": {
          "base_uri": "https://localhost:8080/"
        },
        "id": "XGIY708pvwT0",
        "outputId": "862171e6-b0c9-491f-c1b7-ff7b313ba10a"
      },
      "outputs": [
        {
          "data": {
            "text/plain": [
              "{'Scaler': 'None', 'MAE': 0.5695346842257908, 'RMSE': 0.7844163226788808}"
            ]
          },
          "execution_count": 30,
          "metadata": {},
          "output_type": "execute_result"
        }
      ],
      "source": [
        "# Линейная регрессия без скейлера\n",
        "lr = LinearRegression()\n",
        "\n",
        "lr.fit(X_train, y_train)\n",
        "\n",
        "y_pred_orig = lr.predict(X_test)\n",
        "mae_orig = mean_absolute_error(y_test, y_pred_orig)\n",
        "rmse_orig = root_mean_squared_error(y_test, y_pred_orig)\n",
        "\n",
        "res_without_scaler = {\n",
        "    \"Scaler\": \"None\",\n",
        "    \"MAE\": mae_orig,\n",
        "    \"RMSE\":rmse_orig\n",
        "}\n",
        "res_without_scaler\n"
      ]
    },
    {
      "cell_type": "markdown",
      "metadata": {
        "id": "wYKo_uKE7jLy"
      },
      "source": [
        "<font color='red'>StandardScaler (как и любой препроцессинг, зависящий от данных) должен быть обучен только на тренировочной выборке, иначе можно получить утечку данных (data leakage).\n",
        "\n",
        "Почему это важно?\n",
        "\n",
        "- это искусственно улучшает результаты и делает модель нереалистично оптимистичной;\n",
        "\n",
        "- при развёртывании в проде скейлер не будет знать статистику новых данных — и всё начнёт работать иначе."
      ]
    },
    {
      "cell_type": "code",
      "execution_count": 31,
      "metadata": {
        "id": "p3PaNZLX7R4A"
      },
      "outputs": [],
      "source": [
        "# нормализация\n",
        "scaler = StandardScaler()\n",
        "X_train_scaled = scaler.fit_transform(X_train)\n",
        "X_test_scaled = scaler.transform(X_test)"
      ]
    },
    {
      "cell_type": "code",
      "execution_count": 32,
      "metadata": {
        "colab": {
          "base_uri": "https://localhost:8080/"
        },
        "id": "6gG9zm4Yv6gf",
        "outputId": "9357113a-b7a3-4b0a-c7c6-97b1bdeecb75"
      },
      "outputs": [
        {
          "data": {
            "text/plain": [
              "{'Scaler': 'StandardScaler',\n",
              " 'MAE': 0.56953468422579,\n",
              " 'RMSE': 0.7844163226788807}"
            ]
          },
          "execution_count": 32,
          "metadata": {},
          "output_type": "execute_result"
        }
      ],
      "source": [
        "# Линейная регрессия со StandardScaler\n",
        "\n",
        "lr_scaled = LinearRegression()\n",
        "lr_scaled.fit(X_train_scaled, y_train)\n",
        "y_pred_scaled = lr_scaled.predict(X_test_scaled)\n",
        "\n",
        "mae = mean_absolute_error(y_test, y_pred_scaled)\n",
        "rmse = root_mean_squared_error(y_test, y_pred_scaled)\n",
        "\n",
        "res_wit_scaler = {\n",
        "    \"Scaler\": \"StandardScaler\",\n",
        "    \"MAE\": mae,\n",
        "    \"RMSE\":rmse\n",
        "}\n",
        "res_wit_scaler\n",
        "\n"
      ]
    },
    {
      "cell_type": "markdown",
      "metadata": {
        "id": "YPI8ZU2gPG9Y"
      },
      "source": [
        "y = w_0 + w_1*x_1 + w_2*x_2+...w_n*x_n"
      ]
    },
    {
      "cell_type": "code",
      "execution_count": 33,
      "metadata": {
        "colab": {
          "base_uri": "https://localhost:8080/",
          "height": 424
        },
        "id": "GpjWI493QLyP",
        "outputId": "116322bc-3f88-4068-9ea1-38664757f6f3"
      },
      "outputs": [
        {
          "data": {
            "text/html": [
              "<div>\n",
              "<style scoped>\n",
              "    .dataframe tbody tr th:only-of-type {\n",
              "        vertical-align: middle;\n",
              "    }\n",
              "\n",
              "    .dataframe tbody tr th {\n",
              "        vertical-align: top;\n",
              "    }\n",
              "\n",
              "    .dataframe thead th {\n",
              "        text-align: right;\n",
              "    }\n",
              "</style>\n",
              "<table border=\"1\" class=\"dataframe\">\n",
              "  <thead>\n",
              "    <tr style=\"text-align: right;\">\n",
              "      <th></th>\n",
              "      <th>medinc</th>\n",
              "      <th>houseage</th>\n",
              "      <th>averooms</th>\n",
              "      <th>avebedrms</th>\n",
              "      <th>population</th>\n",
              "      <th>aveoccup</th>\n",
              "      <th>avebedrms_averooms</th>\n",
              "    </tr>\n",
              "  </thead>\n",
              "  <tbody>\n",
              "    <tr>\n",
              "      <th>14196</th>\n",
              "      <td>3.259600</td>\n",
              "      <td>33.000000</td>\n",
              "      <td>5.017657</td>\n",
              "      <td>1.006421</td>\n",
              "      <td>2300.000000</td>\n",
              "      <td>3.691814</td>\n",
              "      <td>0.200576</td>\n",
              "    </tr>\n",
              "    <tr>\n",
              "      <th>8267</th>\n",
              "      <td>3.812500</td>\n",
              "      <td>49.000000</td>\n",
              "      <td>4.473545</td>\n",
              "      <td>1.041005</td>\n",
              "      <td>1314.000000</td>\n",
              "      <td>1.738095</td>\n",
              "      <td>0.232703</td>\n",
              "    </tr>\n",
              "    <tr>\n",
              "      <th>17445</th>\n",
              "      <td>4.156300</td>\n",
              "      <td>4.000000</td>\n",
              "      <td>5.645833</td>\n",
              "      <td>0.985119</td>\n",
              "      <td>915.000000</td>\n",
              "      <td>2.723214</td>\n",
              "      <td>0.174486</td>\n",
              "    </tr>\n",
              "    <tr>\n",
              "      <th>14265</th>\n",
              "      <td>1.942500</td>\n",
              "      <td>36.000000</td>\n",
              "      <td>4.002817</td>\n",
              "      <td>1.033803</td>\n",
              "      <td>1418.000000</td>\n",
              "      <td>3.994366</td>\n",
              "      <td>0.258269</td>\n",
              "    </tr>\n",
              "    <tr>\n",
              "      <th>2271</th>\n",
              "      <td>3.554200</td>\n",
              "      <td>43.000000</td>\n",
              "      <td>6.268421</td>\n",
              "      <td>1.134211</td>\n",
              "      <td>874.000000</td>\n",
              "      <td>2.300000</td>\n",
              "      <td>0.180940</td>\n",
              "    </tr>\n",
              "    <tr>\n",
              "      <th>...</th>\n",
              "      <td>...</td>\n",
              "      <td>...</td>\n",
              "      <td>...</td>\n",
              "      <td>...</td>\n",
              "      <td>...</td>\n",
              "      <td>...</td>\n",
              "      <td>...</td>\n",
              "    </tr>\n",
              "    <tr>\n",
              "      <th>11284</th>\n",
              "      <td>6.370000</td>\n",
              "      <td>35.000000</td>\n",
              "      <td>6.129032</td>\n",
              "      <td>0.926267</td>\n",
              "      <td>658.000000</td>\n",
              "      <td>3.032258</td>\n",
              "      <td>0.151128</td>\n",
              "    </tr>\n",
              "    <tr>\n",
              "      <th>11964</th>\n",
              "      <td>3.050000</td>\n",
              "      <td>33.000000</td>\n",
              "      <td>6.868597</td>\n",
              "      <td>1.269488</td>\n",
              "      <td>1753.000000</td>\n",
              "      <td>3.904232</td>\n",
              "      <td>0.184825</td>\n",
              "    </tr>\n",
              "    <tr>\n",
              "      <th>5390</th>\n",
              "      <td>2.934400</td>\n",
              "      <td>36.000000</td>\n",
              "      <td>3.986717</td>\n",
              "      <td>1.079696</td>\n",
              "      <td>1756.000000</td>\n",
              "      <td>3.332068</td>\n",
              "      <td>0.270823</td>\n",
              "    </tr>\n",
              "    <tr>\n",
              "      <th>860</th>\n",
              "      <td>5.719200</td>\n",
              "      <td>15.000000</td>\n",
              "      <td>6.395349</td>\n",
              "      <td>1.067979</td>\n",
              "      <td>1777.000000</td>\n",
              "      <td>3.178891</td>\n",
              "      <td>0.166993</td>\n",
              "    </tr>\n",
              "    <tr>\n",
              "      <th>15795</th>\n",
              "      <td>2.575500</td>\n",
              "      <td>52.000000</td>\n",
              "      <td>3.402576</td>\n",
              "      <td>1.058776</td>\n",
              "      <td>2619.000000</td>\n",
              "      <td>2.108696</td>\n",
              "      <td>0.311169</td>\n",
              "    </tr>\n",
              "  </tbody>\n",
              "</table>\n",
              "<p>16512 rows × 7 columns</p>\n",
              "</div>"
            ],
            "text/plain": [
              "        medinc  houseage  averooms  avebedrms  population  aveoccup  \\\n",
              "14196 3.259600 33.000000  5.017657   1.006421 2300.000000  3.691814   \n",
              "8267  3.812500 49.000000  4.473545   1.041005 1314.000000  1.738095   \n",
              "17445 4.156300  4.000000  5.645833   0.985119  915.000000  2.723214   \n",
              "14265 1.942500 36.000000  4.002817   1.033803 1418.000000  3.994366   \n",
              "2271  3.554200 43.000000  6.268421   1.134211  874.000000  2.300000   \n",
              "...        ...       ...       ...        ...         ...       ...   \n",
              "11284 6.370000 35.000000  6.129032   0.926267  658.000000  3.032258   \n",
              "11964 3.050000 33.000000  6.868597   1.269488 1753.000000  3.904232   \n",
              "5390  2.934400 36.000000  3.986717   1.079696 1756.000000  3.332068   \n",
              "860   5.719200 15.000000  6.395349   1.067979 1777.000000  3.178891   \n",
              "15795 2.575500 52.000000  3.402576   1.058776 2619.000000  2.108696   \n",
              "\n",
              "       avebedrms_averooms  \n",
              "14196            0.200576  \n",
              "8267             0.232703  \n",
              "17445            0.174486  \n",
              "14265            0.258269  \n",
              "2271             0.180940  \n",
              "...                   ...  \n",
              "11284            0.151128  \n",
              "11964            0.184825  \n",
              "5390             0.270823  \n",
              "860              0.166993  \n",
              "15795            0.311169  \n",
              "\n",
              "[16512 rows x 7 columns]"
            ]
          },
          "execution_count": 33,
          "metadata": {},
          "output_type": "execute_result"
        }
      ],
      "source": [
        "X_train"
      ]
    },
    {
      "cell_type": "code",
      "execution_count": 34,
      "metadata": {
        "colab": {
          "base_uri": "https://localhost:8080/",
          "height": 1000
        },
        "id": "CMp9b_SKvwXw",
        "outputId": "af886fb4-869b-4465-8e5a-14d1ef2da12e"
      },
      "outputs": [
        {
          "data": {
            "image/png": "[encoded data removed]",
            "text/plain": [
              "<Figure size 1400x1000 with 4 Axes>"
            ]
          },
          "metadata": {},
          "output_type": "display_data"
        },
        {
          "data": {
            "text/html": [
              "<div>\n",
              "<style scoped>\n",
              "    .dataframe tbody tr th:only-of-type {\n",
              "        vertical-align: middle;\n",
              "    }\n",
              "\n",
              "    .dataframe tbody tr th {\n",
              "        vertical-align: top;\n",
              "    }\n",
              "\n",
              "    .dataframe thead th {\n",
              "        text-align: right;\n",
              "    }\n",
              "</style>\n",
              "<table border=\"1\" class=\"dataframe\">\n",
              "  <thead>\n",
              "    <tr style=\"text-align: right;\">\n",
              "      <th></th>\n",
              "      <th>Без скейлера</th>\n",
              "      <th>Со скейлером</th>\n",
              "    </tr>\n",
              "  </thead>\n",
              "  <tbody>\n",
              "    <tr>\n",
              "      <th>averooms</th>\n",
              "      <td>0.047556</td>\n",
              "      <td>0.113530</td>\n",
              "    </tr>\n",
              "    <tr>\n",
              "      <th>aveoccup</th>\n",
              "      <td>0.004659</td>\n",
              "      <td>0.053947</td>\n",
              "    </tr>\n",
              "    <tr>\n",
              "      <th>population</th>\n",
              "      <td>0.000019</td>\n",
              "      <td>0.022010</td>\n",
              "    </tr>\n",
              "    <tr>\n",
              "      <th>avebedrms</th>\n",
              "      <td>0.264736</td>\n",
              "      <td>0.114684</td>\n",
              "    </tr>\n",
              "    <tr>\n",
              "      <th>houseage</th>\n",
              "      <td>0.016668</td>\n",
              "      <td>0.210053</td>\n",
              "    </tr>\n",
              "    <tr>\n",
              "      <th>avebedrms_averooms</th>\n",
              "      <td>4.300926</td>\n",
              "      <td>0.249426</td>\n",
              "    </tr>\n",
              "    <tr>\n",
              "      <th>medinc</th>\n",
              "      <td>0.538518</td>\n",
              "      <td>1.025466</td>\n",
              "    </tr>\n",
              "  </tbody>\n",
              "</table>\n",
              "</div>"
            ],
            "text/plain": [
              "                    Без скейлера  Со скейлером\n",
              "averooms                0.047556      0.113530\n",
              "aveoccup                0.004659      0.053947\n",
              "population              0.000019      0.022010\n",
              "avebedrms               0.264736      0.114684\n",
              "houseage                0.016668      0.210053\n",
              "avebedrms_averooms      4.300926      0.249426\n",
              "medinc                  0.538518      1.025466"
            ]
          },
          "execution_count": 34,
          "metadata": {},
          "output_type": "execute_result"
        }
      ],
      "source": [
        "# Сохраним коэфы\n",
        "coef_raw = pd.Series(lr.coef_, index=features_num)\n",
        "coef_scaled = pd.Series(lr_scaled.coef_, index=features_num)\n",
        "\n",
        "# Посчитаем дисперсии\n",
        "feature_variances = df[features_num].var()\n",
        "\n",
        "# Получим сортировку по важности (по модулю коэффициента после скейлера)\n",
        "sorted_features = coef_scaled.sort_values(ascending=True).index\n",
        "\n",
        "# Отсортируем всё по этому порядку\n",
        "coef_raw = coef_raw.loc[sorted_features]\n",
        "coef_scaled = coef_scaled.loc[sorted_features]\n",
        "feature_variances = feature_variances.loc[sorted_features]\n",
        "\n",
        "# Построим сравнение\n",
        "fig, axes = plt.subplots(2, 2, figsize=(14, 10))\n",
        "\n",
        "# Коэффициенты без скейлера\n",
        "coef_raw.plot(kind='barh', ax=axes[0, 0], title='Коэффициенты (без скейлера)')\n",
        "\n",
        "# Дисперсия без скейлера\n",
        "feature_variances.plot(kind='barh', ax=axes[0, 1], color='orange', title='Дисперсия признаков')\n",
        "\n",
        "# Коэффициенты со скейлером\n",
        "coef_scaled.plot(kind='barh', ax=axes[1, 0], title='Коэффициенты (со StandardScaler)')\n",
        "\n",
        "# Дисперсия после скейлера (≈1)\n",
        "pd.Series(1.0, index=sorted_features).plot(kind='barh', ax=axes[1, 1], color='green', title='Дисперсия после скейлера')\n",
        "\n",
        "plt.tight_layout()\n",
        "plt.show()\n",
        "\n",
        "# Сравним по модулю, кто важнее\n",
        "importance_comparison = pd.DataFrame({\n",
        "    'Без скейлера': coef_raw.abs(),\n",
        "    'Со скейлером': coef_scaled.abs()\n",
        "})\n",
        "\n",
        "importance_comparison.head(10)\n"
      ]
    },
    {
      "cell_type": "markdown",
      "metadata": {
        "id": "jURFtedU1SiJ"
      },
      "source": [
        "<font color='green' size=4>StandardScaler нужен для того, чтобы признаки имели одинаковый масштаб, чтобы модель могла корректно интерпретировать значимость признаков."
      ]
    },
    {
      "cell_type": "code",
      "execution_count": 35,
      "metadata": {
        "colab": {
          "base_uri": "https://localhost:8080/"
        },
        "id": "sGlpTERjvwaf",
        "outputId": "47172837-fef8-4b2d-9a84-e7eef5370ca5"
      },
      "outputs": [
        {
          "data": {
            "text/plain": [
              "{'Scaler': 'None', 'MAE': 622977651157763.0, 'RMSE': 790727308666365.0}"
            ]
          },
          "execution_count": 35,
          "metadata": {},
          "output_type": "execute_result"
        }
      ],
      "source": [
        "# Линейная регрессия без скейлера, обучение - градиентный спуск\n",
        "lr = SGDRegressor(max_iter=20000, tol=1e-4, random_state=42, alpha=0, l1_ratio=0)\n",
        "\n",
        "lr.fit(X_train, y_train)\n",
        "y_pred = lr.predict(X_test)\n",
        "\n",
        "y_pred_orig = lr.predict(X_test)\n",
        "mae = mean_absolute_error(y_test, y_pred_orig)\n",
        "rmse = root_mean_squared_error(y_test, y_pred_orig)\n",
        "\n",
        "res_without_scaler = {\n",
        "    \"Scaler\": \"None\",\n",
        "    \"MAE\": mae,\n",
        "    \"RMSE\":rmse\n",
        "}\n",
        "res_without_scaler\n"
      ]
    },
    {
      "cell_type": "code",
      "execution_count": 36,
      "metadata": {
        "colab": {
          "base_uri": "https://localhost:8080/"
        },
        "id": "_j0pr6PQ15a_",
        "outputId": "f30577a4-0607-4e1f-f248-5046ae9b9efc"
      },
      "outputs": [
        {
          "data": {
            "text/plain": [
              "{'Scaler': 'StandardScaler',\n",
              " 'MAE': 0.5689010347992915,\n",
              " 'RMSE': 0.7806005739356693}"
            ]
          },
          "execution_count": 36,
          "metadata": {},
          "output_type": "execute_result"
        }
      ],
      "source": [
        "# Линейная регрессия со StandardScaler, обучение - градиентный спуск\n",
        "\n",
        "lr_scaled = SGDRegressor(max_iter=20000, tol=1e-4, random_state=42, alpha=0, l1_ratio=0)\n",
        "lr_scaled.fit(X_train_scaled, y_train)\n",
        "y_pred_scaled = lr_scaled.predict(X_test_scaled)\n",
        "\n",
        "mae = mean_absolute_error(y_test, y_pred_scaled)\n",
        "rmse = root_mean_squared_error(y_test, y_pred_scaled)\n",
        "\n",
        "res_with_scaler = {\n",
        "    \"Scaler\": \"StandardScaler\",\n",
        "    \"MAE\": mae,\n",
        "    \"RMSE\":rmse\n",
        "}\n",
        "res_with_scaler\n",
        "\n"
      ]
    },
    {
      "cell_type": "markdown",
      "metadata": {
        "id": "wy_vna4l3uCk"
      },
      "source": [
        "<font color='green' size=4>StandardScaler нужен для того, чтобы сходился градиентый спуск"
      ]
    },
    {
      "cell_type": "code",
      "execution_count": 37,
      "metadata": {
        "colab": {
          "base_uri": "https://localhost:8080/",
          "height": 304
        },
        "id": "7K-M3KfV15fC",
        "outputId": "6626edd7-929e-423e-bdd3-a4773a3d0623"
      },
      "outputs": [
        {
          "data": {
            "text/plain": [
              "avebedrms_averooms    3.231681\n",
              "medinc                0.536193\n",
              "avebedrms             0.433899\n",
              "houseage              0.016726\n",
              "population            0.000020\n",
              "aveoccup             -0.004630\n",
              "averooms             -0.083638\n",
              "dtype: float64"
            ]
          },
          "execution_count": 37,
          "metadata": {},
          "output_type": "execute_result"
        }
      ],
      "source": [
        "# Модель без масштабирования\n",
        "lasso_raw = Lasso(alpha=0.001)\n",
        "lasso_raw.fit(X_train, y_train)\n",
        "coef_lasso_raw = pd.Series(lasso_raw.coef_, index=features_num)\n",
        "coef_lasso_raw.sort_values(ascending=False)"
      ]
    },
    {
      "cell_type": "code",
      "execution_count": 38,
      "metadata": {
        "colab": {
          "base_uri": "https://localhost:8080/",
          "height": 304
        },
        "id": "ExxCnCWN5EEf",
        "outputId": "b4731caf-b1ae-4b96-813d-7d9a4e81d47a"
      },
      "outputs": [
        {
          "data": {
            "text/plain": [
              "medinc                1.017733\n",
              "avebedrms_averooms    0.259324\n",
              "houseage              0.208864\n",
              "avebedrms             0.085944\n",
              "population            0.020537\n",
              "aveoccup             -0.052708\n",
              "averooms             -0.081976\n",
              "dtype: float64"
            ]
          },
          "execution_count": 38,
          "metadata": {},
          "output_type": "execute_result"
        }
      ],
      "source": [
        "#Модель с масштабированием\n",
        "lasso_scaled = Lasso(alpha=0.001)\n",
        "lasso_scaled.fit(X_train_scaled, y_train)\n",
        "coef_lasso_scaled = pd.Series(lasso_scaled.coef_, index=features_num)\n",
        "coef_lasso_scaled.sort_values(ascending=False)"
      ]
    },
    {
      "cell_type": "markdown",
      "metadata": {
        "id": "2HR9eWBD6WeD"
      },
      "source": [
        "<font color='green' size=4>\n",
        "- Регуляризация без стандартизации работает \"нечестно\" — важные признаки могут быть выкинуты, если у них просто маленький масштаб."
      ]
    },
    {
      "cell_type": "markdown",
      "metadata": {
        "id": "djMTVX_x3-W2"
      },
      "source": [
        "##<font size=4>**Какой метод нормализации выбрать?**"
      ]
    },
    {
      "cell_type": "markdown",
      "metadata": {
        "id": "V8Dah22D_ZD-"
      },
      "source": [
        "### 1. StandardScaler\n",
        "\n",
        "**Что делает:**  \n",
        "Масштабирует данные так, чтобы **среднее = 0**, а **стандартное отклонение = 1**.\n",
        "\n",
        "**Формула:**  \n",
        "$\n",
        "z = \\frac{x - \\mu}{\\sigma}\n",
        "$\n",
        "где $ \\mu $ — среднее значение признака,  \n",
        "а $ \\sigma $ — стандартное отклонение.\n",
        "\n",
        "**Когда использовать:**\n",
        "- Когда данные имеют распределение, близкое к **нормальному (Gaussian)**.\n",
        "- Когда важны отклонения от среднего (например, для линейной или логистической регрессии, PCA).\n",
        "\n",
        "**Уязвим к выбросам:** ✅ Да\n",
        "\n",
        "---\n",
        "\n",
        "### 2. RobustScaler\n",
        "\n",
        "**Что делает:**  \n",
        "Использует **медиану** и **интерквартильный размах (IQR)** вместо среднего и стандартного отклонения.\n",
        "\n",
        "**Формула:**  \n",
        "$\n",
        "x_{\\text{scaled}} = \\frac{x - \\text{median}}{\\text{IQR}}\n",
        "$\n",
        "где  \n",
        "$\n",
        "\\text{IQR} = Q3 - Q1\n",
        "$\n",
        "\n",
        "**Когда использовать:**\n",
        "- Когда в данных есть **выбросы**.\n",
        "- Когда данные асимметричны.\n",
        "\n",
        "**Уязвим к выбросам:** ❌ Нет\n",
        "\n",
        "---\n",
        "\n",
        "### 3. MinMaxScaler\n",
        "\n",
        "**Что делает:**  \n",
        "Масштабирует данные в диапазон от 0 до 1.\n",
        "\n",
        "**Формула:**  \n",
        "$\n",
        "x_{\\text{scaled}} = \\frac{x - x_{\\text{min}}}{x_{\\text{max}} - x_{\\text{min}}}\n",
        "$\n",
        "\n",
        "**Когда использовать:**\n",
        "- Когда признаки должны быть в **одном масштабе** (например, для k-NN, нейросетей).\n",
        "- Когда нет сильных выбросов.\n",
        "\n",
        "**Уязвим к выбросам:** ✅ Да\n",
        "\n",
        "---\n",
        "\n",
        "### 🔍 Сравнение\n",
        "\n",
        "| Характеристика       | StandardScaler         | RobustScaler           | MinMaxScaler         |\n",
        "|----------------------|------------------------|-------------------------|----------------------|\n",
        "| Центрирование        | По среднему            | По медиане              | Нет                  |\n",
        "| Масштаб              | По стандартному откл.  | По интерквартильному    | В диапазон \\([0, 1]\\) |\n",
        "| Устойчив к выбросам  | ❌ Нет                  | ✅ Да                   | ❌ Нет               |\n",
        "| Подходит для         | Нормальных данных      | Данных с выбросами      | Данных без выбросов  |\n",
        "| Часто используется в | PCA, лин. модели       | Робастные модели        | k-NN, нейросети      |\n"
      ]
    },
    {
      "cell_type": "code",
      "execution_count": 39,
      "metadata": {
        "id": "ak2Qv4U7iWWD"
      },
      "outputs": [],
      "source": [
        "scalers = {\n",
        "    \"StandardScaler\": StandardScaler(),\n",
        "    \"RobustScaler\": RobustScaler(),\n",
        "    \"MinMaxScaler\": MinMaxScaler()\n",
        "}"
      ]
    },
    {
      "cell_type": "code",
      "execution_count": 40,
      "metadata": {
        "id": "pzFmjnxohjiB"
      },
      "outputs": [],
      "source": [
        "results = []\n",
        "\n",
        "for scaler_name, scaler in scalers.items():\n",
        "    # Масштабирование\n",
        "    X_train_scaled = scaler.fit_transform(X_train)\n",
        "    X_test_scaled = scaler.transform(X_test)\n",
        "\n",
        "    model = SGDRegressor(max_iter=20000, tol=1e-4, random_state=42, alpha=0, l1_ratio=0)\n",
        "    model.fit(X_train_scaled, y_train)\n",
        "    y_pred = model.predict(X_test_scaled)\n",
        "\n",
        "    mae = mean_absolute_error(y_test, y_pred)\n",
        "    rmse = root_mean_squared_error(y_test, y_pred)\n",
        "\n",
        "    results.append({\n",
        "        \"Scaler\": scaler_name,\n",
        "        \"MAE\": mae,\n",
        "        \"RMSE\":rmse\n",
        "    })"
      ]
    },
    {
      "cell_type": "code",
      "execution_count": 41,
      "metadata": {
        "colab": {
          "base_uri": "https://localhost:8080/"
        },
        "id": "PLSwGZibjfgk",
        "outputId": "1dac2815-5dd2-42d7-87fa-cf95c1df23b0"
      },
      "outputs": [
        {
          "data": {
            "text/plain": [
              "[{'Scaler': 'StandardScaler',\n",
              "  'MAE': 0.5689010347992915,\n",
              "  'RMSE': 0.7806005739356693},\n",
              " {'Scaler': 'RobustScaler',\n",
              "  'MAE': 61716652533.44636,\n",
              "  'RMSE': 179330518762.5118},\n",
              " {'Scaler': 'MinMaxScaler',\n",
              "  'MAE': 0.5764728048359544,\n",
              "  'RMSE': 0.7869006112689975}]"
            ]
          },
          "execution_count": 41,
          "metadata": {},
          "output_type": "execute_result"
        }
      ],
      "source": [
        "results"
      ]
    },
    {
      "cell_type": "code",
      "execution_count": 42,
      "metadata": {
        "colab": {
          "base_uri": "https://localhost:8080/",
          "height": 179
        },
        "id": "4nmFjIAVjQzK",
        "outputId": "1884df7e-48e4-4f9a-a64d-9d5928125e02"
      },
      "outputs": [
        {
          "name": "stdout",
          "output_type": "stream",
          "text": [
            "\n",
            " Сравнение моделей:\n"
          ]
        },
        {
          "data": {
            "text/html": [
              "<div>\n",
              "<style scoped>\n",
              "    .dataframe tbody tr th:only-of-type {\n",
              "        vertical-align: middle;\n",
              "    }\n",
              "\n",
              "    .dataframe tbody tr th {\n",
              "        vertical-align: top;\n",
              "    }\n",
              "\n",
              "    .dataframe thead th {\n",
              "        text-align: right;\n",
              "    }\n",
              "</style>\n",
              "<table border=\"1\" class=\"dataframe\">\n",
              "  <thead>\n",
              "    <tr style=\"text-align: right;\">\n",
              "      <th></th>\n",
              "      <th>Scaler</th>\n",
              "      <th>MAE</th>\n",
              "      <th>RMSE</th>\n",
              "    </tr>\n",
              "  </thead>\n",
              "  <tbody>\n",
              "    <tr>\n",
              "      <th>1</th>\n",
              "      <td>RobustScaler</td>\n",
              "      <td>61716652533.446358</td>\n",
              "      <td>179330518762.511810</td>\n",
              "    </tr>\n",
              "    <tr>\n",
              "      <th>2</th>\n",
              "      <td>MinMaxScaler</td>\n",
              "      <td>0.576473</td>\n",
              "      <td>0.786901</td>\n",
              "    </tr>\n",
              "    <tr>\n",
              "      <th>0</th>\n",
              "      <td>StandardScaler</td>\n",
              "      <td>0.568901</td>\n",
              "      <td>0.780601</td>\n",
              "    </tr>\n",
              "  </tbody>\n",
              "</table>\n",
              "</div>"
            ],
            "text/plain": [
              "           Scaler                MAE                RMSE\n",
              "1    RobustScaler 61716652533.446358 179330518762.511810\n",
              "2    MinMaxScaler           0.576473            0.786901\n",
              "0  StandardScaler           0.568901            0.780601"
            ]
          },
          "metadata": {},
          "output_type": "display_data"
        }
      ],
      "source": [
        "results_df = pd.DataFrame(results).sort_values(by=['MAE'], ascending=[False])\n",
        "print(\"\\n Сравнение моделей:\")\n",
        "display(results_df)"
      ]
    },
    {
      "cell_type": "markdown",
      "metadata": {
        "id": "ndRJOuglEuOg"
      },
      "source": [
        "##<font size=4>**Улучшение модели**"
      ]
    },
    {
      "cell_type": "markdown",
      "metadata": {
        "id": "J3x95mTVVTlA"
      },
      "source": [
        "1) классификация: 1- высокая стоимость, 0 - низкая стоимость  \n",
        "2) регрессия отдельно для низкой стоимость - regr_1.  \n",
        "3) регрессия для высокой стоимости - regr_2.  \n",
        "4) финальный прогноз = если прогноз 1 модели (вероятность 1) > treshold  то regr_2 иначе regr_1"
      ]
    },
    {
      "cell_type": "code",
      "execution_count": 43,
      "metadata": {
        "id": "vjqjKDH3LMSi"
      },
      "outputs": [],
      "source": [
        "# Выбираем индексы, где bin_target == 0\n",
        "mask_train_low = y_train_bin == 0\n",
        "\n",
        "X_train_low = X_train.loc[mask_train_low]\n",
        "y_train_low = y_train.loc[mask_train_low]\n",
        "\n",
        "\n",
        "mask_test_low = y_test_bin == 0\n",
        "\n",
        "X_test_low = X_test.loc[mask_test_low]\n",
        "y_test_low = y_test.loc[mask_test_low]\n"
      ]
    },
    {
      "cell_type": "code",
      "execution_count": 44,
      "metadata": {
        "id": "wi7BtA-DLXXc"
      },
      "outputs": [],
      "source": [
        "# Выбираем индексы, где bin_target == 1\n",
        "mask_train_high = y_train_bin == 1\n",
        "\n",
        "X_train_high = X_train.loc[mask_train_high]\n",
        "y_train_high = y_train.loc[mask_train_high]\n",
        "\n",
        "\n",
        "mask_test_high = y_test_bin == 1\n",
        "\n",
        "X_test_high = X_test.loc[mask_test_high]\n",
        "y_test_high = y_test.loc[mask_test_high]\n"
      ]
    },
    {
      "cell_type": "code",
      "execution_count": 45,
      "metadata": {
        "colab": {
          "base_uri": "https://localhost:8080/"
        },
        "id": "JRzGJlofEwMD",
        "outputId": "4a4a3623-4f13-42d9-dcbc-4b6d3457561a"
      },
      "outputs": [
        {
          "data": {
            "text/plain": [
              "array([0.00155406, 0.00511671, 0.10799238, ..., 0.57103372, 0.00551991,\n",
              "       0.00773981])"
            ]
          },
          "execution_count": 45,
          "metadata": {},
          "output_type": "execute_result"
        }
      ],
      "source": [
        "clf = LogisticRegression(penalty='l1', C = 1, solver='liblinear', random_state=42)\n",
        "clf.fit(X_train_scaled, y_train_bin)\n",
        "\n",
        "y_pred_train = clf.predict_proba(X_train_scaled)[:,1]\n",
        "y_pred_test = clf.predict_proba(X_test_scaled)[:,1]\n",
        "y_pred_test"
      ]
    },
    {
      "cell_type": "code",
      "execution_count": 46,
      "metadata": {
        "colab": {
          "base_uri": "https://localhost:8080/"
        },
        "id": "g3nFnQPDH28W",
        "outputId": "5e2f6b2f-281b-4826-f84b-f7b15c9b6c63"
      },
      "outputs": [
        {
          "name": "stdout",
          "output_type": "stream",
          "text": [
            "ROC AUC TEST: 0.8922 \n",
            "ROC AUC TRAIN: 0.9181\n"
          ]
        }
      ],
      "source": [
        "roc_auc = roc_auc_score(y_test_bin, y_pred_test)\n",
        "print(f\"ROC AUC TEST: {roc_auc_score(y_test_bin, y_pred_test):.4f} \\nROC AUC TRAIN: {roc_auc_score(y_train_bin, y_pred_train):.4f}\")"
      ]
    },
    {
      "cell_type": "code",
      "execution_count": 47,
      "metadata": {
        "colab": {
          "base_uri": "https://localhost:8080/"
        },
        "id": "UwdaeWhuHt4b",
        "outputId": "8f544930-59ab-4bdc-e790-b5edcff48c79"
      },
      "outputs": [
        {
          "name": "stdout",
          "output_type": "stream",
          "text": [
            "\n",
            "=== Regression for Normal Prices ===\n",
            "RMSE: 0.6758597317924367\n"
          ]
        }
      ],
      "source": [
        "\n",
        "# === Регрессия: обычные значения (is_high_price == 0) ===\n",
        "\n",
        "scaler_low = StandardScaler()\n",
        "X_train_low_scaled = scaler_low.fit_transform(X_train_low)\n",
        "X_test_low_scaled = scaler_low.transform(X_test_low)\n",
        "\n",
        "reg_low = Lasso(alpha=0.02)\n",
        "reg_low.fit(X_train_low_scaled, y_train_low)\n",
        "y_pred_low = reg_low.predict(X_test_low_scaled)\n",
        "\n",
        "print(\"\\n=== Regression for Normal Prices ===\")\n",
        "print(\"RMSE:\", root_mean_squared_error(y_test_low, y_pred_low))\n"
      ]
    },
    {
      "cell_type": "code",
      "execution_count": 48,
      "metadata": {
        "colab": {
          "base_uri": "https://localhost:8080/"
        },
        "id": "b3wE2RhfIv--",
        "outputId": "d452cc45-2199-4743-a8c8-1807f1a213e9"
      },
      "outputs": [
        {
          "name": "stdout",
          "output_type": "stream",
          "text": [
            "\n",
            "=== Regression (Ridge) for High Prices ===\n",
            "RMSE: 0.03529877152051453\n"
          ]
        }
      ],
      "source": [
        "# === Регрессия или среднее: выбросы (is_high_price == 1) ===\n",
        "N = 300\n",
        "if len(X_train_high) > N:\n",
        "\n",
        "    scaler_high = StandardScaler()\n",
        "    X_train_high_scaled = scaler_high.fit_transform(X_train_high)\n",
        "    X_test_high_scaled = scaler_high.transform(X_test_high)\n",
        "\n",
        "    reg_high = Lasso(alpha=10)\n",
        "    reg_high.fit(X_train_high_scaled, y_train_high)\n",
        "    y_pred_high = reg_high.predict(X_test_high_scaled)\n",
        "\n",
        "    print(\"\\n=== Regression (Ridge) for High Prices ===\")\n",
        "    print(\"RMSE:\", root_mean_squared_error(y_test_high, y_pred_high))\n",
        "else:\n",
        "    mean_high = y_train_high.mean()\n",
        "    print(f\"\\n=== High Prices: too few rows ({len(X_train_high)}), using mean prediction ===\")\n",
        "    print(f\"Mean value prediction: {mean_high:.2f}\")\n"
      ]
    },
    {
      "cell_type": "code",
      "execution_count": 49,
      "metadata": {
        "colab": {
          "base_uri": "https://localhost:8080/",
          "height": 448
        },
        "id": "5bsJKcomM-As",
        "outputId": "10bbce5c-d9a7-4028-f8c3-ae2e430ebca4"
      },
      "outputs": [
        {
          "data": {
            "text/plain": [
              "<Axes: ylabel='Count'>"
            ]
          },
          "execution_count": 49,
          "metadata": {},
          "output_type": "execute_result"
        },
        {
          "data": {
            "image/png": "[encoded data removed]",
            "text/plain": [
              "<Figure size 640x480 with 1 Axes>"
            ]
          },
          "metadata": {},
          "output_type": "display_data"
        }
      ],
      "source": [
        "sns.histplot(clf.predict_proba(X_test_scaled)[:,1], bins=50)"
      ]
    },
    {
      "cell_type": "code",
      "execution_count": 50,
      "metadata": {
        "id": "hNzO4CHdODHA"
      },
      "outputs": [],
      "source": [
        "proba_high = clf.predict_proba(X_test_scaled)[:, 1]\n",
        "\n",
        "# Предсказания обеих моделей\n",
        "pred_low = reg_low.predict(scaler_low.transform(X_test))\n",
        "pred_high = reg_high.predict(scaler_high.transform(X_test))\n",
        "\n",
        "# Выбираем, где вероятность < 0.5, там pred_low, иначе pred_high\n",
        "y_pred_test = np.where(proba_high < 0.5, pred_low, pred_high)\n"
      ]
    },
    {
      "cell_type": "code",
      "execution_count": 51,
      "metadata": {
        "colab": {
          "base_uri": "https://localhost:8080/"
        },
        "id": "596nZ7TEO9xX",
        "outputId": "42bdd475-479c-4129-b52a-74733b05ba77"
      },
      "outputs": [
        {
          "name": "stdout",
          "output_type": "stream",
          "text": [
            "MAE: 0.5529335674959623\n",
            "RMSE: 0.7793501154608125\n"
          ]
        }
      ],
      "source": [
        "print(\"MAE:\", mean_absolute_error(y_test, y_pred_test))\n",
        "print(\"RMSE:\", root_mean_squared_error(y_test, y_pred_test))"
      ]
    },
    {
      "cell_type": "code",
      "execution_count": null,
      "metadata": {
        "id": "zAcorQz9Q2Co"
      },
      "outputs": [],
      "source": []
    }
  ],
  "metadata": {
    "colab": {
      "collapsed_sections": [
        "YpDeHTA_anAK",
        "nnove8I1a4Gz",
        "MzChvOlSfRaU",
        "X7bpgINK03rE"
      ],
      "provenance": []
    },
    "kernelspec": {
      "display_name": ".venv",
      "language": "python",
      "name": "python3"
    },
    "language_info": {
      "codemirror_mode": {
        "name": "ipython",
        "version": 3
      },
      "file_extension": ".py",
      "mimetype": "text/x-python",
      "name": "python",
      "nbconvert_exporter": "python",
      "pygments_lexer": "ipython3",
      "version": "3.12.0"
    }
  },
  "nbformat": 4,
  "nbformat_minor": 0
}
