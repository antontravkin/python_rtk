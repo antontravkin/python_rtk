{
  "nbformat": 4,
  "nbformat_minor": 0,
  "metadata": {
    "colab": {
      "provenance": []
    },
    "kernelspec": {
      "name": "python3",
      "display_name": "Python 3"
    },
    "language_info": {
      "name": "python"
    }
  },
  "cells": [
    {
      "cell_type": "markdown",
      "source": [
        " <font color='744fdb' size=6> **Метод главных компонент (principal component analysis, PCA)**\n"
      ],
      "metadata": {
        "id": "IDXQB-9mglBR"
      }
    },
    {
      "cell_type": "code",
      "source": [
        "import numpy as np\n",
        "\n",
        "from sklearn.decomposition import PCA\n",
        "\n",
        "import matplotlib.pyplot as plt\n",
        "import seaborn as sns"
      ],
      "metadata": {
        "id": "SB-oPNwu8pTs"
      },
      "execution_count": null,
      "outputs": []
    },
    {
      "cell_type": "code",
      "source": [
        "x = np.arange(1,21)\n",
        "y = 2 * x + np.random.randn(20)*2"
      ],
      "metadata": {
        "id": "PyN6oQFK8pWz"
      },
      "execution_count": null,
      "outputs": []
    },
    {
      "cell_type": "code",
      "source": [
        "x"
      ],
      "metadata": {
        "colab": {
          "base_uri": "https://localhost:8080/"
        },
        "id": "RhpIOaMqqSjE",
        "outputId": "5c0f59a7-c954-479a-d9eb-8b6a3fe4af1e"
      },
      "execution_count": null,
      "outputs": [
        {
          "output_type": "execute_result",
          "data": {
            "text/plain": [
              "array([ 1,  2,  3,  4,  5,  6,  7,  8,  9, 10, 11, 12, 13, 14, 15, 16, 17,\n",
              "       18, 19, 20])"
            ]
          },
          "metadata": {},
          "execution_count": 3
        }
      ]
    },
    {
      "cell_type": "code",
      "source": [
        "plt.figure(figsize=(5,5))\n",
        "sns.scatterplot(x=x, y=y)\n",
        "plt.grid(True)\n",
        "plt.show()"
      ],
      "metadata": {
        "colab": {
          "base_uri": "https://localhost:8080/",
          "height": 445
        },
        "id": "Ay9yIft38ykW",
        "outputId": "13efb502-8d45-4765-e07d-a35017ae0915"
      },
      "execution_count": null,
      "outputs": [
        {
          "output_type": "display_data",
          "data": {
            "text/plain": [
              "<Figure size 500x500 with 1 Axes>"
            ],
            "image/png": "[encoded data removed]"
          },
          "metadata": {}
        }
      ]
    },
    {
      "cell_type": "code",
      "source": [
        "# центрируем\n",
        "x_centr = x - x.mean()\n",
        "y_centr = y - y.mean()"
      ],
      "metadata": {
        "id": "6b3sJYiP9nji"
      },
      "execution_count": null,
      "outputs": []
    },
    {
      "cell_type": "code",
      "source": [
        "plt.figure(figsize=(5,5))\n",
        "sns.scatterplot(x=x_centr, y=y_centr)\n",
        "plt.grid(True)\n",
        "plt.show()"
      ],
      "metadata": {
        "colab": {
          "base_uri": "https://localhost:8080/",
          "height": 445
        },
        "id": "GzZl2hrR97YP",
        "outputId": "4275d943-07df-42fc-8591-9ce9d69c530b"
      },
      "execution_count": null,
      "outputs": [
        {
          "output_type": "display_data",
          "data": {
            "text/plain": [
              "<Figure size 500x500 with 1 Axes>"
            ],
            "image/png": "[encoded data removed]"
          },
          "metadata": {}
        }
      ]
    },
    {
      "cell_type": "markdown",
      "source": [
        "Ковариационная матрица - это матрица, у которой $ (i,j) $-элемент является корреляцией признаков $(X_i, X_j)$. Вспомним формулу ковариации:\n",
        "$$\n",
        "Cov(X_i, X_j) = E \\left[ (X_i - E(X_i)) \\cdot (X_j - E(X_j)) \\right] = E(X_i X_j) - E(X_i) \\cdot E(X_j)\n",
        "$$\n",
        "\n",
        "В нашем случае она упрощается, так как $E(X_i) = E(X_j) = 0$:\n",
        "$$\n",
        "Cov(X_i, X_j) = E(X_i X_j)\n",
        "$$\n",
        "\n",
        "Заметим, что когда $X_i = X_j$:\n",
        "$$\n",
        "Cov(X_i, X_i) = Var(X_i)\n",
        "$$\n",
        "\n",
        "и это справедливо для любых случайных величин.\n"
      ],
      "metadata": {
        "id": "hBNLS--tFMcC"
      }
    },
    {
      "cell_type": "markdown",
      "source": [
        "Замечание: Ковариационная матрица является обобщением дисперсии на случай многомерных случайных величин – она так же описывает форму (разброс) случайной величины, как и дисперсия."
      ],
      "metadata": {
        "id": "a1mHUjiSFpPW"
      }
    },
    {
      "cell_type": "code",
      "source": [
        "X_centr = np.vstack((x_centr, y_centr))"
      ],
      "metadata": {
        "id": "Tkyr82tPQJR5"
      },
      "execution_count": null,
      "outputs": []
    },
    {
      "cell_type": "code",
      "source": [
        "X_centr"
      ],
      "metadata": {
        "colab": {
          "base_uri": "https://localhost:8080/"
        },
        "id": "43gnD25pqaVd",
        "outputId": "c564e3f4-8a52-4159-be83-a79b3a2a04f3"
      },
      "execution_count": null,
      "outputs": [
        {
          "output_type": "execute_result",
          "data": {
            "text/plain": [
              "array([[ -9.5       ,  -8.5       ,  -7.5       ,  -6.5       ,\n",
              "         -5.5       ,  -4.5       ,  -3.5       ,  -2.5       ,\n",
              "         -1.5       ,  -0.5       ,   0.5       ,   1.5       ,\n",
              "          2.5       ,   3.5       ,   4.5       ,   5.5       ,\n",
              "          6.5       ,   7.5       ,   8.5       ,   9.5       ],\n",
              "       [-20.32428508, -21.24999361, -13.85498468, -13.57976682,\n",
              "         -8.79218452, -10.64702536,  -4.85500744,  -3.95884298,\n",
              "         -2.45713235,  -0.34856642,   2.6038841 ,   1.06494061,\n",
              "          5.19918366,   7.14402237,   9.31544852,   8.15595271,\n",
              "         14.53076311,  17.77648   ,  14.6153129 ,  19.66180128]])"
            ]
          },
          "metadata": {},
          "execution_count": 8
        }
      ]
    },
    {
      "cell_type": "code",
      "source": [
        "covmat = np.cov(X_centr)"
      ],
      "metadata": {
        "id": "4hF5ylyN-H2a"
      },
      "execution_count": null,
      "outputs": []
    },
    {
      "cell_type": "code",
      "source": [
        "covmat"
      ],
      "metadata": {
        "colab": {
          "base_uri": "https://localhost:8080/"
        },
        "id": "4KrULB33-aVE",
        "outputId": "a82b8f63-964d-4618-a8f7-b111b7fbcf07"
      },
      "execution_count": null,
      "outputs": [
        {
          "output_type": "execute_result",
          "data": {
            "text/plain": [
              "array([[ 35.        ,  71.54601306],\n",
              "       [ 71.54601306, 149.6680943 ]])"
            ]
          },
          "metadata": {},
          "execution_count": 10
        }
      ]
    },
    {
      "cell_type": "markdown",
      "source": [
        "Найдем вектор, при котором максимизировался бы  размер (дисперсия) проекции нашей выборки на него\n",
        "\n",
        "Мы хотим найти вектор w, который даёт максимальную дисперсию проекции данных X на него, при этом сам по себе w должен быть единичной длины (чтобы не \"накручивать\" дисперсию за счёт масштаба)."
      ],
      "metadata": {
        "id": "Ynk5HLDeHiLE"
      }
    },
    {
      "cell_type": "markdown",
      "source": [
        "Рассмотрим выборку данных $X$ и вектор направления $w$. Проекция данных $X$ на $w$ определяется как $Xw$. Нам нужно максимизировать дисперсию этой проекции, которая вычисляется как:\n",
        "$$\n",
        "\\text{Var}(Xw) = w^T Q w\n",
        "$$\n",
        "\n",
        "Для нахождения $w$, которое максимизирует дисперсию, необходимо нормировать $w$ так, чтобы $w^T w = 1$.\n",
        "\n",
        "Формулируем задачу оптимизации:\n",
        "$$\n",
        "\\max_{w} \\, w^T Q w \\quad \\text{при условии} \\quad w^T w = 1\n",
        "$$\n",
        "\n",
        "Для решения этой задачи используем метод Лагранжа. Записываем лагранжиан:\n",
        "$$\n",
        "L(w, \\lambda) = w^T Q w - \\lambda (w^T w - 1)\n",
        "$$\n",
        "\n",
        "Находим производные по $w$ и $\\lambda$ и приравниваем их к нулю:\n",
        "$$\n",
        "\\frac{\\partial L}{\\partial w} = 2Q w - 2\\lambda w = 0\n",
        "$$\n",
        "$$\n",
        "Q w = \\lambda w\n",
        "$$\n",
        "\n",
        "Это и есть определение собственного вектора и собственного значения.\n",
        "\n",
        "Собственные значения $\\lambda$ представляют дисперсии вдоль направлений, определяемых соответствующими собственными векторами. Для максимизации дисперсии нужно выбрать вектор, соответствующий наибольшему собственному значению.\n",
        "\n",
        "\n",
        "Таким образом, направление максимальной дисперсии у проекции всегда совпадает с собственным вектором, имеющим максимальное собственное значение."
      ],
      "metadata": {
        "id": "VLASKEMkKuR-"
      }
    },
    {
      "cell_type": "markdown",
      "source": [
        "###Пример расчета собственнх значений"
      ],
      "metadata": {
        "id": "ewcJCXO_PtQ5"
      }
    },
    {
      "cell_type": "markdown",
      "source": [
        "\n",
        "\n",
        "Предположим, у нас есть ковариационная матрица:\n",
        "$$\n",
        "Q = \\begin{pmatrix}\n",
        "4 & 2 \\\\\n",
        "2 & 3\n",
        "\\end{pmatrix}\n",
        "$$\n",
        "\n",
        "Найдём собственные значения и векторы:\n",
        "\n",
        "1. Решаем характеристическое уравнение:\n",
        "$$\n",
        "\\det(Q - \\lambda I) = 0\n",
        "$$\n",
        "\n",
        "$$\n",
        "\\begin{vmatrix}\n",
        "4 - \\lambda & 2 \\\\\n",
        "2 & 3 - \\lambda\n",
        "\\end{vmatrix} = 0\n",
        "$$\n",
        "$$\n",
        "(4 - \\lambda)(3 - \\lambda) - 4 = \\lambda^2 - 7\\lambda + 8 = 0\n",
        "$$\n",
        "Собственные значения: $\\lambda_1 = \\frac{1+\\sqrt{17}}{2}$, $\\lambda_2 = \\frac{1-\\sqrt{17}}{2}$.\n"
      ],
      "metadata": {
        "id": "atqW7TDULTLm"
      }
    },
    {
      "cell_type": "markdown",
      "source": [
        "\n",
        "\n",
        "Для каждого собственного значения найдём собственный вектор $\\mathbf{v} = \\begin{pmatrix} x \\\\ y \\end{pmatrix}$, решая\n",
        "$$\n",
        "(Q - \\lambda I)\\mathbf{v} = 0\n",
        "$$\n",
        "\n"
      ],
      "metadata": {
        "id": "iNBBrrMRVpQG"
      }
    },
    {
      "cell_type": "markdown",
      "source": [
        "### продолжим"
      ],
      "metadata": {
        "id": "7F2INzSAQBE_"
      }
    },
    {
      "cell_type": "markdown",
      "source": [
        "Функция `np.linalg.eig` из библиотеки NumPy вычисляет собственные значения и собственные векторы квадратной матрицы."
      ],
      "metadata": {
        "id": "6OEf0aCGQnxi"
      }
    },
    {
      "cell_type": "code",
      "source": [
        "X_centr"
      ],
      "metadata": {
        "colab": {
          "base_uri": "https://localhost:8080/"
        },
        "id": "Wi9Aen90Q-UV",
        "outputId": "ac7cf0f7-9e4a-4c19-b3ea-19ec42f2c2ce"
      },
      "execution_count": null,
      "outputs": [
        {
          "output_type": "execute_result",
          "data": {
            "text/plain": [
              "array([[ -9.5       ,  -8.5       ,  -7.5       ,  -6.5       ,\n",
              "         -5.5       ,  -4.5       ,  -3.5       ,  -2.5       ,\n",
              "         -1.5       ,  -0.5       ,   0.5       ,   1.5       ,\n",
              "          2.5       ,   3.5       ,   4.5       ,   5.5       ,\n",
              "          6.5       ,   7.5       ,   8.5       ,   9.5       ],\n",
              "       [-20.32428508, -21.24999361, -13.85498468, -13.57976682,\n",
              "         -8.79218452, -10.64702536,  -4.85500744,  -3.95884298,\n",
              "         -2.45713235,  -0.34856642,   2.6038841 ,   1.06494061,\n",
              "          5.19918366,   7.14402237,   9.31544852,   8.15595271,\n",
              "         14.53076311,  17.77648   ,  14.6153129 ,  19.66180128]])"
            ]
          },
          "metadata": {},
          "execution_count": 11
        }
      ]
    },
    {
      "cell_type": "code",
      "source": [
        "a, vecs = np.linalg.eig(covmat)"
      ],
      "metadata": {
        "id": "eej6w59qRDnD"
      },
      "execution_count": null,
      "outputs": []
    },
    {
      "cell_type": "code",
      "source": [
        "a"
      ],
      "metadata": {
        "colab": {
          "base_uri": "https://localhost:8080/"
        },
        "id": "pYIVG2b6XRrD",
        "outputId": "4bab4110-f09d-4526-b2a8-1941e3d6ced0"
      },
      "execution_count": null,
      "outputs": [
        {
          "output_type": "execute_result",
          "data": {
            "text/plain": [
              "array([  0.64967036, 184.01842394])"
            ]
          },
          "metadata": {},
          "execution_count": 13
        }
      ]
    },
    {
      "cell_type": "code",
      "source": [
        "vecs"
      ],
      "metadata": {
        "colab": {
          "base_uri": "https://localhost:8080/"
        },
        "id": "AUzOZRuIXSYu",
        "outputId": "94e15dc2-ba40-4f58-f17c-7795d8e6a399"
      },
      "execution_count": null,
      "outputs": [
        {
          "output_type": "execute_result",
          "data": {
            "text/plain": [
              "array([[-0.90148253, -0.43281548],\n",
              "       [ 0.43281548, -0.90148253]])"
            ]
          },
          "metadata": {},
          "execution_count": 14
        }
      ]
    },
    {
      "cell_type": "code",
      "source": [
        "vecs[0,1], vecs[1,1]"
      ],
      "metadata": {
        "colab": {
          "base_uri": "https://localhost:8080/"
        },
        "id": "ZfRnXRZx7iOv",
        "outputId": "de33f0ff-e9d0-44c1-a5af-dde739a828f5"
      },
      "execution_count": null,
      "outputs": [
        {
          "output_type": "execute_result",
          "data": {
            "text/plain": [
              "(np.float64(-0.4328154828049614), np.float64(-0.9014825332996244))"
            ]
          },
          "metadata": {},
          "execution_count": 28
        }
      ]
    },
    {
      "cell_type": "code",
      "source": [
        "X_centr[1]"
      ],
      "metadata": {
        "colab": {
          "base_uri": "https://localhost:8080/"
        },
        "id": "gaYAYoZH6_1l",
        "outputId": "68ce1006-ba22-476c-8f5f-1119d2330fba"
      },
      "execution_count": null,
      "outputs": [
        {
          "output_type": "execute_result",
          "data": {
            "text/plain": [
              "array([-20.32428508, -21.24999361, -13.85498468, -13.57976682,\n",
              "        -8.79218452, -10.64702536,  -4.85500744,  -3.95884298,\n",
              "        -2.45713235,  -0.34856642,   2.6038841 ,   1.06494061,\n",
              "         5.19918366,   7.14402237,   9.31544852,   8.15595271,\n",
              "        14.53076311,  17.77648   ,  14.6153129 ,  19.66180128])"
            ]
          },
          "metadata": {},
          "execution_count": 16
        }
      ]
    },
    {
      "cell_type": "code",
      "source": [
        "X_centr[0]"
      ],
      "metadata": {
        "colab": {
          "base_uri": "https://localhost:8080/"
        },
        "id": "Lc66NIdy7baX",
        "outputId": "766952b7-0784-4e11-85ce-e659f6e85a0e"
      },
      "execution_count": null,
      "outputs": [
        {
          "output_type": "execute_result",
          "data": {
            "text/plain": [
              "array([-9.5, -8.5, -7.5, -6.5, -5.5, -4.5, -3.5, -2.5, -1.5, -0.5,  0.5,\n",
              "        1.5,  2.5,  3.5,  4.5,  5.5,  6.5,  7.5,  8.5,  9.5])"
            ]
          },
          "metadata": {},
          "execution_count": 17
        }
      ]
    },
    {
      "cell_type": "code",
      "source": [
        "X_centr[0] * vecs[0,1] + X_centr[1] * vecs[1,1]"
      ],
      "metadata": {
        "colab": {
          "base_uri": "https://localhost:8080/"
        },
        "id": "O-1A1dnX7fFd",
        "outputId": "84f01bff-6467-4e81-cd18-81ffc73e641a"
      },
      "execution_count": null,
      "outputs": [
        {
          "output_type": "execute_result",
          "data": {
            "text/plain": [
              "array([ 22.43373508,  22.83542967,  15.73614281,  15.05522324,\n",
              "        10.30648593,  11.54577707,   5.8915586 ,   4.65086651,\n",
              "         2.86428512,   0.53063428,  -2.56376378,  -1.60924859,\n",
              "        -5.76901197,  -7.95506557, -10.34538381,  -9.73293406,\n",
              "       -15.91252977, -19.27130234, -16.85438091, -21.83651751])"
            ]
          },
          "metadata": {},
          "execution_count": 18
        }
      ]
    },
    {
      "cell_type": "code",
      "source": [
        "_, vecs = np.linalg.eig(covmat)\n",
        "v = -vecs[:,1]\n",
        "Xnew = np.dot(v,X_centr)"
      ],
      "metadata": {
        "id": "PGd_l24GcC24"
      },
      "execution_count": null,
      "outputs": []
    },
    {
      "cell_type": "code",
      "source": [
        "Xnew"
      ],
      "metadata": {
        "colab": {
          "base_uri": "https://localhost:8080/"
        },
        "id": "8ob4zH0LdUEj",
        "outputId": "253c7735-4771-4254-fdb9-4f64efb82716"
      },
      "execution_count": null,
      "outputs": [
        {
          "output_type": "execute_result",
          "data": {
            "text/plain": [
              "array([-22.43373508, -22.83542967, -15.73614281, -15.05522324,\n",
              "       -10.30648593, -11.54577707,  -5.8915586 ,  -4.65086651,\n",
              "        -2.86428512,  -0.53063428,   2.56376378,   1.60924859,\n",
              "         5.76901197,   7.95506557,  10.34538381,   9.73293406,\n",
              "        15.91252977,  19.27130234,  16.85438091,  21.83651751])"
            ]
          },
          "metadata": {},
          "execution_count": 20
        }
      ]
    },
    {
      "cell_type": "markdown",
      "source": [
        ">найдем через библиотеку"
      ],
      "metadata": {
        "id": "UXAylk4Id2YX"
      }
    },
    {
      "cell_type": "code",
      "source": [
        "from sklearn.decomposition import PCA\n",
        "pca = PCA(n_components = 1)\n",
        "XPCAreduced = pca.fit_transform(X_centr.T)"
      ],
      "metadata": {
        "id": "zzPsnKoCXgcf"
      },
      "execution_count": null,
      "outputs": []
    },
    {
      "cell_type": "code",
      "source": [
        "XPCAreduced"
      ],
      "metadata": {
        "colab": {
          "base_uri": "https://localhost:8080/"
        },
        "id": "MsbzZs03XgfW",
        "outputId": "9bea1359-54a9-4d50-a36e-5e85d02a83df"
      },
      "execution_count": null,
      "outputs": [
        {
          "output_type": "execute_result",
          "data": {
            "text/plain": [
              "array([[-22.43373508],\n",
              "       [-22.83542967],\n",
              "       [-15.73614281],\n",
              "       [-15.05522324],\n",
              "       [-10.30648593],\n",
              "       [-11.54577707],\n",
              "       [ -5.8915586 ],\n",
              "       [ -4.65086651],\n",
              "       [ -2.86428512],\n",
              "       [ -0.53063428],\n",
              "       [  2.56376378],\n",
              "       [  1.60924859],\n",
              "       [  5.76901197],\n",
              "       [  7.95506557],\n",
              "       [ 10.34538381],\n",
              "       [  9.73293406],\n",
              "       [ 15.91252977],\n",
              "       [ 19.27130234],\n",
              "       [ 16.85438091],\n",
              "       [ 21.83651751]])"
            ]
          },
          "metadata": {},
          "execution_count": 22
        }
      ]
    },
    {
      "cell_type": "code",
      "source": [
        "pca.explained_variance_ratio_"
      ],
      "metadata": {
        "colab": {
          "base_uri": "https://localhost:8080/"
        },
        "id": "f87mpc9BXgiB",
        "outputId": "5f68e840-90fd-4079-fdd9-1eaa6e66d184"
      },
      "execution_count": null,
      "outputs": [
        {
          "output_type": "execute_result",
          "data": {
            "text/plain": [
              "array([0.99648196])"
            ]
          },
          "metadata": {},
          "execution_count": 23
        }
      ]
    },
    {
      "cell_type": "markdown",
      "source": [
        "пример применения для графиков"
      ],
      "metadata": {
        "id": "Z__VBgC8d-xx"
      }
    },
    {
      "cell_type": "code",
      "source": [
        "import numpy as np\n",
        "import matplotlib.pyplot as plt\n",
        "from sklearn.decomposition import PCA\n",
        "\n",
        "# Создание набора данных с размерностью 10\n",
        "np.random.seed(42)\n",
        "data = np.random.rand(100, 3)  # 100 образцов с 10 признаками\n",
        "\n",
        "# Применение PCA для снижения размерности до 2\n",
        "pca = PCA(n_components=2)\n",
        "reduced_data = pca.fit_transform(data)\n",
        "\n",
        "# Построение графика\n",
        "plt.figure(figsize=(8, 6))\n",
        "plt.scatter(reduced_data[:, 0], reduced_data[:, 1], c='blue', edgecolor='k', s=50)\n",
        "plt.title('PCA Reduction to 2 Dimensions')\n",
        "plt.xlabel('Principal Component 1')\n",
        "plt.ylabel('Principal Component 2')\n",
        "plt.grid(True)\n",
        "plt.show()\n"
      ],
      "metadata": {
        "colab": {
          "base_uri": "https://localhost:8080/",
          "height": 564
        },
        "id": "UxvKOcDSZN0k",
        "outputId": "8efb9894-fe25-4f49-8a66-6bfcf0705470"
      },
      "execution_count": null,
      "outputs": [
        {
          "output_type": "display_data",
          "data": {
            "text/plain": [
              "<Figure size 800x600 with 1 Axes>"
            ],
            "image/png": "[encoded data removed]"
          },
          "metadata": {}
        }
      ]
    },
    {
      "cell_type": "code",
      "source": [
        "# Расчет сохраненной и потерянной дисперсии\n",
        "explained_variance_ratio = pca.explained_variance_ratio_\n",
        "total_explained_variance = np.sum(explained_variance_ratio)\n",
        "lost_variance = 1 - total_explained_variance"
      ],
      "metadata": {
        "id": "Cx572iuuf06M"
      },
      "execution_count": null,
      "outputs": []
    },
    {
      "cell_type": "code",
      "source": [
        "total_explained_variance"
      ],
      "metadata": {
        "colab": {
          "base_uri": "https://localhost:8080/"
        },
        "id": "OaO2_jTpZN3W",
        "outputId": "36bc51d3-d75e-40ea-8f40-b0acba6bf588"
      },
      "execution_count": null,
      "outputs": [
        {
          "output_type": "execute_result",
          "data": {
            "text/plain": [
              "np.float64(0.7138951916617458)"
            ]
          },
          "metadata": {},
          "execution_count": 26
        }
      ]
    },
    {
      "cell_type": "code",
      "source": [
        "lost_variance"
      ],
      "metadata": {
        "colab": {
          "base_uri": "https://localhost:8080/"
        },
        "id": "a1jpat1pZN6M",
        "outputId": "1951c828-7ecc-4d53-8c81-1d9dc7f5574b"
      },
      "execution_count": null,
      "outputs": [
        {
          "output_type": "execute_result",
          "data": {
            "text/plain": [
              "np.float64(0.28610480833825425)"
            ]
          },
          "metadata": {},
          "execution_count": 27
        }
      ]
    }
  ]
}