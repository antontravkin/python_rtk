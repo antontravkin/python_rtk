{
  "nbformat": 4,
  "nbformat_minor": 0,
  "metadata": {
    "colab": {
      "provenance": []
    },
    "kernelspec": {
      "name": "python3",
      "display_name": "Python 3"
    },
    "language_info": {
      "name": "python"
    }
  },
  "cells": [
    {
      "cell_type": "markdown",
      "source": [
        "<font color='green' size='6'>**Домашняя работа 2**</font>  \n",
        "<font color='#11a642' size='5'>**Тема: Машинное обучение**</font>  \n",
        "<font size='5'>**Задание:**</font>  \n",
        "\n",
        "Домашняя работа основана на данных https://archive.ics.uci.edu/dataset/109/wine.\n",
        "\n",
        "\n",
        "**Что нужно сделать:**\n",
        "\n",
        "0. Загрузите данные https://archive.ics.uci.edu/dataset/109/wine, например вот так\n",
        "```\n",
        "from sklearn.datasets import load_wine  \n",
        "data = load_wine()\n",
        "\n",
        "\n",
        "1. Проведите разведочный анализ данных (EDA)\n",
        "\n",
        "2. Если есть пропуски, заполнить пропуски\n",
        "\n",
        "3. Уменьшить размерность с помощью PCA до 2 компонент\n",
        "\n",
        "4. Оцените долю сохраненной дисперсии\n",
        "\n",
        "5. Постройте scatterplot 1-ой и 2-ой главной компоненты, окрасить точки в зависиости от target (столбец class)\n",
        "\n",
        "\n",
        "\n",
        "\n",
        "\n"
      ],
      "metadata": {
        "id": "xd1BxkkIsBr6"
      }
    },
    {
      "cell_type": "code",
      "source": [],
      "metadata": {
        "id": "9GZ28nIQtt_r"
      },
      "execution_count": null,
      "outputs": []
    }
  ]
}