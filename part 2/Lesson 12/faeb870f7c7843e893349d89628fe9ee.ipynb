{
 "cells": [
  {
   "cell_type": "markdown",
   "id": "7b6312d9",
   "metadata": {},
   "source": [
    "# Промежуточная аттестация №1"
   ]
  },
  {
   "cell_type": "markdown",
   "id": "64d0353d",
   "metadata": {},
   "source": [
    "Аттестационная работа состоит из двух заданий, которые проверяют ваши знания по основным темам, пройденным на лекциях в первом блоке.  \n",
    "Для прохождения аттестации необходимо выполнить оба задания и загрузить результат на платформу в формате *.ipynb.\n",
    "\n",
    "**Важно:** задания во многом творческие и не имеют единственно правильного решения!"
   ]
  },
  {
   "cell_type": "markdown",
   "id": "5265ac17",
   "metadata": {},
   "source": [
    "### Задание 1:"
   ]
  },
  {
   "cell_type": "markdown",
   "id": "bbc6ae00",
   "metadata": {},
   "source": [
    "**Описание:** Выберите интересный вам DataSet на https://www.kaggle.com/datasets (выгрузите его и приложите к решению ИЛИ включите в решение импорт DataSet-a из внешнего источника, который публично доступен без регистрации!). \n",
    "\n",
    "**Ограничение:** размер DataSet-а не более 10Mb.\n",
    "\n",
    "Выполните следующие шаги:\n",
    "1. Получение данных:\n",
    "    - Напишите код для загрузки данных вашего DataSet-a\n",
    "2. Предварительная обработка данных:\n",
    "    - Преобразуйте данные в DataFrame.\n",
    "    - Выполните очистку данных (удалите пропущенные значения, если есть). \n",
    "    - Добавьте новые вычисляемые атрибуты, если в них есть смысл.\n",
    "3.   Вычисление статистик и показателей – от 3 до 5 по вашему DataSet-у исходя из предметной области.  \n",
    "* Например, для коллекции фильмов это может быть:  \n",
    "    - Количество фильмов по жанрам.\n",
    "    - Средний рейтинг фильмов.\n",
    "    - Фильмы с наивысшим рейтингом.\n",
    "4. Визуализация данных – от 3 до 5 графиков по вашему DataSet-у исходя из предметной области. \n",
    "* Например, для коллекции фильмов это может быть:\n",
    "    - Гистограмма количества фильмов по годам или жанрам. \n",
    "    - График распределения рейтингов фильмов.\n"
   ]
  },
  {
   "cell_type": "markdown",
   "id": "021d3faa",
   "metadata": {},
   "source": [
    "### Задание 2:"
   ]
  },
  {
   "cell_type": "markdown",
   "id": "48c02719",
   "metadata": {},
   "source": [
    "Некоторые системы выстраивают схему данных в базе в несколько необычном формате:  \n",
    "в одной таблице хранятся экземпяры сущностей, а в другой пары их атрибутов (название атрибута - значение атрибута).  \n",
    "Такая модель хранения назвается EAV - Entity Atribute Value.\n",
    "\n",
    "Будучи разработчиком системы вы можете не подозревать, какие подводные камни могут быть с этим связаны.\n",
    "\n",
    "Рассмотрим простой пример, допустим у вас есть 2 таблиц в такой схеме хранения:\n",
    "1) Таблица и базовой информацией о пользователях - users:"
   ]
  },
  {
   "cell_type": "code",
   "execution_count": null,
   "id": "4a1adfee",
   "metadata": {},
   "outputs": [],
   "source": [
    "create table users (\n",
    "\tid int primary key,\n",
    "\tfull_name varchar(100)\n",
    ");\n",
    "\n",
    "insert into users (id, full_name) \n",
    "values (1, 'Иванов Иван'), \n",
    "       (2, 'Анина Анна'),\n",
    "\t   (3, 'Матвеев Матвей');"
   ]
  },
  {
   "cell_type": "markdown",
   "id": "39bbf524",
   "metadata": {},
   "source": [
    "2) Таблица с атрибутами пользователей - users_meta:"
   ]
  },
  {
   "cell_type": "code",
   "execution_count": null,
   "id": "00abee22",
   "metadata": {},
   "outputs": [],
   "source": [
    "create table users_meta (\n",
    "\tid int primary key,\n",
    "\tuser_id int references users(id),\n",
    "\tmeta varchar(16),\n",
    "\tmeta_value varchar(64)\n",
    ");\n",
    "\n",
    "insert into users_meta (id, user_id, meta, meta_value) \n",
    "values (1, 1, 'birth-date', '2000-01-02'),\n",
    "\t   (2, 1, 'phone-number', '89998887766'),\n",
    "\t   (3, 1, 'activity-flag', 'Y'),\n",
    "\t   (4, 1, 'register-date', '2025-02-04');\n",
    "\t   \n",
    "insert into users_meta (id, user_id, meta, meta_value) \n",
    "values (5, 2, 'birth-date', '2002-06-12'),\n",
    "\t   (6, 2, 'activity-flag', 'N'),\n",
    "\t   (7, 2, 'register-date', '2023-01-23');\n",
    "\t   \n",
    "insert into users_meta (id, user_id, meta, meta_value) \n",
    "values (8, 3, 'phone-number', '89998884455'),\n",
    "\t   (9, 3, 'activity-flag', 'Y'),\n",
    "\t   (10, 3, 'register-date', '2024-12-05');"
   ]
  },
  {
   "cell_type": "markdown",
   "id": "62d79864",
   "metadata": {},
   "source": [
    "В информационной системе для обращения к данным используется нотация, очень похожая на работу через ORM.  \n",
    "Например, так выглядит запрос, который будет вытаскивать ID пользователей, для которых заполен хотябы один из атрибутов `birth-date`, `phone-number`, `activity-flag` или `register-date`:"
   ]
  },
  {
   "cell_type": "code",
   "execution_count": null,
   "id": "05e83e0e",
   "metadata": {},
   "outputs": [],
   "source": [
    "query = new User_Query( \n",
    "    array( 'meta_query' => array( \n",
    "        array( 'key' => 'birth-date' ),\n",
    "        array( 'key' => 'phone-number'),\n",
    "        array( 'key' => 'activity-flag' ),\n",
    "        array( 'key' => 'register-date' ),\n",
    "        'relation' => 'OR' ) ) );"
   ]
  },
  {
   "cell_type": "markdown",
   "id": "3743201b",
   "metadata": {},
   "source": [
    "При формировании запроса \"под капотом\" система преобразует это обращени в обычный SQL запрос вида:"
   ]
  },
  {
   "cell_type": "code",
   "execution_count": null,
   "id": "ea43dd5d",
   "metadata": {},
   "outputs": [],
   "source": [
    "# исходный запрос\n",
    "SELECT distinct users.id\n",
    "FROM users \n",
    "\tINNER JOIN users_meta AS mt1 ON ( users.ID = mt1.user_id )  \n",
    "\tINNER JOIN users_meta AS mt2 ON ( users.ID = mt2.user_id )  \n",
    "\tINNER JOIN users_meta AS mt3 ON ( users.ID = mt3.user_id )\n",
    "\tINNER JOIN users_meta AS mt4 ON ( users.ID = mt4.user_id )\n",
    "WHERE 1=1 \n",
    "AND (( mt1.meta = 'birth-date' AND mt1.meta_value != '' ) \n",
    "  OR ( mt2.meta = 'phone-number' AND mt2.meta_value != '' ) \n",
    "  OR ( mt3.meta = 'activity-flag' AND mt3.meta_value != '' )\n",
    "  OR ( mt4.meta = 'register-date' AND mt4.meta_value != '' )\n",
    ");"
   ]
  },
  {
   "cell_type": "markdown",
   "id": "b11d7ae2",
   "metadata": {},
   "source": [
    "Ответьте на несколько вопросов:\n",
    "* Видите ли вы какие-нибудь проблемы в этом запросе?\n",
    "* В какой момент пользователи системы начнут испытывать дискомфорт при работе с информационной системой и почему?\n",
    "* Что можно сделать?"
   ]
  },
  {
   "cell_type": "markdown",
   "id": "b8bab7fc",
   "metadata": {},
   "source": [
    "Перепишите запрос так, чтобы исправить ситуацию ИЛИ внесите концептуальные предложения, которые помогут улучшить ситуацию."
   ]
  },
  {
   "cell_type": "code",
   "execution_count": null,
   "id": "76885caa",
   "metadata": {},
   "outputs": [],
   "source": [
    "# ваш запрос или концептуальные предложения"
   ]
  }
 ],
 "metadata": {
  "language_info": {
   "name": "python"
  }
 },
 "nbformat": 4,
 "nbformat_minor": 5
}
