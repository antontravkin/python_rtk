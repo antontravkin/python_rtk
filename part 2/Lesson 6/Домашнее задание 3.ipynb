{
 "cells": [
  {
   "cell_type": "markdown",
   "metadata": {},
   "source": [
    "# Домашнее задание № 3"
   ]
  },
  {
   "cell_type": "markdown",
   "metadata": {},
   "source": [
    "**Предметная область:** медицинская клиника.\n",
    "\n",
    "**Дано:**\n",
    "* файл с результатами анализов в зашифрованном виде - medicine.xlsx (файл располагается в одном каталоге с итоговой программой).\\\n",
    "* таблицы med_an_name, med_name для расшифровки показаний (в рамках задания создайте их в своей базе данных, код ниже). \n",
    "\n",
    "**Что необходимо сделать:**\n",
    "1) Режим попроще:\n",
    "    * забираете данные с листа `easy`\n",
    "    * вычисляете пациентов, у которых не в порядке хотябы один анализ\n",
    "    * сохраняете в xlsx имя, телефон, название анализа и заключение: 'Повышен' или 'Понижен'\n",
    "\n",
    "2) Режим посложнее:\n",
    "    * забираете данные с листа `hard`\n",
    "    * вычисляете пациентов, у которых не в порядке два и более анализов\n",
    "    * сохраняете в xlsx имя, телефон, название анализа и заключение: 'Повышен', 'Понижен' или 'Положительный'\n",
    "\n",
    "**Что ожидается на выходе:**\\\n",
    "В ответе приложите файл - скрипт python (название easy.py или hard.py в зависимости от выбранного режима)\\\n",
    "Результатом работы скрипта должен быть xlsx файл с заданной информацией."
   ]
  },
  {
   "cell_type": "markdown",
   "metadata": {},
   "source": [
    "#### *Создание таблицы с медицинскими показателями*"
   ]
  },
  {
   "cell_type": "code",
   "execution_count": null,
   "metadata": {},
   "outputs": [],
   "source": [
    "CREATE TABLE med_an_name (\n",
    "\tid varchar(10) NULL,\n",
    "\tname varchar(200) NULL,\n",
    "\tis_simple bpchar(1) NULL,\n",
    "\tmin_value numeric(18, 2) NULL,\n",
    "\tmax_value numeric(18, 2) NULL\n",
    ");\n",
    "\n",
    "INSERT INTO med_an_name (id,name,is_simple,min_value,max_value) VALUES\n",
    "\t ('IG','Иммуноглобулин общий','N',0.00,100.00),\n",
    "\t ('ALAT','Аланинаминотрансфераза ','N',0.00,45.00),\n",
    "\t ('2-A','Лейкоциты (моча)','N',0.00,5.00),\n",
    "\t ('G124','Гаптоглобин','N',150.00,2000.00),\n",
    "\t ('890','Глюкоза','N',3.30,5.50),\n",
    "\t ('S','Щелочная фосфатаза','N',40.00,150.00),\n",
    "\t ('1-100','Общий белок ','N',64.00,84.00),\n",
    "\t ('N','Нитрит (моча)','Y',NULL,NULL),\n",
    "\t ('3-511','Креатинин','N',62.00,115.00),\n",
    "\t ('Z','Эритроциты (моча)','N',0.00,2.00),\n",
    "\t ('IRR','Липаза','N',0.00,190.00),\n",
    "\t ('GLK','Глюкоза (моча)','Y',NULL,NULL),\n",
    "\t ('1-875','Грибки (моча)','Y',NULL,NULL),\n",
    "\t ('1-900','Амилаза панкреатическая','N',0.00,50.00),\n",
    "\t ('BBB','Белок (моча)','Y',NULL,NULL),\n",
    "\t ('AU','Гематокрит','N',39.00,49.00),\n",
    "\t ('C','СОЭ','N',2.00,20.00),\n",
    "\t ('aZz','Билирубин','N',5.00,20.00);"
   ]
  },
  {
   "cell_type": "markdown",
   "metadata": {},
   "source": [
    "#### *Создание таблицы с информацией о клиентах*"
   ]
  },
  {
   "cell_type": "code",
   "execution_count": null,
   "metadata": {},
   "outputs": [],
   "source": [
    "CREATE TABLE med_name (\n",
    "\tid int4 NULL,\n",
    "\tname varchar(50) NULL,\n",
    "\tphone varchar(20) NULL\n",
    ");\n",
    "\n",
    "INSERT INTO med_name (id,name,phone) VALUES\n",
    "\t (191,'Чемиренко Д.А','+7 (905) 912-28-47'),\n",
    "\t (140,'Головцов Р.Р','+7 (906) 949-98-17'),\n",
    "\t (119,'Сакобов А.Т','+7 (952) 996-60-21'),\n",
    "\t (57,'Тарлов И.Е','+7 (900) 875-67-38'),\n",
    "\t (195,'Свенюков Б.Ю','+7 (983) 577-27-21'),\n",
    "\t (53,'Попелицкий Р.Г','+7 (976) 841-79-95'),\n",
    "\t (96,'Умралиев Р.Э','+7 (941) 954-55-88'),\n",
    "\t (62,'Бондарев С.Г','+7 (906) 933-95-63'),\n",
    "\t (199,'Цетнарский Э.И','+7 (908) 245-80-47'),\n",
    "\t (114,'Даклеев Т.М','+7 (925) 612-93-95'),\n",
    "\t (73,'Гармокацкий С.Л','+7 (935) 653-32-78'),\n",
    "\t (80,'Маржецкий А.Я','+7 (949) 912-97-84'),\n",
    "\t (151,'Поляховский Г.Д','+7 (998) 596-45-47'),\n",
    "\t (127,'Галендук Л.Г','+7 (935) 164-87-46'),\n",
    "\t (135,'Номоконов Г.Р','+7 (940) 384-74-90'),\n",
    "\t (77,'Шелкоплясов Э.В','+7 (979) 643-71-75'),\n",
    "\t (67,'Эльменькин Д.Р','+7 (982) 643-36-73'),\n",
    "\t (176,'Ламок А.О','+7 (984) 779-54-57'),\n",
    "\t (163,'Бочечкаров Э.Д','+7 (943) 102-79-69'),\n",
    "\t (192,'Голяминских Г.Р','+7 (903) 280-60-58'),\n",
    "\t (72,'Пахарев Ю.Э','+7 (977) 810-48-75'),\n",
    "\t (111,'Ведмидев Я.У','+7 (997) 541-22-17'),\n",
    "\t (118,'Сисемкин В.Р','+7 (960) 542-96-83'),\n",
    "\t (148,'Штыкулин И.А','+7 (949) 862-47-83'),\n",
    "\t (162,'Шапаев Л.А','+7 (919) 109-43-56'),\n",
    "\t (76,'Млицкий С.А','+7 (987) 542-73-38'),\n",
    "\t (101,'Загатин А.Д','+7 (987) 928-64-89');"
   ]
  },
  {
   "cell_type": "markdown",
   "metadata": {},
   "source": [
    "#### *Решение*"
   ]
  },
  {
   "cell_type": "code",
   "execution_count": 15,
   "metadata": {},
   "outputs": [
    {
     "ename": "KeyError",
     "evalue": "'date'",
     "output_type": "error",
     "traceback": [
      "\u001b[31m---------------------------------------------------------------------------\u001b[39m",
      "\u001b[31mKeyError\u001b[39m                                  Traceback (most recent call last)",
      "\u001b[36mCell\u001b[39m\u001b[36m \u001b[39m\u001b[32mIn[15]\u001b[39m\u001b[32m, line 12\u001b[39m\n\u001b[32m      9\u001b[39m \u001b[38;5;28;01mwith\u001b[39;00m \u001b[38;5;28mopen\u001b[39m(\u001b[33m'\u001b[39m\u001b[33m/Users/antontravkin/Sites/python_rtk/part 2/Lesson 6/hw/big_sales.csv\u001b[39m\u001b[33m'\u001b[39m, \u001b[33m'\u001b[39m\u001b[33mr\u001b[39m\u001b[33m'\u001b[39m) \u001b[38;5;28;01mas\u001b[39;00m fin:\n\u001b[32m     10\u001b[39m     \u001b[38;5;66;03m# csv.DictReader uses first line in file for column headings by default\u001b[39;00m\n\u001b[32m     11\u001b[39m     dr = csv.DictReader(fin)  \u001b[38;5;66;03m# comma is default delimiter\u001b[39;00m\n\u001b[32m---> \u001b[39m\u001b[32m12\u001b[39m     to_db = [(\u001b[43mi\u001b[49m\u001b[43m[\u001b[49m\u001b[33;43m'\u001b[39;49m\u001b[33;43mdate\u001b[39;49m\u001b[33;43m'\u001b[39;49m\u001b[43m]\u001b[49m, i[\u001b[33m'\u001b[39m\u001b[33msales\u001b[39m\u001b[33m'\u001b[39m], i[\u001b[33m'\u001b[39m\u001b[33mcategory\u001b[39m\u001b[33m'\u001b[39m], i[\u001b[33m'\u001b[39m\u001b[33madditional\u001b[39m\u001b[33m'\u001b[39m]) \u001b[38;5;28;01mfor\u001b[39;00m i \u001b[38;5;129;01min\u001b[39;00m dr]\n\u001b[32m     13\u001b[39m cur.executemany(\n\u001b[32m     14\u001b[39m     \u001b[33m\"\u001b[39m\u001b[33mINSERT INTO big_sales (date, sales, category, additional) VALUES (?, ?, ?, ?);\u001b[39m\u001b[33m\"\u001b[39m, to_db)\n\u001b[32m     15\u001b[39m con.commit()\n",
      "\u001b[31mKeyError\u001b[39m: 'date'"
     ]
    }
   ],
   "source": [
    "## Решение\n",
    "import csv\n",
    "import sqlite3\n",
    "con = sqlite3.connect(\":memory:\")  # change to 'sqlite:///your_filename.db'\n",
    "cur = con.cursor()\n",
    "# use your column names here\n",
    "cur.execute(\"CREATE TABLE big_sales (date, sales, category, additional);\")\n",
    "# `with` statement available in 2.5+\n",
    "with open('/Users/antontravkin/Sites/python_rtk/part 2/Lesson 6/hw/big_sales.csv', 'r') as fin:\n",
    "    # csv.DictReader uses first line in file for column headings by default\n",
    "    dr = csv.DictReader(fin)  # comma is default delimiter\n",
    "    to_db = [(i['date'], i['sales'], i['category'], i['additional']) for i in dr]\n",
    "cur.executemany(\n",
    "    \"INSERT INTO big_sales (date, sales, category, additional) VALUES (?, ?, ?, ?);\", to_db)\n",
    "con.commit()\n",
    "con.close()"
   ]
  }
 ],
 "metadata": {
  "kernelspec": {
   "display_name": ".venv",
   "language": "python",
   "name": "python3"
  },
  "language_info": {
   "codemirror_mode": {
    "name": "ipython",
    "version": 3
   },
   "file_extension": ".py",
   "mimetype": "text/x-python",
   "name": "python",
   "nbconvert_exporter": "python",
   "pygments_lexer": "ipython3",
   "version": "3.12.0"
  }
 },
 "nbformat": 4,
 "nbformat_minor": 2
}
