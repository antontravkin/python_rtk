{
 "cells": [
  {
   "cell_type": "markdown",
   "metadata": {},
   "source": [
    "# Работа с базами данных из Python"
   ]
  },
  {
   "cell_type": "markdown",
   "metadata": {},
   "source": [
    "## SQLite"
   ]
  },
  {
   "cell_type": "markdown",
   "metadata": {},
   "source": [
    "### Основы"
   ]
  },
  {
   "cell_type": "markdown",
   "metadata": {},
   "source": [
    "Создаем базу и табличку в ней"
   ]
  },
  {
   "cell_type": "code",
   "execution_count": 1,
   "metadata": {},
   "outputs": [],
   "source": [
    "import sqlite3\n",
    " \n",
    "conn = sqlite3.connect( \"mydatabase.db\" ) # файл\n",
    "# conn = sqlite3.connect ( \":memory:\" ) # RAM\n",
    "cursor = conn.cursor()\n",
    "\n",
    "# Создание таблицы\n",
    "cursor.execute( \"CREATE TABLE testtable ( id int, val text )\" )\n",
    "\n",
    "# Вставляем данные в таблицу\n",
    "cursor.execute( \"INSERT INTO testtable ( id, val ) VALUES ( 1, 'One' ) \" )\n",
    "cursor.execute( \"INSERT INTO testtable ( id, val ) VALUES ( 2, 'Two' ) \" )\n",
    " \n",
    "# Сохраняем изменения\n",
    "conn.commit()\n",
    "\n",
    "# Закрываем курсор и соединение\n",
    "cursor. close()\n",
    "conn.close()\n"
   ]
  },
  {
   "cell_type": "markdown",
   "metadata": {},
   "source": [
    "Читаем данные из базы разными способами"
   ]
  },
  {
   "cell_type": "code",
   "execution_count": 2,
   "metadata": {},
   "outputs": [
    {
     "name": "stdout",
     "output_type": "stream",
     "text": [
      "Ex 1\n",
      "fetchall(): [(1, 'One'), (2, 'Two')]\n",
      "\n",
      "Ex 2\n",
      "row (1, 'One')\n",
      "row (2, 'Two')\n",
      "\n",
      "Ex 3\n",
      "row 1 (1, 'One')\n",
      "row 2 (2, 'Two')\n"
     ]
    }
   ],
   "source": [
    "import sqlite3\n",
    " \n",
    "conn = sqlite3.connect( \"mydatabase.db\" ) # файл\n",
    "# conn = sqlite3.connect ( \":memory:\" ) # RAM\n",
    "cursor = conn.cursor()\n",
    "\n",
    "# Чтение таблицы 1\n",
    "print(\"Ex 1\")\n",
    "sql = \"SELECT * FROM testtable\"\n",
    "cursor.execute( sql )\n",
    "print( \"fetchall():\", cursor.fetchall() ) # все строки разом\n",
    "\n",
    "# Чтение таблицы 2\n",
    "print(\"\\nEx 2\")\n",
    "cursor.execute( sql )\n",
    "row = cursor.fetchone() # по одной строке\n",
    "while row is not None:\n",
    "  print( \"row\", row )\n",
    "  row = cursor.fetchone()\n",
    "\n",
    "# Чтение таблицы 3\n",
    "print(\"\\nEx 3\")\n",
    "for i, row in enumerate(cursor.execute( sql )):\n",
    "    print( \"row\", i+1, row )\n",
    " \n",
    "# Закрываем курсор и соединение\n",
    "cursor. close()\n",
    "conn.close()\n"
   ]
  },
  {
   "cell_type": "markdown",
   "metadata": {},
   "source": [
    "А теперь попробуем загрузить в базу наш файл sales.csv"
   ]
  },
  {
   "cell_type": "code",
   "execution_count": 3,
   "metadata": {},
   "outputs": [
    {
     "name": "stdout",
     "output_type": "stream",
     "text": [
      "row 1 ('01.01.2022 0:00', '150', 'Электроника', 'доставить вПВЗ\\n')\n",
      "row 2 ('01.01.2022 0:00', '123', 'Одежда', 'доставить в ПВЗ\\n')\n",
      "row 3 ('01.01.2022 0:00', '321', 'Электроника', 'самовывоз..\\n')\n",
      "row 4 ('01.01.2022 0:00', '111', 'Одежда', 'доставить- ПВЗ\\n')\n",
      "row 5 ('02.01.2022 0:00', '222', 'Электроника', '\\n')\n",
      "row 6 ('03.01.2022 0:00', '333', 'Одежда', 'смовывоз\\n')\n",
      "row 7 ('04.01.2022 0:00', 'NaN', 'Электроника', 'доставить в ПВЗ\\n')\n",
      "row 8 ('05.01.2022 0:00', '999', 'Одежда', 'доставить в ПВЗ\\n')\n",
      "row 9 ('06.01.2022 0:00', '888', 'Электроника', '\\n')\n"
     ]
    }
   ],
   "source": [
    "import sqlite3\n",
    " \n",
    "conn = sqlite3.connect( \"mydatabase.db\" ) # файл\n",
    "# conn = sqlite3.connect ( \":memory:\" ) # RAM\n",
    "cursor = conn.cursor()\n",
    "\n",
    "# Создание таблицы\n",
    "cursor.execute( \"CREATE TABLE sales ( date text, sales text, category text, additional text)\" )\n",
    "\n",
    "# открываем файл\n",
    "file = open(\"sales.csv\", encoding='utf8')\n",
    "\n",
    "for i, row in enumerate(file):\n",
    "    if i == 0:\n",
    "        continue\n",
    "    data = row.split(';')\n",
    "    sql = f\"INSERT INTO sales ( date, sales, category, additional ) VALUES ( '{data[0]}', '{data[1]}', '{data[2]}', '{data[3]}' ) \"\n",
    "    # print(sql)\n",
    "    cursor.execute( sql )\n",
    "\n",
    "# закрываем файл\n",
    "file.close()\n",
    "\n",
    "sql = \"SELECT * FROM sales\"\n",
    "for i, row in enumerate(cursor.execute( sql )):\n",
    "    print( \"row\", i+1, row )\n",
    "\n",
    "# Сохраняем изменения\n",
    "conn.commit()\n",
    "\n",
    "# Закрываем курсор и соединение\n",
    "cursor. close()\n",
    "conn.close()\n"
   ]
  },
  {
   "cell_type": "markdown",
   "metadata": {},
   "source": [
    "Проведем сравнительный эксперимент на производительность: физический файл против RAM"
   ]
  },
  {
   "cell_type": "code",
   "execution_count": 4,
   "metadata": {},
   "outputs": [
    {
     "name": "stdout",
     "output_type": "stream",
     "text": [
      "109053\n",
      "CPU times: total: 969 ms\n",
      "Wall time: 1.06 s\n"
     ]
    }
   ],
   "source": [
    "%%time\n",
    "import sqlite3\n",
    " \n",
    "conn = sqlite3.connect( \"mydatabase.db\" ) # файл\n",
    "# conn = sqlite3.connect ( \":memory:\" ) # RAM\n",
    "cursor = conn.cursor()\n",
    "\n",
    "# Создание таблицы\n",
    "cursor.execute( \"CREATE TABLE big_sales ( date text, sales text, category text, additional text)\" )\n",
    "\n",
    "# открываем файл\n",
    "file = open(\"big_sales.csv\", encoding='utf8')\n",
    "\n",
    "for i, row in enumerate(file):\n",
    "    if i == 0:\n",
    "        continue\n",
    "    data = row.split(';')\n",
    "    sql = f\"INSERT INTO big_sales ( date, sales, category, additional ) VALUES ( '{data[0]}', '{data[1]}', '{data[2]}', '{data[3]}' ) \"\n",
    "    # print(sql)\n",
    "    cursor.execute( sql )\n",
    "\n",
    "# закрываем файл\n",
    "file.close()\n",
    "\n",
    "sql = \"SELECT * FROM big_sales\"\n",
    "cursor.execute( sql )\n",
    "lst = cursor.fetchall() \n",
    "print(len(lst))\n",
    "\n",
    "# Сохраняем изменения\n",
    "conn.commit()\n",
    "\n",
    "# Закрываем курсор и соединение\n",
    "cursor. close()\n",
    "conn.close()"
   ]
  },
  {
   "cell_type": "code",
   "execution_count": 5,
   "metadata": {},
   "outputs": [
    {
     "name": "stdout",
     "output_type": "stream",
     "text": [
      "109053\n",
      "CPU times: total: 969 ms\n",
      "Wall time: 1.01 s\n"
     ]
    }
   ],
   "source": [
    "%%time\n",
    "import sqlite3\n",
    " \n",
    "# conn = sqlite3.connect( \"mydatabase.db\" ) # файл\n",
    "conn = sqlite3.connect ( \":memory:\" ) # RAM\n",
    "cursor = conn.cursor()\n",
    "\n",
    "# Создание таблицы\n",
    "cursor.execute( \"CREATE TABLE big_sales ( date text, sales text, category text, additional text)\" )\n",
    "\n",
    "# открываем файл\n",
    "file = open(\"big_sales.csv\", encoding='utf8')\n",
    "\n",
    "for i, row in enumerate(file):\n",
    "    if i == 0:\n",
    "        continue\n",
    "    data = row.split(';')\n",
    "    sql = f\"INSERT INTO big_sales ( date, sales, category, additional ) VALUES ( '{data[0]}', '{data[1]}', '{data[2]}', '{data[3]}' ) \"\n",
    "    # print(sql)\n",
    "    cursor.execute( sql )\n",
    "\n",
    "# закрываем файл\n",
    "file.close()\n",
    "\n",
    "sql = \"SELECT * FROM big_sales\"\n",
    "cursor.execute( sql )\n",
    "lst = cursor.fetchall() \n",
    "print(len(lst))\n",
    "\n",
    "# Сохраняем изменения\n",
    "conn.commit()\n",
    "\n",
    "# Закрываем курсор и соединение\n",
    "cursor. close()\n",
    "conn.close()"
   ]
  },
  {
   "cell_type": "markdown",
   "metadata": {},
   "source": [
    "Как видим, большого преимущества от использования im-memory database на таком относительно маленьком объеме данных - нет."
   ]
  },
  {
   "cell_type": "markdown",
   "metadata": {},
   "source": [
    "### sqlite3"
   ]
  },
  {
   "cell_type": "markdown",
   "metadata": {},
   "source": [
    "Интересная фича SQLite - легковесный консольный клиент sqlite3 \n",
    "\n",
    "Скачать - https://www.sqlite.org/download.html\n",
    "\n",
    "Документация - https://www.rldp.ru/sqlite/sqlite344/cli.html \n",
    "\n",
    "Простейшие команды:\n",
    "* .help - *справка*\n",
    "* sqlite3.exe tst.db - *открыть базу данных и консоль для нее*\n",
    "* .separator \";\" - *установить разделитель*\n",
    "* .import big_sales.csv big_sales - *импортировать csv и создать на ее основе таблице sales*\n",
    "* .headers on - *включить вывод заголовков*\n",
    "* .once for_upload.csv - *перенаправить вывод из консоли в файл*"
   ]
  },
  {
   "cell_type": "markdown",
   "metadata": {},
   "source": [
    "Давайте попробуем привести файл к нужному нам виду (как в прошлом уроке) и сохранить его в новый файл for_upload.csv"
   ]
  },
  {
   "cell_type": "code",
   "execution_count": null,
   "metadata": {},
   "outputs": [],
   "source": [
    "select substr(date, 1, 10) date, case when sales = 'NaN' then 0 else sales end sales, category\n",
    "from big_sales;"
   ]
  },
  {
   "cell_type": "markdown",
   "metadata": {},
   "source": [
    "Кое-какую статистику, кстати, можно посчитать и в базе данных, если по какой-то причине поставить pandas нельзя"
   ]
  },
  {
   "cell_type": "code",
   "execution_count": null,
   "metadata": {},
   "outputs": [],
   "source": [
    "select\n",
    "  count(*) as sales_count,\n",
    "  cast(sum(sales) as integer) as sum,\n",
    "  cast(min(sales) as integer) as min,\n",
    "  cast(max(sales) as integer) as max,\n",
    "  cast(avg(sales) as integer) as mean,\n",
    "  cast(median(sales) as integer) as median,\n",
    "  mode(sales) as mode\n",
    "from (select cast(sales as int) sales from big_sales);"
   ]
  },
  {
   "cell_type": "markdown",
   "metadata": {},
   "source": [
    "## PostgreSQL"
   ]
  },
  {
   "cell_type": "markdown",
   "metadata": {},
   "source": [
    "### Основы"
   ]
  },
  {
   "cell_type": "markdown",
   "metadata": {},
   "source": [
    "Запуск контейнера Docker из образа:\n",
    "\n",
    "*docker run --name postgres_cont -p 5432:5432 -e POSTGRES_PASSWORD=postgres -d postgres*\n",
    "\n",
    "Остановка и повторный запуск:\n",
    "\n",
    "*docker stop postgres_cont*\n",
    "\n",
    "*docker start postgres_cont*\n"
   ]
  },
  {
   "cell_type": "code",
   "execution_count": 6,
   "metadata": {},
   "outputs": [
    {
     "name": "stdout",
     "output_type": "stream",
     "text": [
      "0 - (1, 'ABC')\n",
      "1 - (2, 'DEF')\n"
     ]
    }
   ],
   "source": [
    "# подключимся к развернутой базе данных\n",
    "import psycopg2\n",
    "\n",
    "# Создание подключения к PostgreSQL\n",
    "conn = psycopg2.connect(database = \"postgres\",\n",
    "                        host =     \"localhost\",\n",
    "                        user =     \"postgres\",\n",
    "                        password = \"postgres\",\n",
    "                        port =     \"5432\")\n",
    "\n",
    "# Отключение автокоммита\n",
    "conn.autocommit = False\n",
    "\n",
    "# Создание курсора\n",
    "cursor = conn.cursor()\n",
    "\n",
    "####################################################\n",
    "\n",
    "# Создание таблицы внутри базы данных\n",
    "cursor.execute( \"CREATE TABLE public.testtable( id int, val varchar(20))\" )\n",
    "\n",
    "# Выполнение SQL кода в базе данных без возврата результата\n",
    "cursor.execute( \"INSERT INTO public.testtable( id, val ) VALUES ( 1, 'ABC' ), ( 2, 'DEF' )\" )\n",
    "conn.commit()\n",
    "\n",
    "# Выполнение SQL кода в базе данных с возвратом результата\n",
    "cursor.execute( \"SELECT * FROM public.testtable\" )\n",
    "records = cursor.fetchall()\n",
    "\n",
    "for i, row in enumerate(records):\n",
    "\tprint( i, '-', row )\n",
    "\n",
    "# Закрываем соединение\n",
    "cursor.close()\n",
    "conn.close()\n"
   ]
  },
  {
   "cell_type": "markdown",
   "metadata": {},
   "source": [
    "Теперь загрузим в Postgres наш файлик с данными о продажах и прочитаем его"
   ]
  },
  {
   "cell_type": "code",
   "execution_count": 11,
   "metadata": {},
   "outputs": [
    {
     "name": "stdout",
     "output_type": "stream",
     "text": [
      "109053\n",
      "CPU times: total: 1.17 s\n",
      "Wall time: 1min 23s\n"
     ]
    }
   ],
   "source": [
    "%%time\n",
    "# попробуем загрузать в базу наш файлик\n",
    "import psycopg2\n",
    "\n",
    "# Создание подключения к PostgreSQL\n",
    "conn = psycopg2.connect(database = \"postgres\",\n",
    "                        host =     \"localhost\",\n",
    "                        user =     \"postgres\",\n",
    "                        password = \"postgres\",\n",
    "                        port =     \"5432\")\n",
    "\n",
    "# Отключение автокоммита\n",
    "conn.autocommit = False\n",
    "\n",
    "# Создание курсора\n",
    "cursor = conn.cursor()\n",
    "\n",
    "####################################################\n",
    "\n",
    "# Создание таблицы внутри базы данных\n",
    "cursor.execute( \"DROP TABLE if exists public.big_sales CASCADE\" )\n",
    "cursor.execute( \"CREATE TABLE if not exists public.big_sales( date date, sales int, category varchar(20), additional varchar(100) )\" )\n",
    "\n",
    "file = open(\"big_sales.csv\", encoding='utf8')\n",
    "for i, row in enumerate(file):\n",
    "    if i==0: continue\n",
    "    data = row.split(';')\n",
    "    # Выполнение SQL кода в базе данных без возврата результата\n",
    "    sql = f\"INSERT INTO public.big_sales( date, sales, category, additional) VALUES ( to_date('{data[0]}','DD.MM.YYYY HH24:MI'), {data[1].replace('NaN','0')}, '{data[2]}', '{data[3].strip()}' )\"\n",
    "    cursor.execute( sql )\n",
    "\n",
    "conn.commit()\n",
    "file.close()\n",
    "\n",
    "# Выполнение SQL кода в базе данных с возвратом результата\n",
    "cursor.execute( \"SELECT * FROM public.big_sales\" )\n",
    "records = cursor.fetchall()\n",
    "\n",
    "print(len(records))\n",
    "\n",
    "# Закрываем соединение\n",
    "cursor.close()\n",
    "conn.close()\n"
   ]
  },
  {
   "cell_type": "markdown",
   "metadata": {},
   "source": [
    "***Важный вопрос:*** Станет ли быстрее, если поместить commit() внутрь цикла?"
   ]
  },
  {
   "cell_type": "markdown",
   "metadata": {},
   "source": [
    "Теперь попробуем подружить PostgreSQL и Pandas и сравним производительность"
   ]
  },
  {
   "cell_type": "code",
   "execution_count": null,
   "metadata": {},
   "outputs": [
    {
     "name": "stdout",
     "output_type": "stream",
     "text": [
      "109053\n",
      "CPU times: total: 2 s\n",
      "Wall time: 1min 28s\n"
     ]
    }
   ],
   "source": [
    "%%time\n",
    "# попробуем загрузать в базу наш файлик\n",
    "import psycopg2\n",
    "import pandas as pd\n",
    "\n",
    "# Создание подключения к PostgreSQL\n",
    "conn = psycopg2.connect(database = \"postgres\",\n",
    "                        host =     \"localhost\",\n",
    "                        user =     \"postgres\",\n",
    "                        password = \"postgres\",\n",
    "                        port =     \"5432\")\n",
    "\n",
    "# Отключение автокоммита\n",
    "conn.autocommit = False\n",
    "\n",
    "# Создание курсора\n",
    "cursor = conn.cursor()\n",
    "\n",
    "####################################################\n",
    "\n",
    "# Создание таблицы внутри базы данных\n",
    "cursor.execute( \"DROP TABLE if exists public.big_sales CASCADE\" )\n",
    "cursor.execute( \"CREATE TABLE if not exists public.big_sales( date date, sales int, category varchar(20), additional varchar(100) )\" )\n",
    "\n",
    "# Чтение из файла\n",
    "df = pd.read_csv( 'big_sales.csv', sep=';', header=0, index_col=None )\n",
    "df[\"sales\"] = df[\"sales\"].fillna(0)\n",
    "df[\"additional\"] = df[\"additional\"].str.strip()\n",
    "# Выполнение SQL кода в базе данных без возврата результата\n",
    "sql = \"INSERT INTO public.big_sales( date, sales, category, additional) VALUES ( to_date(%s,'DD.MM.YYYY HH24:MI'), %s, %s, %s )\"\n",
    "cursor.executemany(sql, df.values.tolist())\n",
    "\n",
    "conn.commit()\n",
    "\n",
    "# Выполнение SQL кода в базе данных с возвратом результата\n",
    "cursor.execute( \"SELECT * FROM public.big_sales\" )\n",
    "records = cursor.fetchall()\n",
    "\n",
    "print(len(records))\n",
    "\n",
    "# Закрываем соединение\n",
    "cursor.close()\n",
    "conn.close()"
   ]
  },
  {
   "cell_type": "markdown",
   "metadata": {},
   "source": [
    "Попробуем теперь сохранить данные в excel, например для отчета, прямо из базы данных.\n",
    "\n",
    "Для этого будет необходимо сформировать df из курсора базы данных.\n",
    "\n",
    "А что хранится внутри курсора?"
   ]
  },
  {
   "cell_type": "code",
   "execution_count": 10,
   "metadata": {},
   "outputs": [
    {
     "name": "stdout",
     "output_type": "stream",
     "text": [
      "CPU times: total: 11.9 s\n",
      "Wall time: 12.5 s\n"
     ]
    }
   ],
   "source": [
    "%%time\n",
    "# попробуем загрузать в базу наш файлик\n",
    "import psycopg2\n",
    "import pandas as pd\n",
    "\n",
    "# Создание подключения к PostgreSQL\n",
    "conn = psycopg2.connect(database = \"postgres\",\n",
    "                        host =     \"localhost\",\n",
    "                        user =     \"postgres\",\n",
    "                        password = \"postgres\",\n",
    "                        port =     \"5432\")\n",
    "\n",
    "# Отключение автокоммита\n",
    "conn.autocommit = False\n",
    "\n",
    "# Создание курсора\n",
    "cursor = conn.cursor()\n",
    "\n",
    "# Выполнение SQL кода в базе данных с возвратом результата\n",
    "cursor.execute( \"SELECT * FROM public.big_sales\" )\n",
    "records = cursor.fetchall()\n",
    "names = [ x[0] for x in cursor.description ]\n",
    "df = pd.DataFrame( records, columns = names )\n",
    "df[\"additional\"] = df[\"additional\"].str.replace('NaN','')\n",
    "df.to_excel('big_sales.xlsx', sheet_name='list1', header=True, index=False)\n",
    "\n",
    "# Закрываем соединение\n",
    "cursor.close()\n",
    "conn.close()"
   ]
  },
  {
   "cell_type": "markdown",
   "metadata": {},
   "source": [
    "### psql"
   ]
  },
  {
   "attachments": {
    "image.png": {
     "image/png": "[encoded data removed]"
    }
   },
   "cell_type": "markdown",
   "metadata": {},
   "source": [
    "Вы также можете установить локально сервер БД PostgreSQL, скачав его с официального сайта - https://www.postgresql.org/download/ .\n",
    "\n",
    "Если вы хотите установить только psql клиент и подключаться к удаленной базе данных, то при установке выберите Сommand Line Tools\n",
    "\n",
    "![image.png](attachment:image.png)"
   ]
  },
  {
   "cell_type": "markdown",
   "metadata": {},
   "source": [
    "Подключиться через psql к удаленной базе данных можно командой:\n",
    "\n",
    "*psql -h localhost -p 5432 -d postgres -U postgres*\n",
    "\n",
    "Команды:\n",
    "* \\\\? - общий help\n",
    "* \\h - help по командам\n",
    "* \\d - перечень таблиц\n",
    "* \\d big_sales - описание таблицы\n",
    "\n",
    "Импорт данных из csv:\n",
    "\n",
    "*\\COPY big_sales FROM 'big_sales.csv' DELIMITER ';' CSV HEADER;*\n",
    "\n",
    "Экспорт данных в csv:\n",
    "\n",
    "*\\COPY big_sales TO 'new_big_sales.csv' WITH CSV DELIMITER ';' HEADER;*"
   ]
  }
 ],
 "metadata": {
  "kernelspec": {
   "display_name": ".venv",
   "language": "python",
   "name": "python3"
  },
  "language_info": {
   "codemirror_mode": {
    "name": "ipython",
    "version": 3
   },
   "file_extension": ".py",
   "mimetype": "text/x-python",
   "name": "python",
   "nbconvert_exporter": "python",
   "pygments_lexer": "ipython3",
   "version": "3.13.2"
  }
 },
 "nbformat": 4,
 "nbformat_minor": 2
}
