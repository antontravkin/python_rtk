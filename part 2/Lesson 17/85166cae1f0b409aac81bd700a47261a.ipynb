{
  "cells": [
    {
      "cell_type": "code",
      "execution_count": 1,
      "metadata": {
        "id": "MxzBqosh-ByE"
      },
      "outputs": [],
      "source": [
        "import pandas as pd\n",
        "import numpy as np\n",
        "from sklearn.datasets import make_classification\n",
        "from sklearn.model_selection import train_test_split\n",
        "from sklearn.feature_selection import VarianceThreshold\n"
      ]
    },
    {
      "cell_type": "code",
      "execution_count": 2,
      "metadata": {
        "id": "ZgzilDem-Cg7"
      },
      "outputs": [],
      "source": [
        "# --- 1. Синтетические данные с большим числом признаков ---\n",
        "X, y = make_classification(n_samples=1000, n_features=50, n_informative=10, random_state=42)\n",
        "df = pd.DataFrame(X, columns=[f\"f{i}\" for i in range(X.shape[1])])\n",
        "df['target'] = y\n",
        "# Добавим \"плохие\" признаки\n",
        "df['constant_feature'] = 1  # один уникальный\n",
        "df['high_cardinality'] = [f'value_{i}' for i in range(len(df))]  # уникальное значение на строку\n",
        "df['mostly_zero'] = np.random.choice([0, 1], size=len(df), p=[0.98, 0.02])  # низкая дисперсия\n",
        "df['duplicated'] = df['f0'] * 1.0  # дублирующий признак\n",
        "\n",
        "\n",
        "df['missing_col'] = df['f0']\n",
        "df.loc[:600, 'missing_col'] = np.nan  # много пропусков\n"
      ]
    },
    {
      "cell_type": "code",
      "execution_count": 3,
      "metadata": {
        "colab": {
          "base_uri": "https://localhost:8080/",
          "height": 256
        },
        "id": "EO3_Nq3V-MCg",
        "outputId": "f6dfde78-985c-4dc1-86c7-c426d3bcb3e4"
      },
      "outputs": [
        {
          "data": {
            "text/html": [
              "<div>\n",
              "<style scoped>\n",
              "    .dataframe tbody tr th:only-of-type {\n",
              "        vertical-align: middle;\n",
              "    }\n",
              "\n",
              "    .dataframe tbody tr th {\n",
              "        vertical-align: top;\n",
              "    }\n",
              "\n",
              "    .dataframe thead th {\n",
              "        text-align: right;\n",
              "    }\n",
              "</style>\n",
              "<table border=\"1\" class=\"dataframe\">\n",
              "  <thead>\n",
              "    <tr style=\"text-align: right;\">\n",
              "      <th></th>\n",
              "      <th>f0</th>\n",
              "      <th>f1</th>\n",
              "      <th>f2</th>\n",
              "      <th>f3</th>\n",
              "      <th>f4</th>\n",
              "      <th>f5</th>\n",
              "      <th>f6</th>\n",
              "      <th>f7</th>\n",
              "      <th>f8</th>\n",
              "      <th>f9</th>\n",
              "      <th>...</th>\n",
              "      <th>f46</th>\n",
              "      <th>f47</th>\n",
              "      <th>f48</th>\n",
              "      <th>f49</th>\n",
              "      <th>target</th>\n",
              "      <th>constant_feature</th>\n",
              "      <th>high_cardinality</th>\n",
              "      <th>mostly_zero</th>\n",
              "      <th>duplicated</th>\n",
              "      <th>missing_col</th>\n",
              "    </tr>\n",
              "  </thead>\n",
              "  <tbody>\n",
              "    <tr>\n",
              "      <th>995</th>\n",
              "      <td>-1.418978</td>\n",
              "      <td>0.003551</td>\n",
              "      <td>-0.790590</td>\n",
              "      <td>-0.426383</td>\n",
              "      <td>-0.288728</td>\n",
              "      <td>-0.798265</td>\n",
              "      <td>1.048459</td>\n",
              "      <td>0.717391</td>\n",
              "      <td>1.205025</td>\n",
              "      <td>-0.063768</td>\n",
              "      <td>...</td>\n",
              "      <td>1.012702</td>\n",
              "      <td>-1.043291</td>\n",
              "      <td>-1.030703</td>\n",
              "      <td>0.355974</td>\n",
              "      <td>1</td>\n",
              "      <td>1</td>\n",
              "      <td>value_995</td>\n",
              "      <td>0</td>\n",
              "      <td>-1.418978</td>\n",
              "      <td>-1.418978</td>\n",
              "    </tr>\n",
              "    <tr>\n",
              "      <th>996</th>\n",
              "      <td>-1.938014</td>\n",
              "      <td>-2.555005</td>\n",
              "      <td>0.528159</td>\n",
              "      <td>-0.298689</td>\n",
              "      <td>-0.316667</td>\n",
              "      <td>-0.535982</td>\n",
              "      <td>3.883104</td>\n",
              "      <td>2.339696</td>\n",
              "      <td>1.093509</td>\n",
              "      <td>-0.592256</td>\n",
              "      <td>...</td>\n",
              "      <td>0.907410</td>\n",
              "      <td>0.158239</td>\n",
              "      <td>1.543237</td>\n",
              "      <td>1.278155</td>\n",
              "      <td>1</td>\n",
              "      <td>1</td>\n",
              "      <td>value_996</td>\n",
              "      <td>0</td>\n",
              "      <td>-1.938014</td>\n",
              "      <td>-1.938014</td>\n",
              "    </tr>\n",
              "    <tr>\n",
              "      <th>997</th>\n",
              "      <td>1.299276</td>\n",
              "      <td>1.649182</td>\n",
              "      <td>0.164144</td>\n",
              "      <td>-1.015463</td>\n",
              "      <td>-0.828559</td>\n",
              "      <td>-2.978675</td>\n",
              "      <td>-0.366979</td>\n",
              "      <td>-0.615384</td>\n",
              "      <td>0.314863</td>\n",
              "      <td>1.347091</td>\n",
              "      <td>...</td>\n",
              "      <td>0.663711</td>\n",
              "      <td>-1.387003</td>\n",
              "      <td>1.876140</td>\n",
              "      <td>0.500480</td>\n",
              "      <td>0</td>\n",
              "      <td>1</td>\n",
              "      <td>value_997</td>\n",
              "      <td>0</td>\n",
              "      <td>1.299276</td>\n",
              "      <td>1.299276</td>\n",
              "    </tr>\n",
              "    <tr>\n",
              "      <th>998</th>\n",
              "      <td>-2.099545</td>\n",
              "      <td>-1.123901</td>\n",
              "      <td>0.283225</td>\n",
              "      <td>-0.621159</td>\n",
              "      <td>1.791782</td>\n",
              "      <td>-0.707764</td>\n",
              "      <td>-1.722973</td>\n",
              "      <td>0.562720</td>\n",
              "      <td>-0.640689</td>\n",
              "      <td>0.674144</td>\n",
              "      <td>...</td>\n",
              "      <td>1.087940</td>\n",
              "      <td>-0.022644</td>\n",
              "      <td>-1.915869</td>\n",
              "      <td>0.169827</td>\n",
              "      <td>0</td>\n",
              "      <td>1</td>\n",
              "      <td>value_998</td>\n",
              "      <td>0</td>\n",
              "      <td>-2.099545</td>\n",
              "      <td>-2.099545</td>\n",
              "    </tr>\n",
              "    <tr>\n",
              "      <th>999</th>\n",
              "      <td>-3.882800</td>\n",
              "      <td>2.177293</td>\n",
              "      <td>-1.710175</td>\n",
              "      <td>-0.399257</td>\n",
              "      <td>2.580292</td>\n",
              "      <td>-2.451362</td>\n",
              "      <td>-1.780405</td>\n",
              "      <td>0.133942</td>\n",
              "      <td>-1.201706</td>\n",
              "      <td>0.632583</td>\n",
              "      <td>...</td>\n",
              "      <td>-0.497370</td>\n",
              "      <td>-0.611189</td>\n",
              "      <td>0.906871</td>\n",
              "      <td>0.841041</td>\n",
              "      <td>0</td>\n",
              "      <td>1</td>\n",
              "      <td>value_999</td>\n",
              "      <td>0</td>\n",
              "      <td>-3.882800</td>\n",
              "      <td>-3.882800</td>\n",
              "    </tr>\n",
              "  </tbody>\n",
              "</table>\n",
              "<p>5 rows × 56 columns</p>\n",
              "</div>"
            ],
            "text/plain": [
              "           f0        f1        f2        f3        f4        f5        f6  \\\n",
              "995 -1.418978  0.003551 -0.790590 -0.426383 -0.288728 -0.798265  1.048459   \n",
              "996 -1.938014 -2.555005  0.528159 -0.298689 -0.316667 -0.535982  3.883104   \n",
              "997  1.299276  1.649182  0.164144 -1.015463 -0.828559 -2.978675 -0.366979   \n",
              "998 -2.099545 -1.123901  0.283225 -0.621159  1.791782 -0.707764 -1.722973   \n",
              "999 -3.882800  2.177293 -1.710175 -0.399257  2.580292 -2.451362 -1.780405   \n",
              "\n",
              "           f7        f8        f9  ...       f46       f47       f48  \\\n",
              "995  0.717391  1.205025 -0.063768  ...  1.012702 -1.043291 -1.030703   \n",
              "996  2.339696  1.093509 -0.592256  ...  0.907410  0.158239  1.543237   \n",
              "997 -0.615384  0.314863  1.347091  ...  0.663711 -1.387003  1.876140   \n",
              "998  0.562720 -0.640689  0.674144  ...  1.087940 -0.022644 -1.915869   \n",
              "999  0.133942 -1.201706  0.632583  ... -0.497370 -0.611189  0.906871   \n",
              "\n",
              "          f49  target  constant_feature  high_cardinality  mostly_zero  \\\n",
              "995  0.355974       1                 1         value_995            0   \n",
              "996  1.278155       1                 1         value_996            0   \n",
              "997  0.500480       0                 1         value_997            0   \n",
              "998  0.169827       0                 1         value_998            0   \n",
              "999  0.841041       0                 1         value_999            0   \n",
              "\n",
              "     duplicated  missing_col  \n",
              "995   -1.418978    -1.418978  \n",
              "996   -1.938014    -1.938014  \n",
              "997    1.299276     1.299276  \n",
              "998   -2.099545    -2.099545  \n",
              "999   -3.882800    -3.882800  \n",
              "\n",
              "[5 rows x 56 columns]"
            ]
          },
          "execution_count": 3,
          "metadata": {},
          "output_type": "execute_result"
        }
      ],
      "source": [
        "df.tail()"
      ]
    },
    {
      "cell_type": "code",
      "execution_count": 4,
      "metadata": {
        "id": "qhG5umFx-TDl"
      },
      "outputs": [],
      "source": [
        "# --- 2. Деление на train и test ---\n",
        "train, test = train_test_split(df, test_size=0.3, random_state=42, stratify=df['target'])\n",
        "\n",
        "# Отделим признаки от целевой переменной\n",
        "X_train = train.drop(columns=['target'])\n",
        "y_train = train['target']\n",
        "X_test = test.drop(columns=['target'])\n",
        "y_test = test['target']"
      ]
    },
    {
      "cell_type": "code",
      "execution_count": 5,
      "metadata": {
        "colab": {
          "base_uri": "https://localhost:8080/"
        },
        "id": "xiSbcDnA-Cke",
        "outputId": "d3c1815c-444e-4486-f5f3-0512eb3123d9"
      },
      "outputs": [
        {
          "data": {
            "text/plain": [
              "['constant_feature']"
            ]
          },
          "execution_count": 5,
          "metadata": {},
          "output_type": "execute_result"
        }
      ],
      "source": [
        "# --- 3. Отбор признаков ---\n",
        "\n",
        "# 3.1 Удалим признаки с одним уникальным значением\n",
        "n_unique = X_train.nunique()\n",
        "to_drop_unique = n_unique[n_unique == 1].index.tolist()\n",
        "to_drop_unique\n",
        "\n"
      ]
    },
    {
      "cell_type": "code",
      "execution_count": 6,
      "metadata": {
        "colab": {
          "base_uri": "https://localhost:8080/"
        },
        "id": "H-kC79Ov-ZWv",
        "outputId": "74587996-b38c-4390-a005-fc1735698008"
      },
      "outputs": [
        {
          "data": {
            "text/plain": [
              "['high_cardinality']"
            ]
          },
          "execution_count": 6,
          "metadata": {},
          "output_type": "execute_result"
        }
      ],
      "source": [
        "# 3.2 Удалим признаки с высокой кардинальностью (например, > 90% уникальных)\n",
        "cardinality = X_train.select_dtypes(exclude='number').nunique() / len(X_train)\n",
        "to_drop_cardinality = cardinality[cardinality > 0.9].index.tolist()\n",
        "to_drop_cardinality"
      ]
    },
    {
      "cell_type": "code",
      "execution_count": 7,
      "metadata": {
        "colab": {
          "base_uri": "https://localhost:8080/"
        },
        "id": "Ro9r2fBM-Zaa",
        "outputId": "fda51595-e60e-4756-ced1-fdc2562e451a"
      },
      "outputs": [
        {
          "data": {
            "text/plain": [
              "['constant_feature', 'mostly_zero']"
            ]
          },
          "execution_count": 7,
          "metadata": {},
          "output_type": "execute_result"
        }
      ],
      "source": [
        "# 3.3 Удалим признаки с низкой дисперсией (по умолчанию threshold=0)\n",
        "vt = VarianceThreshold(threshold=0.1)  # можно варьировать\n",
        "vt.fit(X_train.select_dtypes(include='number').fillna(0))  # fillna, чтобы избежать ошибок\n",
        "low_variance_mask = vt.get_support()\n",
        "to_keep_variance = X_train.select_dtypes(include='number').columns[low_variance_mask].tolist()\n",
        "to_drop_variance = list(set(X_train.select_dtypes(include='number').columns) - set(to_keep_variance))\n",
        "to_drop_variance"
      ]
    },
    {
      "cell_type": "code",
      "execution_count": 8,
      "metadata": {
        "colab": {
          "base_uri": "https://localhost:8080/"
        },
        "id": "1p-SSNcs-Zdp",
        "outputId": "19c233dc-bd81-4433-e282-d80711f98a7c"
      },
      "outputs": [
        {
          "data": {
            "text/plain": [
              "['duplicated', 'missing_col']"
            ]
          },
          "execution_count": 8,
          "metadata": {},
          "output_type": "execute_result"
        }
      ],
      "source": [
        "# 3.4 Удалим сильно коррелированные признаки (|corr| > 0.95)\n",
        "corr_matrix = X_train.select_dtypes(include='number').corr().abs()\n",
        "upper_triangle = corr_matrix.where(np.triu(np.ones(corr_matrix.shape), k=1).astype(bool))\n",
        "to_drop_corr = [column for column in upper_triangle.columns if any(upper_triangle[column] > 0.95)]\n",
        "to_drop_corr"
      ]
    },
    {
      "cell_type": "code",
      "execution_count": 9,
      "metadata": {
        "colab": {
          "base_uri": "https://localhost:8080/"
        },
        "id": "kt6MrSEM-jzu",
        "outputId": "b25a7499-bfb1-4d9f-8772-550f7fd5fb3c"
      },
      "outputs": [
        {
          "data": {
            "text/plain": [
              "['missing_col']"
            ]
          },
          "execution_count": 9,
          "metadata": {},
          "output_type": "execute_result"
        }
      ],
      "source": [
        "# 3.5 Удалим признаки с большим количеством пропусков (>30%)\n",
        "missing_frac = X_train.isnull().mean()\n",
        "to_drop_missing = missing_frac[missing_frac > 0.3].index.tolist()\n",
        "to_drop_missing"
      ]
    },
    {
      "cell_type": "code",
      "execution_count": 10,
      "metadata": {
        "colab": {
          "base_uri": "https://localhost:8080/"
        },
        "id": "YkNeFTKq-j3B",
        "outputId": "516ff630-b4ed-4017-d34c-fbd9d9740ba9"
      },
      "outputs": [
        {
          "name": "stdout",
          "output_type": "stream",
          "text": [
            "Будет удалено 5 признаков:\n",
            "{'duplicated', 'high_cardinality', 'constant_feature', 'missing_col', 'mostly_zero'}\n"
          ]
        }
      ],
      "source": [
        "# Объединяем признаки для удаления ---\n",
        "to_drop_total = set(\n",
        "    to_drop_unique +\n",
        "    to_drop_cardinality +\n",
        "    to_drop_variance +\n",
        "    to_drop_corr +\n",
        "    to_drop_missing\n",
        ")\n",
        "\n",
        "print(f\"Будет удалено {len(to_drop_total)} признаков:\\n{to_drop_total}\")"
      ]
    },
    {
      "cell_type": "code",
      "execution_count": 11,
      "metadata": {
        "colab": {
          "base_uri": "https://localhost:8080/"
        },
        "id": "_WBDIL-5-oeS",
        "outputId": "a310dac7-442e-4d9d-deb1-da1158839707"
      },
      "outputs": [
        {
          "name": "stdout",
          "output_type": "stream",
          "text": [
            "Размерность после фильтрации: (700, 50)\n"
          ]
        }
      ],
      "source": [
        "# Применим фильтрацию к train и test ---\n",
        "X_train_filtered = X_train.drop(columns=to_drop_total)\n",
        "X_test_filtered = X_test.drop(columns=to_drop_total)\n",
        "print(f\"Размерность после фильтрации: {X_train_filtered.shape}\")"
      ]
    },
    {
      "cell_type": "code",
      "execution_count": null,
      "metadata": {
        "id": "vYJLURHHCA7c"
      },
      "outputs": [],
      "source": []
    },
    {
      "cell_type": "code",
      "execution_count": 12,
      "metadata": {
        "colab": {
          "base_uri": "https://localhost:8080/",
          "height": 458
        },
        "id": "omy323-NCA-5",
        "outputId": "dfbeefac-3c33-4d19-dc7e-075268ba2657"
      },
      "outputs": [
        {
          "data": {
            "text/plain": [
              "736    1\n",
              "929    0\n",
              "213    1\n",
              "618    0\n",
              "802    1\n",
              "      ..\n",
              "656    0\n",
              "160    1\n",
              "948    0\n",
              "40     0\n",
              "274    1\n",
              "Name: target, Length: 700, dtype: int64"
            ]
          },
          "execution_count": 12,
          "metadata": {},
          "output_type": "execute_result"
        }
      ],
      "source": [
        "y_train"
      ]
    },
    {
      "cell_type": "markdown",
      "metadata": {
        "id": "Skkdagb3DRvr"
      },
      "source": [
        "discrete_features=False — указываем, что все признаки считаются не категориальными, а непрерывными. Это важно: если бы были категориальные, надо было бы указать True или список масок."
      ]
    },
    {
      "cell_type": "markdown",
      "metadata": {
        "id": "7lUBo3Y6DmC-"
      },
      "source": [
        "**Теория: Взаимная информация (Mutual Information)**\n",
        "\n",
        "Взаимная информация — это мера того, насколько знание одной переменной уменьшает неопределённость другой.\n",
        "\n",
        "**Формула взаимной информации для дискретных переменных**\n",
        "\n",
        "$$\n",
        "I(X; Y) = \\sum_{x \\in X} \\sum_{y \\in Y} p(x, y) \\cdot \\log \\left( \\frac{p(x, y)}{p(x)p(y)} \\right)\n",
        "$$\n",
        "\n",
        "где:\n",
        "- $ X $ — признак,\n",
        "- $ Y $ — целевая переменная (таргет),\n",
        "- $ p(x, y) $ — совместное распределение вероятностей $X$ и $Y$,\n",
        "- $ p(x) $, $ p(y) $ —  распределения вероятностей $X$ и $Y$ соответственно.\n",
        "\n",
        "---\n",
        "\n",
        "**Интерпретация**\n",
        "\n",
        "- Если $ X $ и $ Y $ независимы, то\n",
        "\n",
        "$$\n",
        "p(x, y) = p(x) p(y) \\implies I(X; Y) = 0\n",
        "$$\n",
        "\n",
        "- Если $ X $ полностью определяет $ Y $, то $ I(X; Y) $ достигает максимума.\n",
        "\n",
        "---\n",
        "\n",
        "Почему можно удалять признаки с низкой взаимной информацией?\n",
        "\n",
        "Признаки с низкой взаимной информацией с таргетом:\n",
        "\n",
        "- Почти независимы от целевой переменной,\n",
        "- Не дают полезной информации для предсказания,\n",
        "- Могут увеличивать шум, усложнять модель и способствовать переобучению.\n",
        "\n",
        "---\n",
        "\n",
        "Эвристика порога\n",
        "\n",
        "Обычно признаки с $ I(X; Y) < 0.01 $ считаются малоинформативными и могут быть удалены.\n"
      ]
    },
    {
      "cell_type": "code",
      "execution_count": 13,
      "metadata": {
        "colab": {
          "base_uri": "https://localhost:8080/"
        },
        "id": "VuQSNDY4CuJi",
        "outputId": "dd5ac891-d8a1-4907-fa68-df6268417b46"
      },
      "outputs": [
        {
          "data": {
            "text/plain": [
              "['f1',\n",
              " 'f2',\n",
              " 'f3',\n",
              " 'f4',\n",
              " 'f6',\n",
              " 'f7',\n",
              " 'f9',\n",
              " 'f10',\n",
              " 'f11',\n",
              " 'f12',\n",
              " 'f13',\n",
              " 'f14',\n",
              " 'f15',\n",
              " 'f16',\n",
              " 'f17',\n",
              " 'f18',\n",
              " 'f22',\n",
              " 'f23',\n",
              " 'f24',\n",
              " 'f25',\n",
              " 'f27',\n",
              " 'f28',\n",
              " 'f29',\n",
              " 'f30',\n",
              " 'f32',\n",
              " 'f33',\n",
              " 'f38',\n",
              " 'f40',\n",
              " 'f43',\n",
              " 'f44',\n",
              " 'f45',\n",
              " 'f46',\n",
              " 'f47',\n",
              " 'f49']"
            ]
          },
          "execution_count": 13,
          "metadata": {},
          "output_type": "execute_result"
        }
      ],
      "source": [
        "from sklearn.feature_selection import mutual_info_classif\n",
        "\n",
        "# Вычислим взаимную информацию между признаками и бинарным target\n",
        "mi = mutual_info_classif(X_train_filtered.fillna(0), y_train, discrete_features=False, random_state=42)\n",
        "\n",
        "mi_series = pd.Series(mi, index=X_train_filtered.columns)\n",
        "# Оставим только признаки с MI >= 0.01\n",
        "to_drop_mi = mi_series[mi_series < 0.01].index.tolist()\n",
        "to_drop_mi"
      ]
    },
    {
      "cell_type": "code",
      "execution_count": 14,
      "metadata": {
        "colab": {
          "base_uri": "https://localhost:8080/"
        },
        "id": "0glqeiVnFh44",
        "outputId": "a8b5b835-ccbf-4a90-dd6a-4eba840e1986"
      },
      "outputs": [
        {
          "data": {
            "text/plain": [
              "Index(['f0', 'f1', 'f2', 'f3', 'f4', 'f5', 'f6', 'f7', 'f8', 'f9', 'f10',\n",
              "       'f11', 'f12', 'f13', 'f14', 'f15', 'f16', 'f17', 'f18', 'f19', 'f20',\n",
              "       'f21', 'f22', 'f23', 'f24', 'f25', 'f26', 'f27', 'f28', 'f29', 'f30',\n",
              "       'f31', 'f32', 'f33', 'f34', 'f35', 'f36', 'f37', 'f38', 'f39', 'f40',\n",
              "       'f41', 'f42', 'f43', 'f44', 'f45', 'f46', 'f47', 'f48', 'f49'],\n",
              "      dtype='object')"
            ]
          },
          "execution_count": 14,
          "metadata": {},
          "output_type": "execute_result"
        }
      ],
      "source": [
        "X_train_filtered.columns"
      ]
    },
    {
      "cell_type": "code",
      "execution_count": 15,
      "metadata": {
        "colab": {
          "base_uri": "https://localhost:8080/"
        },
        "id": "r8fsxypxCuM-",
        "outputId": "152780a0-0452-403a-f2c4-178ef0717a0f"
      },
      "outputs": [
        {
          "name": "stdout",
          "output_type": "stream",
          "text": [
            "Размерность после фильтрации: (700, 50)\n"
          ]
        }
      ],
      "source": [
        "\n",
        "print(f\"Размерность после фильтрации: {X_train_filtered.shape}\")"
      ]
    },
    {
      "cell_type": "code",
      "execution_count": 16,
      "metadata": {
        "colab": {
          "base_uri": "https://localhost:8080/",
          "height": 444
        },
        "id": "4bFMGoqGFHoo",
        "outputId": "7f763728-b98a-4dcd-8204-1174ca421a59"
      },
      "outputs": [
        {
          "data": {
            "text/html": [
              "<div>\n",
              "<style scoped>\n",
              "    .dataframe tbody tr th:only-of-type {\n",
              "        vertical-align: middle;\n",
              "    }\n",
              "\n",
              "    .dataframe tbody tr th {\n",
              "        vertical-align: top;\n",
              "    }\n",
              "\n",
              "    .dataframe thead th {\n",
              "        text-align: right;\n",
              "    }\n",
              "</style>\n",
              "<table border=\"1\" class=\"dataframe\">\n",
              "  <thead>\n",
              "    <tr style=\"text-align: right;\">\n",
              "      <th></th>\n",
              "      <th>f0</th>\n",
              "      <th>f1</th>\n",
              "      <th>f2</th>\n",
              "      <th>f3</th>\n",
              "      <th>f4</th>\n",
              "      <th>f5</th>\n",
              "      <th>f6</th>\n",
              "      <th>f7</th>\n",
              "      <th>f8</th>\n",
              "      <th>f9</th>\n",
              "      <th>...</th>\n",
              "      <th>f40</th>\n",
              "      <th>f41</th>\n",
              "      <th>f42</th>\n",
              "      <th>f43</th>\n",
              "      <th>f44</th>\n",
              "      <th>f45</th>\n",
              "      <th>f46</th>\n",
              "      <th>f47</th>\n",
              "      <th>f48</th>\n",
              "      <th>f49</th>\n",
              "    </tr>\n",
              "  </thead>\n",
              "  <tbody>\n",
              "    <tr>\n",
              "      <th>736</th>\n",
              "      <td>1.121448</td>\n",
              "      <td>-0.008077</td>\n",
              "      <td>0.185670</td>\n",
              "      <td>-0.618908</td>\n",
              "      <td>-0.152211</td>\n",
              "      <td>3.176310</td>\n",
              "      <td>-1.698210</td>\n",
              "      <td>-1.614168</td>\n",
              "      <td>1.041021</td>\n",
              "      <td>0.012944</td>\n",
              "      <td>...</td>\n",
              "      <td>-0.311337</td>\n",
              "      <td>-1.210699</td>\n",
              "      <td>-3.156575</td>\n",
              "      <td>0.620087</td>\n",
              "      <td>-0.004348</td>\n",
              "      <td>-0.467281</td>\n",
              "      <td>-0.830591</td>\n",
              "      <td>1.060829</td>\n",
              "      <td>0.918231</td>\n",
              "      <td>1.230545</td>\n",
              "    </tr>\n",
              "    <tr>\n",
              "      <th>929</th>\n",
              "      <td>0.299562</td>\n",
              "      <td>0.972868</td>\n",
              "      <td>-0.930617</td>\n",
              "      <td>-0.573881</td>\n",
              "      <td>-1.186192</td>\n",
              "      <td>1.613983</td>\n",
              "      <td>2.773609</td>\n",
              "      <td>-0.477547</td>\n",
              "      <td>1.220109</td>\n",
              "      <td>1.229486</td>\n",
              "      <td>...</td>\n",
              "      <td>-1.693500</td>\n",
              "      <td>-0.776092</td>\n",
              "      <td>-9.049934</td>\n",
              "      <td>-0.428470</td>\n",
              "      <td>-0.406396</td>\n",
              "      <td>0.383671</td>\n",
              "      <td>1.046910</td>\n",
              "      <td>-0.755598</td>\n",
              "      <td>0.496574</td>\n",
              "      <td>0.391747</td>\n",
              "    </tr>\n",
              "    <tr>\n",
              "      <th>213</th>\n",
              "      <td>3.672222</td>\n",
              "      <td>-0.211029</td>\n",
              "      <td>1.185247</td>\n",
              "      <td>-0.042734</td>\n",
              "      <td>0.957249</td>\n",
              "      <td>-5.042554</td>\n",
              "      <td>0.604120</td>\n",
              "      <td>-0.406740</td>\n",
              "      <td>-0.148912</td>\n",
              "      <td>0.238587</td>\n",
              "      <td>...</td>\n",
              "      <td>0.949559</td>\n",
              "      <td>-6.456861</td>\n",
              "      <td>-1.851177</td>\n",
              "      <td>0.514918</td>\n",
              "      <td>-1.237316</td>\n",
              "      <td>-2.892381</td>\n",
              "      <td>0.555120</td>\n",
              "      <td>-1.701155</td>\n",
              "      <td>-1.132277</td>\n",
              "      <td>1.009788</td>\n",
              "    </tr>\n",
              "    <tr>\n",
              "      <th>618</th>\n",
              "      <td>1.354326</td>\n",
              "      <td>1.236205</td>\n",
              "      <td>0.011736</td>\n",
              "      <td>2.069948</td>\n",
              "      <td>-0.349863</td>\n",
              "      <td>-0.578764</td>\n",
              "      <td>1.431975</td>\n",
              "      <td>0.133761</td>\n",
              "      <td>-1.930093</td>\n",
              "      <td>-1.611003</td>\n",
              "      <td>...</td>\n",
              "      <td>-0.657958</td>\n",
              "      <td>5.808048</td>\n",
              "      <td>0.210095</td>\n",
              "      <td>-0.997758</td>\n",
              "      <td>-1.310912</td>\n",
              "      <td>-0.179530</td>\n",
              "      <td>1.012943</td>\n",
              "      <td>0.510099</td>\n",
              "      <td>0.854369</td>\n",
              "      <td>-0.253710</td>\n",
              "    </tr>\n",
              "    <tr>\n",
              "      <th>802</th>\n",
              "      <td>0.421160</td>\n",
              "      <td>0.333946</td>\n",
              "      <td>1.377117</td>\n",
              "      <td>0.246891</td>\n",
              "      <td>0.042231</td>\n",
              "      <td>-0.847923</td>\n",
              "      <td>5.189822</td>\n",
              "      <td>1.430620</td>\n",
              "      <td>-0.811125</td>\n",
              "      <td>0.139174</td>\n",
              "      <td>...</td>\n",
              "      <td>-0.048552</td>\n",
              "      <td>-7.899757</td>\n",
              "      <td>-3.209183</td>\n",
              "      <td>0.531632</td>\n",
              "      <td>-1.000871</td>\n",
              "      <td>1.186687</td>\n",
              "      <td>-0.692081</td>\n",
              "      <td>-0.742953</td>\n",
              "      <td>-1.682296</td>\n",
              "      <td>0.606663</td>\n",
              "    </tr>\n",
              "    <tr>\n",
              "      <th>...</th>\n",
              "      <td>...</td>\n",
              "      <td>...</td>\n",
              "      <td>...</td>\n",
              "      <td>...</td>\n",
              "      <td>...</td>\n",
              "      <td>...</td>\n",
              "      <td>...</td>\n",
              "      <td>...</td>\n",
              "      <td>...</td>\n",
              "      <td>...</td>\n",
              "      <td>...</td>\n",
              "      <td>...</td>\n",
              "      <td>...</td>\n",
              "      <td>...</td>\n",
              "      <td>...</td>\n",
              "      <td>...</td>\n",
              "      <td>...</td>\n",
              "      <td>...</td>\n",
              "      <td>...</td>\n",
              "      <td>...</td>\n",
              "      <td>...</td>\n",
              "    </tr>\n",
              "    <tr>\n",
              "      <th>656</th>\n",
              "      <td>1.106813</td>\n",
              "      <td>0.210635</td>\n",
              "      <td>1.900832</td>\n",
              "      <td>-0.801220</td>\n",
              "      <td>-1.784944</td>\n",
              "      <td>-0.632179</td>\n",
              "      <td>-1.168801</td>\n",
              "      <td>-0.687354</td>\n",
              "      <td>0.372464</td>\n",
              "      <td>-0.359906</td>\n",
              "      <td>...</td>\n",
              "      <td>-0.162912</td>\n",
              "      <td>-0.244950</td>\n",
              "      <td>2.223377</td>\n",
              "      <td>-1.979330</td>\n",
              "      <td>-0.633789</td>\n",
              "      <td>-0.318143</td>\n",
              "      <td>-0.743700</td>\n",
              "      <td>-0.820839</td>\n",
              "      <td>0.456203</td>\n",
              "      <td>0.173824</td>\n",
              "    </tr>\n",
              "    <tr>\n",
              "      <th>160</th>\n",
              "      <td>-0.481762</td>\n",
              "      <td>1.636181</td>\n",
              "      <td>2.205187</td>\n",
              "      <td>2.661319</td>\n",
              "      <td>-0.400736</td>\n",
              "      <td>0.138355</td>\n",
              "      <td>-1.668243</td>\n",
              "      <td>0.459626</td>\n",
              "      <td>-1.349856</td>\n",
              "      <td>-0.175596</td>\n",
              "      <td>...</td>\n",
              "      <td>2.158019</td>\n",
              "      <td>4.352231</td>\n",
              "      <td>1.233812</td>\n",
              "      <td>-0.946028</td>\n",
              "      <td>-1.057629</td>\n",
              "      <td>-0.262228</td>\n",
              "      <td>-0.011553</td>\n",
              "      <td>-0.325621</td>\n",
              "      <td>-0.739629</td>\n",
              "      <td>0.746020</td>\n",
              "    </tr>\n",
              "    <tr>\n",
              "      <th>948</th>\n",
              "      <td>-3.081635</td>\n",
              "      <td>-1.663387</td>\n",
              "      <td>0.904150</td>\n",
              "      <td>1.496003</td>\n",
              "      <td>-0.418009</td>\n",
              "      <td>-1.908530</td>\n",
              "      <td>-1.029200</td>\n",
              "      <td>-0.289483</td>\n",
              "      <td>-1.680506</td>\n",
              "      <td>0.332621</td>\n",
              "      <td>...</td>\n",
              "      <td>-0.634795</td>\n",
              "      <td>0.767439</td>\n",
              "      <td>-2.565735</td>\n",
              "      <td>-0.408916</td>\n",
              "      <td>-1.613130</td>\n",
              "      <td>0.064103</td>\n",
              "      <td>0.053514</td>\n",
              "      <td>-1.074463</td>\n",
              "      <td>-0.293693</td>\n",
              "      <td>-0.954404</td>\n",
              "    </tr>\n",
              "    <tr>\n",
              "      <th>40</th>\n",
              "      <td>-1.658968</td>\n",
              "      <td>0.165100</td>\n",
              "      <td>-0.431180</td>\n",
              "      <td>-0.390999</td>\n",
              "      <td>0.435416</td>\n",
              "      <td>-4.179003</td>\n",
              "      <td>-5.254830</td>\n",
              "      <td>-0.651176</td>\n",
              "      <td>-0.753294</td>\n",
              "      <td>0.446447</td>\n",
              "      <td>...</td>\n",
              "      <td>1.592852</td>\n",
              "      <td>-1.613867</td>\n",
              "      <td>-5.273519</td>\n",
              "      <td>-0.480543</td>\n",
              "      <td>0.170566</td>\n",
              "      <td>0.473215</td>\n",
              "      <td>-0.233791</td>\n",
              "      <td>-0.091381</td>\n",
              "      <td>-0.428152</td>\n",
              "      <td>0.085196</td>\n",
              "    </tr>\n",
              "    <tr>\n",
              "      <th>274</th>\n",
              "      <td>2.668087</td>\n",
              "      <td>0.492791</td>\n",
              "      <td>0.909250</td>\n",
              "      <td>1.375309</td>\n",
              "      <td>0.168023</td>\n",
              "      <td>-0.645975</td>\n",
              "      <td>2.701705</td>\n",
              "      <td>2.539040</td>\n",
              "      <td>-1.786183</td>\n",
              "      <td>0.213349</td>\n",
              "      <td>...</td>\n",
              "      <td>1.348751</td>\n",
              "      <td>-6.214374</td>\n",
              "      <td>-3.875995</td>\n",
              "      <td>1.539483</td>\n",
              "      <td>-1.060111</td>\n",
              "      <td>0.944706</td>\n",
              "      <td>0.544821</td>\n",
              "      <td>1.073945</td>\n",
              "      <td>-0.413077</td>\n",
              "      <td>0.882574</td>\n",
              "    </tr>\n",
              "  </tbody>\n",
              "</table>\n",
              "<p>700 rows × 50 columns</p>\n",
              "</div>"
            ],
            "text/plain": [
              "           f0        f1        f2        f3        f4        f5        f6  \\\n",
              "736  1.121448 -0.008077  0.185670 -0.618908 -0.152211  3.176310 -1.698210   \n",
              "929  0.299562  0.972868 -0.930617 -0.573881 -1.186192  1.613983  2.773609   \n",
              "213  3.672222 -0.211029  1.185247 -0.042734  0.957249 -5.042554  0.604120   \n",
              "618  1.354326  1.236205  0.011736  2.069948 -0.349863 -0.578764  1.431975   \n",
              "802  0.421160  0.333946  1.377117  0.246891  0.042231 -0.847923  5.189822   \n",
              "..        ...       ...       ...       ...       ...       ...       ...   \n",
              "656  1.106813  0.210635  1.900832 -0.801220 -1.784944 -0.632179 -1.168801   \n",
              "160 -0.481762  1.636181  2.205187  2.661319 -0.400736  0.138355 -1.668243   \n",
              "948 -3.081635 -1.663387  0.904150  1.496003 -0.418009 -1.908530 -1.029200   \n",
              "40  -1.658968  0.165100 -0.431180 -0.390999  0.435416 -4.179003 -5.254830   \n",
              "274  2.668087  0.492791  0.909250  1.375309  0.168023 -0.645975  2.701705   \n",
              "\n",
              "           f7        f8        f9  ...       f40       f41       f42  \\\n",
              "736 -1.614168  1.041021  0.012944  ... -0.311337 -1.210699 -3.156575   \n",
              "929 -0.477547  1.220109  1.229486  ... -1.693500 -0.776092 -9.049934   \n",
              "213 -0.406740 -0.148912  0.238587  ...  0.949559 -6.456861 -1.851177   \n",
              "618  0.133761 -1.930093 -1.611003  ... -0.657958  5.808048  0.210095   \n",
              "802  1.430620 -0.811125  0.139174  ... -0.048552 -7.899757 -3.209183   \n",
              "..        ...       ...       ...  ...       ...       ...       ...   \n",
              "656 -0.687354  0.372464 -0.359906  ... -0.162912 -0.244950  2.223377   \n",
              "160  0.459626 -1.349856 -0.175596  ...  2.158019  4.352231  1.233812   \n",
              "948 -0.289483 -1.680506  0.332621  ... -0.634795  0.767439 -2.565735   \n",
              "40  -0.651176 -0.753294  0.446447  ...  1.592852 -1.613867 -5.273519   \n",
              "274  2.539040 -1.786183  0.213349  ...  1.348751 -6.214374 -3.875995   \n",
              "\n",
              "          f43       f44       f45       f46       f47       f48       f49  \n",
              "736  0.620087 -0.004348 -0.467281 -0.830591  1.060829  0.918231  1.230545  \n",
              "929 -0.428470 -0.406396  0.383671  1.046910 -0.755598  0.496574  0.391747  \n",
              "213  0.514918 -1.237316 -2.892381  0.555120 -1.701155 -1.132277  1.009788  \n",
              "618 -0.997758 -1.310912 -0.179530  1.012943  0.510099  0.854369 -0.253710  \n",
              "802  0.531632 -1.000871  1.186687 -0.692081 -0.742953 -1.682296  0.606663  \n",
              "..        ...       ...       ...       ...       ...       ...       ...  \n",
              "656 -1.979330 -0.633789 -0.318143 -0.743700 -0.820839  0.456203  0.173824  \n",
              "160 -0.946028 -1.057629 -0.262228 -0.011553 -0.325621 -0.739629  0.746020  \n",
              "948 -0.408916 -1.613130  0.064103  0.053514 -1.074463 -0.293693 -0.954404  \n",
              "40  -0.480543  0.170566  0.473215 -0.233791 -0.091381 -0.428152  0.085196  \n",
              "274  1.539483 -1.060111  0.944706  0.544821  1.073945 -0.413077  0.882574  \n",
              "\n",
              "[700 rows x 50 columns]"
            ]
          },
          "execution_count": 16,
          "metadata": {},
          "output_type": "execute_result"
        }
      ],
      "source": [
        "X_train_filtered"
      ]
    },
    {
      "cell_type": "code",
      "execution_count": null,
      "metadata": {
        "id": "Xz0DuWpYCuQQ"
      },
      "outputs": [],
      "source": []
    }
  ],
  "metadata": {
    "colab": {
      "provenance": []
    },
    "kernelspec": {
      "display_name": ".venv",
      "language": "python",
      "name": "python3"
    },
    "language_info": {
      "codemirror_mode": {
        "name": "ipython",
        "version": 3
      },
      "file_extension": ".py",
      "mimetype": "text/x-python",
      "name": "python",
      "nbconvert_exporter": "python",
      "pygments_lexer": "ipython3",
      "version": "3.12.0"
    }
  },
  "nbformat": 4,
  "nbformat_minor": 0
}
