{
  "cells": [
    {
      "cell_type": "markdown",
      "metadata": {
        "id": "jZOR9Y3YtJd6"
      },
      "source": [
        "<font color='green' size='6'>**Практическая работа 2**</font>  \n",
        "<font color='#11a642' size='5'>**Тема: Машинное обучение**</font>  \n",
        "<font size='5'>**Задание:**</font>  \n",
        "\n",
        "Домашняя работа основана на данных конкурса https://www.kaggle.com/competitions/playground-series-s4e10/\n",
        "\n",
        "**Ваша задача** — предсказать, останется ли клиент с аккаунтом или закроет его (например, уйдёт).\n",
        "\n",
        "Требования к оформлению:\n",
        "- Работа должна быть оформлена в jupyter notebook (файл *.ipynb)\n",
        "- Работа должна содержать комментарии и выводы. Объясняйте почему вы выбрали именно этот способ обработки данных\n",
        "\n",
        "\n",
        "Всем удачи!\n",
        "\n",
        "\n",
        "\n"
      ]
    },
    {
      "cell_type": "markdown",
      "metadata": {
        "id": "zSuKyjSxvt0D"
      },
      "source": [
        "# <font color='#11a642' size='6'> **Импорт и установка библиотек**"
      ]
    },
    {
      "cell_type": "code",
      "execution_count": 1,
      "metadata": {
        "id": "3a9Myq9OFN0s"
      },
      "outputs": [],
      "source": [
        "import pandas as pd"
      ]
    },
    {
      "cell_type": "markdown",
      "metadata": {
        "id": "MPOq6MYFFayE"
      },
      "source": [
        "# <font color='#11a642' size='6'> **Загрузка данных**"
      ]
    },
    {
      "cell_type": "code",
      "execution_count": 2,
      "metadata": {
        "colab": {
          "base_uri": "https://localhost:8080/"
        },
        "id": "2ULMdLROCJnJ",
        "outputId": "26e2f77f-2968-4f1e-f38c-6fb6f6d9e0d9"
      },
      "outputs": [
        {
          "name": "stdout",
          "output_type": "stream",
          "text": [
            "Downloading...\n",
            "From: https://drive.google.com/uc?id=1wvqGslWLauKyZxLY-d3RQCTyHCb5wJCO\n",
            "To: /Users/antontravkin/Sites/python_rtk/part 2/Практическая работа 2/train.csv\n",
            "100%|██████████████████████████████████████| 12.4M/12.4M [00:03<00:00, 3.51MB/s]\n"
          ]
        }
      ],
      "source": [
        "# 1. Загрузка датасета\n",
        "!gdown 1wvqGslWLauKyZxLY-d3RQCTyHCb5wJCO"
      ]
    },
    {
      "cell_type": "code",
      "execution_count": 3,
      "metadata": {
        "id": "44_n6F8HUL_q"
      },
      "outputs": [],
      "source": [
        "df = pd.read_csv('train.csv')"
      ]
    },
    {
      "cell_type": "code",
      "execution_count": 4,
      "metadata": {
        "colab": {
          "base_uri": "https://localhost:8080/",
          "height": 226
        },
        "id": "uDCXN9-3UPJh",
        "outputId": "ee273a76-13f6-4c0f-8073-d469028d41f2"
      },
      "outputs": [
        {
          "data": {
            "text/html": [
              "<div>\n",
              "<style scoped>\n",
              "    .dataframe tbody tr th:only-of-type {\n",
              "        vertical-align: middle;\n",
              "    }\n",
              "\n",
              "    .dataframe tbody tr th {\n",
              "        vertical-align: top;\n",
              "    }\n",
              "\n",
              "    .dataframe thead th {\n",
              "        text-align: right;\n",
              "    }\n",
              "</style>\n",
              "<table border=\"1\" class=\"dataframe\">\n",
              "  <thead>\n",
              "    <tr style=\"text-align: right;\">\n",
              "      <th></th>\n",
              "      <th>id</th>\n",
              "      <th>CustomerId</th>\n",
              "      <th>Surname</th>\n",
              "      <th>CreditScore</th>\n",
              "      <th>Geography</th>\n",
              "      <th>Gender</th>\n",
              "      <th>Age</th>\n",
              "      <th>Tenure</th>\n",
              "      <th>Balance</th>\n",
              "      <th>NumOfProducts</th>\n",
              "      <th>HasCrCard</th>\n",
              "      <th>IsActiveMember</th>\n",
              "      <th>EstimatedSalary</th>\n",
              "      <th>Exited</th>\n",
              "    </tr>\n",
              "  </thead>\n",
              "  <tbody>\n",
              "    <tr>\n",
              "      <th>0</th>\n",
              "      <td>0</td>\n",
              "      <td>15674932</td>\n",
              "      <td>Okwudilichukwu</td>\n",
              "      <td>668</td>\n",
              "      <td>France</td>\n",
              "      <td>Male</td>\n",
              "      <td>33.0</td>\n",
              "      <td>3</td>\n",
              "      <td>0.00</td>\n",
              "      <td>2</td>\n",
              "      <td>1.0</td>\n",
              "      <td>0.0</td>\n",
              "      <td>181449.97</td>\n",
              "      <td>0</td>\n",
              "    </tr>\n",
              "    <tr>\n",
              "      <th>1</th>\n",
              "      <td>1</td>\n",
              "      <td>15749177</td>\n",
              "      <td>Okwudiliolisa</td>\n",
              "      <td>627</td>\n",
              "      <td>France</td>\n",
              "      <td>Male</td>\n",
              "      <td>33.0</td>\n",
              "      <td>1</td>\n",
              "      <td>0.00</td>\n",
              "      <td>2</td>\n",
              "      <td>1.0</td>\n",
              "      <td>1.0</td>\n",
              "      <td>49503.50</td>\n",
              "      <td>0</td>\n",
              "    </tr>\n",
              "    <tr>\n",
              "      <th>2</th>\n",
              "      <td>2</td>\n",
              "      <td>15694510</td>\n",
              "      <td>Hsueh</td>\n",
              "      <td>678</td>\n",
              "      <td>France</td>\n",
              "      <td>Male</td>\n",
              "      <td>40.0</td>\n",
              "      <td>10</td>\n",
              "      <td>0.00</td>\n",
              "      <td>2</td>\n",
              "      <td>1.0</td>\n",
              "      <td>0.0</td>\n",
              "      <td>184866.69</td>\n",
              "      <td>0</td>\n",
              "    </tr>\n",
              "    <tr>\n",
              "      <th>3</th>\n",
              "      <td>3</td>\n",
              "      <td>15741417</td>\n",
              "      <td>Kao</td>\n",
              "      <td>581</td>\n",
              "      <td>France</td>\n",
              "      <td>Male</td>\n",
              "      <td>34.0</td>\n",
              "      <td>2</td>\n",
              "      <td>148882.54</td>\n",
              "      <td>1</td>\n",
              "      <td>1.0</td>\n",
              "      <td>1.0</td>\n",
              "      <td>84560.88</td>\n",
              "      <td>0</td>\n",
              "    </tr>\n",
              "    <tr>\n",
              "      <th>4</th>\n",
              "      <td>4</td>\n",
              "      <td>15766172</td>\n",
              "      <td>Chiemenam</td>\n",
              "      <td>716</td>\n",
              "      <td>Spain</td>\n",
              "      <td>Male</td>\n",
              "      <td>33.0</td>\n",
              "      <td>5</td>\n",
              "      <td>0.00</td>\n",
              "      <td>2</td>\n",
              "      <td>1.0</td>\n",
              "      <td>1.0</td>\n",
              "      <td>15068.83</td>\n",
              "      <td>0</td>\n",
              "    </tr>\n",
              "  </tbody>\n",
              "</table>\n",
              "</div>"
            ],
            "text/plain": [
              "   id  CustomerId         Surname  CreditScore Geography Gender   Age  Tenure  \\\n",
              "0   0    15674932  Okwudilichukwu          668    France   Male  33.0       3   \n",
              "1   1    15749177   Okwudiliolisa          627    France   Male  33.0       1   \n",
              "2   2    15694510           Hsueh          678    France   Male  40.0      10   \n",
              "3   3    15741417             Kao          581    France   Male  34.0       2   \n",
              "4   4    15766172       Chiemenam          716     Spain   Male  33.0       5   \n",
              "\n",
              "     Balance  NumOfProducts  HasCrCard  IsActiveMember  EstimatedSalary  \\\n",
              "0       0.00              2        1.0             0.0        181449.97   \n",
              "1       0.00              2        1.0             1.0         49503.50   \n",
              "2       0.00              2        1.0             0.0        184866.69   \n",
              "3  148882.54              1        1.0             1.0         84560.88   \n",
              "4       0.00              2        1.0             1.0         15068.83   \n",
              "\n",
              "   Exited  \n",
              "0       0  \n",
              "1       0  \n",
              "2       0  \n",
              "3       0  \n",
              "4       0  "
            ]
          },
          "execution_count": 4,
          "metadata": {},
          "output_type": "execute_result"
        }
      ],
      "source": [
        "df.head()"
      ]
    },
    {
      "cell_type": "code",
      "execution_count": 5,
      "metadata": {
        "id": "dXltTmQ_UJBV"
      },
      "outputs": [],
      "source": [
        "# 2. Разделение признаков и целевой переменной\n",
        "X = df.drop('Exited', axis=1)\n",
        "y = df['Exited']"
      ]
    },
    {
      "cell_type": "code",
      "execution_count": 6,
      "metadata": {
        "colab": {
          "base_uri": "https://localhost:8080/",
          "height": 241
        },
        "id": "iAyFiPpQFS6u",
        "outputId": "1fb8c57a-dab9-437e-9216-f9449742c5a4"
      },
      "outputs": [
        {
          "data": {
            "text/plain": [
              "0    0\n",
              "1    0\n",
              "2    0\n",
              "3    0\n",
              "4    0\n",
              "Name: Exited, dtype: int64"
            ]
          },
          "execution_count": 6,
          "metadata": {},
          "output_type": "execute_result"
        }
      ],
      "source": [
        "y.head()"
      ]
    },
    {
      "cell_type": "markdown",
      "metadata": {
        "id": "Qdjat-1tFuto"
      },
      "source": [
        "## <font color='#11a642' size='5'> Напишите ответы на следующие вопросы: </font>\n",
        "\n",
        "\n",
        "1.   К какому типу переменных относится целевой признак?\n",
        "2.   Какую задачу машинного обучения вам предстоит решить, регрессия или классификация?"
      ]
    },
    {
      "cell_type": "markdown",
      "metadata": {
        "id": "s6wq-gKqHfT7"
      },
      "source": [
        "# ваш ответ"
      ]
    },
    {
      "cell_type": "markdown",
      "metadata": {},
      "source": [
        "Целевой признак Exited — это категориальная переменная (дискретная), принимающая два значения:\n",
        "\n",
        "0 — клиент остался \n",
        "\n",
        "1 — клиент ушёл\n",
        "\n",
        "Задача машинного обучения — задача классификации, так как мы пытаемся предсказать категорию (остался или ушёл), а не непрерывное число.\n"
      ]
    },
    {
      "cell_type": "markdown",
      "metadata": {
        "id": "j0mQVQAG4Hvb"
      },
      "source": [
        "# <font color='#11a642' size='6'> **Разведочный анализ данных**"
      ]
    },
    {
      "cell_type": "markdown",
      "metadata": {
        "id": "3sj3k-rB4L0J"
      },
      "source": [
        "## <font color='#11a642' size='5'> Оцените размер вашего датасета  </font>\n",
        "\n",
        "\n",
        "\n",
        "1.   Сколько ГБ ваш датасет\n",
        "2.   Сколько строк и столбцов\n",
        "\n"
      ]
    },
    {
      "cell_type": "code",
      "execution_count": 7,
      "metadata": {
        "id": "yU6WkgQ7u6-z"
      },
      "outputs": [
        {
          "name": "stdout",
          "output_type": "stream",
          "text": [
            "Размер файла train.csv: 0.0115 ГБ\n"
          ]
        }
      ],
      "source": [
        "# Сколько ГБ ваш датасет\n",
        "# ваш код\n",
        "\n",
        "import os\n",
        "\n",
        "file_size_bytes = os.path.getsize('train.csv')\n",
        "file_size_gb = file_size_bytes / (1024**3)\n",
        "print(f\"Размер файла train.csv: {file_size_gb:.4f} ГБ\")\n",
        "\n"
      ]
    },
    {
      "cell_type": "code",
      "execution_count": 8,
      "metadata": {
        "id": "JG6g0Gfa57EZ"
      },
      "outputs": [
        {
          "name": "stdout",
          "output_type": "stream",
          "text": [
            "Количество строк: 165034\n",
            "Количество столбцов: 14\n"
          ]
        }
      ],
      "source": [
        "# Сколько строк и столбцов\n",
        "# ваш код\n",
        "\n",
        "print(f\"Количество строк: {df.shape[0]}\")\n",
        "print(f\"Количество столбцов: {df.shape[1]}\")"
      ]
    },
    {
      "cell_type": "markdown",
      "metadata": {
        "id": "92Mhtpl3ePaj"
      },
      "source": [
        "## <font color='#11a642' size='5'> Анализ числовых (непрерывных) признаков\n"
      ]
    },
    {
      "cell_type": "markdown",
      "metadata": {
        "id": "uM8pFd48OB9e"
      },
      "source": [
        "- для каждого признака посчитайте минимум, максимум, среднее, медиану"
      ]
    },
    {
      "cell_type": "code",
      "execution_count": 9,
      "metadata": {
        "id": "xcfXdchyeV77"
      },
      "outputs": [
        {
          "name": "stdout",
          "output_type": "stream",
          "text": [
            "                         min          max          mean      median\n",
            "id                      0.00    165033.00  8.251650e+04     82516.5\n",
            "CustomerId       15565701.00  15815690.00  1.569201e+07  15690169.0\n",
            "CreditScore           350.00       850.00  6.564544e+02       659.0\n",
            "Age                    18.00        92.00  3.812589e+01        37.0\n",
            "Tenure                  0.00        10.00  5.020353e+00         5.0\n",
            "Balance                 0.00    250898.09  5.547809e+04         0.0\n",
            "NumOfProducts           1.00         4.00  1.554455e+00         2.0\n",
            "HasCrCard               0.00         1.00  7.539537e-01         1.0\n",
            "IsActiveMember          0.00         1.00  4.977702e-01         0.0\n",
            "EstimatedSalary        11.58    199992.48  1.125748e+05    117948.0\n",
            "Exited                  0.00         1.00  2.115988e-01         0.0\n"
          ]
        }
      ],
      "source": [
        "# ваш код\n",
        "\n",
        "# выбираем только числовые столбцы\n",
        "num_cols = df.select_dtypes(include='number').columns\n",
        "\n",
        "# мин, макс, среднее и квартели по числовым\n",
        "summary = df[num_cols].describe().T\n",
        "summary['median'] = df[num_cols].median()\n",
        "\n",
        "# отберем только нужные колонки\n",
        "summary = summary[['min', 'max', 'mean', 'median']]\n",
        "\n",
        "print(summary)"
      ]
    },
    {
      "cell_type": "markdown",
      "metadata": {
        "id": "yZ0NhzDjG5o5"
      },
      "source": [
        "## <font color='#11a642' size='5'> Анализ категориальных признаков\n"
      ]
    },
    {
      "cell_type": "markdown",
      "metadata": {
        "id": "uJsvcd_wG9oq"
      },
      "source": [
        "- для каждого признака посчитайте моду, количество уникальных значений"
      ]
    },
    {
      "cell_type": "code",
      "execution_count": 10,
      "metadata": {
        "id": "Tc0os3UHHaKh"
      },
      "outputs": [
        {
          "name": "stdout",
          "output_type": "stream",
          "text": [
            "            Признак      Мода  Уникальных значений\n",
            "0                id         0               165034\n",
            "1        CustomerId  15682355                23221\n",
            "2           Surname      Hsia                 2797\n",
            "3       CreditScore       850                  457\n",
            "4         Geography    France                    3\n",
            "5            Gender      Male                    2\n",
            "6               Age      37.0                   71\n",
            "7            Tenure         2                   11\n",
            "8           Balance       0.0                30075\n",
            "9     NumOfProducts         2                    4\n",
            "10        HasCrCard       1.0                    2\n",
            "11   IsActiveMember       0.0                    2\n",
            "12  EstimatedSalary  88890.05                55298\n",
            "13           Exited         0                    2\n"
          ]
        }
      ],
      "source": [
        "# ваш код\n",
        "\n",
        "results = []\n",
        "\n",
        "for col in df.columns:\n",
        "    mode_val = df[col].mode()[0]\n",
        "    unique_count = df[col].nunique()\n",
        "    results.append({'Признак': col, 'Мода': mode_val,\n",
        "                   'Уникальных значений': unique_count})\n",
        "\n",
        "summary_df = pd.DataFrame(results)\n",
        "print(summary_df)"
      ]
    },
    {
      "cell_type": "markdown",
      "metadata": {
        "id": "wpGzRSwnHNeK"
      },
      "source": [
        "## <font color='#11a642' size='5'> Анализ целевого признака\n"
      ]
    },
    {
      "cell_type": "markdown",
      "metadata": {
        "id": "C9AmTgf1HQ4d"
      },
      "source": [
        "- какая доля 1?"
      ]
    },
    {
      "cell_type": "code",
      "execution_count": 11,
      "metadata": {
        "id": "Rs6ds9UpHa4o"
      },
      "outputs": [
        {
          "name": "stdout",
          "output_type": "stream",
          "text": [
            "Доля клиентов, которые ушли (Exited=1): 0.2116\n"
          ]
        }
      ],
      "source": [
        "# ваш код\n",
        "\n",
        "exited_ratio = y.value_counts(normalize=True)[1]\n",
        "print(f\"Доля клиентов, которые ушли (Exited=1): {exited_ratio:.4f}\")"
      ]
    },
    {
      "cell_type": "markdown",
      "metadata": {
        "id": "cd-lxD1y6v0Q"
      },
      "source": [
        "# <font color='#11a642' size='6'> **Разделите данные на трейн и тест**"
      ]
    },
    {
      "cell_type": "markdown",
      "metadata": {
        "id": "YY4iOIXUHpEB"
      },
      "source": [
        "- нужна ли стратификация?"
      ]
    },
    {
      "cell_type": "code",
      "execution_count": 12,
      "metadata": {
        "id": "3fHwY-2J7PXr"
      },
      "outputs": [],
      "source": [
        "# ваш код\n",
        "\n",
        "from sklearn.model_selection import train_test_split\n",
        "\n",
        "X_train, X_test, y_train, y_test = train_test_split(\n",
        "    X, y,\n",
        "    test_size=0.2,        # 20% данных — для теста\n",
        "    random_state=42,      # фиксируем генератор случайных чисел для воспроизводимости\n",
        "    stratify=y            # чтобы сохранить пропорции классов в выборках\n",
        ")"
      ]
    },
    {
      "cell_type": "markdown",
      "metadata": {
        "id": "bvhVO_Sl7RH3"
      },
      "source": [
        "# <font color='#11a642' size='6'> **Подготовка данных к обучению**"
      ]
    },
    {
      "cell_type": "markdown",
      "metadata": {
        "id": "mRsDEezEImPB"
      },
      "source": [
        "## Поиск и анализ выбросов"
      ]
    },
    {
      "cell_type": "code",
      "execution_count": 13,
      "metadata": {
        "id": "M_pqEovt7WMc"
      },
      "outputs": [
        {
          "name": "stdout",
          "output_type": "stream",
          "text": [
            "                 Количество выбросов\n",
            "HasCrCard                      40606\n",
            "Exited                         34921\n",
            "Age                             6394\n",
            "NumOfProducts                    475\n",
            "CreditScore                      253\n",
            "id                                 0\n",
            "CustomerId                         0\n",
            "Tenure                             0\n",
            "Balance                            0\n",
            "IsActiveMember                     0\n",
            "EstimatedSalary                    0\n"
          ]
        }
      ],
      "source": [
        "# ваш код\n",
        "\n",
        "# Выбираем числовые столбцы\n",
        "numeric_cols = df.select_dtypes(include=['number']).columns\n",
        "\n",
        "# Словарь для хранения количества выбросов по каждому признаку\n",
        "outliers = {}\n",
        "\n",
        "for col in numeric_cols:\n",
        "    Q1 = df[col].quantile(0.25)\n",
        "    Q3 = df[col].quantile(0.75)\n",
        "    IQR = Q3 - Q1\n",
        "    lower_bound = Q1 - 1.5 * IQR\n",
        "    upper_bound = Q3 + 1.5 * IQR\n",
        "\n",
        "    # Находим выбросы\n",
        "    outlier_mask = (df[col] < lower_bound) | (df[col] > upper_bound)\n",
        "    outliers[col] = outlier_mask.sum()\n",
        "\n",
        "# Создаем DataFrame с результатами и сортируем по убыванию количества выбросов\n",
        "outlier_df = pd.DataFrame.from_dict(\n",
        "    outliers, orient='index', columns=['Количество выбросов'])\n",
        "outlier_df = outlier_df.sort_values(by='Количество выбросов', ascending=False)\n",
        "\n",
        "print(outlier_df)"
      ]
    },
    {
      "cell_type": "markdown",
      "metadata": {
        "id": "rcravyNzIoQq"
      },
      "source": [
        "## Анализ и обработка пропусков"
      ]
    },
    {
      "cell_type": "code",
      "execution_count": 44,
      "metadata": {
        "id": "bB5HzScsIuIR"
      },
      "outputs": [
        {
          "name": "stdout",
          "output_type": "stream",
          "text": [
            "Анализ пропусков по столбцам:\n",
            "                   Количество пропусков  Процент пропусков\n",
            "id                                    0                0.0\n",
            "CustomerId                            0                0.0\n",
            "CreditScore                           0                0.0\n",
            "Gender                                0                0.0\n",
            "Age                                   0                0.0\n",
            "Tenure                                0                0.0\n",
            "Balance                               0                0.0\n",
            "NumOfProducts                         0                0.0\n",
            "HasCrCard                             0                0.0\n",
            "IsActiveMember                        0                0.0\n",
            "EstimatedSalary                       0                0.0\n",
            "Exited                                0                0.0\n",
            "Geography_Germany                     0                0.0\n",
            "Geography_Spain                       0                0.0\n",
            "\n",
            "Столбцы с пропусками:\n",
            "Empty DataFrame\n",
            "Columns: [Количество пропусков, Процент пропусков]\n",
            "Index: []\n"
          ]
        }
      ],
      "source": [
        "# ваш код\n",
        "\n",
        "# Анализ пропусков\n",
        "missing_counts = df.isnull().sum()\n",
        "missing_percent = (missing_counts / len(df)) * 100\n",
        "\n",
        "missing_summary = pd.DataFrame({\n",
        "    'Количество пропусков': missing_counts,\n",
        "    'Процент пропусков': missing_percent\n",
        "})\n",
        "\n",
        "print(\"Анализ пропусков по столбцам:\")\n",
        "print(missing_summary)\n",
        "\n",
        "# Выводим только столбцы с пропусками\n",
        "missing_cols = missing_summary[missing_summary['Количество пропусков'] > 0]\n",
        "print(\"\\nСтолбцы с пропусками:\")\n",
        "print(missing_cols)\n",
        "\n"
      ]
    },
    {
      "cell_type": "markdown",
      "metadata": {
        "id": "8EaAsLzQIuRl"
      },
      "source": [
        "## Анализ и обработка категориальных переменных"
      ]
    },
    {
      "cell_type": "code",
      "execution_count": 15,
      "metadata": {
        "id": "rgggaunJI0ty"
      },
      "outputs": [],
      "source": [
        "# ваш код\n",
        "\n",
        "# Удаляем 'Surname', т.к. она уникальна и бесполезна для модели\n",
        "df = df.drop(columns=['Surname'], errors='ignore')\n",
        "\n",
        "# Преобразуем 'Gender' в бинарный формат\n",
        "if 'Gender' in df.columns:\n",
        "    df['Gender'] = df['Gender'].map({'Male': 1, 'Female': 0})\n",
        "\n",
        "# One-hot кодирование для 'Geography'\n",
        "if 'Geography' in df.columns:\n",
        "    df = pd.get_dummies(df, columns=['Geography'], drop_first=True)\n",
        "    "
      ]
    },
    {
      "cell_type": "markdown",
      "metadata": {
        "id": "p-Z373GpIy_G"
      },
      "source": [
        "## Масштабирование числовых признаков"
      ]
    },
    {
      "cell_type": "code",
      "execution_count": 16,
      "metadata": {
        "id": "W34TzaIrI2Tk"
      },
      "outputs": [],
      "source": [
        "# ваш код\n",
        "from sklearn.preprocessing import StandardScaler\n",
        "\n",
        "num_features = ['CreditScore', 'Age', 'Tenure',\n",
        "                'Balance', 'NumOfProducts', 'EstimatedSalary']\n",
        "\n",
        "# Пересоздаем X и y после обработки\n",
        "X = df.drop('Exited', axis=1)\n",
        "y = df['Exited']\n",
        "\n",
        "# Разбиваем заново, так как изменился df\n",
        "X_train, X_test, y_train, y_test = train_test_split(\n",
        "    X, y, test_size=0.2, random_state=42, stratify=y)\n",
        "\n",
        "scaler = StandardScaler()\n",
        "X_train[num_features] = scaler.fit_transform(X_train[num_features])\n",
        "X_test[num_features] = scaler.transform(X_test[num_features])"
      ]
    },
    {
      "cell_type": "markdown",
      "metadata": {
        "id": "CnibZvco7i1o"
      },
      "source": [
        "# <font color='#11a642' size='6'> **Построение моделей машинного обучения**"
      ]
    },
    {
      "cell_type": "markdown",
      "metadata": {
        "id": "rrow0r8B7rEa"
      },
      "source": [
        "## <font color='#11a642' size='5'> Построение логистической регрессии"
      ]
    },
    {
      "cell_type": "code",
      "execution_count": 17,
      "metadata": {
        "id": "VCOomVx_7wGJ"
      },
      "outputs": [],
      "source": [
        "# ваш код\n",
        "\n",
        "from sklearn.linear_model import LogisticRegression\n",
        "\n",
        "model1 = LogisticRegression(max_iter=1000, random_state=42)\n",
        "model1.fit(X_train, y_train)\n",
        "y_pred1 = model1.predict(X_test)"
      ]
    },
    {
      "cell_type": "markdown",
      "metadata": {
        "id": "qVcvKURqH6_Q"
      },
      "source": [
        "## <font color='#11a642' size='5'> Построение логистической регрессии с регуляризацией\n",
        "> можно использовать [LogisticRegression](https://scikit-learn.org/stable/modules/generated/sklearn.linear_model.LogisticRegression.html#sklearn.linear_model.LogisticRegression), настроив гиперпараметры penalty и C"
      ]
    },
    {
      "cell_type": "code",
      "execution_count": 41,
      "metadata": {
        "id": "5ofnnLUFIeZO"
      },
      "outputs": [],
      "source": [
        "# ваш код\n",
        "\n",
        "# Создаем модель логистической регрессии с регуляризацией\n",
        "model2 = LogisticRegression(\n",
        "    penalty='l1', C=1, solver='liblinear', max_iter=1000)\n",
        "model2.fit(X_train, y_train)\n",
        "y_pred2 = model2.predict(X_test)\n"
      ]
    },
    {
      "cell_type": "markdown",
      "metadata": {
        "id": "4Zp161nI7-JH"
      },
      "source": [
        "### <font color='#11a642' size='4'> Оценка качества  всех моделей\n"
      ]
    },
    {
      "cell_type": "code",
      "execution_count": 42,
      "metadata": {
        "id": "wKqxU2Cx8ESV"
      },
      "outputs": [
        {
          "name": "stdout",
          "output_type": "stream",
          "text": [
            "=== Модель 1 (без регуляризации) ===\n",
            "Accuracy: 0.7884\n",
            "Confusion Matrix:\n",
            "[[26023     0]\n",
            " [ 6984     0]]\n",
            "Classification Report:\n",
            "              precision    recall  f1-score   support\n",
            "\n",
            "           0       0.79      1.00      0.88     26023\n",
            "           1       0.00      0.00      0.00      6984\n",
            "\n",
            "    accuracy                           0.79     33007\n",
            "   macro avg       0.39      0.50      0.44     33007\n",
            "weighted avg       0.62      0.79      0.70     33007\n",
            "\n",
            "\n",
            "========================================\n",
            "\n",
            "=== Модель 2 (с регуляризацией) ===\n",
            "Accuracy: 0.8333\n",
            "Confusion Matrix:\n",
            "[[24850  1173]\n",
            " [ 4328  2656]]\n",
            "Classification Report:\n",
            "              precision    recall  f1-score   support\n",
            "\n",
            "           0       0.85      0.95      0.90     26023\n",
            "           1       0.69      0.38      0.49      6984\n",
            "\n",
            "    accuracy                           0.83     33007\n",
            "   macro avg       0.77      0.67      0.70     33007\n",
            "weighted avg       0.82      0.83      0.81     33007\n",
            "\n"
          ]
        }
      ],
      "source": [
        "# ваш код\n",
        "\n",
        "from sklearn.metrics import accuracy_score, confusion_matrix, classification_report\n",
        "\n",
        "# Оценка модели без регуляризации\n",
        "print(\"=== Модель 1 (без регуляризации) ===\")\n",
        "print(f\"Accuracy: {accuracy_score(y_test, y_pred1):.4f}\")\n",
        "print(\"Confusion Matrix:\")\n",
        "print(confusion_matrix(y_test, y_pred1))\n",
        "print(\"Classification Report:\")\n",
        "print(classification_report(y_test, y_pred1, zero_division=0))\n",
        "\n",
        "print(\"\\n\" + \"=\"*40 + \"\\n\")\n",
        "\n",
        "# Оценка модели с регуляризацией\n",
        "print(\"=== Модель 2 (с регуляризацией) ===\")\n",
        "print(f\"Accuracy: {accuracy_score(y_test, y_pred2):.4f}\")\n",
        "print(\"Confusion Matrix:\")\n",
        "print(confusion_matrix(y_test, y_pred2))\n",
        "print(\"Classification Report:\")\n",
        "print(classification_report(y_test, y_pred2, zero_division=0))"
      ]
    },
    {
      "cell_type": "markdown",
      "metadata": {
        "id": "WYkuh5P2Xzsi"
      },
      "source": [
        "# <font color='#11a642' size='4'> Ваши выводы\n",
        "- какую из моделей вы рекомендуете использовать для прогноза? Почему?\n",
        "\n"
      ]
    },
    {
      "cell_type": "markdown",
      "metadata": {
        "id": "PfUdvkkTHjqm"
      },
      "source": [
        "ВАШ ОТВЕТ"
      ]
    },
    {
      "cell_type": "markdown",
      "metadata": {},
      "source": [
        "Рекомендую модель с регуляризацией, так как она демонстрирует более высокую точность и сбалансированные метрики."
      ]
    }
  ],
  "metadata": {
    "colab": {
      "provenance": []
    },
    "kernelspec": {
      "display_name": ".venv",
      "language": "python",
      "name": "python3"
    },
    "language_info": {
      "codemirror_mode": {
        "name": "ipython",
        "version": 3
      },
      "file_extension": ".py",
      "mimetype": "text/x-python",
      "name": "python",
      "nbconvert_exporter": "python",
      "pygments_lexer": "ipython3",
      "version": "3.12.0"
    }
  },
  "nbformat": 4,
  "nbformat_minor": 0
}
