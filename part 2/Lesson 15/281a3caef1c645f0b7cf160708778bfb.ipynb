{
  "cells": [
    {
      "cell_type": "code",
      "execution_count": 1,
      "metadata": {
        "id": "BkmEQf7oMtai"
      },
      "outputs": [],
      "source": [
        "import pandas as pd\n",
        "import numpy as np\n",
        "from sklearn.model_selection import train_test_split\n",
        "from sklearn.linear_model import LogisticRegression, LinearRegression\n",
        "from sklearn.metrics import roc_auc_score\n",
        "\n",
        "import seaborn as sns\n",
        "from sklearn.datasets import fetch_openml"
      ]
    },
    {
      "cell_type": "code",
      "execution_count": 2,
      "metadata": {
        "id": "qJ2GmzIwMw6t"
      },
      "outputs": [],
      "source": [
        "# --- 1. Загружаем данные\n",
        "try:\n",
        "  df = sns.load_dataset(\"titanic\")[['age', 'embarked', 'fare', 'sex', 'class', 'survived']]\n",
        "  df = df.dropna(subset=['fare', 'sex', 'class', 'survived'])  # удалим строки с критическими пропусками\n",
        "except:\n",
        "  !gdown 1iLZLfioJK9kLlhXURCS_9nqalp5IEGFG\n",
        "  df = pd.read_csv('/content/short_titanic.csv')\n"
      ]
    },
    {
      "cell_type": "code",
      "execution_count": 3,
      "metadata": {
        "colab": {
          "base_uri": "https://localhost:8080/"
        },
        "id": "-0QYk3ZeOmxp",
        "outputId": "b033c18a-61b2-4b9f-bbf3-c4ff625145fc"
      },
      "outputs": [
        {
          "name": "stdout",
          "output_type": "stream",
          "text": [
            "(891, 6) 0.3838383838383838\n",
            "(712, 6) 0.4044943820224719\n",
            "всего удалили 179\n"
          ]
        }
      ],
      "source": [
        "# --- Метод 1: Удаление строк с пропусками\n",
        "print(df.shape, df['survived'].mean())\n",
        "df1 = df.dropna()\n",
        "print(df1.shape, df1['survived'].mean())\n",
        "print(f'всего удалили {df.shape[0] - df1.shape[0]}')\n",
        "X1 = pd.get_dummies(df1.drop(columns='survived'), drop_first=True)\n",
        "y1 = df1['survived']\n",
        "X_train, X_test, y_train, y_test = train_test_split(X1, y1, test_size=0.2, random_state=0)\n",
        "model = LogisticRegression(max_iter=1000)\n",
        "model.fit(X_train, y_train)\n",
        "y_pred = model.predict(X_test)\n",
        "rocauc_dropna = roc_auc_score(y_test, y_pred)\n"
      ]
    },
    {
      "cell_type": "code",
      "execution_count": 4,
      "metadata": {
        "id": "K3r2dVLmOoQa"
      },
      "outputs": [],
      "source": [
        "# --- Метод 2: Простая импутация (медиана и \"Missing\")\n",
        "df2 = df.copy()\n",
        "df2['age'] = df2['age'].fillna(df2['age'].median())\n",
        "df2['embarked'] = df2['embarked'].fillna('Missing')\n",
        "X2 = pd.get_dummies(df2.drop(columns='survived'), drop_first=True)\n",
        "y2 = df2['survived']\n",
        "X_train, X_test, y_train, y_test = train_test_split(X2, y2, test_size=0.2, random_state=0)\n",
        "model = LogisticRegression(max_iter=1000)\n",
        "model.fit(X_train, y_train)\n",
        "y_pred = model.predict(X_test)\n",
        "rocauc_simple = roc_auc_score(y_test, y_pred)"
      ]
    },
    {
      "cell_type": "code",
      "execution_count": 5,
      "metadata": {
        "id": "7RWOO_AnOqYa"
      },
      "outputs": [],
      "source": [
        "# --- Метод 3: Импутация + флаги пропусков\n",
        "df3 = df.copy()\n",
        "df3['age_missing'] = df3['age'].isna().astype(int)\n",
        "df3['embarked_missing'] = df3['embarked'].isna().astype(int)\n",
        "df3['age'] = df3['age'].fillna(df3['age'].median())\n",
        "df3['embarked'] = df3['embarked'].fillna('Missing')\n",
        "X3 = pd.get_dummies(df3.drop(columns='survived'), drop_first=True)\n",
        "y3 = df3['survived']\n",
        "X_train, X_test, y_train, y_test = train_test_split(X3, y3, test_size=0.2, random_state=0)\n",
        "model = LogisticRegression(max_iter=1000)\n",
        "model.fit(X_train, y_train)\n",
        "y_pred = model.predict(X_test)\n",
        "rocauc_flagged = roc_auc_score(y_test, y_pred)"
      ]
    },
    {
      "cell_type": "code",
      "execution_count": 6,
      "metadata": {
        "id": "_GyBdRpdOtJs"
      },
      "outputs": [],
      "source": [
        "# --- Метод 4: Импутация с помощью линейной регрессии\n",
        "\n",
        "df4 = df.copy()\n",
        "\n",
        "# Для регрессии возраста нужно one-hot кодировать категориальные признаки\n",
        "# Сначала заполняем пропуски в embarked для удобства\n",
        "df4['embarked'] = df4['embarked'].fillna('Missing')\n",
        "\n",
        "# Делим на части с известным и неизвестным возрастом\n",
        "df_age_train = df4[df4['age'].notna()]\n",
        "df_age_pred = df4[df4['age'].isna()]\n",
        "\n",
        "# One-hot кодирование для признаков, используемых в регрессии\n",
        "X_age_train = pd.get_dummies(df_age_train[['fare', 'sex', 'class', 'embarked']], drop_first=True)\n",
        "y_age_train = df_age_train['age']\n",
        "\n",
        "X_age_pred = pd.get_dummies(df_age_pred[['fare', 'sex', 'class', 'embarked']], drop_first=True)\n",
        "\n",
        "# Выровнять колонки у X_age_pred относительно X_age_train (если есть несоответствия)\n",
        "X_age_pred = X_age_pred.reindex(columns=X_age_train.columns, fill_value=0)\n",
        "\n",
        "# Обучаем линейную регрессию\n",
        "linreg = LinearRegression()\n",
        "linreg.fit(X_age_train, y_age_train)\n",
        "\n",
        "# Предсказываем пропущенный возраст\n",
        "predicted_ages = linreg.predict(X_age_pred)\n",
        "df4.loc[df4['age'].isna(), 'age'] = predicted_ages\n",
        "\n",
        "# Теперь готовим данные для классификации\n",
        "X4 = pd.get_dummies(df4.drop(columns='survived'), drop_first=True)\n",
        "y4 = df4['survived']\n",
        "\n",
        "X_train, X_test, y_train, y_test = train_test_split(X4, y4, test_size=0.2, random_state=0)\n",
        "model = LogisticRegression(max_iter=1000)\n",
        "model.fit(X_train, y_train)\n",
        "y_pred = model.predict(X_test)\n",
        "rocauc_predicted = roc_auc_score(y_test, y_pred)"
      ]
    },
    {
      "cell_type": "code",
      "execution_count": 7,
      "metadata": {
        "colab": {
          "base_uri": "https://localhost:8080/"
        },
        "id": "Z6ugeDjOOGrV",
        "outputId": "dc2e3535-c9c5-45f3-9b9b-fa1fd186ad46"
      },
      "outputs": [
        {
          "name": "stdout",
          "output_type": "stream",
          "text": [
            "Метод 1 (удаление строк):          Roc Auc = 0.806\n",
            "Метод 2 (простая импутация):       Roc Auc = 0.781\n",
            "Метод 3 (импутация + флаги):       Roc Auc = 0.792\n",
            "Метод 4 (импутация линейной регрессией): Roc Auc = 0.778\n"
          ]
        }
      ],
      "source": [
        "# --- Итоговые результаты\n",
        "print(\"Метод 1 (удаление строк):          Roc Auc =\", round(rocauc_dropna, 3))\n",
        "print(\"Метод 2 (простая импутация):       Roc Auc =\", round(rocauc_simple, 3))\n",
        "print(\"Метод 3 (импутация + флаги):       Roc Auc =\", round(rocauc_flagged, 3))\n",
        "print(\"Метод 4 (импутация линейной регрессией): Roc Auc =\", round(rocauc_predicted, 3))\n"
      ]
    }
  ],
  "metadata": {
    "colab": {
      "provenance": []
    },
    "kernelspec": {
      "display_name": ".venv",
      "language": "python",
      "name": "python3"
    },
    "language_info": {
      "codemirror_mode": {
        "name": "ipython",
        "version": 3
      },
      "file_extension": ".py",
      "mimetype": "text/x-python",
      "name": "python",
      "nbconvert_exporter": "python",
      "pygments_lexer": "ipython3",
      "version": "3.12.0"
    }
  },
  "nbformat": 4,
  "nbformat_minor": 0
}
