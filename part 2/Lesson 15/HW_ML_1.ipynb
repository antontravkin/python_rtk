{
  "cells": [
    {
      "cell_type": "markdown",
      "metadata": {
        "id": "jZOR9Y3YtJd6"
      },
      "source": [
        "<font color='green' size='6'>**Домашняя работа 1**</font>  \n",
        "<font color='#11a642' size='5'>**Тема: Машинное обучение**</font>  \n",
        "<font size='5'>**Задание:**</font>  \n",
        "\n",
        "Домашняя работа основана на данных о стоимости недвижимости.\n",
        "\n",
        "**Описание данных:**\n",
        "\n",
        "| Признак     | Описание                                                 |\n",
        "|-------------|-----------------------------------------------------------|\n",
        "| MedInc      | Средний доход домохозяйства (в десятках тысяч долларов)  |\n",
        "| HouseAge    | Средний возраст домов в районе                           |\n",
        "| AveRooms    | Среднее количество комнат на дом                         |\n",
        "| AveBedrms   | Среднее количество спален на дом                         |\n",
        "| Population  | Население района                                         |\n",
        "| AveOccup    | Среднее количество человек на дом                        |\n",
        "\n",
        "- target - стомиость недвижимости, что и нужно вам предсказать (это и есть целевой признак)\n",
        "\n",
        "**Что нужно сделать:**\n",
        "\n",
        "1. Проведите разведочный анализ данных (EDA)\n",
        "\n",
        "2. Заполнить пропуски любыми 2 способами, что обсуждали на лекции. Объясните свой выбор\n",
        "\n",
        "3. Построите модель линейной регрессии c помощью LinearRegression.\n",
        "\n",
        "4. Оцените качество моделей. Выберите ту модель+метод заполнения пропусков, который даёт наилучший результат, и обоснуйте свой выбор.\n",
        "\n",
        "\n",
        "\n",
        "\n",
        "\n"
      ]
    },
    {
      "cell_type": "markdown",
      "metadata": {
        "id": "zSuKyjSxvt0D"
      },
      "source": [
        "# <font color='#11a642' size='6'> **Импорт и установка библиотек**"
      ]
    },
    {
      "cell_type": "code",
      "execution_count": 24,
      "metadata": {
        "id": "3a9Myq9OFN0s"
      },
      "outputs": [],
      "source": [
        "import pandas as pd\n"
      ]
    },
    {
      "cell_type": "markdown",
      "metadata": {
        "id": "MPOq6MYFFayE"
      },
      "source": [
        "# <font color='#11a642' size='6'> **Загрузка данных**"
      ]
    },
    {
      "cell_type": "code",
      "execution_count": 25,
      "metadata": {
        "colab": {
          "base_uri": "https://localhost:8080/"
        },
        "id": "2ULMdLROCJnJ",
        "outputId": "3bcc56c2-6a5e-4573-c60a-2f4358b73c4d"
      },
      "outputs": [
        {
          "name": "stdout",
          "output_type": "stream",
          "text": [
            "Downloading...\n",
            "From: https://drive.google.com/uc?id=1yQgwqFxwkHtZL2PZ2waF4Pg3Sb9hyHo9\n",
            "To: /Users/antontravkin/Sites/python_rtk/part 2/Lesson 15/df_with_nan.csv\n",
            "100%|██████████████████████████████████████| 1.16M/1.16M [00:00<00:00, 5.32MB/s]\n"
          ]
        }
      ],
      "source": [
        "# 1. Загрузка датасета\n",
        "!gdown 1yQgwqFxwkHtZL2PZ2waF4Pg3Sb9hyHo9\n"
      ]
    },
    {
      "cell_type": "code",
      "execution_count": 26,
      "metadata": {
        "id": "44_n6F8HUL_q"
      },
      "outputs": [],
      "source": [
        "df = pd.read_csv('df_with_nan.csv')"
      ]
    },
    {
      "cell_type": "code",
      "execution_count": 27,
      "metadata": {
        "colab": {
          "base_uri": "https://localhost:8080/",
          "height": 206
        },
        "id": "uDCXN9-3UPJh",
        "outputId": "949235b6-5aad-43ab-d2b6-7211780fbaef"
      },
      "outputs": [
        {
          "data": {
            "text/html": [
              "<div>\n",
              "<style scoped>\n",
              "    .dataframe tbody tr th:only-of-type {\n",
              "        vertical-align: middle;\n",
              "    }\n",
              "\n",
              "    .dataframe tbody tr th {\n",
              "        vertical-align: top;\n",
              "    }\n",
              "\n",
              "    .dataframe thead th {\n",
              "        text-align: right;\n",
              "    }\n",
              "</style>\n",
              "<table border=\"1\" class=\"dataframe\">\n",
              "  <thead>\n",
              "    <tr style=\"text-align: right;\">\n",
              "      <th></th>\n",
              "      <th>MedInc</th>\n",
              "      <th>HouseAge</th>\n",
              "      <th>AveRooms</th>\n",
              "      <th>AveBedrms</th>\n",
              "      <th>Population</th>\n",
              "      <th>AveOccup</th>\n",
              "      <th>Target</th>\n",
              "    </tr>\n",
              "  </thead>\n",
              "  <tbody>\n",
              "    <tr>\n",
              "      <th>0</th>\n",
              "      <td>8.3252</td>\n",
              "      <td>41.0</td>\n",
              "      <td>6.984127</td>\n",
              "      <td>1.023810</td>\n",
              "      <td>322</td>\n",
              "      <td>2.555556</td>\n",
              "      <td>4.526</td>\n",
              "    </tr>\n",
              "    <tr>\n",
              "      <th>1</th>\n",
              "      <td>8.3014</td>\n",
              "      <td>21.0</td>\n",
              "      <td>6.238137</td>\n",
              "      <td>0.971880</td>\n",
              "      <td>2401</td>\n",
              "      <td>2.109842</td>\n",
              "      <td>3.585</td>\n",
              "    </tr>\n",
              "    <tr>\n",
              "      <th>2</th>\n",
              "      <td>7.2574</td>\n",
              "      <td>52.0</td>\n",
              "      <td>8.288136</td>\n",
              "      <td>1.073446</td>\n",
              "      <td>496</td>\n",
              "      <td>2.802260</td>\n",
              "      <td>3.521</td>\n",
              "    </tr>\n",
              "    <tr>\n",
              "      <th>3</th>\n",
              "      <td>5.6431</td>\n",
              "      <td>52.0</td>\n",
              "      <td>5.817352</td>\n",
              "      <td>1.073059</td>\n",
              "      <td>558</td>\n",
              "      <td>2.547945</td>\n",
              "      <td>3.413</td>\n",
              "    </tr>\n",
              "    <tr>\n",
              "      <th>4</th>\n",
              "      <td>3.8462</td>\n",
              "      <td>52.0</td>\n",
              "      <td>6.281853</td>\n",
              "      <td>1.081081</td>\n",
              "      <td>565</td>\n",
              "      <td>2.181467</td>\n",
              "      <td>3.422</td>\n",
              "    </tr>\n",
              "  </tbody>\n",
              "</table>\n",
              "</div>"
            ],
            "text/plain": [
              "   MedInc  HouseAge  AveRooms  AveBedrms  Population  AveOccup  Target\n",
              "0  8.3252      41.0  6.984127   1.023810         322  2.555556   4.526\n",
              "1  8.3014      21.0  6.238137   0.971880        2401  2.109842   3.585\n",
              "2  7.2574      52.0  8.288136   1.073446         496  2.802260   3.521\n",
              "3  5.6431      52.0  5.817352   1.073059         558  2.547945   3.413\n",
              "4  3.8462      52.0  6.281853   1.081081         565  2.181467   3.422"
            ]
          },
          "execution_count": 27,
          "metadata": {},
          "output_type": "execute_result"
        }
      ],
      "source": [
        "df.head() "
      ]
    },
    {
      "cell_type": "code",
      "execution_count": 28,
      "metadata": {
        "id": "dXltTmQ_UJBV"
      },
      "outputs": [],
      "source": [
        "# 2. Разделение признаков и целевой переменной\n",
        "X = df.drop('Target', axis=1)\n",
        "y = df['Target']"
      ]
    },
    {
      "cell_type": "code",
      "execution_count": 29,
      "metadata": {
        "colab": {
          "base_uri": "https://localhost:8080/",
          "height": 241
        },
        "id": "iAyFiPpQFS6u",
        "outputId": "929489a1-d8cd-418a-b38c-384e0d035fbb"
      },
      "outputs": [
        {
          "data": {
            "text/plain": [
              "0    4.526\n",
              "1    3.585\n",
              "2    3.521\n",
              "3    3.413\n",
              "4    3.422\n",
              "Name: Target, dtype: float64"
            ]
          },
          "execution_count": 29,
          "metadata": {},
          "output_type": "execute_result"
        }
      ],
      "source": [
        "y.head()"
      ]
    },
    {
      "cell_type": "markdown",
      "metadata": {
        "id": "j0mQVQAG4Hvb"
      },
      "source": [
        "# <font color='#11a642' size='6'> **Разведочный анализ данных**"
      ]
    },
    {
      "cell_type": "markdown",
      "metadata": {
        "id": "3sj3k-rB4L0J"
      },
      "source": [
        "## <font color='#11a642' size='5'> Оцените размер вашего датасета\n",
        "\n",
        "\n",
        "1.   Сколько ГБ ваш датасет\n",
        "2.   Сколько строк и столбцов\n",
        "\n"
      ]
    },
    {
      "cell_type": "code",
      "execution_count": 30,
      "metadata": {
        "id": "yU6WkgQ7u6-z"
      },
      "outputs": [
        {
          "name": "stdout",
          "output_type": "stream",
          "text": [
            "Размер файла: 0.0011 ГБ\n"
          ]
        }
      ],
      "source": [
        "# Сколько ГБ ваш датасет\n",
        "# ваш код\n",
        "import os\n",
        "filename = 'df_with_nan.csv'\n",
        "\n",
        "# Получаем размер файла в байтах\n",
        "size_bytes = os.path.getsize(filename)\n",
        "\n",
        "# Переводим в гигабайты\n",
        "file_size_gb = size_bytes / (1024 ** 3)\n",
        "\n",
        "print(f\"Размер файла: {file_size_gb:.4f} ГБ\")"
      ]
    },
    {
      "cell_type": "code",
      "execution_count": 31,
      "metadata": {
        "id": "JG6g0Gfa57EZ"
      },
      "outputs": [
        {
          "name": "stdout",
          "output_type": "stream",
          "text": [
            "Строк: 20640, Столбцов: 7\n"
          ]
        }
      ],
      "source": [
        "# Сколько строк и столбцов\n",
        "# ваш код\n",
        "\n",
        "print(f\"Строк: {df.shape[0]}, Столбцов: {df.shape[1]}\")"
      ]
    },
    {
      "cell_type": "markdown",
      "metadata": {
        "id": "92Mhtpl3ePaj"
      },
      "source": [
        "## <font color='#11a642' size='5'> Анализ числовых (непрерывных) признаков\n"
      ]
    },
    {
      "cell_type": "markdown",
      "metadata": {
        "id": "uM8pFd48OB9e"
      },
      "source": [
        "- для каждого признака посчитайте минимум, максимум, среднее, медиану"
      ]
    },
    {
      "cell_type": "code",
      "execution_count": 32,
      "metadata": {
        "id": "xcfXdchyeV77"
      },
      "outputs": [
        {
          "name": "stdout",
          "output_type": "stream",
          "text": [
            "                 min           max         mean       median\n",
            "MedInc      0.499900     15.000100     3.870444     3.534900\n",
            "HouseAge    1.000000     52.000000    28.627660    29.000000\n",
            "AveRooms    0.846154    141.909091     5.428796     5.228856\n",
            "AveBedrms   0.333333     34.066667     1.096675     1.048780\n",
            "Population  3.000000  35682.000000  1425.476744  1166.000000\n",
            "AveOccup    0.692308   1243.333333     3.070655     2.818116\n",
            "Target      0.149990      5.000010     2.068558     1.797000\n"
          ]
        }
      ],
      "source": [
        "# ваш код\n",
        "# Оставляем только числовые столбцы\n",
        "\n",
        "numeric_df = df.select_dtypes(include='number')\n",
        "\n",
        "# Считаем нужную статистику\n",
        "summary = pd.DataFrame({\n",
        "    'min': numeric_df.min(),\n",
        "    'max': numeric_df.max(),\n",
        "    'mean': numeric_df.mean(),\n",
        "    'median': numeric_df.median()\n",
        "})\n",
        "\n",
        "# Выводим результат\n",
        "print(summary)"
      ]
    },
    {
      "cell_type": "markdown",
      "metadata": {
        "id": "kvgXZ_1C6jFH"
      },
      "source": [
        "## <font color='#11a642' size='5'> Анализ пропусков\n"
      ]
    },
    {
      "cell_type": "code",
      "execution_count": 33,
      "metadata": {
        "id": "5UljiSaQ6k_r"
      },
      "outputs": [
        {
          "name": "stdout",
          "output_type": "stream",
          "text": [
            "            missing_count  missing_percent\n",
            "MedInc                 11         0.053295\n",
            "HouseAge               11         0.053295\n",
            "AveRooms               15         0.072674\n",
            "AveBedrms               0         0.000000\n",
            "Population              0         0.000000\n",
            "AveOccup                0         0.000000\n",
            "Target                  0         0.000000\n"
          ]
        }
      ],
      "source": [
        "# ваш код\n",
        "\n",
        "# Количество пропусков в каждом столбце\n",
        "missing_counts = df.isna().sum()\n",
        "\n",
        "# Процент пропусков в каждом столбце\n",
        "missing_percent = (missing_counts / len(df)) * 100\n",
        "\n",
        "# Собираем в таблицу\n",
        "missing_summary = pd.DataFrame({\n",
        "    'missing_count': missing_counts,\n",
        "    'missing_percent': missing_percent\n",
        "})\n",
        "\n",
        "print(missing_summary)"
      ]
    },
    {
      "cell_type": "markdown",
      "metadata": {
        "id": "cd-lxD1y6v0Q"
      },
      "source": [
        "# <font color='#11a642' size='6'> **Разделите данные на трейн и тест**"
      ]
    },
    {
      "cell_type": "code",
      "execution_count": 34,
      "metadata": {
        "id": "3fHwY-2J7PXr"
      },
      "outputs": [
        {
          "name": "stdout",
          "output_type": "stream",
          "text": [
            "Размер X_train: (14448, 6)\n",
            "Размер X_test: (6192, 6)\n",
            "Размер y_train: (14448,)\n",
            "Размер y_test: (6192,)\n"
          ]
        }
      ],
      "source": [
        "# ваш код\n",
        "from sklearn.model_selection import train_test_split\n",
        "\n",
        "X_train, X_test, y_train, y_test = train_test_split(\n",
        "    X, y, random_state=42, test_size=0.3)\n",
        "\n",
        "print(f\"Размер X_train: {X_train.shape}\")\n",
        "print(f\"Размер X_test: {X_test.shape}\")\n",
        "print(f\"Размер y_train: {y_train.shape}\")\n",
        "print(f\"Размер y_test: {y_test.shape}\")"
      ]
    },
    {
      "cell_type": "markdown",
      "metadata": {
        "id": "bvhVO_Sl7RH3"
      },
      "source": [
        "# <font color='#11a642' size='6'> **Подготовка данных к обучению**"
      ]
    },
    {
      "cell_type": "markdown",
      "metadata": {
        "id": "QnLudVXy7XzV"
      },
      "source": [
        "\n",
        "\n",
        "1. Обработка пропусков любыми 2 способами, изученных на лекции\n",
        "\n",
        "\n"
      ]
    },
    {
      "cell_type": "code",
      "execution_count": 35,
      "metadata": {
        "id": "M_pqEovt7WMc"
      },
      "outputs": [],
      "source": [
        "# --- Вариант 1: удаление строк с пропусками ---\n",
        "X_train_dropna = X_train.dropna()\n",
        "y_train_dropna = y_train.loc[X_train_dropna.index]\n",
        "\n",
        "y_test_dropna = y_test.loc[X_test.dropna().index]\n",
        "X_test_dropna = X_test.loc[y_test_dropna.index]\n",
        "\n",
        "# --- Вариант 2: заполнение медианой ---\n",
        "X_train_impute = X_train.copy()\n",
        "X_test_impute = X_test.copy()\n",
        "for col in X_train.columns:\n",
        "    median_val = X_train[col].median()\n",
        "    X_train_impute[col] = X_train[col].fillna(median_val)\n",
        "    X_test_impute[col] = X_test[col].fillna(median_val)\n",
        "    X_test_impute[col] = X_test_impute[col].fillna(median_val)"
      ]
    },
    {
      "cell_type": "markdown",
      "metadata": {
        "id": "CnibZvco7i1o"
      },
      "source": [
        "# <font color='#11a642' size='6'> **Построение моделей машинного обучения**"
      ]
    },
    {
      "cell_type": "markdown",
      "metadata": {
        "id": "rrow0r8B7rEa"
      },
      "source": [
        "## <font color='#11a642' size='5'> Построение линейной регрессии с помощью LinearRegression\n"
      ]
    },
    {
      "cell_type": "code",
      "execution_count": 36,
      "metadata": {
        "id": "VCOomVx_7wGJ"
      },
      "outputs": [],
      "source": [
        "from sklearn.linear_model import LinearRegression\n",
        "\n",
        "# --- Модель на данных с удалением пропусков ---\n",
        "\n",
        "# Обучаем модель на данных без пропусков\n",
        "model_dropna = LinearRegression()\n",
        "model_dropna.fit(X_train_dropna, y_train_dropna)\n",
        "\n",
        "# Предсказываем\n",
        "y_pred_dropna = model_dropna.predict(X_test_dropna)\n",
        "\n",
        "# Обучаем модель на данных с импутацией\n",
        "model_impute = LinearRegression()\n",
        "model_impute.fit(X_train_impute, y_train)\n",
        "\n",
        "# Предсказываем\n",
        "y_pred_impute = model_impute.predict(X_test_impute)"
      ]
    },
    {
      "cell_type": "markdown",
      "metadata": {
        "id": "4Zp161nI7-JH"
      },
      "source": [
        "### <font color='#11a642' size='4'> Оценка качества  всех моделей\n"
      ]
    },
    {
      "cell_type": "code",
      "execution_count": 37,
      "metadata": {
        "id": "wKqxU2Cx8ESV"
      },
      "outputs": [
        {
          "name": "stdout",
          "output_type": "stream",
          "text": [
            "Модель с удалением пропусков:\n",
            "MSE: 0.6171\n",
            "R2: 0.5303\n",
            "\n",
            "Модель с импутацией пропусков:\n",
            "MSE: 0.6167\n",
            "R2: 0.5301\n"
          ]
        }
      ],
      "source": [
        "from sklearn.metrics import mean_squared_error, r2_score\n",
        "\n",
        "# Для модели с удалением пропусков\n",
        "mse_dropna = mean_squared_error(y_test_dropna, y_pred_dropna)\n",
        "r2_dropna = r2_score(y_test_dropna, y_pred_dropna)\n",
        "\n",
        "print(\"Модель с удалением пропусков:\")\n",
        "print(f\"MSE: {mse_dropna:.4f}\")\n",
        "print(f\"R2: {r2_dropna:.4f}\")\n",
        "\n",
        "# Для модели с импутацией (указываем y_test по индексам X_test_impute)\n",
        "mse_impute = mean_squared_error(y_test.loc[X_test_impute.index], y_pred_impute)\n",
        "r2_impute = r2_score(y_test.loc[X_test_impute.index], y_pred_impute)\n",
        "\n",
        "print(\"\\nМодель с импутацией пропусков:\")\n",
        "print(f\"MSE: {mse_impute:.4f}\")\n",
        "print(f\"R2: {r2_impute:.4f}\")"
      ]
    },
    {
      "cell_type": "markdown",
      "metadata": {
        "id": "WYkuh5P2Xzsi"
      },
      "source": [
        "# <font color='#11a642' size='4'> Ваши выводы\n",
        "- какую из моделей вы рекомендуете использовать для прогноза? Почему?\n",
        "\n"
      ]
    },
    {
      "cell_type": "markdown",
      "metadata": {
        "id": "PfUdvkkTHjqm"
      },
      "source": [
        "ВАШ ОТВЕТ"
      ]
    },
    {
      "cell_type": "code",
      "execution_count": 38,
      "metadata": {},
      "outputs": [
        {
          "name": "stdout",
          "output_type": "stream",
          "text": [
            "\n",
            "Импутация пропусков дала лучший результат.\n"
          ]
        }
      ],
      "source": [
        "# Сравнение\n",
        "if mse_impute < mse_dropna:\n",
        "    print(\"\\nИмпутация пропусков дала лучший результат.\")\n",
        "else:\n",
        "    print(\"\\nУдаление строк с пропусками дало лучший результат.\")"
      ]
    },
    {
      "cell_type": "code",
      "execution_count": null,
      "metadata": {},
      "outputs": [
        {
          "data": {
            "image/png": "[encoded data removed]",
            "text/plain": [
              "<Figure size 800x600 with 1 Axes>"
            ]
          },
          "metadata": {},
          "output_type": "display_data"
        }
      ],
      "source": [
        "import pandas as pd\n",
        "import numpy as np\n",
        "import matplotlib.pyplot as plt\n",
        "import seaborn as sns\n",
        "from sklearn.model_selection import train_test_split\n",
        "from sklearn.linear_model import LinearRegression\n",
        "from sklearn.metrics import mean_squared_error, r2_score, roc_auc_score, roc_curve\n",
        "\n",
        "df_dropna = df.dropna()\n",
        "X_dropna = df_dropna.drop(columns=[\"Target\"])\n",
        "y_dropna = df_dropna[\"Target\"]\n",
        "\n",
        "df_impute = df.copy()\n",
        "for col in df_impute.columns:\n",
        "    if df_impute[col].isnull().any():\n",
        "        df_impute[col] = df_impute[col].fillna(df_impute[col].median())\n",
        "\n",
        "X_impute = df_impute.drop(columns=[\"Target\"])\n",
        "y_impute = df_impute[\"Target\"]\n",
        "\n",
        "# Разделение данных\n",
        "X_train_d, X_test_d, y_train_d, y_test_d = train_test_split(\n",
        "    X_dropna, y_dropna, test_size=0.3, random_state=42)\n",
        "X_train_i, X_test_i, y_train_i, y_test_i = train_test_split(\n",
        "    X_impute, y_impute, test_size=0.3, random_state=42)\n",
        "\n",
        "# Линейная регрессия\n",
        "model_d = LinearRegression().fit(X_train_d, y_train_d)\n",
        "y_pred_d = model_d.predict(X_test_d)\n",
        "\n",
        "model_i = LinearRegression().fit(X_train_i, y_train_i)\n",
        "y_pred_i = model_i.predict(X_test_i)\n",
        "\n",
        "# Бинаризация таргета (пример)\n",
        "threshold = 2.5\n",
        "y_test_bin = (y_test_d > threshold).astype(int)\n",
        "y_pred_bin = (y_pred_d > threshold).astype(int)\n",
        "\n",
        "fpr_test, tpr_test, _ = roc_curve(y_test_bin, y_pred_bin)\n",
        "fpr_train, tpr_train, _ = roc_curve((y_train_d > threshold).astype(int),\n",
        "                                    (model_d.predict(X_train_d) > threshold).astype(int))\n",
        "\n",
        "plt.figure(figsize=(8, 6))\n",
        "plt.plot(fpr_test, tpr_test, label=\"Test ROC\", color='blue')\n",
        "plt.plot(fpr_train, tpr_train, label=\"Train ROC\", color='red')\n",
        "plt.plot([0, 1], [0, 1], linestyle='--', color='gray')\n",
        "plt.xlabel(\"False Positive Rate\")\n",
        "plt.ylabel(\"True Positive Rate\")\n",
        "plt.title(\"ROC Curve\")\n",
        "plt.legend()\n",
        "plt.grid()\n",
        "plt.show()"
      ]
    }
  ],
  "metadata": {
    "colab": {
      "provenance": []
    },
    "kernelspec": {
      "display_name": ".venv",
      "language": "python",
      "name": "python3"
    },
    "language_info": {
      "codemirror_mode": {
        "name": "ipython",
        "version": 3
      },
      "file_extension": ".py",
      "mimetype": "text/x-python",
      "name": "python",
      "nbconvert_exporter": "python",
      "pygments_lexer": "ipython3",
      "version": "3.12.0"
    }
  },
  "nbformat": 4,
  "nbformat_minor": 0
}
