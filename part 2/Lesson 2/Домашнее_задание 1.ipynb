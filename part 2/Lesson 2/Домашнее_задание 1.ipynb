{
  "cells": [
    {
      "cell_type": "markdown",
      "metadata": {},
      "source": [
        "# Домашнее задание № 1"
      ]
    },
    {
      "cell_type": "markdown",
      "metadata": {
        "id": "kbJt8TyMujxo"
      },
      "source": [
        "### Задание 1: Кодировщик Цезаря\n",
        "\n",
        "\n",
        "Описание:\n",
        "\n",
        "Напишите функцию, которая реализует кодирование строки шифром Цезаря. \n",
        "\n",
        "In:\n",
        "* строка\n",
        "* размер сдвига\n",
        "\n",
        "Out:\n",
        "* зашифрованная строка\n",
        "\n",
        "Ограничения: строка содержит только буквы русского алфавита"
      ]
    },
    {
      "cell_type": "code",
      "execution_count": 7,
      "metadata": {
        "colab": {
          "base_uri": "https://localhost:8080/"
        },
        "id": "oZgX9GMrugmO",
        "outputId": "71c5c052-c75b-4e89-ab28-56b6a29643cd"
      },
      "outputs": [],
      "source": [
        "letters=['А','Б','В','Г','Д','Е','Ж','З','И','Й',\n",
        "         'К','Л','М','Н','О','П','Р','С','Т','У',\n",
        "         'Ф','Х','Ц','Ч','Ш','Щ','Ъ','Ы','Ь','Э',\n",
        "         'Ю', 'Я']"
      ]
    },
    {
      "cell_type": "code",
      "execution_count": 8,
      "metadata": {},
      "outputs": [
        {
          "name": "stdout",
          "output_type": "stream",
          "text": [
            "Лхичвр лмфг\n"
          ]
        }
      ],
      "source": [
        "# Ваш код\n",
        "def caesar_cipher(text: str, shift: int) -> str:\n",
        "\n",
        "    shift %= len(letters)\n",
        "\n",
        "    def shift_char(char, alphabet):\n",
        "        if char in alphabet:\n",
        "            return alphabet[(alphabet.index(char) + shift) % len(alphabet)]\n",
        "        return char\n",
        "\n",
        "    result = []\n",
        "    for char in text:\n",
        "        if char.upper() in letters:  # Проверка для верхнего регистра\n",
        "            alphabet = letters\n",
        "            new_char = shift_char(char.upper(), alphabet)\n",
        "            result.append(new_char if char.isupper()\n",
        "                          else new_char.lower())  # Сохраняем регистр\n",
        "        elif char.lower() in letters:  # Проверка для нижнего регистра\n",
        "            alphabet = [l.lower() for l in letters]\n",
        "            new_char = shift_char(char.lower(), alphabet)\n",
        "            result.append(new_char)\n",
        "        else:\n",
        "            # Если это не буква, то добавляем символ как есть\n",
        "            result.append(char)\n",
        "\n",
        "    return \"\".join(result)\n",
        "\n",
        "\n",
        "print(caesar_cipher(\"Добрый день\", 7))"
      ]
    },
    {
      "cell_type": "markdown",
      "metadata": {
        "id": "7OjM3A7Ou7HR"
      },
      "source": [
        "### Задание 2: Дешифровщик Цезаря\n",
        "\n",
        "Описание:\n",
        "\n",
        "Напишите функцию, которая реализует декодирование строки, зашифрованной шифром Цезаря. \n",
        "\n",
        "In:\n",
        "* зашифрованная строка\n",
        "\n",
        "Out:\n",
        "* список кортежей (сдвиг, результат дешифровки)\n",
        "\n",
        "Ограничения: метод дешифрования - brute force =)"
      ]
    },
    {
      "cell_type": "code",
      "execution_count": 9,
      "metadata": {
        "colab": {
          "base_uri": "https://localhost:8080/"
        },
        "id": "c9LrLZKBusJ1",
        "outputId": "1146abe4-8c04-4047-8366-b985c7c6eac3"
      },
      "outputs": [
        {
          "name": "stdout",
          "output_type": "stream",
          "text": [
            "[(1, 'Кфзцбп клув'), (2, 'Йужхао йктб'), (3, 'Итефян ийса'), (4, 'Зсдуюм зиря'), (5, 'Жргтэл жзпю'), (6, 'Епвськ ежоэ'), (7, 'Добрый день'), (8, 'Гнапъи гдмы'), (9, 'Вмяощз вглъ'), (10, 'Блюншж бвкщ'), (11, 'Акэмче абйш'), (12, 'Яйьлцд яаич'), (13, 'Юиыкхг юязц'), (14, 'Эзъйфв эюжх'), (15, 'Ьжщиуб ьэеф'), (16, 'Ыешзта ыьду'), (17, 'Ъдчжся ъыгт'), (18, 'Щгцерю щъвс'), (19, 'Швхдпэ шщбр'), (20, 'Чбфгоь чшап'), (21, 'Цаувны цчяо'), (22, 'Хятбмъ хцюн'), (23, 'Фюсалщ фхэм'), (24, 'Уэрякш уфьл'), (25, 'Тьпюйч туык'), (26, 'Сыоэиц стъй'), (27, 'Ръньзх рсщи'), (28, 'Пщмыжф пршз'), (29, 'Ошлъеу опчж'), (30, 'Нчкщдт ноце'), (31, 'Мцйшгс мнхд'), (32, 'Лхичвр лмфг')]\n"
          ]
        }
      ],
      "source": [
        "# Ваш код\n",
        "def caesar_brute_force(ciphertext: str):\n",
        "\n",
        "    return [(shift, caesar_cipher(ciphertext, -shift)) for shift in range(1, len(letters) + 1)]\n",
        "\n",
        "\n",
        "print(caesar_brute_force(\"Лхичвр лмфг\"))"
      ]
    }
  ],
  "metadata": {
    "colab": {
      "provenance": []
    },
    "kernelspec": {
      "display_name": "Python 3",
      "language": "python",
      "name": "python3"
    },
    "language_info": {
      "codemirror_mode": {
        "name": "ipython",
        "version": 3
      },
      "file_extension": ".py",
      "mimetype": "text/x-python",
      "name": "python",
      "nbconvert_exporter": "python",
      "pygments_lexer": "ipython3",
      "version": "3.12.0"
    }
  },
  "nbformat": 4,
  "nbformat_minor": 0
}
