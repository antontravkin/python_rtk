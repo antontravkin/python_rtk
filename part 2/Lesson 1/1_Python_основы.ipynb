{
  "cells": [
    {
      "cell_type": "markdown",
      "metadata": {},
      "source": [
        "## Python основы"
      ]
    },
    {
      "cell_type": "markdown",
      "metadata": {},
      "source": [
        "### О Python"
      ]
    },
    {
      "cell_type": "code",
      "execution_count": null,
      "metadata": {},
      "outputs": [],
      "source": [
        "# версия\n",
        "!python --version"
      ]
    },
    {
      "cell_type": "code",
      "execution_count": null,
      "metadata": {},
      "outputs": [],
      "source": [
        "# PEP 8 и PEP 20\n",
        "import this"
      ]
    },
    {
      "cell_type": "markdown",
      "metadata": {},
      "source": [
        "### Переменные и типы данных"
      ]
    },
    {
      "cell_type": "markdown",
      "metadata": {},
      "source": [
        "Правила именования переменных:\n",
        "\n",
        "1.   a-Z, 0-9, _\n",
        "2.   Регистр важен\n",
        "3.   Осмысленное именование\n",
        "4.   Не использовать транслитерацию\n",
        "\n",
        "Стили именования:\n",
        "* camelCase -> myPersonAge\n",
        "* snake_case -> my_person_age\n",
        "* kebap-case -> my-person-age"
      ]
    },
    {
      "cell_type": "code",
      "execution_count": null,
      "metadata": {
        "id": "xP-_OtKxK_-I"
      },
      "outputs": [],
      "source": [
        "# \"Простые\" типы данных: \n",
        "name = \"Alice\"  # строка\n",
        "age = 25  # целое число\n",
        "height = 5.5  # число с плавающей точкой\n",
        "is_student = True  # логическое значение"
      ]
    },
    {
      "cell_type": "code",
      "execution_count": null,
      "metadata": {
        "colab": {
          "base_uri": "https://localhost:8080/",
          "height": 35
        },
        "id": "T0yjVnXoLE9f",
        "outputId": "2f67474d-25b8-422e-8f29-04d3abc8523a"
      },
      "outputs": [],
      "source": [
        "name = input(\"Нужно ввести имя:\")\n",
        "print(name)"
      ]
    },
    {
      "cell_type": "code",
      "execution_count": null,
      "metadata": {},
      "outputs": [],
      "source": [
        "num = input(\"Нужно ввести число:\")\n",
        "print(num)"
      ]
    },
    {
      "cell_type": "code",
      "execution_count": null,
      "metadata": {},
      "outputs": [],
      "source": [
        "# Возникнут ли ошибки? если да, то в какой строке/строках?\n",
        "# Что выведет последняя строка?\n",
        "print(str(123.1))\n",
        "print(int('123.1'))\n",
        "print(float('123.1'))\n",
        "print(bool('123.1'))"
      ]
    },
    {
      "cell_type": "code",
      "execution_count": null,
      "metadata": {},
      "outputs": [],
      "source": [
        "# Изменяемые (mutable) и НЕ изменяемые (immutable) типы данных\n",
        "\n",
        "my_var = 36\n",
        "print(\"Идентификатор ячейки памяти для переменной my_var: \", id(my_var))  # узнаем ячейку памяти компьютера\n",
        "\n",
        "new_var = my_var  # скопировали ссылку на область памяти my_var\n",
        "print(\"Идентификатор ячейки памяти для переменной my_var: \", id(my_var)) \n",
        "print(\"Идентификатор ячейки памяти для переменной new_var: \", id(new_var)) # у переменной b такая же ссылка на ячейку памяти, как и у my_var"
      ]
    },
    {
      "cell_type": "code",
      "execution_count": null,
      "metadata": {},
      "outputs": [],
      "source": [
        "new_var += 1  # изменили объект, а значит переложили его в другое место в памяти компьютера\n",
        "print(\"my_var =\", my_var) # а на самом деле изменили старый объект!\n",
        "print(\"new_var =\", new_var) \n",
        "print(\"Идентификатор ячейки памяти для переменной my_var: \", id(my_var)) \n",
        "print(\"Идентификатор ячейки памяти для переменной new_var: \", id(new_var)) "
      ]
    },
    {
      "cell_type": "code",
      "execution_count": null,
      "metadata": {},
      "outputs": [],
      "source": [
        "# Смотрите\n",
        "my_list = [1, 2, 3]\n",
        "new_list = my_list  # переложили ссылку в новую переменную\n",
        "print(\"my_list =\", my_list) # а на самом деле изменили старый объект!\n",
        "print(\"new_list =\", new_list) \n",
        "print(\"Идентификатор ячейки памяти для переменной my_list: \", id(my_list)) \n",
        "print(\"Идентификатор ячейки памяти для переменной new_list: \", id(new_list)) \n",
        "\n",
        "new_list[0] = 100 # поменяли объект по новой ссылке\n",
        "print(\"my_list =\", my_list) # а на самом деле изменили старый объект!\n",
        "print(\"new_list =\", new_list) \n",
        "print(\"Идентификатор ячейки памяти для переменной my_list: \", id(my_list)) \n",
        "print(\"Идентификатор ячейки памяти для переменной new_list: \", id(new_list)) "
      ]
    },
    {
      "cell_type": "markdown",
      "metadata": {},
      "source": [
        "* Все \"простые\" типы данных  - НЕ изменяемые (immutable)\n"
      ]
    },
    {
      "cell_type": "markdown",
      "metadata": {
        "id": "FWvfdS4kRFfe"
      },
      "source": [
        "### Математические и логические операторы"
      ]
    },
    {
      "cell_type": "code",
      "execution_count": null,
      "metadata": {
        "id": "_tlLygM-RNsK"
      },
      "outputs": [],
      "source": [
        "# Математические операторы\n",
        "sum_result = 10 + 3  # сложение\n",
        "difference = 10 - 3  # вычитание\n",
        "product = 10 * 3  # умножение\n",
        "quotient = 10 / 3  # деление\n",
        "remainder = 10 % 3  # остаток от деления\n",
        "remainder_ = 10 // 3  # остаток от деления (целочисленный)\n",
        "pow = 10 ** 3  # возведение в степень\n",
        "\n",
        "print(\"sum_result = \", sum_result)\n",
        "print(\"difference = \", difference)\n",
        "print(\"product = \", product)\n",
        "print(\"quotient = \", quotient)\n",
        "print(\"remainder = \", remainder)\n",
        "print(\"remainder_ = \", remainder_)\n",
        "print(\"pow = \", pow)\n",
        "\n",
        "# а как извлечь квадратный корень ???\n"
      ]
    },
    {
      "cell_type": "code",
      "execution_count": null,
      "metadata": {
        "id": "zI-WIgp7ScjC"
      },
      "outputs": [],
      "source": [
        "is_equal_1 = (10 == 5)  # False\n",
        "\n",
        "print(is_equal_1)\n",
        "\n",
        "type(is_equal_1)"
      ]
    },
    {
      "cell_type": "code",
      "execution_count": null,
      "metadata": {},
      "outputs": [],
      "source": [
        "# Логические операторы\n",
        "condition = (10 == 5) or (3>True) and not (2 == 3)\n",
        "print(condition)"
      ]
    },
    {
      "cell_type": "markdown",
      "metadata": {
        "id": "WtRcoyDfS4Gk"
      },
      "source": [
        "### Строки"
      ]
    },
    {
      "cell_type": "code",
      "execution_count": null,
      "metadata": {
        "colab": {
          "base_uri": "https://localhost:8080/"
        },
        "id": "zZqCRegqSexO",
        "outputId": "a3f40506-56be-41f4-8584-3c65eacc2b53"
      },
      "outputs": [],
      "source": [
        "# Конкатенация строк\n",
        "greeting = \"Привет\"\n",
        "name = 'Alice'\n",
        "questions = '''Как твои дела?\n",
        "Когда заглянешь в гости?'''\n",
        "\n",
        "message = greeting + \", \" + name + \"! \" + questions \n",
        "print(message)\n",
        "\n",
        "# Длина строки\n",
        "length = len(message)  \n",
        "print(\"Длина сообщения: \", length)\n",
        "\n",
        "# Умножение строк\n",
        "print(greeting*3)"
      ]
    },
    {
      "cell_type": "code",
      "execution_count": null,
      "metadata": {
        "colab": {
          "base_uri": "https://localhost:8080/"
        },
        "id": "0PPN3odQTC28",
        "outputId": "52675736-e054-4f0c-b01f-709d3851fbd7"
      },
      "outputs": [],
      "source": [
        "# F-строки\n",
        "message = f'{greeting}, {name}! {questions}'\n",
        "print(message)"
      ]
    },
    {
      "cell_type": "code",
      "execution_count": null,
      "metadata": {
        "colab": {
          "base_uri": "https://localhost:8080/"
        },
        "id": "FcIR0ZlyS-Ht",
        "outputId": "b8c5bc28-0432-4227-a11b-1731d719321a"
      },
      "outputs": [],
      "source": [
        "# работа с кодировкой\n",
        "print('строка')\n",
        "print('---------------------------------')\n",
        "\n",
        "print(bytes('строка', 'utf8'))\n",
        "print(bytes('строка', 'utf8').decode())\n",
        "print('---------------------------------')\n",
        "\n",
        "print('\\x5Cu0418\\x5Cu0432\\x5Cu0430\\x5Cu043d\\x5Cu043e\\x5Cu0432\\x5Cu043e'.encode('utf8'))\n",
        "print('\\x5Cu0418\\x5Cu0432\\x5Cu0430\\x5Cu043d\\x5Cu043e\\x5Cu0432\\x5Cu043e'.encode('utf8').decode('unicode_escape'))"
      ]
    },
    {
      "cell_type": "markdown",
      "metadata": {},
      "source": [
        "### Условный оператор"
      ]
    },
    {
      "cell_type": "code",
      "execution_count": null,
      "metadata": {},
      "outputs": [],
      "source": [
        "# Блок if-elif-else\n",
        "x = int(input(\"Введите значение переменной x\"))\n",
        "\n",
        "if x > 4:\n",
        "  print('x > 4')\n",
        "elif x < 4:\n",
        "  print('x < 4')\n",
        "else:\n",
        "  print('x = 4')"
      ]
    },
    {
      "cell_type": "code",
      "execution_count": null,
      "metadata": {},
      "outputs": [],
      "source": [
        "# Тернарный оператор\n",
        "print( 'x > 4' if x > 4 else 'x <= 4' )\n",
        "\n",
        "print( 'x > 4' if x > 4 else 'x <= 4' if x <= 4 else 'x = 4' )"
      ]
    },
    {
      "cell_type": "markdown",
      "metadata": {
        "id": "BoEHRvRfUl6E"
      },
      "source": [
        "### Циклы"
      ]
    },
    {
      "cell_type": "code",
      "execution_count": null,
      "metadata": {
        "colab": {
          "base_uri": "https://localhost:8080/"
        },
        "id": "-12YuhB4T3g3",
        "outputId": "5e127460-22d5-41fb-dd4a-4963beb36297"
      },
      "outputs": [],
      "source": [
        "# Цикл for\n",
        "for i in range(10):\n",
        "    print(i)"
      ]
    },
    {
      "cell_type": "code",
      "execution_count": null,
      "metadata": {
        "colab": {
          "base_uri": "https://localhost:8080/"
        },
        "id": "gZRFJlVFUpIY",
        "outputId": "29110f2b-025a-4d1b-92a9-143bc2b4dba8"
      },
      "outputs": [],
      "source": [
        "### Цикл while\n",
        "savings = 0\n",
        "goal = 1000\n",
        "while savings < goal:\n",
        "    savings += 100  # Добавляем по 100\n",
        "    print(f\"Текущие сбережения: {savings}, от нашей цели в {goal}\")"
      ]
    },
    {
      "cell_type": "markdown",
      "metadata": {},
      "source": [
        "break и continue и внезапный else\n",
        "* `break` - позволяет прервать цикл заранее, часто используется в сочетании с условным оператором,\n",
        "* `continue` - позволяет пропускать шаг исполнения цикла.\n",
        "* `else` - блок, в который попадаем, если не было break."
      ]
    },
    {
      "cell_type": "code",
      "execution_count": null,
      "metadata": {
        "colab": {
          "base_uri": "https://localhost:8080/"
        },
        "id": "GOmEmVubU3Jh",
        "outputId": "93f6f22d-baaa-4573-d763-a27d151b9c6e"
      },
      "outputs": [],
      "source": [
        "# break\n",
        "i = 0\n",
        "while True:\n",
        "   print ('i', i, sep=' = ')\n",
        "   if i > 2:\n",
        "       break\n",
        "   i += 1\n",
        "\n",
        "print(end='\\n')\n",
        "\n",
        "i = 0\n",
        "for i in range(10):\n",
        "   print ('i', i, sep=' = ')\n",
        "   if i > 3:\n",
        "       break"
      ]
    },
    {
      "cell_type": "code",
      "execution_count": null,
      "metadata": {
        "colab": {
          "base_uri": "https://localhost:8080/"
        },
        "id": "XdU3R10NVtZF",
        "outputId": "5f5218ea-8a9e-464c-a98b-d82d6fb4b8fb"
      },
      "outputs": [],
      "source": [
        "# continue\n",
        "i = 0\n",
        "while i < 10:\n",
        "    i += 1\n",
        "    if i == 4:\n",
        "       continue  # пропускаем шаг, когда i будет равен 4\n",
        "    print ('i', i, sep=' = ')\n",
        "\n",
        "print(end='\\n')\n",
        "\n",
        "i = 0\n",
        "for i in range(10):\n",
        "    if i == 5:\n",
        "       continue  # пропускаем шаг, когда i будет равен 5\n",
        "    print ('i', i, sep=' = ')"
      ]
    },
    {
      "cell_type": "code",
      "execution_count": null,
      "metadata": {},
      "outputs": [],
      "source": [
        "# else\n",
        "for i in range(4):\n",
        "  if i == 3:\n",
        "    break\n",
        "  else:\n",
        "    print(i)\n",
        "else:\n",
        "  print(\"не попадаем в else\")"
      ]
    },
    {
      "cell_type": "markdown",
      "metadata": {
        "id": "e0gyE3WnWg__"
      },
      "source": [
        "### Функции"
      ]
    },
    {
      "cell_type": "code",
      "execution_count": null,
      "metadata": {},
      "outputs": [],
      "source": [
        "# Обычные функции\n",
        "def calc_sum(a, b):\n",
        "  return a + b\n",
        "\n",
        "print(\"Сумма =\", calc_sum(10, 20))"
      ]
    },
    {
      "cell_type": "code",
      "execution_count": null,
      "metadata": {
        "colab": {
          "base_uri": "https://localhost:8080/"
        },
        "id": "glccDDdFWpZ7",
        "outputId": "40333739-5ee9-4308-8308-3233babda966"
      },
      "outputs": [],
      "source": [
        "## Какие строки вызовут ошибку?\n",
        "def calc_sum(a = 10, b = 20):\n",
        "  return a + b\n",
        "\n",
        "print(\"Сумма 1 =\", calc_sum(a = 20, b = 40)) # 1\n",
        "print(\"Сумма 2 =\", calc_sum(b = 40, a = 20)) # 2\n",
        "print(\"Сумма 3 =\", calc_sum(a = 20, 40))     # 3\n",
        "print(\"Сумма 4 =\", calc_sum(40, a = 20))     # 4\n",
        "print(\"Сумма 5 =\", calc_sum(20, b = 40))     # 5\n",
        "print(\"Сумма 6 =\", calc_sum(a = 20))         # 6\n",
        "print(\"Сумма 7 =\", calc_sum(b = 40))         # 7\n",
        "print(\"Сумма 8 =\", calc_sum(calc_sum(b = 40))) # 8"
      ]
    },
    {
      "cell_type": "code",
      "execution_count": null,
      "metadata": {
        "colab": {
          "base_uri": "https://localhost:8080/"
        },
        "id": "moMWsWGnWuOw",
        "outputId": "d2ed2191-f867-43ef-a381-2fbb5bbd3c7e"
      },
      "outputs": [],
      "source": [
        "# Что будет выведено на экран?\n",
        "def calc_sum(a = 10, b = 20):\n",
        "    a + b\n",
        "\n",
        "print(\"Сумма =\", calc_sum(a = 20, b = 40)) "
      ]
    },
    {
      "cell_type": "markdown",
      "metadata": {},
      "source": [
        "Анонимная lambda-функция -> посмотрим позже"
      ]
    },
    {
      "cell_type": "markdown",
      "metadata": {},
      "source": [
        "### Области видимости"
      ]
    },
    {
      "cell_type": "code",
      "execution_count": null,
      "metadata": {},
      "outputs": [],
      "source": [
        "# Пример 1\n",
        "my_age = 25\n",
        "\n",
        "def happy_birthday(my_age):\n",
        "  my_age += 1\n",
        "  return my_age\n",
        "\n",
        "def newborn_baby():\n",
        "  my_age = 0\n",
        "\n",
        "print(my_age) # ???\n",
        "newborn_baby()\n",
        "print(my_age) # ???\n",
        "happy_birthday(my_age)\n",
        "print(my_age) # ???\n"
      ]
    },
    {
      "attachments": {
        "image.png": {
          "image/png": "[encoded data removed]"
        }
      },
      "cell_type": "markdown",
      "metadata": {},
      "source": [
        "Правило разрешения имен в Python (LEGB):\n",
        "* Область видимости local (function)\n",
        "* Область видимости enclosing (nonlocal)\n",
        "* Область видимости global\n",
        "* Область видимости built-in\n",
        "\n",
        "![image.png](attachment:image.png)"
      ]
    },
    {
      "cell_type": "code",
      "execution_count": null,
      "metadata": {},
      "outputs": [],
      "source": [
        "# local scope - локальная (функциональная) область видимости\n",
        "\n",
        "def do_something(a):\n",
        "    some_new_c = 10\n",
        "    return a + some_new_c\n",
        "\n",
        "print(do_something(100))\n",
        "a = do_something(100) + some_new_c\n",
        "print(a)"
      ]
    },
    {
      "cell_type": "code",
      "execution_count": null,
      "metadata": {},
      "outputs": [],
      "source": [
        "# global scope - глобальная область видимости\n",
        "c = 10\n",
        "\n",
        "def do_something(a):\n",
        "    return a + c\n",
        "\n",
        "print(do_something(100))"
      ]
    },
    {
      "cell_type": "code",
      "execution_count": null,
      "metadata": {},
      "outputs": [],
      "source": [
        "dir(__builtins__)"
      ]
    },
    {
      "cell_type": "code",
      "execution_count": null,
      "metadata": {},
      "outputs": [],
      "source": [
        "# что делать, если назвали переменную неудачно? например, int ...\n",
        "a = '123'\n",
        "int(a)"
      ]
    },
    {
      "cell_type": "code",
      "execution_count": null,
      "metadata": {},
      "outputs": [],
      "source": [
        "# Пример 2\n",
        "def sample_function(var_a, var_b):\n",
        "   print(\"В функции\")\n",
        "   print(f\"var_a: {var_a}\")\n",
        "   print(f\"var_b: {var_b}\")\n",
        "   print(f\"var_c: {var_c}\")\n",
        "   var_d = 888\n",
        "\n",
        "var_a = 3\n",
        "var_b = 2\n",
        "var_c = 1\n",
        "\n",
        "print(\"До функции\")\n",
        "print(f\"var_a: {var_a}\")\n",
        "print(f\"var_c: {var_c}\")\n",
        "sample_function(33, 100)\n",
        "print(f\"var_d: {var_d}\")\n"
      ]
    },
    {
      "cell_type": "code",
      "execution_count": null,
      "metadata": {},
      "outputs": [],
      "source": [
        "# Пример 3*\n",
        "def counter():\n",
        "    num = 10\n",
        "\n",
        "    def incrementer():\n",
        "        global num\n",
        "        num = num + 1\n",
        "        return num\n",
        "\n",
        "    return incrementer\n",
        "\n",
        "c = counter()\n",
        "print(c())"
      ]
    },
    {
      "cell_type": "markdown",
      "metadata": {},
      "source": [
        "### Практическая часть"
      ]
    },
    {
      "cell_type": "markdown",
      "metadata": {},
      "source": [
        "#### Задача 1. Странные числа"
      ]
    },
    {
      "cell_type": "markdown",
      "metadata": {},
      "source": [
        "Давайте переберем все числа от `а` до `b` включительно и будем их выводить на экран, при этом нужно выполнить следующие условия:\n",
        "\n",
        "1.   Пропускать (не выводить) числа, которые делятся на 2 или на 3\n",
        "2.   Если встречаете число, кратное 100, необходимо принудительно закончить цикл, само это число не выводить\n",
        "\n",
        "**Формат ввода**\n",
        "\n",
        "Вводится два натуральных числа `a` и `b` в отдельных строках.\n",
        "\n",
        "**Формат вывода**\n",
        "\n",
        "Вывести все числа на интервале от `a` до `b` включительно согласно условиям в пунктах 1 и 2"
      ]
    },
    {
      "cell_type": "code",
      "execution_count": null,
      "metadata": {},
      "outputs": [],
      "source": [
        "# Решение\n"
      ]
    },
    {
      "cell_type": "markdown",
      "metadata": {},
      "source": [
        "#### Задача 2. Гипотеза Коллатца"
      ]
    },
    {
      "cell_type": "markdown",
      "metadata": {},
      "source": [
        "Сиракузская последовательность, или последовательность Коллатца, строится так: возьмём натуральное число n; если оно чётное, то заменим его числом n/2; если же оно нечётное, то заменим его числом 3n+1. Получившееся число — следующее в сиракузской последовательности после числа n. Затем заменяем получившееся число по тому же правилу, и так далее.\n",
        "\n",
        "Обычно, если проделать такую замену достаточно много раз, мы приходим к числу 1 (за которым следует снова 1). Например:\n",
        "\n",
        "8 → 4 → 2 → 1 или 10 → 5 → 16 → 8 → 4 → 2 → 1.\n",
        "\n",
        "Определите, сколько шагов потребуется сиракузской последовательности, стартующей с заданного числа, чтобы прийти к 1.\n",
        "\n",
        "Если вы обнаружите число, сиракузская последовательность от которого не приходит к 1, то... вы, скорее всего, ошиблись. Но если нет, то поздравляем: вы прославитесь, ведь вопрос о том, всегда ли сиракузская последовательность приходит к 1 (независимо от начального числа), давно будоражит умы математиков.\n",
        "\n",
        "**Формат ввода**\\\n",
        "Вводится одно натуральное число n.\n",
        "\n",
        "**Формат вывода**\\\n",
        "Выводится одно число — количество шагов, необходимое стартующей от n сиракузской последовательности, чтобы впервые дойти до 1."
      ]
    },
    {
      "cell_type": "code",
      "execution_count": null,
      "metadata": {
        "id": "wkVaoKQaYupB"
      },
      "outputs": [],
      "source": [
        "# Решение\n"
      ]
    }
  ],
  "metadata": {
    "colab": {
      "provenance": []
    },
    "kernelspec": {
      "display_name": ".venv",
      "language": "python",
      "name": "python3"
    },
    "language_info": {
      "codemirror_mode": {
        "name": "ipython",
        "version": 3
      },
      "file_extension": ".py",
      "mimetype": "text/x-python",
      "name": "python",
      "nbconvert_exporter": "python",
      "pygments_lexer": "ipython3",
      "version": "3.13.2"
    }
  },
  "nbformat": 4,
  "nbformat_minor": 0
}
