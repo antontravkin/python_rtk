{
  "cells": [
    {
      "cell_type": "markdown",
      "metadata": {
        "id": "zSuKyjSxvt0D"
      },
      "source": [
        "# <font color='#11a642' size='6'> **Импорт и установка библиотек**"
      ]
    },
    {
      "cell_type": "code",
      "execution_count": null,
      "metadata": {
        "colab": {
          "base_uri": "https://localhost:8080/"
        },
        "id": "aXJxFrN0aOyo",
        "outputId": "761794a5-a1e9-4546-80f9-f0aa29c30de9"
      },
      "outputs": [],
      "source": [
        "!pip install category_encoders -q"
      ]
    },
    {
      "cell_type": "code",
      "execution_count": null,
      "metadata": {
        "id": "KX4_stSc_IxS"
      },
      "outputs": [],
      "source": [
        "!pip install shap -q"
      ]
    },
    {
      "cell_type": "code",
      "execution_count": null,
      "metadata": {
        "id": "unRyVUGuvt-O"
      },
      "outputs": [],
      "source": [
        "#from google.colab import drive"
      ]
    },
    {
      "cell_type": "code",
      "execution_count": null,
      "metadata": {
        "id": "HVSnAkAJ4Z3c"
      },
      "outputs": [],
      "source": [
        "import zipfile\n",
        "import json\n",
        "import random\n",
        "import pandas as pd\n",
        "pd.set_option(\"display.max_columns\", 100)\n",
        "import numpy as np\n",
        "\n",
        "from sklearn.model_selection import train_test_split\n",
        "\n",
        "from sklearn.compose import ColumnTransformer, make_column_transformer, make_column_selector\n",
        "from sklearn.pipeline import make_pipeline, Pipeline\n",
        "from sklearn.preprocessing import StandardScaler, OneHotEncoder, LabelEncoder\n",
        "\n",
        "\n",
        "\n",
        "from sklearn.linear_model import LogisticRegression\n",
        "from sklearn.tree import DecisionTreeClassifier, plot_tree\n",
        "\n",
        "from sklearn.impute import KNNImputer, SimpleImputer\n",
        "\n",
        "from sklearn.ensemble import RandomForestClassifier, GradientBoostingClassifier\n",
        "\n",
        "from sklearn.model_selection import GridSearchCV, RandomizedSearchCV\n",
        "\n",
        "# import category_encoders as ce\n",
        "from category_encoders.basen import BaseNEncoder\n",
        "from category_encoders import TargetEncoder\n",
        "\n",
        "from sklearn.metrics import precision_score, recall_score, roc_auc_score, roc_curve, f1_score\n",
        "\n",
        "from sklearn.inspection import permutation_importance\n",
        "import shap\n",
        "\n",
        "import seaborn as sns\n",
        "import matplotlib.pyplot as plt\n"
      ]
    },
    {
      "cell_type": "code",
      "execution_count": null,
      "metadata": {
        "id": "UiKLF1mZh634"
      },
      "outputs": [],
      "source": [
        "from category_encoders import TargetEncoder"
      ]
    },
    {
      "cell_type": "code",
      "execution_count": null,
      "metadata": {
        "id": "h9jjy5dqYoUs"
      },
      "outputs": [],
      "source": [
        "def calculate_metrics_and_plot_roc_comparison(\n",
        "    model,\n",
        "    X_train: np.ndarray,\n",
        "    y_train: np.ndarray,\n",
        "    X_test: np.ndarray,\n",
        "    y_test: np.ndarray,\n",
        "    best_threshold: float\n",
        ") -> dict:\n",
        "    \"\"\"\n",
        "    Рассчитывает метрики классификации и строит ROC-кривые для train и test выборок на одном графике.\n",
        "\n",
        "    Параметры:\n",
        "    ----------\n",
        "    model :\n",
        "        Обученная модель, реализующая метод predict_proba.\n",
        "\n",
        "    X_train : np.ndarray\n",
        "        Признаки обучающей выборки.\n",
        "\n",
        "    y_train : np.ndarray\n",
        "        Истинные метки классов обучающей выборки.\n",
        "\n",
        "    X_test : np.ndarray\n",
        "        Признаки тестовой выборки.\n",
        "\n",
        "    y_test : np.ndarray\n",
        "        Истинные метки классов тестовой выборки.\n",
        "\n",
        "    best_threshold: float\n",
        "      Порог для бинарного прогноза.\n",
        "\n",
        "    Возвращает:\n",
        "    -----------\n",
        "    metrics : dict\n",
        "        Словарь с метриками для обеих выборок.\n",
        "    \"\"\"\n",
        "    results = {}\n",
        "\n",
        "    for X, y, sample_type in [(X_train, y_train, \"train\"), (X_test, y_test, \"test\")]:\n",
        "        # Предсказание вероятностей\n",
        "        y_proba = model.predict_proba(X)[:, 1]\n",
        "\n",
        "        # Прогноз с учетом порога\n",
        "        y_pred = (y_proba >= 0.5).astype(int)\n",
        "\n",
        "        # Вычисление метрик\n",
        "        precision = precision_score(y, y_pred)\n",
        "        recall = recall_score(y, y_pred)\n",
        "        roc_auc = roc_auc_score(y, y_proba)\n",
        "        fpr, tpr, _ = roc_curve(y, y_proba)\n",
        "\n",
        "        # Сохранение результатов\n",
        "        results[sample_type] = {\n",
        "            'precision': precision,\n",
        "            'recall': recall,\n",
        "            'roc_auc': roc_auc,\n",
        "            'fpr': fpr,\n",
        "            'tpr': tpr,\n",
        "            'threshold': best_threshold\n",
        "        }\n",
        "\n",
        "\n",
        "    # Построение ROC-кривых на одном графике\n",
        "    plt.figure(figsize=(10, 8))\n",
        "\n",
        "    colors = {'train': 'blue', 'test': 'red'}\n",
        "    for sample_type in ['train', 'test']:\n",
        "        plt.plot(\n",
        "            results[sample_type]['fpr'],\n",
        "            results[sample_type]['tpr'],\n",
        "            color=colors[sample_type],\n",
        "            lw=2,\n",
        "            label=f'{sample_type.capitalize()} (AUC = {results[sample_type][\"roc_auc\"]:.2f})'\n",
        "        )\n",
        "\n",
        "    plt.plot([0, 1], [0, 1], color='navy', lw=2, linestyle='--')\n",
        "    plt.xlabel('False Positive Rate', fontsize=12)\n",
        "    plt.ylabel('True Positive Rate', fontsize=12)\n",
        "    plt.title(f'ROC Curves Comparison ({type(model).__name__})', fontsize=14)\n",
        "    plt.legend(loc=\"lower right\", fontsize=12)\n",
        "    plt.grid(True, alpha=0.3)\n",
        "    plt.show()\n",
        "\n",
        "    return results"
      ]
    },
    {
      "cell_type": "markdown",
      "metadata": {
        "id": "aiA-R90MvCF9"
      },
      "source": [
        "# <font color='#11a642' size='6'> **Загрузка данных**"
      ]
    },
    {
      "cell_type": "markdown",
      "metadata": {
        "id": "i6Ox7ooPL3jW"
      },
      "source": []
    },
    {
      "cell_type": "code",
      "execution_count": null,
      "metadata": {
        "id": "f8fT5m84L_Ec"
      },
      "outputs": [],
      "source": [
        "def load_dataset(from_kaggle:bool = False) -> pd.DataFrame:\n",
        "  '''\n",
        "  Функция скачивает данные с сайта kaggle, если установлен from_kaggle=True,\n",
        "  инчае архив считывается по ссылке с гугл диска (такой способ удобен тем, у кого нет доступа к kaggle)\n",
        "  params:\n",
        "      - from_kaggle - индикатор откуда скачивать данные (True - c сайта kaggle, False -  c google диска)\n",
        "  return:\n",
        "      - pd.DataFrame\n",
        "\n",
        "  '''\n",
        "  '''\n",
        "  if from_kaggle:\n",
        "    # запросит разрешение к гугл диску, необходимо дать это разрешение\n",
        "    drive.mount('/content/drive')\n",
        "    # установим kaggle\n",
        "    !pip install kaggle -q\n",
        "    !mkdir ~/.kaggle\n",
        "    # копируем kaggle.json (предварительно, необходимо сгенерить токен на\n",
        "    # сайте kaggle и сохранить к себе на гугл диск) в папку ~/.kaggle/\n",
        "    !cp \"/content/drive/MyDrive/Colab Notebooks/config/kaggle.json\" ~/.kaggle/\n",
        "    !kaggle competitions download -c playground-series-s5e7\n",
        "    # !kaggle competitions download -c playground-series-s5e3\n",
        "  else:\n",
        "    !gdown 1-730JF1IWA5e_ejuXWLmkkzHFvudisdp\n",
        "  '''\n",
        "  # распаковка архива\n",
        "  zip_ref = zipfile.ZipFile('playground-series-s5e7.zip', 'r')\n",
        "  zip_ref.extractall()\n",
        "  zip_ref.close()\n",
        "  df_train = pd.read_csv('train.csv')\n",
        "  df_test = pd.read_csv('test.csv')\n",
        "  df_sample_submission = pd.read_csv('sample_submission.csv')\n",
        "  return df_train, df_test, df_sample_submission"
      ]
    },
    {
      "cell_type": "markdown",
      "metadata": {
        "id": "mKtq0WxWBiJ0"
      },
      "source": [
        "Time_spent_Alone: Количество часов, проводимых в одиночестве ежедневно (0–11).\n",
        "\n",
        "Stage_fear: Наличие страха сцены (Да/Нет).\n",
        "\n",
        "Social_event_attendance: Частота посещения социальных мероприятий (0–10).\n",
        "\n",
        "Going_outside: Частота выхода из дома (0–7).\n",
        "\n",
        "Drained_after_socializing: Чувство опустошения после общения (Да/Нет).\n",
        "\n",
        "Friends_circle_size: Количество близких друзей (0–15).\n",
        "\n",
        "Post_frequency: Частота публикаций в соцсетях (0–10).\n",
        "\n",
        "Personality: Целевая переменная (Экстраверт/Интроверт)."
      ]
    },
    {
      "cell_type": "code",
      "execution_count": null,
      "metadata": {
        "colab": {
          "base_uri": "https://localhost:8080/"
        },
        "id": "svBWJqcGTJha",
        "outputId": "ff7b1f68-0af6-4825-e3c1-4d37866f31cf"
      },
      "outputs": [],
      "source": [
        "df_train, df_test, df_sample_submission = load_dataset(from_kaggle = False)"
      ]
    },
    {
      "cell_type": "code",
      "execution_count": null,
      "metadata": {
        "colab": {
          "base_uri": "https://localhost:8080/",
          "height": 444
        },
        "id": "7cmK9H_uTZHU",
        "outputId": "1bee8358-1c0e-43e1-9f67-af621f748779"
      },
      "outputs": [],
      "source": [
        "df_train"
      ]
    },
    {
      "cell_type": "code",
      "execution_count": null,
      "metadata": {
        "id": "d4IOMisX4Z3f"
      },
      "outputs": [],
      "source": [
        "df_train.columns = (col.lower().replace(\"(\", \"_\").replace(\")\", \"\").replace(\" \", \"_\") for col in df_train.columns)\n"
      ]
    },
    {
      "cell_type": "code",
      "execution_count": null,
      "metadata": {
        "colab": {
          "base_uri": "https://localhost:8080/",
          "height": 226
        },
        "id": "2P0EEVY0DNN5",
        "outputId": "9db5ebcd-64ed-46ee-a1c2-bc30123302ec"
      },
      "outputs": [],
      "source": [
        "df_train.head()"
      ]
    },
    {
      "cell_type": "code",
      "execution_count": null,
      "metadata": {
        "id": "_dhIWYf6Fsp1"
      },
      "outputs": [],
      "source": [
        "df_test.columns = (col.lower().replace(\"(\", \"_\").replace(\")\", \"\").replace(\" \", \"_\") for col in df_test.columns)\n"
      ]
    },
    {
      "cell_type": "code",
      "execution_count": null,
      "metadata": {
        "colab": {
          "base_uri": "https://localhost:8080/"
        },
        "id": "nWmRjECFTrJp",
        "outputId": "41c1ac10-dde4-4872-d53b-ea14c171f9be"
      },
      "outputs": [],
      "source": [
        "df_train['personality'].unique()"
      ]
    },
    {
      "cell_type": "code",
      "execution_count": null,
      "metadata": {
        "id": "72XFhkaOTvAZ"
      },
      "outputs": [],
      "source": [
        "dict_personality = {'Extrovert':0, 'Introvert':1}\n",
        "df_train['int_personality'] = df_train['personality'].map(dict_personality)"
      ]
    },
    {
      "cell_type": "code",
      "execution_count": null,
      "metadata": {
        "colab": {
          "base_uri": "https://localhost:8080/"
        },
        "id": "7Ll1jC-xC-qU",
        "outputId": "78e80b10-abcb-424f-c876-0b381d84f93b"
      },
      "outputs": [],
      "source": [
        "df_train.shape"
      ]
    },
    {
      "cell_type": "markdown",
      "metadata": {},
      "source": [
        "Time_spent_Alone: Количество часов, проводимых в одиночестве ежедневно (0–11).\n",
        "\n",
        "Stage_fear: Наличие страха сцены (Да/Нет).\n",
        "\n",
        "Social_event_attendance: Частота посещения социальных мероприятий (0–10).\n",
        "\n",
        "Going_outside: Частота выхода из дома (0–7).\n",
        "\n",
        "Drained_after_socializing: Чувство опустошения после общения (Да/Нет).\n",
        "\n",
        "Friends_circle_size: Количество близких друзей (0–15).\n",
        "\n",
        "Post_frequency: Частота публикаций в соцсетях (0–10).\n",
        "\n",
        "Personality: Целевая переменная (Экстраверт/Интроверт)."
      ]
    },
    {
      "cell_type": "code",
      "execution_count": null,
      "metadata": {
        "colab": {
          "base_uri": "https://localhost:8080/",
          "height": 363
        },
        "id": "uYd0E3m5Dz8x",
        "outputId": "79eeb615-a0c0-4323-9629-fd4bc4e626f8"
      },
      "outputs": [],
      "source": [
        "df_train.describe(include='all').T"
      ]
    },
    {
      "cell_type": "code",
      "execution_count": null,
      "metadata": {},
      "outputs": [],
      "source": [
        "df_train['time_spent_alone'].value_counts(normalize=True, dropna=False)"
      ]
    },
    {
      "cell_type": "code",
      "execution_count": null,
      "metadata": {},
      "outputs": [],
      "source": [
        "df_train['drained_after_socializing'].value_counts(normalize=True, dropna=False)"
      ]
    },
    {
      "cell_type": "code",
      "execution_count": null,
      "metadata": {
        "colab": {
          "base_uri": "https://localhost:8080/",
          "height": 210
        },
        "id": "0e38qWk7GS4t",
        "outputId": "eee32a7d-39fe-4c8f-d73a-dd33c7d41e1b"
      },
      "outputs": [],
      "source": [
        "df_train['stage_fear'].value_counts(normalize=True, dropna=False)"
      ]
    },
    {
      "cell_type": "code",
      "execution_count": null,
      "metadata": {
        "colab": {
          "base_uri": "https://localhost:8080/",
          "height": 210
        },
        "id": "Bry7XU5BHDJJ",
        "outputId": "8670ff59-1dc9-451e-8d06-0e9bd89a841c"
      },
      "outputs": [],
      "source": [
        "df_train['drained_after_socializing'].value_counts(normalize=True, dropna=False)"
      ]
    },
    {
      "cell_type": "code",
      "execution_count": null,
      "metadata": {
        "colab": {
          "base_uri": "https://localhost:8080/",
          "height": 492
        },
        "id": "Uwzco0TBGtkH",
        "outputId": "749e5e6e-3f1c-468a-e209-9d6a1f7bef52"
      },
      "outputs": [],
      "source": [
        "df_train['social_event_attendance'].value_counts(normalize=True, dropna=False)"
      ]
    },
    {
      "cell_type": "markdown",
      "metadata": {
        "id": "QOnkTWZlG24c"
      },
      "source": [
        "> social_event_attendance -> 0"
      ]
    },
    {
      "cell_type": "code",
      "execution_count": null,
      "metadata": {
        "colab": {
          "base_uri": "https://localhost:8080/"
        },
        "id": "LGpdkpnnHQiv",
        "outputId": "ea888a77-07e6-40dc-d86d-5ae06304c39b"
      },
      "outputs": [],
      "source": [
        "df_train['friends_circle_size'].isna().mean()"
      ]
    },
    {
      "cell_type": "markdown",
      "metadata": {
        "id": "R33SSz-9HazR"
      },
      "source": [
        "> friends_circle_size -> mean\n",
        "\n",
        "> точка улучшения: можно заменить моделью\n",
        "\n",
        "\n"
      ]
    },
    {
      "cell_type": "code",
      "execution_count": null,
      "metadata": {
        "colab": {
          "base_uri": "https://localhost:8080/",
          "height": 178
        },
        "id": "r-xA4EraHxzI",
        "outputId": "7bed7d71-0a8c-4922-ec48-92496dd51073"
      },
      "outputs": [],
      "source": [
        "df_train.groupby('personality')['friends_circle_size'].mean()"
      ]
    },
    {
      "cell_type": "code",
      "execution_count": null,
      "metadata": {
        "colab": {
          "base_uri": "https://localhost:8080/"
        },
        "id": "1FABqYCRJX7R",
        "outputId": "d356a9a5-27a0-427a-b8c8-54b45ab52ebd"
      },
      "outputs": [],
      "source": [
        "df_train['post_frequency'].isna().mean()"
      ]
    },
    {
      "cell_type": "code",
      "execution_count": null,
      "metadata": {
        "colab": {
          "base_uri": "https://localhost:8080/",
          "height": 398
        },
        "id": "QuQspebrJfhe",
        "outputId": "eb289304-1560-4625-b38e-025e9c598962"
      },
      "outputs": [],
      "source": [
        "df_train[pd.isna(df_train['post_frequency'])].isna().sum()\n"
      ]
    },
    {
      "cell_type": "code",
      "execution_count": null,
      "metadata": {
        "colab": {
          "base_uri": "https://localhost:8080/",
          "height": 398
        },
        "id": "8zgQXvTXJokk",
        "outputId": "0f92e10d-9593-46bd-cbff-043e50e3420d"
      },
      "outputs": [],
      "source": [
        "df_train.isna().sum()"
      ]
    },
    {
      "cell_type": "code",
      "execution_count": null,
      "metadata": {
        "colab": {
          "base_uri": "https://localhost:8080/",
          "height": 634
        },
        "id": "ZoeiQYbIJsPQ",
        "outputId": "9a631503-1977-4ddc-e3c3-e7a4e69f8ea2"
      },
      "outputs": [],
      "source": [
        "import missingno as msno\n",
        "msno.matrix(df_train)\n"
      ]
    },
    {
      "cell_type": "code",
      "execution_count": null,
      "metadata": {
        "id": "FCp8DEo9GECm"
      },
      "outputs": [],
      "source": [
        "#df_train = df.copy()"
      ]
    },
    {
      "cell_type": "markdown",
      "metadata": {
        "id": "lipLqCn7HvND"
      },
      "source": [
        "## <font color='#11a642' size='5'> Определить роли для независимых признаков"
      ]
    },
    {
      "cell_type": "code",
      "execution_count": null,
      "metadata": {
        "id": "VPoB-uzaH23T"
      },
      "outputs": [],
      "source": [
        "id_features = ['id', ]\n",
        "target = 'int_personality'\n",
        "exclude_features = ['personality',]\n",
        "\n",
        "num_features = [col for col in df_train.select_dtypes(include='number').columns\n",
        "                if col not in id_features + [target, ] + exclude_features]\n",
        "\n",
        "cat_features = [col for col in df_train.select_dtypes(exclude='number').columns\n",
        "                if col not in id_features + [target, ] + exclude_features]\n"
      ]
    },
    {
      "cell_type": "code",
      "execution_count": null,
      "metadata": {
        "colab": {
          "base_uri": "https://localhost:8080/"
        },
        "id": "9X35v7tJDhaA",
        "outputId": "ab8e6537-567b-4339-efec-4c1ca27e0934"
      },
      "outputs": [],
      "source": [
        "num_features"
      ]
    },
    {
      "cell_type": "code",
      "execution_count": null,
      "metadata": {
        "colab": {
          "base_uri": "https://localhost:8080/"
        },
        "id": "L9Ld9NriFAs5",
        "outputId": "cc151286-fa06-42a2-b50c-9c158f572628"
      },
      "outputs": [],
      "source": [
        "cat_features"
      ]
    },
    {
      "cell_type": "markdown",
      "metadata": {
        "id": "j0mQVQAG4Hvb"
      },
      "source": [
        "# <font color='#11a642' size='6'> **Разведочный анализ данных**"
      ]
    },
    {
      "cell_type": "code",
      "execution_count": null,
      "metadata": {
        "colab": {
          "base_uri": "https://localhost:8080/"
        },
        "id": "5UljiSaQ6k_r",
        "outputId": "18ae2057-3b3a-48bd-de80-f82f4f2cac57"
      },
      "outputs": [],
      "source": [
        "df_train.info()"
      ]
    },
    {
      "cell_type": "code",
      "execution_count": null,
      "metadata": {
        "colab": {
          "base_uri": "https://localhost:8080/",
          "height": 304
        },
        "id": "bdhV_hPzGUyu",
        "outputId": "f63d0149-0d8f-4303-8e19-fb6cc3bed2a9"
      },
      "outputs": [],
      "source": [
        "df_train.isna().sum()[df_train.isna().sum()>0]"
      ]
    },
    {
      "cell_type": "code",
      "execution_count": null,
      "metadata": {
        "colab": {
          "base_uri": "https://localhost:8080/",
          "height": 444
        },
        "id": "1KCYSyOCG7O_",
        "outputId": "e2f72469-cc94-48ab-ed10-7a48134d1a5c"
      },
      "outputs": [],
      "source": [
        "df_train"
      ]
    },
    {
      "cell_type": "code",
      "execution_count": null,
      "metadata": {
        "colab": {
          "base_uri": "https://localhost:8080/",
          "height": 468
        },
        "id": "IwwJBg0pl1wE",
        "outputId": "983dbe38-cbff-4932-8801-a0d79195317f"
      },
      "outputs": [],
      "source": [
        "sns.barplot(df_train[target].value_counts(normalize=True))"
      ]
    },
    {
      "cell_type": "code",
      "execution_count": null,
      "metadata": {},
      "outputs": [],
      "source": [
        "label_encoder = LabelEncoder()\n",
        "df_encoded = df_train.copy()\n",
        "df_encoded['stage_fear'] = label_encoder.fit_transform(df_encoded['stage_fear'])\n",
        "df_encoded['drained_after_socializing'] = label_encoder.fit_transform(df_encoded['drained_after_socializing'])\n",
        "df_encoded['personality'] = label_encoder.fit_transform(df_encoded['personality'])\n",
        "\n",
        "plt.figure(figsize=(12, 8))\n",
        "correlation_matrix = df_encoded.corr()\n",
        "sns.heatmap(correlation_matrix, annot=True, cmap='coolwarm', center=0)\n",
        "plt.title('Корреляционная матрица')\n",
        "plt.show()"
      ]
    },
    {
      "cell_type": "markdown",
      "metadata": {
        "id": "cd-lxD1y6v0Q"
      },
      "source": [
        "# <font color='#11a642' size='6'> **Разделите данные на трейн и тест**"
      ]
    },
    {
      "cell_type": "code",
      "execution_count": null,
      "metadata": {
        "colab": {
          "base_uri": "https://localhost:8080/"
        },
        "id": "P87hb8fxZTNw",
        "outputId": "1b8bb313-0c4c-48ad-97e2-76e041625caf"
      },
      "outputs": [],
      "source": [
        "df_train.head()"
      ]
    },
    {
      "cell_type": "code",
      "execution_count": null,
      "metadata": {
        "colab": {
          "base_uri": "https://localhost:8080/"
        },
        "id": "6RwJPzecZaHI",
        "outputId": "616766fe-8db3-4de5-cb6a-4238e1470f74"
      },
      "outputs": [],
      "source": [
        "df_train[num_features + cat_features ].loc[75, :]"
      ]
    },
    {
      "cell_type": "code",
      "execution_count": null,
      "metadata": {
        "id": "3fHwY-2J7PXr"
      },
      "outputs": [],
      "source": [
        "X_train, X_test, y_train, y_test = train_test_split(df_train[num_features + cat_features ],\n",
        "                                                    df_train[target],\n",
        "                                                    stratify=df_train[target],\n",
        "                                                    train_size=0.75,\n",
        "                                                    random_state=12345)"
      ]
    },
    {
      "cell_type": "code",
      "execution_count": null,
      "metadata": {
        "colab": {
          "base_uri": "https://localhost:8080/"
        },
        "id": "DsQ6_dXceAi2",
        "outputId": "20a71395-3ea2-4a2f-caf5-beef077b1962"
      },
      "outputs": [],
      "source": [
        "X_test.head()"
      ]
    },
    {
      "cell_type": "code",
      "execution_count": null,
      "metadata": {
        "colab": {
          "base_uri": "https://localhost:8080/"
        },
        "id": "L8l00o874Z3h",
        "outputId": "0ed67909-c23a-49f7-ec14-4a77f601edfc"
      },
      "outputs": [],
      "source": [
        "X_test.shape , X_train.shape"
      ]
    },
    {
      "cell_type": "markdown",
      "metadata": {
        "id": "bvhVO_Sl7RH3"
      },
      "source": [
        "# <font color='#11a642' size='6'> **Подготовка данных к обучению**"
      ]
    },
    {
      "cell_type": "markdown",
      "metadata": {
        "id": "NDCsYUwIJ_O4"
      },
      "source": [
        "## c pipeline"
      ]
    },
    {
      "cell_type": "code",
      "execution_count": null,
      "metadata": {
        "id": "M_pqEovt7WMc"
      },
      "outputs": [],
      "source": [
        "# SimpleImputer + OHE\n",
        "cat_pipe = Pipeline(\n",
        "    [\n",
        "\n",
        "        (\n",
        "            'enc',\n",
        "            TargetEncoder(cols = cat_features)\n",
        "\n",
        "        ),\n",
        "        (\n",
        "            'imputer',\n",
        "            SimpleImputer(missing_values=np.nan, strategy='most_frequent')\n",
        "        ),\n",
        "\n",
        "    ]\n",
        ")"
      ]
    },
    {
      "cell_type": "code",
      "execution_count": null,
      "metadata": {
        "id": "IRyXgNcS4Z3i"
      },
      "outputs": [],
      "source": [
        "# TODO разделить pipeline: некоторые переменные -0 , некоторые среднее (или модель)\n",
        "# SimpleImputer + StandardScaler\n",
        "num_pipe = Pipeline(\n",
        "    [\n",
        "        (\n",
        "            'scaler',\n",
        "            StandardScaler()\n",
        "        ),\n",
        "        (\n",
        "            'imputer',\n",
        "            SimpleImputer(missing_values=np.nan, strategy='mean')\n",
        "        ),\n",
        "\n",
        "    ]\n",
        ")"
      ]
    },
    {
      "cell_type": "code",
      "execution_count": null,
      "metadata": {
        "id": "S07O2dOZ4Z3i"
      },
      "outputs": [],
      "source": [
        "data_preprocessor = ColumnTransformer(\n",
        "    [\n",
        "        ('cat', cat_pipe, cat_features),\n",
        "        ('num', num_pipe, num_features),\n",
        "    ],\n",
        "    remainder='passthrough'\n",
        ")"
      ]
    },
    {
      "cell_type": "code",
      "execution_count": null,
      "metadata": {
        "colab": {
          "base_uri": "https://localhost:8080/"
        },
        "id": "j2u7ctQVrEI0",
        "outputId": "89e2d46a-ce8e-47c0-a6ee-8d1b8118c203"
      },
      "outputs": [],
      "source": [
        "type(data_preprocessor.fit_transform(X_train, y_train))"
      ]
    },
    {
      "cell_type": "code",
      "execution_count": null,
      "metadata": {
        "colab": {
          "base_uri": "https://localhost:8080/"
        },
        "id": "eslWPhw7rNeX",
        "outputId": "9f99b8e0-bca5-40bf-a67c-f05e5d1d132e"
      },
      "outputs": [],
      "source": [
        "data_preprocessor.get_feature_names_out()"
      ]
    },
    {
      "cell_type": "code",
      "execution_count": null,
      "metadata": {
        "id": "LL7FAKss4Z3i"
      },
      "outputs": [],
      "source": [
        "X_train_p = pd.DataFrame(\n",
        "    data_preprocessor.fit_transform(X_train, y_train),\n",
        "    columns=data_preprocessor.get_feature_names_out()\n",
        ")\n",
        "\n",
        "X_test_p = pd.DataFrame(\n",
        "    data_preprocessor.transform(X_test),\n",
        "    columns=data_preprocessor.get_feature_names_out()\n",
        ")"
      ]
    },
    {
      "cell_type": "code",
      "execution_count": null,
      "metadata": {
        "colab": {
          "base_uri": "https://localhost:8080/"
        },
        "id": "_rcpAQ1s4Z3j",
        "outputId": "a8de5e04-99e2-43d4-c4b7-18f11a19901f"
      },
      "outputs": [],
      "source": [
        "X_train_p.head()"
      ]
    },
    {
      "cell_type": "code",
      "execution_count": null,
      "metadata": {
        "colab": {
          "base_uri": "https://localhost:8080/"
        },
        "id": "HR63R6TH4Z3j",
        "outputId": "d6d0dce0-681f-4fc0-b017-7da5d414d10d"
      },
      "outputs": [],
      "source": [
        "X_test_p.head()"
      ]
    },
    {
      "cell_type": "markdown",
      "metadata": {
        "id": "CnibZvco7i1o"
      },
      "source": [
        "# <font color='#11a642' size='6'> **Построение моделей**"
      ]
    },
    {
      "cell_type": "markdown",
      "metadata": {
        "id": "QpQv2rG4Upfh"
      },
      "source": [
        "## <font color='blue' size='5'> **Логистическая регрессия**"
      ]
    },
    {
      "cell_type": "code",
      "execution_count": null,
      "metadata": {
        "id": "DRLiOCYziLrs"
      },
      "outputs": [],
      "source": [
        "model_log_reg = LogisticRegression()"
      ]
    },
    {
      "cell_type": "code",
      "execution_count": null,
      "metadata": {
        "colab": {
          "base_uri": "https://localhost:8080/"
        },
        "id": "iXpP2pIpikZr",
        "outputId": "1d7e70fa-1558-4820-d8e7-b207b6bea702"
      },
      "outputs": [],
      "source": [
        "model_log_reg.fit(X_train_p, y_train)"
      ]
    },
    {
      "cell_type": "code",
      "execution_count": null,
      "metadata": {
        "id": "H3ZfH2CtkfWF"
      },
      "outputs": [],
      "source": [
        "y_pred_test = model_log_reg.predict_proba(X_test_p)"
      ]
    },
    {
      "cell_type": "code",
      "execution_count": null,
      "metadata": {
        "id": "IPdNdCPNkknO"
      },
      "outputs": [],
      "source": [
        "y_pred_train = model_log_reg.predict_proba(X_train_p)"
      ]
    },
    {
      "cell_type": "code",
      "execution_count": null,
      "metadata": {
        "colab": {
          "base_uri": "https://localhost:8080/"
        },
        "id": "J15ncBV5WxJx",
        "outputId": "e25ebf6b-8a1e-476f-f569-0bc4ff22805e"
      },
      "outputs": [],
      "source": [
        "X_train_p.columns"
      ]
    },
    {
      "cell_type": "code",
      "execution_count": null,
      "metadata": {
        "colab": {
          "base_uri": "https://localhost:8080/"
        },
        "id": "a9Qws8CyWzyn",
        "outputId": "9a69933d-003b-44c9-a669-927f667f0ee4"
      },
      "outputs": [],
      "source": [
        "model_log_reg.coef_[0]"
      ]
    },
    {
      "cell_type": "code",
      "execution_count": null,
      "metadata": {
        "colab": {
          "base_uri": "https://localhost:8080/"
        },
        "id": "v9ohbkDfnc-f",
        "outputId": "fa14e3da-cf91-4f41-98e0-5fe662ebabcc"
      },
      "outputs": [],
      "source": [
        "feature_imp = pd.DataFrame({'feature': list(X_train_p.columns), 'coef': model_log_reg.coef_[0]} )\n",
        "feature_imp.sort_values('coef', ascending=False)"
      ]
    },
    {
      "cell_type": "code",
      "execution_count": null,
      "metadata": {
        "colab": {
          "base_uri": "https://localhost:8080/"
        },
        "id": "nvFrRc7zn4vM",
        "outputId": "30c52602-a25a-4647-ffda-aa12d089248b"
      },
      "outputs": [],
      "source": [
        "plt.figure(figsize=(8, 6))\n",
        "sns.barplot(feature_imp.sort_values('coef', ascending=False), y = 'feature', x='coef')"
      ]
    },
    {
      "cell_type": "code",
      "execution_count": null,
      "metadata": {
        "colab": {
          "base_uri": "https://localhost:8080/"
        },
        "id": "TAbqalVnaRjj",
        "outputId": "0f8be852-36b8-4840-8d66-096ea7403535"
      },
      "outputs": [],
      "source": [
        "res = calculate_metrics_and_plot_roc_comparison(\n",
        "    model_log_reg,\n",
        "    X_train_p,\n",
        "    y_train,\n",
        "    X_test_p,\n",
        "    y_test,\n",
        "    0.5)"
      ]
    },
    {
      "cell_type": "markdown",
      "metadata": {
        "id": "9SoepdZpUmfP"
      },
      "source": [
        "## <font color='blue' size='5'> **Дерево решений**"
      ]
    },
    {
      "cell_type": "code",
      "execution_count": null,
      "metadata": {
        "id": "DpJZvTQBYghs"
      },
      "outputs": [],
      "source": [
        "params = {\n",
        "    'criterion': ['gini',],\n",
        "    'max_depth': [5, 10, 15,], # range(3, 15, 3)\n",
        "    'min_samples_leaf': [10, 15, 20],\n",
        "    'ccp_alpha': np.arange(0.1, 2, 0.5)\n",
        "}"
      ]
    },
    {
      "cell_type": "code",
      "execution_count": null,
      "metadata": {
        "id": "QuJT5RVcWrBK"
      },
      "outputs": [],
      "source": [
        "tree_classifier = DecisionTreeClassifier(random_state=42)"
      ]
    },
    {
      "cell_type": "code",
      "execution_count": null,
      "metadata": {
        "id": "sW0o6nD_ZWHW"
      },
      "outputs": [],
      "source": [
        "# Создаем объект GridSearchCV\n",
        "grid_search = GridSearchCV(estimator=tree_classifier, param_grid=params, cv=5, n_jobs=-1, scoring='accuracy')\n"
      ]
    },
    {
      "cell_type": "code",
      "execution_count": null,
      "metadata": {
        "colab": {
          "base_uri": "https://localhost:8080/"
        },
        "id": "kCL3aSkKZXX_",
        "outputId": "7e543045-11a0-48ce-ac26-950dd122edb2"
      },
      "outputs": [],
      "source": [
        "grid_search.fit(X_train_p, y_train)"
      ]
    },
    {
      "cell_type": "code",
      "execution_count": null,
      "metadata": {
        "colab": {
          "base_uri": "https://localhost:8080/"
        },
        "id": "7LNlq3BNa4gc",
        "outputId": "2bcc302f-0f97-41d7-f934-dc07b0170357"
      },
      "outputs": [],
      "source": [
        "grid_search.best_params_"
      ]
    },
    {
      "cell_type": "code",
      "execution_count": null,
      "metadata": {
        "id": "u6I3q5una6b4"
      },
      "outputs": [],
      "source": [
        "best_tree = grid_search.best_estimator_"
      ]
    },
    {
      "cell_type": "code",
      "execution_count": null,
      "metadata": {
        "colab": {
          "base_uri": "https://localhost:8080/"
        },
        "id": "ssO4C7hhcCAl",
        "outputId": "a6dfacc5-47e3-4899-dc81-fca9621554d8"
      },
      "outputs": [],
      "source": [
        "calculate_metrics_and_plot_roc_comparison(\n",
        "    model_log_reg,\n",
        "    X_train_p,\n",
        "    y_train,\n",
        "    X_test_p,\n",
        "    y_test,\n",
        "    0.5)"
      ]
    },
    {
      "cell_type": "code",
      "execution_count": null,
      "metadata": {
        "id": "aawd3IRja_mw"
      },
      "outputs": [],
      "source": [
        "pred_train = best_tree.predict_proba(X_train_p)\n",
        "pred_test = best_tree.predict_proba(X_test_p)"
      ]
    },
    {
      "cell_type": "code",
      "execution_count": null,
      "metadata": {
        "colab": {
          "base_uri": "https://localhost:8080/"
        },
        "id": "qdZa9xztb2Kj",
        "outputId": "11fd52b8-e06d-4319-dc91-c2d1a373cda1"
      },
      "outputs": [],
      "source": [
        "pd.DataFrame(\n",
        "    {\"feature\": X_train_p.columns, \"importance\": best_tree.feature_importances_}\n",
        ").sort_values(by=\"importance\", ascending=False).reset_index(drop=True)"
      ]
    },
    {
      "cell_type": "code",
      "execution_count": null,
      "metadata": {
        "colab": {
          "base_uri": "https://localhost:8080/"
        },
        "id": "i9OAmwH1cPwR",
        "outputId": "8763ea16-0f43-433e-8784-9b9a88c4d5f5"
      },
      "outputs": [],
      "source": [
        "# второй способ отрисовать деревья с помощью plot_tree\n",
        "plt.figure(figsize=(10, 10))\n",
        "plot_tree(best_tree, feature_names=X_train_p.columns, filled=True, rounded=True,  fontsize=10)\n",
        "plt.show()\n",
        "plt.savefig('tree.png')"
      ]
    },
    {
      "cell_type": "markdown",
      "metadata": {
        "id": "JLwB4KY6qp5v"
      },
      "source": [
        "## <font color='blue'> **Random Forest**"
      ]
    },
    {
      "cell_type": "code",
      "execution_count": null,
      "metadata": {
        "id": "_vsGOevbqwAN"
      },
      "outputs": [],
      "source": [
        "# итоговый пайплайн: подготовка данных и модель RandomForestClassifier\n",
        "rf_cl = Pipeline(\n",
        "   [\n",
        "       ('preprocessor', data_preprocessor),\n",
        "       ('rf_models', RandomForestClassifier(random_state = 47))\n",
        "\n",
        "   ]\n",
        ")"
      ]
    },
    {
      "cell_type": "code",
      "execution_count": null,
      "metadata": {
        "colab": {
          "base_uri": "https://localhost:8080/"
        },
        "id": "WYMjvD0aqwFe",
        "outputId": "6e035588-49cc-483b-b994-6131bb1e5aad"
      },
      "outputs": [],
      "source": [
        "rf_cl.fit(X_train, y_train)"
      ]
    },
    {
      "cell_type": "code",
      "execution_count": null,
      "metadata": {
        "id": "NfeCZwdRqwNH"
      },
      "outputs": [],
      "source": [
        "pred_train = rf_cl.predict_proba(X_train)"
      ]
    },
    {
      "cell_type": "code",
      "execution_count": null,
      "metadata": {
        "id": "fGeC0wVMqwP3"
      },
      "outputs": [],
      "source": [
        "pred_test = rf_cl.predict_proba(X_test)"
      ]
    },
    {
      "cell_type": "code",
      "execution_count": null,
      "metadata": {
        "colab": {
          "base_uri": "https://localhost:8080/"
        },
        "id": "7pE9w7rHtgir",
        "outputId": "dd48ea60-e83b-401c-9722-5cf6eb58c6dd"
      },
      "outputs": [],
      "source": [
        "rf_cl.steps"
      ]
    },
    {
      "cell_type": "code",
      "execution_count": null,
      "metadata": {},
      "outputs": [],
      "source": [
        "from scipy.stats import randint\n",
        "\n",
        "param_distributions = {\n",
        "    'rf_models__n_estimators': randint(50, 400),\n",
        "    'rf_models__criterion': ['gini'],\n",
        "    'rf_models__max_depth': randint(3, 15),\n",
        "    'rf_models__min_samples_split': randint(2, 15),\n",
        "    'rf_models__min_samples_leaf': randint(1, 15),\n",
        "    'rf_models__max_features': ['log2', 'sqrt'],\n",
        "}"
      ]
    },
    {
      "cell_type": "code",
      "execution_count": null,
      "metadata": {},
      "outputs": [],
      "source": [
        "random_search = RandomizedSearchCV(\n",
        "    estimator=rf_cl,\n",
        "    param_distributions=param_distributions,\n",
        "    n_iter=30,            # Количество случайных комбинаций (можешь увеличить)\n",
        "    cv=5,                 # 5-fold CV\n",
        "    scoring='f1',         # Оценка по F1\n",
        "    verbose=2,\n",
        "    n_jobs=-1,            # Используем все ядра\n",
        "    random_state=42\n",
        ")\n",
        "\n",
        "random_search.fit(X_train, y_train)\n",
        "\n",
        "print(\"Лучшие параметры:\", random_search.best_params_)\n",
        "print(\"Лучший F1 на кросс-валидации:\", random_search.best_score_)"
      ]
    },
    {
      "cell_type": "code",
      "execution_count": null,
      "metadata": {
        "id": "OtqkWoSktKUi"
      },
      "outputs": [],
      "source": [
        "'''param_grid = {\n",
        "    'rf_models__n_estimators': [100, 300],  # Количество деревьев в лесу\n",
        "    'rf_models__criterion': ['gini', ],      # Функция для измерения качества разделения: индекс Джини или энтропия\n",
        "    'rf_models__max_depth': [5, 7, 10],        # Максимальная глубина дерева: ограничение глубины для избежания переобучения\n",
        "    'rf_models__min_samples_split': [5, 10],       # Минимальное количество выборок, необходимых для разделения внутреннего узла\n",
        "    'rf_models__min_samples_leaf': [7, 10],         # Минимальное количество выборок, необходимых для узла листа\n",
        "    'rf_models__max_features': ['log2'], # Количество признаков для поиска наилучшего разделения\n",
        "                                                       # 'sqrt' - корень из общего кол-ва признаков, 'log2' - логарифм по основанию 2 от общего кол-ва признаков, None - все признаки\n",
        "}'''"
      ]
    },
    {
      "cell_type": "code",
      "execution_count": null,
      "metadata": {
        "id": "RrQTVYyCtWzZ"
      },
      "outputs": [],
      "source": [
        "grid_search = GridSearchCV(rf_cl, param_grid=param_grid, cv=5, scoring='accuracy', verbose=2)\n"
      ]
    },
    {
      "cell_type": "code",
      "execution_count": null,
      "metadata": {
        "colab": {
          "base_uri": "https://localhost:8080/"
        },
        "collapsed": true,
        "id": "nwAeAIqmtYoC",
        "outputId": "d60d4fec-ca93-4541-e3ab-ed8029e95b27"
      },
      "outputs": [],
      "source": [
        "grid_search.fit(X_train, y_train)"
      ]
    },
    {
      "cell_type": "code",
      "execution_count": null,
      "metadata": {
        "colab": {
          "base_uri": "https://localhost:8080/"
        },
        "id": "KvkZtxMmta_p",
        "outputId": "976ca831-8340-4be2-c28f-c507ff258190"
      },
      "outputs": [],
      "source": [
        "# Получаем лучшее значение параметров, найденных в процессе кросс-валидации\n",
        "print(\"Лучшие параметры:\", grid_search.best_params_)"
      ]
    },
    {
      "cell_type": "code",
      "execution_count": null,
      "metadata": {
        "id": "Uowmh0J0w5MK"
      },
      "outputs": [],
      "source": [
        "pred_train = grid_search.best_estimator_.predict_proba(X_train)"
      ]
    },
    {
      "cell_type": "code",
      "execution_count": null,
      "metadata": {
        "id": "r1IAsC68yk6C"
      },
      "outputs": [],
      "source": [
        "best_rf_model = grid_search.best_estimator_"
      ]
    },
    {
      "cell_type": "code",
      "execution_count": null,
      "metadata": {
        "id": "qkgmb1dmxDwT"
      },
      "outputs": [],
      "source": [
        "pred_test = best_rf_model.predict_proba(X_test)"
      ]
    },
    {
      "cell_type": "code",
      "execution_count": null,
      "metadata": {
        "colab": {
          "base_uri": "https://localhost:8080/"
        },
        "id": "qYYRdiKSO9fN",
        "outputId": "f0284bf3-5bc9-43ac-ee40-ca478778f9f1"
      },
      "outputs": [],
      "source": [
        "res_rf = calculate_metrics_and_plot_roc_comparison(\n",
        "    best_rf_model,\n",
        "    X_train,\n",
        "    y_train,\n",
        "    X_test,\n",
        "    y_test,\n",
        "    0.5)"
      ]
    },
    {
      "cell_type": "markdown",
      "metadata": {
        "id": "51WeHHtBYOTG"
      },
      "source": [
        "# <font color='blue'> **Интерпретация лучшей модели**"
      ]
    },
    {
      "cell_type": "code",
      "execution_count": null,
      "metadata": {
        "colab": {
          "base_uri": "https://localhost:8080/",
          "height": 98
        },
        "id": "G4-ZVrPsARb6",
        "outputId": "e0d6014b-0c15-4b30-956b-b811905e9e9c"
      },
      "outputs": [],
      "source": [
        "best_rf_model.steps[1][1]"
      ]
    },
    {
      "cell_type": "code",
      "execution_count": null,
      "metadata": {
        "id": "bRrqHXQQYRZY"
      },
      "outputs": [],
      "source": [
        "%%time\n",
        "explainer_tree = shap.Explainer(best_rf_model.steps[1][1].predict, X_test_p)\n",
        "shap_values_tree = explainer_tree(X_test_p)"
      ]
    },
    {
      "cell_type": "code",
      "execution_count": null,
      "metadata": {
        "colab": {
          "base_uri": "https://localhost:8080/",
          "height": 502
        },
        "id": "nRTL8PjKAjZZ",
        "outputId": "13922888-5c53-45b6-90b4-fd38c587792d"
      },
      "outputs": [],
      "source": [
        "i = 1\n",
        "shap.plots.waterfall(shap_values_tree[i], max_display=14)"
      ]
    },
    {
      "cell_type": "code",
      "execution_count": null,
      "metadata": {
        "colab": {
          "base_uri": "https://localhost:8080/",
          "height": 422
        },
        "id": "-BYiDaMnAnze",
        "outputId": "e6905798-cf12-45d7-b54a-67a93253e2a0"
      },
      "outputs": [],
      "source": [
        "shap.plots.beeswarm(shap_values_tree)"
      ]
    },
    {
      "cell_type": "markdown",
      "metadata": {
        "id": "jlhMFvRgxXQa"
      },
      "source": [
        "# <font color='blue'> **Сохранение модели**"
      ]
    },
    {
      "cell_type": "code",
      "execution_count": null,
      "metadata": {
        "colab": {
          "base_uri": "https://localhost:8080/"
        },
        "id": "g8bBZ3PsxWvF",
        "outputId": "d2be3eb6-ab84-47a5-b74f-8f325e63a3d9"
      },
      "outputs": [],
      "source": [
        "import pickle\n",
        "\n",
        "# Сохранение пайплайна в файл\n",
        "with open('pipeline_best_model.pkl', 'wb') as f:\n",
        "    pickle.dump(best_rf_model, f)\n",
        "\n",
        "print(\"Pipeline сохранен в файл 'pipeline_best_model.pkl'.\")\n"
      ]
    },
    {
      "cell_type": "markdown",
      "metadata": {
        "id": "R-wZW7py0-fd"
      },
      "source": [
        "# <font color='blue'> **Инференс модели**"
      ]
    },
    {
      "cell_type": "code",
      "execution_count": null,
      "metadata": {
        "colab": {
          "base_uri": "https://localhost:8080/"
        },
        "id": "TCRXunel1Bew",
        "outputId": "b9cf2e90-fc30-4e82-fc41-ae07e71a0a1a"
      },
      "outputs": [],
      "source": [
        "# Загрузка пайплайна из файла\n",
        "with open('pipeline_best_model.pkl', 'rb') as f:\n",
        "    loaded_pipeline = pickle.load(f)\n",
        "\n",
        "print(\"Pipeline загружен.\")\n"
      ]
    },
    {
      "cell_type": "code",
      "execution_count": null,
      "metadata": {
        "colab": {
          "base_uri": "https://localhost:8080/",
          "height": 98
        },
        "id": "hZc9ACsHXmt2",
        "outputId": "57cc98c9-1913-4ebf-84cc-b6d2fb58772b"
      },
      "outputs": [],
      "source": [
        "loaded_pipeline.steps[1][1]\n",
        "# .get_feature_names_out()"
      ]
    },
    {
      "cell_type": "code",
      "execution_count": null,
      "metadata": {
        "id": "Mh8baZEUPv8b"
      },
      "outputs": [],
      "source": [
        "df_test['pred'] = loaded_pipeline.predict(df_test)"
      ]
    },
    {
      "cell_type": "code",
      "execution_count": null,
      "metadata": {},
      "outputs": [],
      "source": [
        "df_test"
      ]
    },
    {
      "cell_type": "code",
      "execution_count": null,
      "metadata": {
        "id": "EMg_KsM5QLSg"
      },
      "outputs": [],
      "source": [
        "#dict_personality = {'Extrovert':0, 'Introvert':1}\n",
        "dict_personality_rev = {0:'Extrovert', 1:'Introvert'}"
      ]
    },
    {
      "cell_type": "code",
      "execution_count": null,
      "metadata": {
        "id": "SblGsK4yQa3X"
      },
      "outputs": [],
      "source": [
        "df_test['Personality'] = df_test['pred'].map(dict_personality_rev)"
      ]
    },
    {
      "cell_type": "code",
      "execution_count": null,
      "metadata": {},
      "outputs": [],
      "source": [
        "df_test"
      ]
    },
    {
      "cell_type": "code",
      "execution_count": null,
      "metadata": {
        "id": "qnVbhFgbPwqG"
      },
      "outputs": [],
      "source": [
        "df_test[['id', 'Personality']].to_csv('submission_.csv', index=False)"
      ]
    },
    {
      "cell_type": "code",
      "execution_count": null,
      "metadata": {
        "colab": {
          "base_uri": "https://localhost:8080/"
        },
        "id": "-kRmx4pAQIIY",
        "outputId": "ed75ef2c-4dce-44da-fbd7-9a0b39f77ddf"
      },
      "outputs": [],
      "source": [
        "!kaggle competitions submit -c playground-series-s5e7 -f submission.csv -m \"1 commit\""
      ]
    }
  ],
  "metadata": {
    "colab": {
      "collapsed_sections": [
        "cd-lxD1y6v0Q",
        "NDCsYUwIJ_O4",
        "QpQv2rG4Upfh",
        "9SoepdZpUmfP",
        "JLwB4KY6qp5v"
      ],
      "provenance": []
    },
    "kernelspec": {
      "display_name": ".venv",
      "language": "python",
      "name": "python3"
    },
    "language_info": {
      "codemirror_mode": {
        "name": "ipython",
        "version": 3
      },
      "file_extension": ".py",
      "mimetype": "text/x-python",
      "name": "python",
      "nbconvert_exporter": "python",
      "pygments_lexer": "ipython3",
      "version": "3.12.0"
    }
  },
  "nbformat": 4,
  "nbformat_minor": 0
}
