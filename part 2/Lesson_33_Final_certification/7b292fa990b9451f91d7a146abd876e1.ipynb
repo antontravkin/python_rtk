{
  "cells": [
    {
      "cell_type": "markdown",
      "metadata": {
        "id": "ZEVcQjtHD4Xy"
      },
      "source": [
        "<font color='green' size='7'>**Итоговая аттестация**</font>  \n",
        "<font size='6' color='#11a642'>**Задание:**</font>  \n",
        "\n",
        "Итоговая аттестация основана на конкурсе:  \n",
        "[https://www.kaggle.com/competitions/playground-series-s5e7/overview](https://www.kaggle.com/competitions/playground-series-s5e7/overview).  \n",
        "\n",
        "<font size='4' color='#11a642'>**Ваша задача:**</font> Построить модель с лучшими метриками.  \n",
        "<font size='4' color='#11a642'>**Что можно использовать:**</font> Любые модели и методы обработки данных.  \n",
        "<font size='4' color='#11a642'>**Сколько моделей нужно построить:**</font> Столько, сколько вы считаете достаточным для обоснования выбора наилучшей модели.  \n",
        "<font size='4' color='#11a642'>**Важно:**</font> Каждый этап должен сопровождаться комментариями и выводами.  \n",
        "\n",
        "<font size='4' color='green'>**Рекомендованные этапы:**</font>  \n",
        "- Провести EDA.  \n",
        "- Выявить и обработать проблемы в данных (если это улучшит метрики).  \n",
        "- Построить несколько моделей с разными подходами.  \n",
        "- Выбрать наилучшую модель.  \n",
        "- *Опционально:* Участие в Kaggle (загрузить решение и указать позицию в leaderboard).  \n",
        "\n",
        "На момент выдачи задания конкурс активен, поэтому у вас есть возможность не только выполнить учебную задачу, но и поучаствовать в соревновании.  \n",
        "\n",
        "<font size='4' color='green'>**Форма сдачи:**</font>  \n",
        "- Файл в формате `.ipynb` (Jupyter Notebook).  \n",
        "- Перед загрузкой убедитесь, что ноутбук запускается без ошибок (`Kernel → Restart & Run All`).  \n",
        "\n",
        "Удачи в выполнении задания!  "
      ]
    },
    {
      "cell_type": "code",
      "execution_count": 1,
      "metadata": {
        "id": "CGoG9_TVEOUX"
      },
      "outputs": [
        {
          "name": "stderr",
          "output_type": "stream",
          "text": [
            "/Users/antontravkin/Sites/python_rtk/.venv/lib/python3.12/site-packages/tqdm/auto.py:21: TqdmWarning: IProgress not found. Please update jupyter and ipywidgets. See https://ipywidgets.readthedocs.io/en/stable/user_install.html\n",
            "  from .autonotebook import tqdm as notebook_tqdm\n",
            "[I 2025-07-18 20:45:02,421] A new study created in memory with name: no-name-de3d1278-a844-486c-bb0d-19e7d15968bb\n"
          ]
        },
        {
          "name": "stdout",
          "output_type": "stream",
          "text": [
            "Запуск оптимизации гиперпараметров через Optuna...\n",
            "Training until validation scores don't improve for 50 rounds\n",
            "Early stopping, best iteration is:\n",
            "[112]\tvalid_0's binary_logloss: 0.129651\n",
            "Training until validation scores don't improve for 50 rounds\n",
            "Early stopping, best iteration is:\n",
            "[89]\tvalid_0's binary_logloss: 0.136168\n",
            "Training until validation scores don't improve for 50 rounds\n"
          ]
        },
        {
          "name": "stderr",
          "output_type": "stream",
          "text": [
            "[I 2025-07-18 20:45:04,950] Trial 0 finished with value: 0.9400135332084115 and parameters: {'learning_rate': 0.053513011752862376, 'num_leaves': 44, 'max_depth': 9, 'feature_fraction': 0.7458148867742296, 'bagging_fraction': 0.9114717932846556, 'bagging_freq': 5, 'lambda_l1': 3.2950380221535984, 'lambda_l2': 0.6123476131593547}. Best is trial 0 with value: 0.9400135332084115.\n"
          ]
        },
        {
          "name": "stdout",
          "output_type": "stream",
          "text": [
            "Early stopping, best iteration is:\n",
            "[125]\tvalid_0's binary_logloss: 0.123984\n",
            "Training until validation scores don't improve for 50 rounds\n",
            "Early stopping, best iteration is:\n",
            "[74]\tvalid_0's binary_logloss: 0.129515\n",
            "Training until validation scores don't improve for 50 rounds\n",
            "Early stopping, best iteration is:\n",
            "[70]\tvalid_0's binary_logloss: 0.136538\n",
            "Training until validation scores don't improve for 50 rounds\n"
          ]
        },
        {
          "name": "stderr",
          "output_type": "stream",
          "text": [
            "[I 2025-07-18 20:45:06,942] Trial 1 finished with value: 0.9400516310275364 and parameters: {'learning_rate': 0.06902666893496068, 'num_leaves': 49, 'max_depth': 7, 'feature_fraction': 0.740450728503127, 'bagging_fraction': 0.7182842460735113, 'bagging_freq': 8, 'lambda_l1': 0.20580289705374621, 'lambda_l2': 4.400925413267957}. Best is trial 1 with value: 0.9400516310275364.\n"
          ]
        },
        {
          "name": "stdout",
          "output_type": "stream",
          "text": [
            "Early stopping, best iteration is:\n",
            "[67]\tvalid_0's binary_logloss: 0.123851\n",
            "Training until validation scores don't improve for 50 rounds\n",
            "Early stopping, best iteration is:\n",
            "[235]\tvalid_0's binary_logloss: 0.129859\n",
            "Training until validation scores don't improve for 50 rounds\n",
            "Early stopping, best iteration is:\n",
            "[164]\tvalid_0's binary_logloss: 0.136317\n",
            "Training until validation scores don't improve for 50 rounds\n"
          ]
        },
        {
          "name": "stderr",
          "output_type": "stream",
          "text": [
            "[I 2025-07-18 20:45:09,266] Trial 2 finished with value: 0.9396822532241783 and parameters: {'learning_rate': 0.03050114673789045, 'num_leaves': 28, 'max_depth': 5, 'feature_fraction': 0.8902382621308262, 'bagging_fraction': 0.8116531397169983, 'bagging_freq': 1, 'lambda_l1': 1.5929680447560242, 'lambda_l2': 2.220794368203836}. Best is trial 1 with value: 0.9400516310275364.\n"
          ]
        },
        {
          "name": "stdout",
          "output_type": "stream",
          "text": [
            "Early stopping, best iteration is:\n",
            "[181]\tvalid_0's binary_logloss: 0.12407\n",
            "Training until validation scores don't improve for 50 rounds\n",
            "Early stopping, best iteration is:\n",
            "[142]\tvalid_0's binary_logloss: 0.129723\n",
            "Training until validation scores don't improve for 50 rounds\n",
            "Early stopping, best iteration is:\n",
            "[92]\tvalid_0's binary_logloss: 0.135715\n",
            "Training until validation scores don't improve for 50 rounds\n"
          ]
        },
        {
          "name": "stderr",
          "output_type": "stream",
          "text": [
            "[I 2025-07-18 20:45:10,525] Trial 3 finished with value: 0.9398055867362812 and parameters: {'learning_rate': 0.059718716473314656, 'num_leaves': 43, 'max_depth': 4, 'feature_fraction': 0.6761362514152591, 'bagging_fraction': 0.7028495735371456, 'bagging_freq': 1, 'lambda_l1': 2.810983474149929, 'lambda_l2': 0.3348721310479441}. Best is trial 1 with value: 0.9400516310275364.\n"
          ]
        },
        {
          "name": "stdout",
          "output_type": "stream",
          "text": [
            "Early stopping, best iteration is:\n",
            "[101]\tvalid_0's binary_logloss: 0.123942\n",
            "Training until validation scores don't improve for 50 rounds\n",
            "Early stopping, best iteration is:\n",
            "[279]\tvalid_0's binary_logloss: 0.129715\n",
            "Training until validation scores don't improve for 50 rounds\n",
            "Early stopping, best iteration is:\n",
            "[173]\tvalid_0's binary_logloss: 0.136022\n",
            "Training until validation scores don't improve for 50 rounds\n"
          ]
        },
        {
          "name": "stderr",
          "output_type": "stream",
          "text": [
            "[I 2025-07-18 20:45:12,732] Trial 4 finished with value: 0.9398900046889653 and parameters: {'learning_rate': 0.03148329669974983, 'num_leaves': 48, 'max_depth': 5, 'feature_fraction': 0.8843463132649771, 'bagging_fraction': 0.9002887471704257, 'bagging_freq': 1, 'lambda_l1': 4.653288727192641, 'lambda_l2': 3.8751884951745295}. Best is trial 1 with value: 0.9400516310275364.\n"
          ]
        },
        {
          "name": "stdout",
          "output_type": "stream",
          "text": [
            "Early stopping, best iteration is:\n",
            "[202]\tvalid_0's binary_logloss: 0.123619\n",
            "Training until validation scores don't improve for 50 rounds\n",
            "Early stopping, best iteration is:\n",
            "[169]\tvalid_0's binary_logloss: 0.129518\n",
            "Training until validation scores don't improve for 50 rounds\n",
            "Early stopping, best iteration is:\n",
            "[86]\tvalid_0's binary_logloss: 0.136195\n",
            "Training until validation scores don't improve for 50 rounds\n"
          ]
        },
        {
          "name": "stderr",
          "output_type": "stream",
          "text": [
            "[I 2025-07-18 20:45:14,016] Trial 5 finished with value: 0.9398906516820298 and parameters: {'learning_rate': 0.05698439488279827, 'num_leaves': 39, 'max_depth': 4, 'feature_fraction': 0.6961074829032645, 'bagging_fraction': 0.9522784874315532, 'bagging_freq': 2, 'lambda_l1': 2.3896268013741926, 'lambda_l2': 3.490114753514011}. Best is trial 1 with value: 0.9400516310275364.\n"
          ]
        },
        {
          "name": "stdout",
          "output_type": "stream",
          "text": [
            "Early stopping, best iteration is:\n",
            "[109]\tvalid_0's binary_logloss: 0.123702\n",
            "Training until validation scores don't improve for 50 rounds\n",
            "Early stopping, best iteration is:\n",
            "[134]\tvalid_0's binary_logloss: 0.129796\n",
            "Training until validation scores don't improve for 50 rounds\n",
            "Early stopping, best iteration is:\n",
            "[58]\tvalid_0's binary_logloss: 0.136399\n",
            "Training until validation scores don't improve for 50 rounds\n"
          ]
        },
        {
          "name": "stderr",
          "output_type": "stream",
          "text": [
            "[I 2025-07-18 20:45:15,425] Trial 6 finished with value: 0.9396779838796335 and parameters: {'learning_rate': 0.0987494054000998, 'num_leaves': 30, 'max_depth': 6, 'feature_fraction': 0.9553453660975646, 'bagging_fraction': 0.6379121241515516, 'bagging_freq': 9, 'lambda_l1': 4.383219861721018, 'lambda_l2': 4.119129795787426}. Best is trial 1 with value: 0.9400516310275364.\n"
          ]
        },
        {
          "name": "stdout",
          "output_type": "stream",
          "text": [
            "Early stopping, best iteration is:\n",
            "[61]\tvalid_0's binary_logloss: 0.124604\n",
            "Training until validation scores don't improve for 50 rounds\n",
            "Early stopping, best iteration is:\n",
            "[147]\tvalid_0's binary_logloss: 0.129662\n",
            "Training until validation scores don't improve for 50 rounds\n",
            "Early stopping, best iteration is:\n",
            "[82]\tvalid_0's binary_logloss: 0.135706\n",
            "Training until validation scores don't improve for 50 rounds\n"
          ]
        },
        {
          "name": "stderr",
          "output_type": "stream",
          "text": [
            "[I 2025-07-18 20:45:16,533] Trial 7 finished with value: 0.9397076967564232 and parameters: {'learning_rate': 0.06353002275285519, 'num_leaves': 44, 'max_depth': 4, 'feature_fraction': 0.7680598689622494, 'bagging_fraction': 0.8190614617836449, 'bagging_freq': 1, 'lambda_l1': 4.134905546136573, 'lambda_l2': 0.7708683947080658}. Best is trial 1 with value: 0.9400516310275364.\n"
          ]
        },
        {
          "name": "stdout",
          "output_type": "stream",
          "text": [
            "Early stopping, best iteration is:\n",
            "[102]\tvalid_0's binary_logloss: 0.123717\n",
            "Training until validation scores don't improve for 50 rounds\n",
            "Early stopping, best iteration is:\n",
            "[277]\tvalid_0's binary_logloss: 0.129962\n",
            "Training until validation scores don't improve for 50 rounds\n",
            "Early stopping, best iteration is:\n",
            "[232]\tvalid_0's binary_logloss: 0.136327\n",
            "Training until validation scores don't improve for 50 rounds\n"
          ]
        },
        {
          "name": "stderr",
          "output_type": "stream",
          "text": [
            "[I 2025-07-18 20:45:21,086] Trial 8 finished with value: 0.940001160519139 and parameters: {'learning_rate': 0.018711018806466764, 'num_leaves': 36, 'max_depth': 10, 'feature_fraction': 0.6754343227178536, 'bagging_fraction': 0.9153672842388256, 'bagging_freq': 10, 'lambda_l1': 1.108869192415682, 'lambda_l2': 1.205859646876966}. Best is trial 1 with value: 0.9400516310275364.\n"
          ]
        },
        {
          "name": "stdout",
          "output_type": "stream",
          "text": [
            "Early stopping, best iteration is:\n",
            "[286]\tvalid_0's binary_logloss: 0.124121\n",
            "Training until validation scores don't improve for 50 rounds\n",
            "Early stopping, best iteration is:\n",
            "[428]\tvalid_0's binary_logloss: 0.130139\n",
            "Training until validation scores don't improve for 50 rounds\n",
            "Early stopping, best iteration is:\n",
            "[342]\tvalid_0's binary_logloss: 0.136025\n",
            "Training until validation scores don't improve for 50 rounds\n"
          ]
        },
        {
          "name": "stderr",
          "output_type": "stream",
          "text": [
            "[I 2025-07-18 20:45:25,764] Trial 9 finished with value: 0.9397926392823216 and parameters: {'learning_rate': 0.013691965977560415, 'num_leaves': 21, 'max_depth': 8, 'feature_fraction': 0.804006776125284, 'bagging_fraction': 0.8758141153964247, 'bagging_freq': 4, 'lambda_l1': 0.5548379273252935, 'lambda_l2': 4.892482351294792}. Best is trial 1 with value: 0.9400516310275364.\n"
          ]
        },
        {
          "name": "stdout",
          "output_type": "stream",
          "text": [
            "Early stopping, best iteration is:\n",
            "[412]\tvalid_0's binary_logloss: 0.124145\n",
            "Training until validation scores don't improve for 50 rounds\n",
            "Early stopping, best iteration is:\n",
            "[48]\tvalid_0's binary_logloss: 0.13046\n",
            "Training until validation scores don't improve for 50 rounds\n",
            "Early stopping, best iteration is:\n",
            "[44]\tvalid_0's binary_logloss: 0.136855\n",
            "Training until validation scores don't improve for 50 rounds\n"
          ]
        },
        {
          "name": "stderr",
          "output_type": "stream",
          "text": [
            "[I 2025-07-18 20:45:27,528] Trial 10 finished with value: 0.9396591455002613 and parameters: {'learning_rate': 0.09819650007766158, 'num_leaves': 50, 'max_depth': 7, 'feature_fraction': 0.6246383333263986, 'bagging_fraction': 0.7173327247045639, 'bagging_freq': 8, 'lambda_l1': 0.08390800163299378, 'lambda_l2': 2.4357384463570777}. Best is trial 1 with value: 0.9400516310275364.\n"
          ]
        },
        {
          "name": "stdout",
          "output_type": "stream",
          "text": [
            "Early stopping, best iteration is:\n",
            "[55]\tvalid_0's binary_logloss: 0.124035\n",
            "Training until validation scores don't improve for 50 rounds\n",
            "Early stopping, best iteration is:\n",
            "[142]\tvalid_0's binary_logloss: 0.130052\n",
            "Training until validation scores don't improve for 50 rounds\n",
            "Early stopping, best iteration is:\n",
            "[99]\tvalid_0's binary_logloss: 0.136238\n",
            "Training until validation scores don't improve for 50 rounds\n"
          ]
        },
        {
          "name": "stderr",
          "output_type": "stream",
          "text": [
            "[I 2025-07-18 20:45:30,199] Trial 11 finished with value: 0.940000907531827 and parameters: {'learning_rate': 0.04528683203356172, 'num_leaves': 44, 'max_depth': 9, 'feature_fraction': 0.772052671750251, 'bagging_fraction': 0.9949060048662428, 'bagging_freq': 6, 'lambda_l1': 3.2085501261372507, 'lambda_l2': 1.5412315039106113}. Best is trial 1 with value: 0.9400516310275364.\n"
          ]
        },
        {
          "name": "stdout",
          "output_type": "stream",
          "text": [
            "Early stopping, best iteration is:\n",
            "[114]\tvalid_0's binary_logloss: 0.123989\n",
            "Training until validation scores don't improve for 50 rounds\n",
            "Early stopping, best iteration is:\n",
            "[180]\tvalid_0's binary_logloss: 0.129984\n",
            "Training until validation scores don't improve for 50 rounds\n",
            "Early stopping, best iteration is:\n",
            "[139]\tvalid_0's binary_logloss: 0.135856\n",
            "Training until validation scores don't improve for 50 rounds\n"
          ]
        },
        {
          "name": "stderr",
          "output_type": "stream",
          "text": [
            "[I 2025-07-18 20:45:32,739] Trial 12 finished with value: 0.9399280697515922 and parameters: {'learning_rate': 0.04118157251647537, 'num_leaves': 50, 'max_depth': 8, 'feature_fraction': 0.7362094764678005, 'bagging_fraction': 0.7382929311483185, 'bagging_freq': 6, 'lambda_l1': 3.609069493687498, 'lambda_l2': 3.052249620876598}. Best is trial 1 with value: 0.9400516310275364.\n"
          ]
        },
        {
          "name": "stdout",
          "output_type": "stream",
          "text": [
            "Early stopping, best iteration is:\n",
            "[175]\tvalid_0's binary_logloss: 0.123599\n",
            "Training until validation scores don't improve for 50 rounds\n",
            "Early stopping, best iteration is:\n",
            "[69]\tvalid_0's binary_logloss: 0.130418\n",
            "Training until validation scores don't improve for 50 rounds\n",
            "Early stopping, best iteration is:\n",
            "[54]\tvalid_0's binary_logloss: 0.136463\n",
            "Training until validation scores don't improve for 50 rounds\n"
          ]
        },
        {
          "name": "stderr",
          "output_type": "stream",
          "text": [
            "[I 2025-07-18 20:45:34,769] Trial 13 finished with value: 0.9399146100177028 and parameters: {'learning_rate': 0.07522422321563584, 'num_leaves': 40, 'max_depth': 10, 'feature_fraction': 0.8325172382132172, 'bagging_fraction': 0.6606281735107518, 'bagging_freq': 4, 'lambda_l1': 1.8217604798148135, 'lambda_l2': 0.03622098081579428}. Best is trial 1 with value: 0.9400516310275364.\n"
          ]
        },
        {
          "name": "stdout",
          "output_type": "stream",
          "text": [
            "Early stopping, best iteration is:\n",
            "[62]\tvalid_0's binary_logloss: 0.124415\n",
            "Training until validation scores don't improve for 50 rounds\n",
            "Early stopping, best iteration is:\n",
            "[211]\tvalid_0's binary_logloss: 0.129564\n",
            "Training until validation scores don't improve for 50 rounds\n",
            "Early stopping, best iteration is:\n",
            "[142]\tvalid_0's binary_logloss: 0.135765\n",
            "Training until validation scores don't improve for 50 rounds\n"
          ]
        },
        {
          "name": "stderr",
          "output_type": "stream",
          "text": [
            "[I 2025-07-18 20:45:38,200] Trial 14 finished with value: 0.9403454845681982 and parameters: {'learning_rate': 0.03653879035317312, 'num_leaves': 46, 'max_depth': 8, 'feature_fraction': 0.6155751361330988, 'bagging_fraction': 0.7741121590381084, 'bagging_freq': 7, 'lambda_l1': 2.259376165928809, 'lambda_l2': 4.9797435064359705}. Best is trial 14 with value: 0.9403454845681982.\n"
          ]
        },
        {
          "name": "stdout",
          "output_type": "stream",
          "text": [
            "Early stopping, best iteration is:\n",
            "[200]\tvalid_0's binary_logloss: 0.123424\n",
            "Training until validation scores don't improve for 50 rounds\n",
            "Early stopping, best iteration is:\n",
            "[278]\tvalid_0's binary_logloss: 0.129844\n",
            "Training until validation scores don't improve for 50 rounds\n",
            "Early stopping, best iteration is:\n",
            "[232]\tvalid_0's binary_logloss: 0.135804\n",
            "Training until validation scores don't improve for 50 rounds\n"
          ]
        },
        {
          "name": "stderr",
          "output_type": "stream",
          "text": [
            "[I 2025-07-18 20:45:42,606] Trial 15 finished with value: 0.9401378673604232 and parameters: {'learning_rate': 0.022281395371311644, 'num_leaves': 47, 'max_depth': 7, 'feature_fraction': 0.6063382360288807, 'bagging_fraction': 0.7712081134072799, 'bagging_freq': 8, 'lambda_l1': 0.8850704828480546, 'lambda_l2': 4.8703143699719975}. Best is trial 14 with value: 0.9403454845681982.\n"
          ]
        },
        {
          "name": "stdout",
          "output_type": "stream",
          "text": [
            "Early stopping, best iteration is:\n",
            "[237]\tvalid_0's binary_logloss: 0.12365\n",
            "Training until validation scores don't improve for 50 rounds\n",
            "Early stopping, best iteration is:\n",
            "[265]\tvalid_0's binary_logloss: 0.129925\n",
            "Training until validation scores don't improve for 50 rounds\n",
            "Early stopping, best iteration is:\n",
            "[235]\tvalid_0's binary_logloss: 0.135621\n",
            "Training until validation scores don't improve for 50 rounds\n"
          ]
        },
        {
          "name": "stderr",
          "output_type": "stream",
          "text": [
            "[I 2025-07-18 20:45:46,399] Trial 16 finished with value: 0.9402358185215185 and parameters: {'learning_rate': 0.022431827888259634, 'num_leaves': 32, 'max_depth': 6, 'feature_fraction': 0.6103455984215035, 'bagging_fraction': 0.7743874786435893, 'bagging_freq': 7, 'lambda_l1': 0.9912624674056898, 'lambda_l2': 4.908841903460353}. Best is trial 14 with value: 0.9403454845681982.\n"
          ]
        },
        {
          "name": "stdout",
          "output_type": "stream",
          "text": [
            "Early stopping, best iteration is:\n",
            "[246]\tvalid_0's binary_logloss: 0.123787\n",
            "Training until validation scores don't improve for 50 rounds\n",
            "Early stopping, best iteration is:\n",
            "[671]\tvalid_0's binary_logloss: 0.129593\n",
            "Training until validation scores don't improve for 50 rounds\n",
            "Early stopping, best iteration is:\n",
            "[504]\tvalid_0's binary_logloss: 0.135778\n",
            "Training until validation scores don't improve for 50 rounds\n"
          ]
        },
        {
          "name": "stderr",
          "output_type": "stream",
          "text": [
            "[I 2025-07-18 20:45:53,147] Trial 17 finished with value: 0.9401378673604232 and parameters: {'learning_rate': 0.010076464425870034, 'num_leaves': 30, 'max_depth': 6, 'feature_fraction': 0.6405534603131255, 'bagging_fraction': 0.8353293483039689, 'bagging_freq': 7, 'lambda_l1': 2.114689628137142, 'lambda_l2': 3.050885171986183}. Best is trial 14 with value: 0.9403454845681982.\n"
          ]
        },
        {
          "name": "stdout",
          "output_type": "stream",
          "text": [
            "Early stopping, best iteration is:\n",
            "[552]\tvalid_0's binary_logloss: 0.123914\n",
            "Training until validation scores don't improve for 50 rounds\n",
            "Early stopping, best iteration is:\n",
            "[363]\tvalid_0's binary_logloss: 0.129439\n",
            "Training until validation scores don't improve for 50 rounds\n",
            "Early stopping, best iteration is:\n",
            "[244]\tvalid_0's binary_logloss: 0.136089\n",
            "Training until validation scores don't improve for 50 rounds\n"
          ]
        },
        {
          "name": "stderr",
          "output_type": "stream",
          "text": [
            "[I 2025-07-18 20:45:54,752] Trial 18 finished with value: 0.9401371716021171 and parameters: {'learning_rate': 0.022771697556143954, 'num_leaves': 25, 'max_depth': 3, 'feature_fraction': 0.6488668582645238, 'bagging_fraction': 0.6025063872523797, 'bagging_freq': 10, 'lambda_l1': 1.3465097620413258, 'lambda_l2': 4.4116305215892115}. Best is trial 14 with value: 0.9403454845681982.\n"
          ]
        },
        {
          "name": "stdout",
          "output_type": "stream",
          "text": [
            "Early stopping, best iteration is:\n",
            "[320]\tvalid_0's binary_logloss: 0.123697\n",
            "Training until validation scores don't improve for 50 rounds\n",
            "Early stopping, best iteration is:\n",
            "[200]\tvalid_0's binary_logloss: 0.129739\n",
            "Training until validation scores don't improve for 50 rounds\n",
            "Early stopping, best iteration is:\n",
            "[141]\tvalid_0's binary_logloss: 0.135978\n",
            "Training until validation scores don't improve for 50 rounds\n"
          ]
        },
        {
          "name": "stderr",
          "output_type": "stream",
          "text": [
            "[I 2025-07-18 20:45:57,783] Trial 19 finished with value: 0.9399285214357974 and parameters: {'learning_rate': 0.03838185965966107, 'num_leaves': 33, 'max_depth': 8, 'feature_fraction': 0.6992610574101981, 'bagging_fraction': 0.7729587733406537, 'bagging_freq': 7, 'lambda_l1': 2.6673686668842285, 'lambda_l2': 4.968665525750421}. Best is trial 14 with value: 0.9403454845681982.\n"
          ]
        },
        {
          "name": "stdout",
          "output_type": "stream",
          "text": [
            "Early stopping, best iteration is:\n",
            "[201]\tvalid_0's binary_logloss: 0.123725\n",
            "Training until validation scores don't improve for 50 rounds\n",
            "Early stopping, best iteration is:\n",
            "[305]\tvalid_0's binary_logloss: 0.129579\n",
            "Training until validation scores don't improve for 50 rounds\n",
            "Early stopping, best iteration is:\n",
            "[208]\tvalid_0's binary_logloss: 0.135877\n",
            "Training until validation scores don't improve for 50 rounds\n"
          ]
        },
        {
          "name": "stderr",
          "output_type": "stream",
          "text": [
            "[I 2025-07-18 20:46:01,331] Trial 20 finished with value: 0.9403332006939591 and parameters: {'learning_rate': 0.024671944534348768, 'num_leaves': 35, 'max_depth': 6, 'feature_fraction': 0.6141445337379368, 'bagging_fraction': 0.8524270908144431, 'bagging_freq': 5, 'lambda_l1': 1.9624240368760224, 'lambda_l2': 3.609478327767329}. Best is trial 14 with value: 0.9403454845681982.\n"
          ]
        },
        {
          "name": "stdout",
          "output_type": "stream",
          "text": [
            "Early stopping, best iteration is:\n",
            "[244]\tvalid_0's binary_logloss: 0.123938\n",
            "Training until validation scores don't improve for 50 rounds\n",
            "Early stopping, best iteration is:\n",
            "[278]\tvalid_0's binary_logloss: 0.129486\n",
            "Training until validation scores don't improve for 50 rounds\n",
            "Early stopping, best iteration is:\n",
            "[223]\tvalid_0's binary_logloss: 0.135868\n",
            "Training until validation scores don't improve for 50 rounds\n"
          ]
        },
        {
          "name": "stderr",
          "output_type": "stream",
          "text": [
            "[I 2025-07-18 20:46:05,119] Trial 21 finished with value: 0.9402225054694835 and parameters: {'learning_rate': 0.025020575992576108, 'num_leaves': 35, 'max_depth': 6, 'feature_fraction': 0.6285255685547081, 'bagging_fraction': 0.8594279605184437, 'bagging_freq': 5, 'lambda_l1': 1.957079111983227, 'lambda_l2': 3.590703095417291}. Best is trial 14 with value: 0.9403454845681982.\n"
          ]
        },
        {
          "name": "stdout",
          "output_type": "stream",
          "text": [
            "Early stopping, best iteration is:\n",
            "[237]\tvalid_0's binary_logloss: 0.123985\n",
            "Training until validation scores don't improve for 50 rounds\n",
            "Early stopping, best iteration is:\n",
            "[402]\tvalid_0's binary_logloss: 0.129264\n",
            "Training until validation scores don't improve for 50 rounds\n",
            "Early stopping, best iteration is:\n",
            "[287]\tvalid_0's binary_logloss: 0.135739\n",
            "Training until validation scores don't improve for 50 rounds\n"
          ]
        },
        {
          "name": "stderr",
          "output_type": "stream",
          "text": [
            "[I 2025-07-18 20:46:08,684] Trial 22 finished with value: 0.9403332006939591 and parameters: {'learning_rate': 0.01784401671678985, 'num_leaves': 38, 'max_depth': 5, 'feature_fraction': 0.6028394555397026, 'bagging_fraction': 0.7710682770309699, 'bagging_freq': 4, 'lambda_l1': 0.7087963038421412, 'lambda_l2': 4.5007155242047405}. Best is trial 14 with value: 0.9403454845681982.\n"
          ]
        },
        {
          "name": "stdout",
          "output_type": "stream",
          "text": [
            "Early stopping, best iteration is:\n",
            "[323]\tvalid_0's binary_logloss: 0.123831\n",
            "Training until validation scores don't improve for 50 rounds\n",
            "Early stopping, best iteration is:\n",
            "[440]\tvalid_0's binary_logloss: 0.129212\n",
            "Training until validation scores don't improve for 50 rounds\n",
            "Early stopping, best iteration is:\n",
            "[295]\tvalid_0's binary_logloss: 0.135784\n",
            "Training until validation scores don't improve for 50 rounds\n"
          ]
        },
        {
          "name": "stderr",
          "output_type": "stream",
          "text": [
            "[I 2025-07-18 20:46:12,280] Trial 23 finished with value: 0.9400015502970849 and parameters: {'learning_rate': 0.017711567212785835, 'num_leaves': 38, 'max_depth': 5, 'feature_fraction': 0.6610962090215367, 'bagging_fraction': 0.7889440759839637, 'bagging_freq': 3, 'lambda_l1': 2.358514427615359, 'lambda_l2': 4.385234462262309}. Best is trial 14 with value: 0.9403454845681982.\n"
          ]
        },
        {
          "name": "stdout",
          "output_type": "stream",
          "text": [
            "Early stopping, best iteration is:\n",
            "[375]\tvalid_0's binary_logloss: 0.123778\n",
            "Training until validation scores don't improve for 50 rounds\n",
            "Early stopping, best iteration is:\n",
            "[430]\tvalid_0's binary_logloss: 0.129617\n",
            "Training until validation scores don't improve for 50 rounds\n",
            "Early stopping, best iteration is:\n",
            "[334]\tvalid_0's binary_logloss: 0.135861\n",
            "Training until validation scores don't improve for 50 rounds\n"
          ]
        },
        {
          "name": "stderr",
          "output_type": "stream",
          "text": [
            "[I 2025-07-18 20:46:16,132] Trial 24 finished with value: 0.9402097535034143 and parameters: {'learning_rate': 0.014525173326638304, 'num_leaves': 41, 'max_depth': 5, 'feature_fraction': 0.7033442203720244, 'bagging_fraction': 0.8404535399521079, 'bagging_freq': 4, 'lambda_l1': 1.5669758806813698, 'lambda_l2': 3.1475860194139624}. Best is trial 14 with value: 0.9403454845681982.\n"
          ]
        },
        {
          "name": "stdout",
          "output_type": "stream",
          "text": [
            "Early stopping, best iteration is:\n",
            "[400]\tvalid_0's binary_logloss: 0.123579\n",
            "Training until validation scores don't improve for 50 rounds\n",
            "Early stopping, best iteration is:\n",
            "[402]\tvalid_0's binary_logloss: 0.129018\n",
            "Training until validation scores don't improve for 50 rounds\n",
            "Early stopping, best iteration is:\n",
            "[190]\tvalid_0's binary_logloss: 0.136205\n",
            "Training until validation scores don't improve for 50 rounds\n"
          ]
        },
        {
          "name": "stderr",
          "output_type": "stream",
          "text": [
            "[I 2025-07-18 20:46:17,735] Trial 25 finished with value: 0.9402358185215185 and parameters: {'learning_rate': 0.028874161270247525, 'num_leaves': 37, 'max_depth': 3, 'feature_fraction': 0.6021727379920097, 'bagging_fraction': 0.7481786469768764, 'bagging_freq': 5, 'lambda_l1': 0.5866637564632178, 'lambda_l2': 3.9860409429416124}. Best is trial 14 with value: 0.9403454845681982.\n"
          ]
        },
        {
          "name": "stdout",
          "output_type": "stream",
          "text": [
            "Early stopping, best iteration is:\n",
            "[274]\tvalid_0's binary_logloss: 0.123641\n",
            "Training until validation scores don't improve for 50 rounds\n",
            "Early stopping, best iteration is:\n",
            "[213]\tvalid_0's binary_logloss: 0.130171\n",
            "Training until validation scores don't improve for 50 rounds\n",
            "Early stopping, best iteration is:\n",
            "[156]\tvalid_0's binary_logloss: 0.13592\n",
            "Training until validation scores don't improve for 50 rounds\n"
          ]
        },
        {
          "name": "stderr",
          "output_type": "stream",
          "text": [
            "[I 2025-07-18 20:46:20,848] Trial 26 finished with value: 0.9398055867362812 and parameters: {'learning_rate': 0.03592250211093987, 'num_leaves': 33, 'max_depth': 9, 'feature_fraction': 0.9817189708474217, 'bagging_fraction': 0.6833754391617529, 'bagging_freq': 3, 'lambda_l1': 3.102854931557391, 'lambda_l2': 4.561631217493705}. Best is trial 14 with value: 0.9403454845681982.\n"
          ]
        },
        {
          "name": "stdout",
          "output_type": "stream",
          "text": [
            "Early stopping, best iteration is:\n",
            "[159]\tvalid_0's binary_logloss: 0.123934\n",
            "Training until validation scores don't improve for 50 rounds\n",
            "Early stopping, best iteration is:\n",
            "[562]\tvalid_0's binary_logloss: 0.129588\n",
            "Training until validation scores don't improve for 50 rounds\n",
            "Early stopping, best iteration is:\n",
            "[358]\tvalid_0's binary_logloss: 0.135809\n",
            "Training until validation scores don't improve for 50 rounds\n"
          ]
        },
        {
          "name": "stderr",
          "output_type": "stream",
          "text": [
            "[I 2025-07-18 20:46:26,101] Trial 27 finished with value: 0.9401245543083881 and parameters: {'learning_rate': 0.017121538727267713, 'num_leaves': 46, 'max_depth': 7, 'feature_fraction': 0.6471640031294774, 'bagging_fraction': 0.8000275382635585, 'bagging_freq': 6, 'lambda_l1': 3.893409952306066, 'lambda_l2': 3.6017679472369433}. Best is trial 14 with value: 0.9403454845681982.\n"
          ]
        },
        {
          "name": "stdout",
          "output_type": "stream",
          "text": [
            "Early stopping, best iteration is:\n",
            "[387]\tvalid_0's binary_logloss: 0.12358\n",
            "Training until validation scores don't improve for 50 rounds\n",
            "Early stopping, best iteration is:\n",
            "[530]\tvalid_0's binary_logloss: 0.129971\n",
            "Training until validation scores don't improve for 50 rounds\n",
            "Early stopping, best iteration is:\n",
            "[405]\tvalid_0's binary_logloss: 0.135833\n",
            "Training until validation scores don't improve for 50 rounds\n"
          ]
        },
        {
          "name": "stderr",
          "output_type": "stream",
          "text": [
            "[I 2025-07-18 20:46:33,852] Trial 28 finished with value: 0.9401251274521779 and parameters: {'learning_rate': 0.01147231885495236, 'num_leaves': 36, 'max_depth': 8, 'feature_fraction': 0.600754976868011, 'bagging_fraction': 0.8740031845169718, 'bagging_freq': 3, 'lambda_l1': 1.3794295850023108, 'lambda_l2': 3.9997948261883454}. Best is trial 14 with value: 0.9403454845681982.\n"
          ]
        },
        {
          "name": "stdout",
          "output_type": "stream",
          "text": [
            "Early stopping, best iteration is:\n",
            "[475]\tvalid_0's binary_logloss: 0.123983\n",
            "Training until validation scores don't improve for 50 rounds\n",
            "Early stopping, best iteration is:\n",
            "[135]\tvalid_0's binary_logloss: 0.129877\n",
            "Training until validation scores don't improve for 50 rounds\n",
            "Early stopping, best iteration is:\n",
            "[119]\tvalid_0's binary_logloss: 0.13595\n",
            "Training until validation scores don't improve for 50 rounds\n"
          ]
        },
        {
          "name": "stderr",
          "output_type": "stream",
          "text": [
            "[I 2025-07-18 20:46:36,845] Trial 29 finished with value: 0.9403458138325532 and parameters: {'learning_rate': 0.046120528460522545, 'num_leaves': 42, 'max_depth': 9, 'feature_fraction': 0.7063427302604638, 'bagging_fraction': 0.750427477129952, 'bagging_freq': 5, 'lambda_l1': 2.9136910328792553, 'lambda_l2': 1.9565348233597701}. Best is trial 29 with value: 0.9403458138325532.\n"
          ]
        },
        {
          "name": "stdout",
          "output_type": "stream",
          "text": [
            "Early stopping, best iteration is:\n",
            "[135]\tvalid_0's binary_logloss: 0.123645\n",
            "Лучшие параметры: {'learning_rate': 0.046120528460522545, 'num_leaves': 42, 'max_depth': 9, 'feature_fraction': 0.7063427302604638, 'bagging_fraction': 0.750427477129952, 'bagging_freq': 5, 'lambda_l1': 2.9136910328792553, 'lambda_l2': 1.9565348233597701}\n",
            "Лучшее среднее F1: 0.9403458138325532\n",
            "Fold 1\n",
            "Training until validation scores don't improve for 50 rounds\n",
            "[100]\tvalid_0's binary_logloss: 0.12685\n",
            "[200]\tvalid_0's binary_logloss: 0.126216\n",
            "Early stopping, best iteration is:\n",
            "[158]\tvalid_0's binary_logloss: 0.125782\n",
            "Fold 2\n",
            "Training until validation scores don't improve for 50 rounds\n",
            "[100]\tvalid_0's binary_logloss: 0.136717\n",
            "Early stopping, best iteration is:\n",
            "[125]\tvalid_0's binary_logloss: 0.136484\n",
            "Fold 3\n",
            "Training until validation scores don't improve for 50 rounds\n",
            "[100]\tvalid_0's binary_logloss: 0.139547\n",
            "Early stopping, best iteration is:\n",
            "[107]\tvalid_0's binary_logloss: 0.139459\n",
            "Fold 4\n",
            "Training until validation scores don't improve for 50 rounds\n",
            "[100]\tvalid_0's binary_logloss: 0.126786\n",
            "Early stopping, best iteration is:\n",
            "[136]\tvalid_0's binary_logloss: 0.126032\n",
            "Fold 5\n",
            "Training until validation scores don't improve for 50 rounds\n",
            "[100]\tvalid_0's binary_logloss: 0.121046\n",
            "Early stopping, best iteration is:\n",
            "[120]\tvalid_0's binary_logloss: 0.120879\n",
            "Лучший порог по всем валидационным данным: 0.512 с F1 = 0.9401\n"
          ]
        },
        {
          "data": {
            "image/png": "[encoded data removed]",
            "text/plain": [
              "<Figure size 800x500 with 1 Axes>"
            ]
          },
          "metadata": {},
          "output_type": "display_data"
        },
        {
          "data": {
            "text/plain": [
              "<Figure size 1000x600 with 0 Axes>"
            ]
          },
          "metadata": {},
          "output_type": "display_data"
        },
        {
          "data": {
            "image/png": "[encoded data removed]",
            "text/plain": [
              "<Figure size 640x480 with 1 Axes>"
            ]
          },
          "metadata": {},
          "output_type": "display_data"
        },
        {
          "name": "stdout",
          "output_type": "stream",
          "text": [
            "✅ Готово: submission.csv создан с оптимизированным порогом.\n",
            "SHAP shape: (18524, 10)\n"
          ]
        },
        {
          "name": "stderr",
          "output_type": "stream",
          "text": [
            "/Users/antontravkin/Sites/python_rtk/.venv/lib/python3.12/site-packages/shap/explainers/_tree.py:583: UserWarning: LightGBM binary classifier with TreeExplainer shap values output has changed to a list of ndarray\n",
            "  warnings.warn(\n"
          ]
        },
        {
          "data": {
            "image/png": "[encoded data removed]",
            "text/plain": [
              "<Figure size 800x550 with 1 Axes>"
            ]
          },
          "metadata": {},
          "output_type": "display_data"
        }
      ],
      "source": [
        "import zipfile\n",
        "import pandas as pd\n",
        "import numpy as np\n",
        "import matplotlib.pyplot as plt\n",
        "import shap\n",
        "import lightgbm as lgb\n",
        "import optuna\n",
        "\n",
        "from sklearn.model_selection import StratifiedKFold\n",
        "from sklearn.pipeline import Pipeline\n",
        "from sklearn.compose import ColumnTransformer\n",
        "from sklearn.preprocessing import StandardScaler, LabelEncoder\n",
        "from sklearn.impute import SimpleImputer\n",
        "from category_encoders import TargetEncoder\n",
        "from sklearn.metrics import roc_auc_score, roc_curve, accuracy_score, f1_score\n",
        "\n",
        "\n",
        "\n",
        "# --- Распаковка и загрузка данных ---\n",
        "with zipfile.ZipFile('playground-series-s5e7.zip', 'r') as zip_ref:\n",
        "    zip_ref.extractall('./')  # Распаковываем архив в текущую папку\n",
        "df_train = pd.read_csv('train.csv')  # Читаем обучающую выборку\n",
        "df_test = pd.read_csv('test.csv')    # Читаем тестовую выборку\n",
        "\n",
        "# --- Feature Engineering: создаём новые признаки на основе исходных ---\n",
        "for df in [df_train, df_test]:\n",
        "    # Отношение времени на одиночество к сумме времени на одиночество и соц. активности\n",
        "    df['alone_ratio'] = df['Time_spent_Alone'] / (\n",
        "        df['Time_spent_Alone'] + df['Social_event_attendance'] + df['Going_outside'] + 1)\n",
        "    # Отношение посещений соц. мероприятий к выходам из дома\n",
        "    df['social_ratio'] = df['Social_event_attendance'] / \\\n",
        "        (df['Going_outside'] + 1)\n",
        "    # Признак активного пользователя (более 5 постов)\n",
        "    df['is_high_poster'] = (df['Post_frequency'] > 5).astype(int)\n",
        "\n",
        "# --- Кодируем целевой признак в числовой формат ---\n",
        "target = 'Personality'\n",
        "label_encoder = LabelEncoder()\n",
        "df_train['target'] = label_encoder.fit_transform(df_train[target])\n",
        "\n",
        "# --- Определяем числовые и категориальные признаки ---\n",
        "num_features = ['Time_spent_Alone', 'Social_event_attendance', 'Going_outside',\n",
        "                'Friends_circle_size', 'Post_frequency', 'alone_ratio', 'social_ratio']\n",
        "cat_features = ['Stage_fear', 'Drained_after_socializing', 'is_high_poster']\n",
        "\n",
        "X = df_train[num_features + cat_features]  # Признаки обучающей выборки\n",
        "y = df_train['target']                     # Целевой признак\n",
        "X_test = df_test[num_features + cat_features]  # Признаки тестовой выборки\n",
        "\n",
        "# --- Построение пайплайна для предобработки ---\n",
        "# Категориальные признаки: заполнение пропусков наиболее частым значением и target encoding\n",
        "cat_pipe = Pipeline([\n",
        "    ('imputer', SimpleImputer(strategy='most_frequent')),\n",
        "    ('target_encoder', TargetEncoder())\n",
        "])\n",
        "# Числовые признаки: заполнение пропусков средним значением и стандартизация\n",
        "num_pipe = Pipeline([\n",
        "    ('imputer', SimpleImputer(strategy='mean')),\n",
        "    ('scaler', StandardScaler())\n",
        "])\n",
        "# Объединяем обе трансформации\n",
        "preprocessor = ColumnTransformer([\n",
        "    ('num', num_pipe, num_features),\n",
        "    ('cat', cat_pipe, cat_features)\n",
        "])\n",
        "\n",
        "# --- Оптимизация гиперпараметров через Optuna ---\n",
        "\n",
        "\n",
        "def objective(trial):\n",
        "    # Определяем пространство гиперпараметров для поиска\n",
        "    param = {\n",
        "        'objective': 'binary',\n",
        "        'metric': 'binary_logloss',\n",
        "        'verbosity': -1,\n",
        "        'boosting_type': 'gbdt',\n",
        "        'random_state': 42,\n",
        "        'learning_rate': trial.suggest_float('learning_rate', 0.01, 0.1, log=True),\n",
        "        'num_leaves': trial.suggest_int('num_leaves', 20, 50),\n",
        "        'max_depth': trial.suggest_int('max_depth', 3, 10),\n",
        "        'feature_fraction': trial.suggest_float('feature_fraction', 0.6, 1.0),\n",
        "        'bagging_fraction': trial.suggest_float('bagging_fraction', 0.6, 1.0),\n",
        "        'bagging_freq': trial.suggest_int('bagging_freq', 1, 10),\n",
        "        'lambda_l1': trial.suggest_float('lambda_l1', 0, 5),\n",
        "        'lambda_l2': trial.suggest_float('lambda_l2', 0, 5)     \n",
        "    }\n",
        "\n",
        "    # Внутренний кросс-валидатор для оценки качества модели с текущими гиперпараметрами\n",
        "    skf_inner = StratifiedKFold(n_splits=3, shuffle=True, random_state=42)\n",
        "    f1_scores = []\n",
        "\n",
        "    for train_idx, valid_idx in skf_inner.split(X, y):\n",
        "        X_train, y_train = X.iloc[train_idx], y.iloc[train_idx]\n",
        "        X_valid, y_valid = X.iloc[valid_idx], y.iloc[valid_idx]\n",
        "\n",
        "        # Обучаем трансформеры на тренировочных данных и применяем к валидационным\n",
        "        X_train_prep = preprocessor.fit_transform(X_train, y_train)\n",
        "        X_valid_prep = preprocessor.transform(X_valid)\n",
        "\n",
        "        # Создаём датасеты для LightGBM\n",
        "        train_data = lgb.Dataset(X_train_prep, label=y_train)\n",
        "        valid_data = lgb.Dataset(X_valid_prep, label=y_valid)\n",
        "\n",
        "        # Обучаем модель с ранней остановкой\n",
        "        model = lgb.train(\n",
        "            param,\n",
        "            train_data,\n",
        "            valid_sets=[valid_data],\n",
        "            num_boost_round=1000,\n",
        "            callbacks=[lgb.early_stopping(stopping_rounds=50),\n",
        "                    lgb.log_evaluation(period=0)  # <--- Отключает вывод логов обучения\n",
        "                ]\n",
        "        )\n",
        "\n",
        "        # Предсказания и оценка по F1 метрике\n",
        "        preds = model.predict(X_valid_prep, num_iteration=model.best_iteration)\n",
        "        preds_binary = (preds > 0.5).astype(int)\n",
        "        f1_scores.append(f1_score(y_valid, preds_binary))\n",
        "\n",
        "    # Средний F1 по внутренней кросс-валидации — цель оптимизации\n",
        "    return np.mean(f1_scores)\n",
        "\n",
        "\n",
        "print(\"Запуск оптимизации гиперпараметров через Optuna...\")\n",
        "study = optuna.create_study(direction='maximize')\n",
        "study.optimize(objective, n_trials=30)  # Запускаем 30 испытаний\n",
        "print(\"Лучшие параметры:\", study.best_params)\n",
        "print(\"Лучшее среднее F1:\", study.best_value)\n",
        "\n",
        "# --- Обучение финальной модели с найденными гиперпараметрами ---\n",
        "params = study.best_params\n",
        "params.update({\n",
        "    'objective': 'binary',\n",
        "    'metric': 'binary_logloss',\n",
        "    'boosting_type': 'gbdt',\n",
        "    'random_state': 42\n",
        "})\n",
        "\n",
        "skf = StratifiedKFold(n_splits=5, shuffle=True, random_state=42)\n",
        "probas = np.zeros(len(X_test))  # Массив для накопления прогнозов на тесте\n",
        "val_preds_all = []  # Список для накопления прогнозов на валидации\n",
        "val_targets_all = []  # Список для накопления истинных значений валидации\n",
        "\n",
        "for fold, (train_idx, valid_idx) in enumerate(skf.split(X, y)):\n",
        "    print(f\"Fold {fold+1}\")\n",
        "    X_train, y_train = X.iloc[train_idx], y.iloc[train_idx]\n",
        "    X_valid, y_valid = X.iloc[valid_idx], y.iloc[valid_idx]\n",
        "\n",
        "    # Предобработка\n",
        "    X_train_prep = preprocessor.fit_transform(X_train, y_train)\n",
        "    X_valid_prep = preprocessor.transform(X_valid)\n",
        "    X_test_prep = preprocessor.transform(X_test)\n",
        "\n",
        "    # Создание датасетов для LightGBM\n",
        "    train_data = lgb.Dataset(X_train_prep, label=y_train)\n",
        "    valid_data = lgb.Dataset(X_valid_prep, label=y_valid)\n",
        "\n",
        "    # Обучение модели с ранней остановкой\n",
        "    model = lgb.train(\n",
        "        params,\n",
        "        train_data,\n",
        "        valid_sets=[valid_data],\n",
        "        num_boost_round=1000,\n",
        "        callbacks=[lgb.early_stopping(\n",
        "            stopping_rounds=50), lgb.log_evaluation(100)]\n",
        "    )\n",
        "\n",
        "    # Сохраняем предсказания на валидации и целевые значения\n",
        "    val_pred_proba = model.predict(\n",
        "        X_valid_prep, num_iteration=model.best_iteration)\n",
        "    val_preds_all.append(val_pred_proba)\n",
        "    val_targets_all.append(y_valid.values)\n",
        "\n",
        "    # Аккумулируем предсказания на тесте (усреднение по фолдам)\n",
        "    probas += model.predict(X_test_prep,\n",
        "                            num_iteration=model.best_iteration) / skf.n_splits\n",
        "\n",
        "# --- Подбор оптимального порога по объединённым валидационным предсказаниям ---\n",
        "val_preds_all = np.concatenate(val_preds_all)\n",
        "val_targets_all = np.concatenate(val_targets_all)\n",
        "\n",
        "thresholds = np.linspace(0.3, 0.7, 50)\n",
        "best_f1, best_thr = 0, 0.5\n",
        "\n",
        "for thr in thresholds:\n",
        "    preds = (val_preds_all > thr).astype(int)\n",
        "    f1 = f1_score(val_targets_all, preds)\n",
        "    if f1 > best_f1:\n",
        "        best_f1 = f1\n",
        "        best_thr = thr\n",
        "\n",
        "print(\n",
        "    f\"Лучший порог по всем валидационным данным: {best_thr:.3f} с F1 = {best_f1:.4f}\")\n",
        "\n",
        "# --- Визуализация F1 в зависимости от порога ---\n",
        "plt.figure(figsize=(8, 5))\n",
        "f1_scores = [f1_score(val_targets_all, (val_preds_all > thr).astype(int))\n",
        "             for thr in thresholds]\n",
        "plt.plot(thresholds, f1_scores, marker='o')\n",
        "plt.axvline(best_thr, color='r', linestyle='--',\n",
        "            label=f'Оптимальный порог: {best_thr:.3f}')\n",
        "plt.title('F1-score в зависимости от порога')\n",
        "plt.xlabel('Порог')\n",
        "plt.ylabel('F1-score')\n",
        "plt.legend()\n",
        "plt.grid(True)\n",
        "plt.show()\n",
        "\n",
        "# --- Визуализация важности признаков ---\n",
        "plt.figure(figsize=(10, 6))\n",
        "lgb.plot_importance(model, max_num_features=20, importance_type='gain')\n",
        "plt.title('Важность признаков LightGBM')\n",
        "plt.show()\n",
        "\n",
        "# --- Финальное предсказание на тесте с оптимальным порогом ---\n",
        "preds_final = (probas > best_thr).astype(int)\n",
        "df_test['Personality'] = label_encoder.inverse_transform(preds_final)\n",
        "df_test[['id', 'Personality']].to_csv('submission.csv', index=False)\n",
        "print(\"✅ Готово: submission.csv создан с оптимизированным порогом.\")\n",
        "\n",
        "\n",
        "# SHAP анализ важности признаков\n",
        "explainer = shap.TreeExplainer(model)\n",
        "X_train_full_prep = preprocessor.transform(X)\n",
        "\n",
        "shap_values = explainer.shap_values(X_train_full_prep)\n",
        "\n",
        "# Обработка формата shap_values\n",
        "if isinstance(shap_values, list):\n",
        "    shap_values_to_plot = shap_values[1]  # Для положительного класса\n",
        "else:\n",
        "    shap_values_to_plot = shap_values\n",
        "\n",
        "print(f\"SHAP shape: {shap_values_to_plot.shape}\")\n",
        "\n",
        "# Построение графика\n",
        "shap.summary_plot(\n",
        "    shap_values_to_plot,\n",
        "    X_train_full_prep,\n",
        "    feature_names=num_features + cat_features,\n",
        "    plot_type='bar'\n",
        ")\n",
        "\n",
        "\n",
        "def calculate_metrics_and_plot_roc_comparison(model, X_train, y_train, X_test, y_test, threshold=0.5):\n",
        "    # Предсказания вероятностей\n",
        "    y_train_proba = model.predict_proba(X_train)[:, 1]\n",
        "    y_test_proba = model.predict_proba(X_test)[:, 1]\n",
        "\n",
        "    # ROC AUC\n",
        "    auc_train = roc_auc_score(y_train, y_train_proba)\n",
        "    auc_test = roc_auc_score(y_test, y_test_proba)\n",
        "\n",
        "    # Подбор бинарных предсказаний по порогу\n",
        "    y_test_pred = (y_test_proba > threshold).astype(int)\n",
        "\n",
        "    # Метрики\n",
        "    acc = accuracy_score(y_test, y_test_pred)\n",
        "    f1 = f1_score(y_test, y_test_pred)\n",
        "\n",
        "    # Построение ROC\n",
        "    fpr, tpr, _ = roc_curve(y_test, y_test_proba)\n",
        "    plt.figure(figsize=(6, 6))\n",
        "    plt.plot(fpr, tpr, label=f'ROC curve (AUC = {auc_test:.3f})')\n",
        "    plt.plot([0, 1], [0, 1], 'k--')\n",
        "    plt.xlabel('False Positive Rate')\n",
        "    plt.ylabel('True Positive Rate')\n",
        "    plt.title('ROC-кривая RandomForest')\n",
        "    plt.legend()\n",
        "    plt.grid(True)\n",
        "    plt.show()\n",
        "\n",
        "    print(f'✅ ROC AUC (train): {auc_train:.4f}')\n",
        "    print(f'✅ ROC AUC (test): {auc_test:.4f}')\n",
        "    print(f'✅ Accuracy (test): {acc:.4f}')\n",
        "    print(f'✅ F1-score (test): {f1:.4f}')\n",
        "\n",
        "    return {\n",
        "        'auc_train': auc_train,\n",
        "        'auc_test': auc_test,\n",
        "        'accuracy_test': acc,\n",
        "        'f1_test': f1\n",
        "    }"
      ]
    },
    {
      "cell_type": "code",
      "execution_count": null,
      "metadata": {
        "id": "3hn9AfbKEOXp"
      },
      "outputs": [],
      "source": []
    },
    {
      "cell_type": "code",
      "execution_count": null,
      "metadata": {
        "id": "u_nE-wcDEObF"
      },
      "outputs": [],
      "source": []
    }
  ],
  "metadata": {
    "colab": {
      "provenance": []
    },
    "kernelspec": {
      "display_name": ".venv",
      "language": "python",
      "name": "python3"
    },
    "language_info": {
      "codemirror_mode": {
        "name": "ipython",
        "version": 3
      },
      "file_extension": ".py",
      "mimetype": "text/x-python",
      "name": "python",
      "nbconvert_exporter": "python",
      "pygments_lexer": "ipython3",
      "version": "3.12.0"
    }
  },
  "nbformat": 4,
  "nbformat_minor": 0
}
